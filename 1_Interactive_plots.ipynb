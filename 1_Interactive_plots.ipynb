{
 "cells": [
  {
   "cell_type": "markdown",
   "metadata": {},
   "source": [
    "<a href='http://www.scienceacademy.ca'> <img style=\"float: left;height:70px\" src=\"Log_SA.jpeg\"></a>"
   ]
  },
  {
   "cell_type": "markdown",
   "metadata": {},
   "source": [
    "# Python for interactive and geographical plotting\n",
    "\n",
    "## Plotly and Cufflinks\n",
    "\n",
    "Hi Guys,<br>\n",
    "\n",
    "Welcome to the interactive and geographical plotting lecture. <br>\n",
    "\n",
    "There are number of options (a long list) for creating graphics in Python. Much development efforts are focused on creating interactive graphics in the recent years. [Plotly](https://plot.ly/python/) and [Bokeh](https://bokeh.pydata.org/en/latest/) are commonly used tools for interactive graphics in Python. However, [Plotly](https://plot.ly/python/) is getting much popularity and is easy to use. <br>\n",
    "\n",
    "In this lecture, we will lean the interactive plotting using this state-of-the-art library. We will also discuss the plotly's capabilities for geographical plots at the end. <br>\n",
    "\n",
    "**Please note**, [Plotly](https://plot.ly/python/) is an interactive visualization library where as [Cufflinks](https://plot.ly/ipython-notebooks/cufflinks/) binds Plotly directly to pandas dataframes. In order to do interactive plotting, directly from our dataframes, **we need to install the current versions of both of these libraries.** \n",
    "\n",
    "### Installation\n",
    "\n",
    "If you have not installed the required package/library so far:<br>\n",
    "We can install these libraries at our command line/terminal using pip:\n",
    "\n",
    "    pip install plotly=2.4.1\n",
    "    pip install cufflinks==0.12.1\n",
    "\n",
    "Now, ploty can be installed using conda as well. Follow the link to know moree https://anaconda.org/plotly/plotly\n",
    "\n",
    "\n",
    "&#9758; <font style=\"font-size:12px;color:green;\"> NOTE: Make sure you only have one installation of Python on your computer when you do this, otherwise the installation may not work.</font>\n",
    "\n",
    "**So, we are done with the installation, let's get started with some examples!**<br>\n",
    "\n",
    "Let's do some imports first:"
   ]
  },
  {
   "cell_type": "code",
   "execution_count": 1,
   "metadata": {},
   "outputs": [],
   "source": [
    "import pandas as pd\n",
    "import numpy as np\n",
    "%matplotlib inline"
   ]
  },
  {
   "cell_type": "markdown",
   "metadata": {},
   "source": [
    "We are going to do some offline imports from plotly, before this, check your plotly version, version 1.9.4+ is needed for offline plotting. If you have installed the current version of this library, you are good to go! "
   ]
  },
  {
   "cell_type": "code",
   "execution_count": 2,
   "metadata": {},
   "outputs": [
    {
     "name": "stdout",
     "output_type": "stream",
     "text": [
      "4.14.3\n"
     ]
    }
   ],
   "source": [
    "from plotly import __version__\n",
    "print(__version__) # requires version >= 1.9.0"
   ]
  },
  {
   "cell_type": "markdown",
   "metadata": {},
   "source": [
    "As a hosting company, plotly provides a web-service for hosting graphs. Plotly support online public hosting of our data visualization for free.<br>\n",
    "Because, we are using plotly as open source library, and we want to create graphs offline and save them locally, we need to do some offline imports from **`plotly.offline`**, so that we can work here."
   ]
  },
  {
   "cell_type": "code",
   "execution_count": 3,
   "metadata": {},
   "outputs": [],
   "source": [
    "# Doing offline imports to work locally\n",
    "from plotly.offline import download_plotlyjs\n",
    "from plotly.offline import init_notebook_mode\n",
    "from plotly.offline import plot, iplot"
   ]
  },
  {
   "cell_type": "code",
   "execution_count": 4,
   "metadata": {},
   "outputs": [],
   "source": [
    "# Let's import cufflinks as well\n",
    "import cufflinks as cf"
   ]
  },
  {
   "cell_type": "markdown",
   "metadata": {},
   "source": [
    "We have already imported **`init_notebook_mode`**, to work with jupyter notebook environment, we need to initiate the plotly notebook mode. To do this, we need to set it **`True`** at the start of each notebook session. Let's do for this current notebook!<br>"
   ]
  },
  {
   "cell_type": "code",
   "execution_count": 5,
   "metadata": {},
   "outputs": [
    {
     "data": {
      "text/html": [
       "        <script type=\"text/javascript\">\n",
       "        window.PlotlyConfig = {MathJaxConfig: 'local'};\n",
       "        if (window.MathJax) {MathJax.Hub.Config({SVG: {font: \"STIX-Web\"}});}\n",
       "        if (typeof require !== 'undefined') {\n",
       "        require.undef(\"plotly\");\n",
       "        requirejs.config({\n",
       "            paths: {\n",
       "                'plotly': ['https://cdn.plot.ly/plotly-latest.min']\n",
       "            }\n",
       "        });\n",
       "        require(['plotly'], function(Plotly) {\n",
       "            window._Plotly = Plotly;\n",
       "        });\n",
       "        }\n",
       "        </script>\n",
       "        "
      ]
     },
     "metadata": {},
     "output_type": "display_data"
    }
   ],
   "source": [
    "init_notebook_mode(connected=True)"
   ]
  },
  {
   "cell_type": "markdown",
   "metadata": {},
   "source": [
    "Cufflinks can also be configured to work offline in jupyter notebook with plotly offline. To do this, we need to run **`cf.go_offline()`** for offline use. Let's do this!<br> <font style=\"font-size:12px;color:green;\">If needed, we can switch back to online mode to save graphics in our online plotly account using `cf.go_online()`. We will not do this here</font>"
   ]
  },
  {
   "cell_type": "code",
   "execution_count": 6,
   "metadata": {},
   "outputs": [
    {
     "data": {
      "text/html": [
       "        <script type=\"text/javascript\">\n",
       "        window.PlotlyConfig = {MathJaxConfig: 'local'};\n",
       "        if (window.MathJax) {MathJax.Hub.Config({SVG: {font: \"STIX-Web\"}});}\n",
       "        if (typeof require !== 'undefined') {\n",
       "        require.undef(\"plotly\");\n",
       "        requirejs.config({\n",
       "            paths: {\n",
       "                'plotly': ['https://cdn.plot.ly/plotly-latest.min']\n",
       "            }\n",
       "        });\n",
       "        require(['plotly'], function(Plotly) {\n",
       "            window._Plotly = Plotly;\n",
       "        });\n",
       "        }\n",
       "        </script>\n",
       "        "
      ]
     },
     "metadata": {},
     "output_type": "display_data"
    }
   ],
   "source": [
    "cf.go_offline()"
   ]
  },
  {
   "cell_type": "markdown",
   "metadata": {},
   "source": [
    "** Let's generate some date to work with:<br>**\n",
    "Once again, we can use **`np.random.randn(100,4)`** to generate 100 rows and 4 columns. We can name the columns as A, B, C, D"
   ]
  },
  {
   "cell_type": "code",
   "execution_count": 7,
   "metadata": {},
   "outputs": [
    {
     "data": {
      "text/html": [
       "<div>\n",
       "<style scoped>\n",
       "    .dataframe tbody tr th:only-of-type {\n",
       "        vertical-align: middle;\n",
       "    }\n",
       "\n",
       "    .dataframe tbody tr th {\n",
       "        vertical-align: top;\n",
       "    }\n",
       "\n",
       "    .dataframe thead th {\n",
       "        text-align: right;\n",
       "    }\n",
       "</style>\n",
       "<table border=\"1\" class=\"dataframe\">\n",
       "  <thead>\n",
       "    <tr style=\"text-align: right;\">\n",
       "      <th></th>\n",
       "      <th>A</th>\n",
       "      <th>B</th>\n",
       "      <th>C</th>\n",
       "      <th>D</th>\n",
       "    </tr>\n",
       "  </thead>\n",
       "  <tbody>\n",
       "    <tr>\n",
       "      <th>0</th>\n",
       "      <td>-1.753886</td>\n",
       "      <td>-0.150343</td>\n",
       "      <td>0.311125</td>\n",
       "      <td>1.420139</td>\n",
       "    </tr>\n",
       "    <tr>\n",
       "      <th>1</th>\n",
       "      <td>-1.722686</td>\n",
       "      <td>-0.677547</td>\n",
       "      <td>0.966588</td>\n",
       "      <td>-0.914494</td>\n",
       "    </tr>\n",
       "    <tr>\n",
       "      <th>2</th>\n",
       "      <td>-0.414025</td>\n",
       "      <td>0.629230</td>\n",
       "      <td>0.855367</td>\n",
       "      <td>-1.480192</td>\n",
       "    </tr>\n",
       "    <tr>\n",
       "      <th>3</th>\n",
       "      <td>0.821154</td>\n",
       "      <td>0.514651</td>\n",
       "      <td>-0.902826</td>\n",
       "      <td>0.570854</td>\n",
       "    </tr>\n",
       "    <tr>\n",
       "      <th>4</th>\n",
       "      <td>1.138998</td>\n",
       "      <td>0.128130</td>\n",
       "      <td>-0.056340</td>\n",
       "      <td>-0.358591</td>\n",
       "    </tr>\n",
       "  </tbody>\n",
       "</table>\n",
       "</div>"
      ],
      "text/plain": [
       "          A         B         C         D\n",
       "0 -1.753886 -0.150343  0.311125  1.420139\n",
       "1 -1.722686 -0.677547  0.966588 -0.914494\n",
       "2 -0.414025  0.629230  0.855367 -1.480192\n",
       "3  0.821154  0.514651 -0.902826  0.570854\n",
       "4  1.138998  0.128130 -0.056340 -0.358591"
      ]
     },
     "execution_count": 7,
     "metadata": {},
     "output_type": "execute_result"
    }
   ],
   "source": [
    "# Using np.random.randn() of 100 rows and 4 columns name A, B, C, D\n",
    "df1 = pd.DataFrame(np.random.randn(100,4),columns=['A', 'B', 'C', 'D'])\n",
    "df1.head()"
   ]
  },
  {
   "cell_type": "markdown",
   "metadata": {},
   "source": [
    "Let's create another small dataset with only two columns **Fruit** and **Count**. We can pass a dictionary to **`pd.DataFrame()`** here! "
   ]
  },
  {
   "cell_type": "code",
   "execution_count": 8,
   "metadata": {},
   "outputs": [],
   "source": [
    "# Another small dataset to learn plots\n",
    "df2 = pd.DataFrame({'Fruit':['Apple','Banana','Pear', 'Mango'],\n",
    "                    'Count':[32,43,50,32]})"
   ]
  },
  {
   "cell_type": "code",
   "execution_count": 9,
   "metadata": {},
   "outputs": [
    {
     "data": {
      "text/html": [
       "<div>\n",
       "<style scoped>\n",
       "    .dataframe tbody tr th:only-of-type {\n",
       "        vertical-align: middle;\n",
       "    }\n",
       "\n",
       "    .dataframe tbody tr th {\n",
       "        vertical-align: top;\n",
       "    }\n",
       "\n",
       "    .dataframe thead th {\n",
       "        text-align: right;\n",
       "    }\n",
       "</style>\n",
       "<table border=\"1\" class=\"dataframe\">\n",
       "  <thead>\n",
       "    <tr style=\"text-align: right;\">\n",
       "      <th></th>\n",
       "      <th>Fruit</th>\n",
       "      <th>Count</th>\n",
       "    </tr>\n",
       "  </thead>\n",
       "  <tbody>\n",
       "    <tr>\n",
       "      <th>0</th>\n",
       "      <td>Apple</td>\n",
       "      <td>32</td>\n",
       "    </tr>\n",
       "    <tr>\n",
       "      <th>1</th>\n",
       "      <td>Banana</td>\n",
       "      <td>43</td>\n",
       "    </tr>\n",
       "    <tr>\n",
       "      <th>2</th>\n",
       "      <td>Pear</td>\n",
       "      <td>50</td>\n",
       "    </tr>\n",
       "    <tr>\n",
       "      <th>3</th>\n",
       "      <td>Mango</td>\n",
       "      <td>32</td>\n",
       "    </tr>\n",
       "  </tbody>\n",
       "</table>\n",
       "</div>"
      ],
      "text/plain": [
       "    Fruit  Count\n",
       "0   Apple     32\n",
       "1  Banana     43\n",
       "2    Pear     50\n",
       "3   Mango     32"
      ]
     },
     "execution_count": 9,
     "metadata": {},
     "output_type": "execute_result"
    }
   ],
   "source": [
    "df2.head()"
   ]
  },
  {
   "cell_type": "markdown",
   "metadata": {},
   "source": [
    "\n",
    "Now we have all set for interactive plotting, we have the required libraries and data. Let's start with our very first interactive plot! This is very simple!<br>\n",
    "\n",
    "Remember, if we call just `plot()`, pandas will generate plot with matplotlib. Changing `plot()` to `iplot()` do the magic and the plot is now interactive! <br>\n",
    "##  `iplot()`\n",
    "\n",
    "Let's try with our dataframe df1!"
   ]
  },
  {
   "cell_type": "code",
   "execution_count": 10,
   "metadata": {
    "scrolled": false
   },
   "outputs": [
    {
     "data": {
      "application/vnd.plotly.v1+json": {
       "config": {
        "linkText": "Export to plot.ly",
        "plotlyServerURL": "https://plot.ly",
        "showLink": true
       },
       "data": [
        {
         "line": {
          "color": "rgba(255, 153, 51, 1.0)",
          "dash": "solid",
          "shape": "linear",
          "width": 1.3
         },
         "mode": "lines",
         "name": "A",
         "text": "",
         "type": "scatter",
         "x": [
          0,
          1,
          2,
          3,
          4,
          5,
          6,
          7,
          8,
          9,
          10,
          11,
          12,
          13,
          14,
          15,
          16,
          17,
          18,
          19,
          20,
          21,
          22,
          23,
          24,
          25,
          26,
          27,
          28,
          29,
          30,
          31,
          32,
          33,
          34,
          35,
          36,
          37,
          38,
          39,
          40,
          41,
          42,
          43,
          44,
          45,
          46,
          47,
          48,
          49,
          50,
          51,
          52,
          53,
          54,
          55,
          56,
          57,
          58,
          59,
          60,
          61,
          62,
          63,
          64,
          65,
          66,
          67,
          68,
          69,
          70,
          71,
          72,
          73,
          74,
          75,
          76,
          77,
          78,
          79,
          80,
          81,
          82,
          83,
          84,
          85,
          86,
          87,
          88,
          89,
          90,
          91,
          92,
          93,
          94,
          95,
          96,
          97,
          98,
          99
         ],
         "y": [
          -1.7538858937551702,
          -1.7226856703555207,
          -0.4140247115632524,
          0.8211538745067284,
          1.1389978845908453,
          0.2937800164063252,
          0.38523754634530905,
          0.2495826223220929,
          0.4639041966379346,
          0.7966092223449669,
          1.767194154936893,
          -1.0236061425711371,
          -0.35302571009675604,
          1.2179000914228575,
          -0.44883972685594975,
          -1.1619490891090674,
          0.265305113798835,
          0.9905367335152827,
          -0.33441518723358027,
          -0.5480061657291567,
          -1.5001806885986948,
          -1.6590235035842018,
          -1.3715138381506373,
          0.825866973830695,
          0.9420282609542272,
          0.2606962286828969,
          -0.8849246227370032,
          -0.1078503532732208,
          -0.2974603475612812,
          0.9503169590893906,
          0.41812936220293445,
          -0.5348523266504603,
          0.3760730387943392,
          1.0318066442606086,
          -1.2427394197115595,
          0.5043938659863496,
          1.376755938082115,
          0.6005663618734192,
          -1.0519314917957416,
          0.8808568140393724,
          -2.5261638208699035,
          0.7136595538703409,
          0.3677890721824107,
          -0.018947152325261948,
          -0.553662200013513,
          -0.7925670548920108,
          -0.6685321613037117,
          -1.0229969463524564,
          -0.9238619405833758,
          3.080723651001204,
          1.147456931259636,
          -1.8086378449607519,
          -0.24632702376956678,
          0.5684542426237913,
          0.32936644752117283,
          -0.2615535328896379,
          -0.4105392123307298,
          1.6966320973188525,
          -0.7331190860107024,
          0.3478166244604999,
          -1.876629782501499,
          0.7441579168092955,
          -0.45529571105198646,
          0.5307556936191674,
          0.7043984803253995,
          -0.518335332573801,
          0.2801872548345399,
          0.6279250320877873,
          -0.699545807581524,
          -1.4828830868202263,
          -0.008939436335171736,
          -0.585396146704361,
          -0.09089604926936432,
          2.158360064948021,
          0.040842014274870456,
          0.8994208482062952,
          -0.18837857102847666,
          0.39477911885784556,
          -0.49919456228234604,
          -0.24278778188330472,
          -0.27801459712440885,
          -0.02005599493814914,
          0.5111805799165396,
          -0.7177136725412908,
          -0.16231118047802034,
          -0.630899750574069,
          -0.28833971879513925,
          -1.3391993460263756,
          0.43487028069968203,
          2.4936536813480936,
          0.9268871399951262,
          0.2290428161700579,
          0.5817920127165599,
          -1.103928935045968,
          0.06652031913783847,
          0.8547749603573822,
          0.22744064562977065,
          -0.21988446126173516,
          0.7915929868565157,
          1.2123195799722162
         ]
        },
        {
         "line": {
          "color": "rgba(55, 128, 191, 1.0)",
          "dash": "solid",
          "shape": "linear",
          "width": 1.3
         },
         "mode": "lines",
         "name": "B",
         "text": "",
         "type": "scatter",
         "x": [
          0,
          1,
          2,
          3,
          4,
          5,
          6,
          7,
          8,
          9,
          10,
          11,
          12,
          13,
          14,
          15,
          16,
          17,
          18,
          19,
          20,
          21,
          22,
          23,
          24,
          25,
          26,
          27,
          28,
          29,
          30,
          31,
          32,
          33,
          34,
          35,
          36,
          37,
          38,
          39,
          40,
          41,
          42,
          43,
          44,
          45,
          46,
          47,
          48,
          49,
          50,
          51,
          52,
          53,
          54,
          55,
          56,
          57,
          58,
          59,
          60,
          61,
          62,
          63,
          64,
          65,
          66,
          67,
          68,
          69,
          70,
          71,
          72,
          73,
          74,
          75,
          76,
          77,
          78,
          79,
          80,
          81,
          82,
          83,
          84,
          85,
          86,
          87,
          88,
          89,
          90,
          91,
          92,
          93,
          94,
          95,
          96,
          97,
          98,
          99
         ],
         "y": [
          -0.15034330799727522,
          -0.6775470321842226,
          0.6292302615166938,
          0.5146514364050291,
          0.12812953407454677,
          1.4826523396260014,
          1.09461465459242,
          -1.4309059964459574,
          0.9924000728264003,
          -0.16462330131150943,
          -0.9680204294618735,
          -0.05819894733102732,
          -0.4193492884002126,
          -0.9512509775295541,
          -1.5592432068927438,
          -0.37724667575089077,
          -0.8163454087741805,
          -1.1634426284274009,
          -0.7727169645991858,
          -1.5660952387404672,
          1.63108501567007,
          0.22506325763177487,
          -0.25763665286886805,
          0.214860159679175,
          1.251753056344124,
          1.6690314114825355,
          0.3022929317996026,
          0.7392394248453502,
          -0.32489558407014246,
          0.01816151334724389,
          -1.111172085958229,
          0.798352804883693,
          0.6689865089232654,
          1.0112287761521896,
          -1.0089163375181691,
          0.010197645661448367,
          -1.3606762482533754,
          1.3145565857906587,
          -1.4714209197893855,
          -0.020970917635074096,
          -0.734765310087592,
          -0.2577290087930091,
          -0.16650988995760022,
          -0.0077112515004609345,
          0.5156972692644582,
          -1.5358085131991082,
          2.2327494567305863,
          0.26956941953525115,
          -1.3301215335316772,
          -1.1899279787713606,
          0.12113748908960048,
          0.6013672613407213,
          -0.8773803605119841,
          0.4587511532092964,
          0.6156664665083802,
          -0.12173311874599524,
          -1.209952008476506,
          0.9255410385804945,
          0.8919998451645604,
          0.35032603007400487,
          -1.062444387771096,
          0.06669724592427571,
          -1.203321627677848,
          -0.4905731440856716,
          -0.8608338683949729,
          0.05490535505286273,
          0.9957292249459686,
          -0.547794495412987,
          0.8518552352628243,
          0.5881964642812763,
          -1.784922865556606,
          -1.0250579370559378,
          1.1404566416637723,
          0.6585384645569528,
          0.6879293639606842,
          1.09000165692416,
          -1.2315473031585094,
          0.7718231219070881,
          0.834867657747323,
          0.5206816714698226,
          -0.12189711099490538,
          -2.794522227360413,
          1.7058546209147678,
          0.3103434913930824,
          0.29940444575234265,
          2.346868837056278,
          -0.13980954316876368,
          0.32151168696495624,
          0.8555709588576978,
          -0.32964332918219585,
          -0.05134402117910471,
          -0.8213825402502497,
          -1.3226533802406837,
          2.239462592111017,
          -1.067529006567402,
          -0.1749593741413527,
          1.2879721958908095,
          0.7740484010414118,
          -0.5052050279423617,
          1.458345819319322
         ]
        },
        {
         "line": {
          "color": "rgba(50, 171, 96, 1.0)",
          "dash": "solid",
          "shape": "linear",
          "width": 1.3
         },
         "mode": "lines",
         "name": "C",
         "text": "",
         "type": "scatter",
         "x": [
          0,
          1,
          2,
          3,
          4,
          5,
          6,
          7,
          8,
          9,
          10,
          11,
          12,
          13,
          14,
          15,
          16,
          17,
          18,
          19,
          20,
          21,
          22,
          23,
          24,
          25,
          26,
          27,
          28,
          29,
          30,
          31,
          32,
          33,
          34,
          35,
          36,
          37,
          38,
          39,
          40,
          41,
          42,
          43,
          44,
          45,
          46,
          47,
          48,
          49,
          50,
          51,
          52,
          53,
          54,
          55,
          56,
          57,
          58,
          59,
          60,
          61,
          62,
          63,
          64,
          65,
          66,
          67,
          68,
          69,
          70,
          71,
          72,
          73,
          74,
          75,
          76,
          77,
          78,
          79,
          80,
          81,
          82,
          83,
          84,
          85,
          86,
          87,
          88,
          89,
          90,
          91,
          92,
          93,
          94,
          95,
          96,
          97,
          98,
          99
         ],
         "y": [
          0.3111254410605801,
          0.96658838617808,
          0.8553671248012684,
          -0.9028255174338453,
          -0.056339845917314,
          -1.2404521879728398,
          0.3939577008389254,
          -0.584309895164755,
          -0.1629706548040831,
          -0.1428612063326886,
          -0.2368666580884357,
          -0.7527648325887135,
          0.2772101269889636,
          1.0992266438041836,
          -1.2158171852229853,
          -0.03715493100422582,
          -1.5380281036666041,
          1.4756861413497433,
          1.1659434064334433,
          1.0642859262233144,
          -0.5339723566836979,
          -0.7368047833296468,
          0.7522974463580477,
          -1.2572153767194691,
          1.7738812184668709,
          0.5407453426631672,
          0.3371558672468022,
          -0.8198735196027412,
          -0.704256054131467,
          -0.9100459219697472,
          -1.4044269815348922,
          -0.571556951109997,
          1.312310205656458,
          -0.5087608002724731,
          -2.9893458226495726,
          -0.05521083419178454,
          0.0219794406892053,
          -1.1392982421587154,
          -0.585140474599415,
          0.04574398933940278,
          -1.2620196420653527,
          2.700449494361798,
          -1.0262589121646788,
          -2.0010890729862987,
          2.67672072390806,
          0.6632218086685767,
          0.7808151236780235,
          -1.4050518731223913,
          1.1072396981633452,
          -0.7662205085015786,
          -0.44581383111811995,
          0.28744566871358107,
          0.7793410458376682,
          -0.776046357221468,
          1.8013177068888124,
          0.14712931279548955,
          1.2544540913290385,
          -1.2338879462248078,
          -1.4834376873093869,
          -0.11069458462192475,
          -1.2135841483884229,
          -2.462624833994512,
          0.7297195021541508,
          -0.888023254409534,
          1.0370721495332529,
          0.5405662853487623,
          -0.3002664679052229,
          -0.27813614118761354,
          3.1871584994076727,
          -0.2825599905600144,
          1.471850039377236,
          -1.915324276813688,
          -0.6909013313081779,
          -0.1430489513114513,
          -0.4873770009907383,
          0.42824917877439167,
          0.8124056700108464,
          -0.3791085560901211,
          0.3522506471537461,
          -0.7935271883838341,
          -1.7882741893249297,
          -1.6273975036052946,
          0.41619845626210145,
          -0.1483835183685805,
          -0.19785043322526447,
          0.3794468224998039,
          2.152369319892974,
          -0.9912778633801927,
          0.4379671635038795,
          -1.0958714857576495,
          0.3533230510959733,
          0.8837952453922172,
          0.28420491440320556,
          -1.7550383687832753,
          -0.21079123913418088,
          -1.1019255019771754,
          -1.0114807982496816,
          -0.8732112512284295,
          -1.0027674554962795,
          -0.3921981820939004
         ]
        },
        {
         "line": {
          "color": "rgba(128, 0, 128, 1.0)",
          "dash": "solid",
          "shape": "linear",
          "width": 1.3
         },
         "mode": "lines",
         "name": "D",
         "text": "",
         "type": "scatter",
         "x": [
          0,
          1,
          2,
          3,
          4,
          5,
          6,
          7,
          8,
          9,
          10,
          11,
          12,
          13,
          14,
          15,
          16,
          17,
          18,
          19,
          20,
          21,
          22,
          23,
          24,
          25,
          26,
          27,
          28,
          29,
          30,
          31,
          32,
          33,
          34,
          35,
          36,
          37,
          38,
          39,
          40,
          41,
          42,
          43,
          44,
          45,
          46,
          47,
          48,
          49,
          50,
          51,
          52,
          53,
          54,
          55,
          56,
          57,
          58,
          59,
          60,
          61,
          62,
          63,
          64,
          65,
          66,
          67,
          68,
          69,
          70,
          71,
          72,
          73,
          74,
          75,
          76,
          77,
          78,
          79,
          80,
          81,
          82,
          83,
          84,
          85,
          86,
          87,
          88,
          89,
          90,
          91,
          92,
          93,
          94,
          95,
          96,
          97,
          98,
          99
         ],
         "y": [
          1.4201394248344659,
          -0.9144939264623855,
          -1.4801918392582694,
          0.5708536906807992,
          -0.35859094240702466,
          -0.08412051532512825,
          -0.7706628384126709,
          -1.2042641652910422,
          0.9441072299952517,
          -1.5617260704594789,
          -0.9081702558424615,
          -2.3479977972102892,
          0.9460532090273667,
          0.7676546960402487,
          1.3394785640222264,
          0.15984825588287432,
          -0.7559048621852565,
          1.683075675429387,
          -1.6865748866203958,
          0.020514198856238054,
          -0.7517564301024344,
          -1.2951536127600454,
          -0.4057677811649712,
          0.8576682856337292,
          0.5200917615335241,
          0.7074748453036533,
          0.37101701756698247,
          1.122310879990849,
          -0.20621295186512476,
          -0.0032601343602030575,
          -0.28191609112828564,
          1.061987234722,
          0.771930238713787,
          -0.6171378058323791,
          1.1980557365147715,
          0.1052329293274022,
          -1.3633960138657655,
          -0.5432013610977238,
          -1.9889775436270527,
          0.42542474746181264,
          -0.8320065491717672,
          0.8996981512557594,
          -1.5021317823863942,
          0.40547245361748224,
          -1.5782133997424979,
          0.8984051226554823,
          -0.7520821248460748,
          -1.3079232754754473,
          0.452391135361414,
          -0.2956535711118633,
          0.5846715230762238,
          0.6012583462279851,
          -0.8899097613382391,
          0.8191498213703619,
          -0.12296751355312766,
          -1.0427103259921204,
          1.338268460525913,
          0.33654220525631123,
          -0.2566228361570299,
          -1.5251249106633016,
          -1.0053342011706616,
          0.08501699307871964,
          0.1772548015436161,
          0.2557458543850634,
          -0.9170092808076356,
          -0.6052155408657207,
          -2.6181708217216704,
          -0.18673588130011717,
          -1.427834436918814,
          1.7907124362613833,
          0.5860478682466103,
          -1.3248615079584147,
          0.208759238154158,
          -0.03531632616806003,
          0.5030091327279851,
          0.4406160308665978,
          1.1054110401762522,
          -1.8400531831956344,
          0.9727555527477301,
          0.385439344524998,
          -0.07678211344083324,
          -0.4612593574547356,
          0.6492120228845738,
          -1.0099929243964376,
          -1.1179346033929058,
          0.09522689064106103,
          0.9915616739080637,
          -1.4283030562543593,
          -0.127848327004066,
          0.37500248948169823,
          -0.3277764123810168,
          -0.5944250653013659,
          1.5146316840474294,
          -0.5477754107305259,
          1.0283329695299208,
          0.7780544383198856,
          0.23906649488896575,
          -0.8799787544871376,
          -0.30343995703734733,
          -0.27131721022203986
         ]
        }
       ],
       "layout": {
        "legend": {
         "bgcolor": "#F5F6F9",
         "font": {
          "color": "#4D5663"
         }
        },
        "paper_bgcolor": "#F5F6F9",
        "plot_bgcolor": "#F5F6F9",
        "template": {
         "data": {
          "bar": [
           {
            "error_x": {
             "color": "#2a3f5f"
            },
            "error_y": {
             "color": "#2a3f5f"
            },
            "marker": {
             "line": {
              "color": "#E5ECF6",
              "width": 0.5
             }
            },
            "type": "bar"
           }
          ],
          "barpolar": [
           {
            "marker": {
             "line": {
              "color": "#E5ECF6",
              "width": 0.5
             }
            },
            "type": "barpolar"
           }
          ],
          "carpet": [
           {
            "aaxis": {
             "endlinecolor": "#2a3f5f",
             "gridcolor": "white",
             "linecolor": "white",
             "minorgridcolor": "white",
             "startlinecolor": "#2a3f5f"
            },
            "baxis": {
             "endlinecolor": "#2a3f5f",
             "gridcolor": "white",
             "linecolor": "white",
             "minorgridcolor": "white",
             "startlinecolor": "#2a3f5f"
            },
            "type": "carpet"
           }
          ],
          "choropleth": [
           {
            "colorbar": {
             "outlinewidth": 0,
             "ticks": ""
            },
            "type": "choropleth"
           }
          ],
          "contour": [
           {
            "colorbar": {
             "outlinewidth": 0,
             "ticks": ""
            },
            "colorscale": [
             [
              0,
              "#0d0887"
             ],
             [
              0.1111111111111111,
              "#46039f"
             ],
             [
              0.2222222222222222,
              "#7201a8"
             ],
             [
              0.3333333333333333,
              "#9c179e"
             ],
             [
              0.4444444444444444,
              "#bd3786"
             ],
             [
              0.5555555555555556,
              "#d8576b"
             ],
             [
              0.6666666666666666,
              "#ed7953"
             ],
             [
              0.7777777777777778,
              "#fb9f3a"
             ],
             [
              0.8888888888888888,
              "#fdca26"
             ],
             [
              1,
              "#f0f921"
             ]
            ],
            "type": "contour"
           }
          ],
          "contourcarpet": [
           {
            "colorbar": {
             "outlinewidth": 0,
             "ticks": ""
            },
            "type": "contourcarpet"
           }
          ],
          "heatmap": [
           {
            "colorbar": {
             "outlinewidth": 0,
             "ticks": ""
            },
            "colorscale": [
             [
              0,
              "#0d0887"
             ],
             [
              0.1111111111111111,
              "#46039f"
             ],
             [
              0.2222222222222222,
              "#7201a8"
             ],
             [
              0.3333333333333333,
              "#9c179e"
             ],
             [
              0.4444444444444444,
              "#bd3786"
             ],
             [
              0.5555555555555556,
              "#d8576b"
             ],
             [
              0.6666666666666666,
              "#ed7953"
             ],
             [
              0.7777777777777778,
              "#fb9f3a"
             ],
             [
              0.8888888888888888,
              "#fdca26"
             ],
             [
              1,
              "#f0f921"
             ]
            ],
            "type": "heatmap"
           }
          ],
          "heatmapgl": [
           {
            "colorbar": {
             "outlinewidth": 0,
             "ticks": ""
            },
            "colorscale": [
             [
              0,
              "#0d0887"
             ],
             [
              0.1111111111111111,
              "#46039f"
             ],
             [
              0.2222222222222222,
              "#7201a8"
             ],
             [
              0.3333333333333333,
              "#9c179e"
             ],
             [
              0.4444444444444444,
              "#bd3786"
             ],
             [
              0.5555555555555556,
              "#d8576b"
             ],
             [
              0.6666666666666666,
              "#ed7953"
             ],
             [
              0.7777777777777778,
              "#fb9f3a"
             ],
             [
              0.8888888888888888,
              "#fdca26"
             ],
             [
              1,
              "#f0f921"
             ]
            ],
            "type": "heatmapgl"
           }
          ],
          "histogram": [
           {
            "marker": {
             "colorbar": {
              "outlinewidth": 0,
              "ticks": ""
             }
            },
            "type": "histogram"
           }
          ],
          "histogram2d": [
           {
            "colorbar": {
             "outlinewidth": 0,
             "ticks": ""
            },
            "colorscale": [
             [
              0,
              "#0d0887"
             ],
             [
              0.1111111111111111,
              "#46039f"
             ],
             [
              0.2222222222222222,
              "#7201a8"
             ],
             [
              0.3333333333333333,
              "#9c179e"
             ],
             [
              0.4444444444444444,
              "#bd3786"
             ],
             [
              0.5555555555555556,
              "#d8576b"
             ],
             [
              0.6666666666666666,
              "#ed7953"
             ],
             [
              0.7777777777777778,
              "#fb9f3a"
             ],
             [
              0.8888888888888888,
              "#fdca26"
             ],
             [
              1,
              "#f0f921"
             ]
            ],
            "type": "histogram2d"
           }
          ],
          "histogram2dcontour": [
           {
            "colorbar": {
             "outlinewidth": 0,
             "ticks": ""
            },
            "colorscale": [
             [
              0,
              "#0d0887"
             ],
             [
              0.1111111111111111,
              "#46039f"
             ],
             [
              0.2222222222222222,
              "#7201a8"
             ],
             [
              0.3333333333333333,
              "#9c179e"
             ],
             [
              0.4444444444444444,
              "#bd3786"
             ],
             [
              0.5555555555555556,
              "#d8576b"
             ],
             [
              0.6666666666666666,
              "#ed7953"
             ],
             [
              0.7777777777777778,
              "#fb9f3a"
             ],
             [
              0.8888888888888888,
              "#fdca26"
             ],
             [
              1,
              "#f0f921"
             ]
            ],
            "type": "histogram2dcontour"
           }
          ],
          "mesh3d": [
           {
            "colorbar": {
             "outlinewidth": 0,
             "ticks": ""
            },
            "type": "mesh3d"
           }
          ],
          "parcoords": [
           {
            "line": {
             "colorbar": {
              "outlinewidth": 0,
              "ticks": ""
             }
            },
            "type": "parcoords"
           }
          ],
          "pie": [
           {
            "automargin": true,
            "type": "pie"
           }
          ],
          "scatter": [
           {
            "marker": {
             "colorbar": {
              "outlinewidth": 0,
              "ticks": ""
             }
            },
            "type": "scatter"
           }
          ],
          "scatter3d": [
           {
            "line": {
             "colorbar": {
              "outlinewidth": 0,
              "ticks": ""
             }
            },
            "marker": {
             "colorbar": {
              "outlinewidth": 0,
              "ticks": ""
             }
            },
            "type": "scatter3d"
           }
          ],
          "scattercarpet": [
           {
            "marker": {
             "colorbar": {
              "outlinewidth": 0,
              "ticks": ""
             }
            },
            "type": "scattercarpet"
           }
          ],
          "scattergeo": [
           {
            "marker": {
             "colorbar": {
              "outlinewidth": 0,
              "ticks": ""
             }
            },
            "type": "scattergeo"
           }
          ],
          "scattergl": [
           {
            "marker": {
             "colorbar": {
              "outlinewidth": 0,
              "ticks": ""
             }
            },
            "type": "scattergl"
           }
          ],
          "scattermapbox": [
           {
            "marker": {
             "colorbar": {
              "outlinewidth": 0,
              "ticks": ""
             }
            },
            "type": "scattermapbox"
           }
          ],
          "scatterpolar": [
           {
            "marker": {
             "colorbar": {
              "outlinewidth": 0,
              "ticks": ""
             }
            },
            "type": "scatterpolar"
           }
          ],
          "scatterpolargl": [
           {
            "marker": {
             "colorbar": {
              "outlinewidth": 0,
              "ticks": ""
             }
            },
            "type": "scatterpolargl"
           }
          ],
          "scatterternary": [
           {
            "marker": {
             "colorbar": {
              "outlinewidth": 0,
              "ticks": ""
             }
            },
            "type": "scatterternary"
           }
          ],
          "surface": [
           {
            "colorbar": {
             "outlinewidth": 0,
             "ticks": ""
            },
            "colorscale": [
             [
              0,
              "#0d0887"
             ],
             [
              0.1111111111111111,
              "#46039f"
             ],
             [
              0.2222222222222222,
              "#7201a8"
             ],
             [
              0.3333333333333333,
              "#9c179e"
             ],
             [
              0.4444444444444444,
              "#bd3786"
             ],
             [
              0.5555555555555556,
              "#d8576b"
             ],
             [
              0.6666666666666666,
              "#ed7953"
             ],
             [
              0.7777777777777778,
              "#fb9f3a"
             ],
             [
              0.8888888888888888,
              "#fdca26"
             ],
             [
              1,
              "#f0f921"
             ]
            ],
            "type": "surface"
           }
          ],
          "table": [
           {
            "cells": {
             "fill": {
              "color": "#EBF0F8"
             },
             "line": {
              "color": "white"
             }
            },
            "header": {
             "fill": {
              "color": "#C8D4E3"
             },
             "line": {
              "color": "white"
             }
            },
            "type": "table"
           }
          ]
         },
         "layout": {
          "annotationdefaults": {
           "arrowcolor": "#2a3f5f",
           "arrowhead": 0,
           "arrowwidth": 1
          },
          "autotypenumbers": "strict",
          "coloraxis": {
           "colorbar": {
            "outlinewidth": 0,
            "ticks": ""
           }
          },
          "colorscale": {
           "diverging": [
            [
             0,
             "#8e0152"
            ],
            [
             0.1,
             "#c51b7d"
            ],
            [
             0.2,
             "#de77ae"
            ],
            [
             0.3,
             "#f1b6da"
            ],
            [
             0.4,
             "#fde0ef"
            ],
            [
             0.5,
             "#f7f7f7"
            ],
            [
             0.6,
             "#e6f5d0"
            ],
            [
             0.7,
             "#b8e186"
            ],
            [
             0.8,
             "#7fbc41"
            ],
            [
             0.9,
             "#4d9221"
            ],
            [
             1,
             "#276419"
            ]
           ],
           "sequential": [
            [
             0,
             "#0d0887"
            ],
            [
             0.1111111111111111,
             "#46039f"
            ],
            [
             0.2222222222222222,
             "#7201a8"
            ],
            [
             0.3333333333333333,
             "#9c179e"
            ],
            [
             0.4444444444444444,
             "#bd3786"
            ],
            [
             0.5555555555555556,
             "#d8576b"
            ],
            [
             0.6666666666666666,
             "#ed7953"
            ],
            [
             0.7777777777777778,
             "#fb9f3a"
            ],
            [
             0.8888888888888888,
             "#fdca26"
            ],
            [
             1,
             "#f0f921"
            ]
           ],
           "sequentialminus": [
            [
             0,
             "#0d0887"
            ],
            [
             0.1111111111111111,
             "#46039f"
            ],
            [
             0.2222222222222222,
             "#7201a8"
            ],
            [
             0.3333333333333333,
             "#9c179e"
            ],
            [
             0.4444444444444444,
             "#bd3786"
            ],
            [
             0.5555555555555556,
             "#d8576b"
            ],
            [
             0.6666666666666666,
             "#ed7953"
            ],
            [
             0.7777777777777778,
             "#fb9f3a"
            ],
            [
             0.8888888888888888,
             "#fdca26"
            ],
            [
             1,
             "#f0f921"
            ]
           ]
          },
          "colorway": [
           "#636efa",
           "#EF553B",
           "#00cc96",
           "#ab63fa",
           "#FFA15A",
           "#19d3f3",
           "#FF6692",
           "#B6E880",
           "#FF97FF",
           "#FECB52"
          ],
          "font": {
           "color": "#2a3f5f"
          },
          "geo": {
           "bgcolor": "white",
           "lakecolor": "white",
           "landcolor": "#E5ECF6",
           "showlakes": true,
           "showland": true,
           "subunitcolor": "white"
          },
          "hoverlabel": {
           "align": "left"
          },
          "hovermode": "closest",
          "mapbox": {
           "style": "light"
          },
          "paper_bgcolor": "white",
          "plot_bgcolor": "#E5ECF6",
          "polar": {
           "angularaxis": {
            "gridcolor": "white",
            "linecolor": "white",
            "ticks": ""
           },
           "bgcolor": "#E5ECF6",
           "radialaxis": {
            "gridcolor": "white",
            "linecolor": "white",
            "ticks": ""
           }
          },
          "scene": {
           "xaxis": {
            "backgroundcolor": "#E5ECF6",
            "gridcolor": "white",
            "gridwidth": 2,
            "linecolor": "white",
            "showbackground": true,
            "ticks": "",
            "zerolinecolor": "white"
           },
           "yaxis": {
            "backgroundcolor": "#E5ECF6",
            "gridcolor": "white",
            "gridwidth": 2,
            "linecolor": "white",
            "showbackground": true,
            "ticks": "",
            "zerolinecolor": "white"
           },
           "zaxis": {
            "backgroundcolor": "#E5ECF6",
            "gridcolor": "white",
            "gridwidth": 2,
            "linecolor": "white",
            "showbackground": true,
            "ticks": "",
            "zerolinecolor": "white"
           }
          },
          "shapedefaults": {
           "line": {
            "color": "#2a3f5f"
           }
          },
          "ternary": {
           "aaxis": {
            "gridcolor": "white",
            "linecolor": "white",
            "ticks": ""
           },
           "baxis": {
            "gridcolor": "white",
            "linecolor": "white",
            "ticks": ""
           },
           "bgcolor": "#E5ECF6",
           "caxis": {
            "gridcolor": "white",
            "linecolor": "white",
            "ticks": ""
           }
          },
          "title": {
           "x": 0.05
          },
          "xaxis": {
           "automargin": true,
           "gridcolor": "white",
           "linecolor": "white",
           "ticks": "",
           "title": {
            "standoff": 15
           },
           "zerolinecolor": "white",
           "zerolinewidth": 2
          },
          "yaxis": {
           "automargin": true,
           "gridcolor": "white",
           "linecolor": "white",
           "ticks": "",
           "title": {
            "standoff": 15
           },
           "zerolinecolor": "white",
           "zerolinewidth": 2
          }
         }
        },
        "title": {
         "font": {
          "color": "#4D5663"
         }
        },
        "xaxis": {
         "gridcolor": "#E1E5ED",
         "showgrid": true,
         "tickfont": {
          "color": "#4D5663"
         },
         "title": {
          "font": {
           "color": "#4D5663"
          },
          "text": ""
         },
         "zerolinecolor": "#E1E5ED"
        },
        "yaxis": {
         "gridcolor": "#E1E5ED",
         "showgrid": true,
         "tickfont": {
          "color": "#4D5663"
         },
         "title": {
          "font": {
           "color": "#4D5663"
          },
          "text": ""
         },
         "zerolinecolor": "#E1E5ED"
        }
       }
      },
      "text/html": [
       "<div>                            <div id=\"051e779f-7ec4-4827-9607-333f1e8e9f90\" class=\"plotly-graph-div\" style=\"height:525px; width:100%;\"></div>            <script type=\"text/javascript\">                require([\"plotly\"], function(Plotly) {                    window.PLOTLYENV=window.PLOTLYENV || {};\n",
       "                    window.PLOTLYENV.BASE_URL='https://plot.ly';                                    if (document.getElementById(\"051e779f-7ec4-4827-9607-333f1e8e9f90\")) {                    Plotly.newPlot(                        \"051e779f-7ec4-4827-9607-333f1e8e9f90\",                        [{\"line\": {\"color\": \"rgba(255, 153, 51, 1.0)\", \"dash\": \"solid\", \"shape\": \"linear\", \"width\": 1.3}, \"mode\": \"lines\", \"name\": \"A\", \"text\": \"\", \"type\": \"scatter\", \"x\": [0, 1, 2, 3, 4, 5, 6, 7, 8, 9, 10, 11, 12, 13, 14, 15, 16, 17, 18, 19, 20, 21, 22, 23, 24, 25, 26, 27, 28, 29, 30, 31, 32, 33, 34, 35, 36, 37, 38, 39, 40, 41, 42, 43, 44, 45, 46, 47, 48, 49, 50, 51, 52, 53, 54, 55, 56, 57, 58, 59, 60, 61, 62, 63, 64, 65, 66, 67, 68, 69, 70, 71, 72, 73, 74, 75, 76, 77, 78, 79, 80, 81, 82, 83, 84, 85, 86, 87, 88, 89, 90, 91, 92, 93, 94, 95, 96, 97, 98, 99], \"y\": [-1.7538858937551702, -1.7226856703555207, -0.4140247115632524, 0.8211538745067284, 1.1389978845908453, 0.2937800164063252, 0.38523754634530905, 0.2495826223220929, 0.4639041966379346, 0.7966092223449669, 1.767194154936893, -1.0236061425711371, -0.35302571009675604, 1.2179000914228575, -0.44883972685594975, -1.1619490891090674, 0.265305113798835, 0.9905367335152827, -0.33441518723358027, -0.5480061657291567, -1.5001806885986948, -1.6590235035842018, -1.3715138381506373, 0.825866973830695, 0.9420282609542272, 0.2606962286828969, -0.8849246227370032, -0.1078503532732208, -0.2974603475612812, 0.9503169590893906, 0.41812936220293445, -0.5348523266504603, 0.3760730387943392, 1.0318066442606086, -1.2427394197115595, 0.5043938659863496, 1.376755938082115, 0.6005663618734192, -1.0519314917957416, 0.8808568140393724, -2.5261638208699035, 0.7136595538703409, 0.3677890721824107, -0.018947152325261948, -0.553662200013513, -0.7925670548920108, -0.6685321613037117, -1.0229969463524564, -0.9238619405833758, 3.080723651001204, 1.147456931259636, -1.8086378449607519, -0.24632702376956678, 0.5684542426237913, 0.32936644752117283, -0.2615535328896379, -0.4105392123307298, 1.6966320973188525, -0.7331190860107024, 0.3478166244604999, -1.876629782501499, 0.7441579168092955, -0.45529571105198646, 0.5307556936191674, 0.7043984803253995, -0.518335332573801, 0.2801872548345399, 0.6279250320877873, -0.699545807581524, -1.4828830868202263, -0.008939436335171736, -0.585396146704361, -0.09089604926936432, 2.158360064948021, 0.040842014274870456, 0.8994208482062952, -0.18837857102847666, 0.39477911885784556, -0.49919456228234604, -0.24278778188330472, -0.27801459712440885, -0.02005599493814914, 0.5111805799165396, -0.7177136725412908, -0.16231118047802034, -0.630899750574069, -0.28833971879513925, -1.3391993460263756, 0.43487028069968203, 2.4936536813480936, 0.9268871399951262, 0.2290428161700579, 0.5817920127165599, -1.103928935045968, 0.06652031913783847, 0.8547749603573822, 0.22744064562977065, -0.21988446126173516, 0.7915929868565157, 1.2123195799722162]}, {\"line\": {\"color\": \"rgba(55, 128, 191, 1.0)\", \"dash\": \"solid\", \"shape\": \"linear\", \"width\": 1.3}, \"mode\": \"lines\", \"name\": \"B\", \"text\": \"\", \"type\": \"scatter\", \"x\": [0, 1, 2, 3, 4, 5, 6, 7, 8, 9, 10, 11, 12, 13, 14, 15, 16, 17, 18, 19, 20, 21, 22, 23, 24, 25, 26, 27, 28, 29, 30, 31, 32, 33, 34, 35, 36, 37, 38, 39, 40, 41, 42, 43, 44, 45, 46, 47, 48, 49, 50, 51, 52, 53, 54, 55, 56, 57, 58, 59, 60, 61, 62, 63, 64, 65, 66, 67, 68, 69, 70, 71, 72, 73, 74, 75, 76, 77, 78, 79, 80, 81, 82, 83, 84, 85, 86, 87, 88, 89, 90, 91, 92, 93, 94, 95, 96, 97, 98, 99], \"y\": [-0.15034330799727522, -0.6775470321842226, 0.6292302615166938, 0.5146514364050291, 0.12812953407454677, 1.4826523396260014, 1.09461465459242, -1.4309059964459574, 0.9924000728264003, -0.16462330131150943, -0.9680204294618735, -0.05819894733102732, -0.4193492884002126, -0.9512509775295541, -1.5592432068927438, -0.37724667575089077, -0.8163454087741805, -1.1634426284274009, -0.7727169645991858, -1.5660952387404672, 1.63108501567007, 0.22506325763177487, -0.25763665286886805, 0.214860159679175, 1.251753056344124, 1.6690314114825355, 0.3022929317996026, 0.7392394248453502, -0.32489558407014246, 0.01816151334724389, -1.111172085958229, 0.798352804883693, 0.6689865089232654, 1.0112287761521896, -1.0089163375181691, 0.010197645661448367, -1.3606762482533754, 1.3145565857906587, -1.4714209197893855, -0.020970917635074096, -0.734765310087592, -0.2577290087930091, -0.16650988995760022, -0.0077112515004609345, 0.5156972692644582, -1.5358085131991082, 2.2327494567305863, 0.26956941953525115, -1.3301215335316772, -1.1899279787713606, 0.12113748908960048, 0.6013672613407213, -0.8773803605119841, 0.4587511532092964, 0.6156664665083802, -0.12173311874599524, -1.209952008476506, 0.9255410385804945, 0.8919998451645604, 0.35032603007400487, -1.062444387771096, 0.06669724592427571, -1.203321627677848, -0.4905731440856716, -0.8608338683949729, 0.05490535505286273, 0.9957292249459686, -0.547794495412987, 0.8518552352628243, 0.5881964642812763, -1.784922865556606, -1.0250579370559378, 1.1404566416637723, 0.6585384645569528, 0.6879293639606842, 1.09000165692416, -1.2315473031585094, 0.7718231219070881, 0.834867657747323, 0.5206816714698226, -0.12189711099490538, -2.794522227360413, 1.7058546209147678, 0.3103434913930824, 0.29940444575234265, 2.346868837056278, -0.13980954316876368, 0.32151168696495624, 0.8555709588576978, -0.32964332918219585, -0.05134402117910471, -0.8213825402502497, -1.3226533802406837, 2.239462592111017, -1.067529006567402, -0.1749593741413527, 1.2879721958908095, 0.7740484010414118, -0.5052050279423617, 1.458345819319322]}, {\"line\": {\"color\": \"rgba(50, 171, 96, 1.0)\", \"dash\": \"solid\", \"shape\": \"linear\", \"width\": 1.3}, \"mode\": \"lines\", \"name\": \"C\", \"text\": \"\", \"type\": \"scatter\", \"x\": [0, 1, 2, 3, 4, 5, 6, 7, 8, 9, 10, 11, 12, 13, 14, 15, 16, 17, 18, 19, 20, 21, 22, 23, 24, 25, 26, 27, 28, 29, 30, 31, 32, 33, 34, 35, 36, 37, 38, 39, 40, 41, 42, 43, 44, 45, 46, 47, 48, 49, 50, 51, 52, 53, 54, 55, 56, 57, 58, 59, 60, 61, 62, 63, 64, 65, 66, 67, 68, 69, 70, 71, 72, 73, 74, 75, 76, 77, 78, 79, 80, 81, 82, 83, 84, 85, 86, 87, 88, 89, 90, 91, 92, 93, 94, 95, 96, 97, 98, 99], \"y\": [0.3111254410605801, 0.96658838617808, 0.8553671248012684, -0.9028255174338453, -0.056339845917314, -1.2404521879728398, 0.3939577008389254, -0.584309895164755, -0.1629706548040831, -0.1428612063326886, -0.2368666580884357, -0.7527648325887135, 0.2772101269889636, 1.0992266438041836, -1.2158171852229853, -0.03715493100422582, -1.5380281036666041, 1.4756861413497433, 1.1659434064334433, 1.0642859262233144, -0.5339723566836979, -0.7368047833296468, 0.7522974463580477, -1.2572153767194691, 1.7738812184668709, 0.5407453426631672, 0.3371558672468022, -0.8198735196027412, -0.704256054131467, -0.9100459219697472, -1.4044269815348922, -0.571556951109997, 1.312310205656458, -0.5087608002724731, -2.9893458226495726, -0.05521083419178454, 0.0219794406892053, -1.1392982421587154, -0.585140474599415, 0.04574398933940278, -1.2620196420653527, 2.700449494361798, -1.0262589121646788, -2.0010890729862987, 2.67672072390806, 0.6632218086685767, 0.7808151236780235, -1.4050518731223913, 1.1072396981633452, -0.7662205085015786, -0.44581383111811995, 0.28744566871358107, 0.7793410458376682, -0.776046357221468, 1.8013177068888124, 0.14712931279548955, 1.2544540913290385, -1.2338879462248078, -1.4834376873093869, -0.11069458462192475, -1.2135841483884229, -2.462624833994512, 0.7297195021541508, -0.888023254409534, 1.0370721495332529, 0.5405662853487623, -0.3002664679052229, -0.27813614118761354, 3.1871584994076727, -0.2825599905600144, 1.471850039377236, -1.915324276813688, -0.6909013313081779, -0.1430489513114513, -0.4873770009907383, 0.42824917877439167, 0.8124056700108464, -0.3791085560901211, 0.3522506471537461, -0.7935271883838341, -1.7882741893249297, -1.6273975036052946, 0.41619845626210145, -0.1483835183685805, -0.19785043322526447, 0.3794468224998039, 2.152369319892974, -0.9912778633801927, 0.4379671635038795, -1.0958714857576495, 0.3533230510959733, 0.8837952453922172, 0.28420491440320556, -1.7550383687832753, -0.21079123913418088, -1.1019255019771754, -1.0114807982496816, -0.8732112512284295, -1.0027674554962795, -0.3921981820939004]}, {\"line\": {\"color\": \"rgba(128, 0, 128, 1.0)\", \"dash\": \"solid\", \"shape\": \"linear\", \"width\": 1.3}, \"mode\": \"lines\", \"name\": \"D\", \"text\": \"\", \"type\": \"scatter\", \"x\": [0, 1, 2, 3, 4, 5, 6, 7, 8, 9, 10, 11, 12, 13, 14, 15, 16, 17, 18, 19, 20, 21, 22, 23, 24, 25, 26, 27, 28, 29, 30, 31, 32, 33, 34, 35, 36, 37, 38, 39, 40, 41, 42, 43, 44, 45, 46, 47, 48, 49, 50, 51, 52, 53, 54, 55, 56, 57, 58, 59, 60, 61, 62, 63, 64, 65, 66, 67, 68, 69, 70, 71, 72, 73, 74, 75, 76, 77, 78, 79, 80, 81, 82, 83, 84, 85, 86, 87, 88, 89, 90, 91, 92, 93, 94, 95, 96, 97, 98, 99], \"y\": [1.4201394248344659, -0.9144939264623855, -1.4801918392582694, 0.5708536906807992, -0.35859094240702466, -0.08412051532512825, -0.7706628384126709, -1.2042641652910422, 0.9441072299952517, -1.5617260704594789, -0.9081702558424615, -2.3479977972102892, 0.9460532090273667, 0.7676546960402487, 1.3394785640222264, 0.15984825588287432, -0.7559048621852565, 1.683075675429387, -1.6865748866203958, 0.020514198856238054, -0.7517564301024344, -1.2951536127600454, -0.4057677811649712, 0.8576682856337292, 0.5200917615335241, 0.7074748453036533, 0.37101701756698247, 1.122310879990849, -0.20621295186512476, -0.0032601343602030575, -0.28191609112828564, 1.061987234722, 0.771930238713787, -0.6171378058323791, 1.1980557365147715, 0.1052329293274022, -1.3633960138657655, -0.5432013610977238, -1.9889775436270527, 0.42542474746181264, -0.8320065491717672, 0.8996981512557594, -1.5021317823863942, 0.40547245361748224, -1.5782133997424979, 0.8984051226554823, -0.7520821248460748, -1.3079232754754473, 0.452391135361414, -0.2956535711118633, 0.5846715230762238, 0.6012583462279851, -0.8899097613382391, 0.8191498213703619, -0.12296751355312766, -1.0427103259921204, 1.338268460525913, 0.33654220525631123, -0.2566228361570299, -1.5251249106633016, -1.0053342011706616, 0.08501699307871964, 0.1772548015436161, 0.2557458543850634, -0.9170092808076356, -0.6052155408657207, -2.6181708217216704, -0.18673588130011717, -1.427834436918814, 1.7907124362613833, 0.5860478682466103, -1.3248615079584147, 0.208759238154158, -0.03531632616806003, 0.5030091327279851, 0.4406160308665978, 1.1054110401762522, -1.8400531831956344, 0.9727555527477301, 0.385439344524998, -0.07678211344083324, -0.4612593574547356, 0.6492120228845738, -1.0099929243964376, -1.1179346033929058, 0.09522689064106103, 0.9915616739080637, -1.4283030562543593, -0.127848327004066, 0.37500248948169823, -0.3277764123810168, -0.5944250653013659, 1.5146316840474294, -0.5477754107305259, 1.0283329695299208, 0.7780544383198856, 0.23906649488896575, -0.8799787544871376, -0.30343995703734733, -0.27131721022203986]}],                        {\"legend\": {\"bgcolor\": \"#F5F6F9\", \"font\": {\"color\": \"#4D5663\"}}, \"paper_bgcolor\": \"#F5F6F9\", \"plot_bgcolor\": \"#F5F6F9\", \"template\": {\"data\": {\"bar\": [{\"error_x\": {\"color\": \"#2a3f5f\"}, \"error_y\": {\"color\": \"#2a3f5f\"}, \"marker\": {\"line\": {\"color\": \"#E5ECF6\", \"width\": 0.5}}, \"type\": \"bar\"}], \"barpolar\": [{\"marker\": {\"line\": {\"color\": \"#E5ECF6\", \"width\": 0.5}}, \"type\": \"barpolar\"}], \"carpet\": [{\"aaxis\": {\"endlinecolor\": \"#2a3f5f\", \"gridcolor\": \"white\", \"linecolor\": \"white\", \"minorgridcolor\": \"white\", \"startlinecolor\": \"#2a3f5f\"}, \"baxis\": {\"endlinecolor\": \"#2a3f5f\", \"gridcolor\": \"white\", \"linecolor\": \"white\", \"minorgridcolor\": \"white\", \"startlinecolor\": \"#2a3f5f\"}, \"type\": \"carpet\"}], \"choropleth\": [{\"colorbar\": {\"outlinewidth\": 0, \"ticks\": \"\"}, \"type\": \"choropleth\"}], \"contour\": [{\"colorbar\": {\"outlinewidth\": 0, \"ticks\": \"\"}, \"colorscale\": [[0.0, \"#0d0887\"], [0.1111111111111111, \"#46039f\"], [0.2222222222222222, \"#7201a8\"], [0.3333333333333333, \"#9c179e\"], [0.4444444444444444, \"#bd3786\"], [0.5555555555555556, \"#d8576b\"], [0.6666666666666666, \"#ed7953\"], [0.7777777777777778, \"#fb9f3a\"], [0.8888888888888888, \"#fdca26\"], [1.0, \"#f0f921\"]], \"type\": \"contour\"}], \"contourcarpet\": [{\"colorbar\": {\"outlinewidth\": 0, \"ticks\": \"\"}, \"type\": \"contourcarpet\"}], \"heatmap\": [{\"colorbar\": {\"outlinewidth\": 0, \"ticks\": \"\"}, \"colorscale\": [[0.0, \"#0d0887\"], [0.1111111111111111, \"#46039f\"], [0.2222222222222222, \"#7201a8\"], [0.3333333333333333, \"#9c179e\"], [0.4444444444444444, \"#bd3786\"], [0.5555555555555556, \"#d8576b\"], [0.6666666666666666, \"#ed7953\"], [0.7777777777777778, \"#fb9f3a\"], [0.8888888888888888, \"#fdca26\"], [1.0, \"#f0f921\"]], \"type\": \"heatmap\"}], \"heatmapgl\": [{\"colorbar\": {\"outlinewidth\": 0, \"ticks\": \"\"}, \"colorscale\": [[0.0, \"#0d0887\"], [0.1111111111111111, \"#46039f\"], [0.2222222222222222, \"#7201a8\"], [0.3333333333333333, \"#9c179e\"], [0.4444444444444444, \"#bd3786\"], [0.5555555555555556, \"#d8576b\"], [0.6666666666666666, \"#ed7953\"], [0.7777777777777778, \"#fb9f3a\"], [0.8888888888888888, \"#fdca26\"], [1.0, \"#f0f921\"]], \"type\": \"heatmapgl\"}], \"histogram\": [{\"marker\": {\"colorbar\": {\"outlinewidth\": 0, \"ticks\": \"\"}}, \"type\": \"histogram\"}], \"histogram2d\": [{\"colorbar\": {\"outlinewidth\": 0, \"ticks\": \"\"}, \"colorscale\": [[0.0, \"#0d0887\"], [0.1111111111111111, \"#46039f\"], [0.2222222222222222, \"#7201a8\"], [0.3333333333333333, \"#9c179e\"], [0.4444444444444444, \"#bd3786\"], [0.5555555555555556, \"#d8576b\"], [0.6666666666666666, \"#ed7953\"], [0.7777777777777778, \"#fb9f3a\"], [0.8888888888888888, \"#fdca26\"], [1.0, \"#f0f921\"]], \"type\": \"histogram2d\"}], \"histogram2dcontour\": [{\"colorbar\": {\"outlinewidth\": 0, \"ticks\": \"\"}, \"colorscale\": [[0.0, \"#0d0887\"], [0.1111111111111111, \"#46039f\"], [0.2222222222222222, \"#7201a8\"], [0.3333333333333333, \"#9c179e\"], [0.4444444444444444, \"#bd3786\"], [0.5555555555555556, \"#d8576b\"], [0.6666666666666666, \"#ed7953\"], [0.7777777777777778, \"#fb9f3a\"], [0.8888888888888888, \"#fdca26\"], [1.0, \"#f0f921\"]], \"type\": \"histogram2dcontour\"}], \"mesh3d\": [{\"colorbar\": {\"outlinewidth\": 0, \"ticks\": \"\"}, \"type\": \"mesh3d\"}], \"parcoords\": [{\"line\": {\"colorbar\": {\"outlinewidth\": 0, \"ticks\": \"\"}}, \"type\": \"parcoords\"}], \"pie\": [{\"automargin\": true, \"type\": \"pie\"}], \"scatter\": [{\"marker\": {\"colorbar\": {\"outlinewidth\": 0, \"ticks\": \"\"}}, \"type\": \"scatter\"}], \"scatter3d\": [{\"line\": {\"colorbar\": {\"outlinewidth\": 0, \"ticks\": \"\"}}, \"marker\": {\"colorbar\": {\"outlinewidth\": 0, \"ticks\": \"\"}}, \"type\": \"scatter3d\"}], \"scattercarpet\": [{\"marker\": {\"colorbar\": {\"outlinewidth\": 0, \"ticks\": \"\"}}, \"type\": \"scattercarpet\"}], \"scattergeo\": [{\"marker\": {\"colorbar\": {\"outlinewidth\": 0, \"ticks\": \"\"}}, \"type\": \"scattergeo\"}], \"scattergl\": [{\"marker\": {\"colorbar\": {\"outlinewidth\": 0, \"ticks\": \"\"}}, \"type\": \"scattergl\"}], \"scattermapbox\": [{\"marker\": {\"colorbar\": {\"outlinewidth\": 0, \"ticks\": \"\"}}, \"type\": \"scattermapbox\"}], \"scatterpolar\": [{\"marker\": {\"colorbar\": {\"outlinewidth\": 0, \"ticks\": \"\"}}, \"type\": \"scatterpolar\"}], \"scatterpolargl\": [{\"marker\": {\"colorbar\": {\"outlinewidth\": 0, \"ticks\": \"\"}}, \"type\": \"scatterpolargl\"}], \"scatterternary\": [{\"marker\": {\"colorbar\": {\"outlinewidth\": 0, \"ticks\": \"\"}}, \"type\": \"scatterternary\"}], \"surface\": [{\"colorbar\": {\"outlinewidth\": 0, \"ticks\": \"\"}, \"colorscale\": [[0.0, \"#0d0887\"], [0.1111111111111111, \"#46039f\"], [0.2222222222222222, \"#7201a8\"], [0.3333333333333333, \"#9c179e\"], [0.4444444444444444, \"#bd3786\"], [0.5555555555555556, \"#d8576b\"], [0.6666666666666666, \"#ed7953\"], [0.7777777777777778, \"#fb9f3a\"], [0.8888888888888888, \"#fdca26\"], [1.0, \"#f0f921\"]], \"type\": \"surface\"}], \"table\": [{\"cells\": {\"fill\": {\"color\": \"#EBF0F8\"}, \"line\": {\"color\": \"white\"}}, \"header\": {\"fill\": {\"color\": \"#C8D4E3\"}, \"line\": {\"color\": \"white\"}}, \"type\": \"table\"}]}, \"layout\": {\"annotationdefaults\": {\"arrowcolor\": \"#2a3f5f\", \"arrowhead\": 0, \"arrowwidth\": 1}, \"autotypenumbers\": \"strict\", \"coloraxis\": {\"colorbar\": {\"outlinewidth\": 0, \"ticks\": \"\"}}, \"colorscale\": {\"diverging\": [[0, \"#8e0152\"], [0.1, \"#c51b7d\"], [0.2, \"#de77ae\"], [0.3, \"#f1b6da\"], [0.4, \"#fde0ef\"], [0.5, \"#f7f7f7\"], [0.6, \"#e6f5d0\"], [0.7, \"#b8e186\"], [0.8, \"#7fbc41\"], [0.9, \"#4d9221\"], [1, \"#276419\"]], \"sequential\": [[0.0, \"#0d0887\"], [0.1111111111111111, \"#46039f\"], [0.2222222222222222, \"#7201a8\"], [0.3333333333333333, \"#9c179e\"], [0.4444444444444444, \"#bd3786\"], [0.5555555555555556, \"#d8576b\"], [0.6666666666666666, \"#ed7953\"], [0.7777777777777778, \"#fb9f3a\"], [0.8888888888888888, \"#fdca26\"], [1.0, \"#f0f921\"]], \"sequentialminus\": [[0.0, \"#0d0887\"], [0.1111111111111111, \"#46039f\"], [0.2222222222222222, \"#7201a8\"], [0.3333333333333333, \"#9c179e\"], [0.4444444444444444, \"#bd3786\"], [0.5555555555555556, \"#d8576b\"], [0.6666666666666666, \"#ed7953\"], [0.7777777777777778, \"#fb9f3a\"], [0.8888888888888888, \"#fdca26\"], [1.0, \"#f0f921\"]]}, \"colorway\": [\"#636efa\", \"#EF553B\", \"#00cc96\", \"#ab63fa\", \"#FFA15A\", \"#19d3f3\", \"#FF6692\", \"#B6E880\", \"#FF97FF\", \"#FECB52\"], \"font\": {\"color\": \"#2a3f5f\"}, \"geo\": {\"bgcolor\": \"white\", \"lakecolor\": \"white\", \"landcolor\": \"#E5ECF6\", \"showlakes\": true, \"showland\": true, \"subunitcolor\": \"white\"}, \"hoverlabel\": {\"align\": \"left\"}, \"hovermode\": \"closest\", \"mapbox\": {\"style\": \"light\"}, \"paper_bgcolor\": \"white\", \"plot_bgcolor\": \"#E5ECF6\", \"polar\": {\"angularaxis\": {\"gridcolor\": \"white\", \"linecolor\": \"white\", \"ticks\": \"\"}, \"bgcolor\": \"#E5ECF6\", \"radialaxis\": {\"gridcolor\": \"white\", \"linecolor\": \"white\", \"ticks\": \"\"}}, \"scene\": {\"xaxis\": {\"backgroundcolor\": \"#E5ECF6\", \"gridcolor\": \"white\", \"gridwidth\": 2, \"linecolor\": \"white\", \"showbackground\": true, \"ticks\": \"\", \"zerolinecolor\": \"white\"}, \"yaxis\": {\"backgroundcolor\": \"#E5ECF6\", \"gridcolor\": \"white\", \"gridwidth\": 2, \"linecolor\": \"white\", \"showbackground\": true, \"ticks\": \"\", \"zerolinecolor\": \"white\"}, \"zaxis\": {\"backgroundcolor\": \"#E5ECF6\", \"gridcolor\": \"white\", \"gridwidth\": 2, \"linecolor\": \"white\", \"showbackground\": true, \"ticks\": \"\", \"zerolinecolor\": \"white\"}}, \"shapedefaults\": {\"line\": {\"color\": \"#2a3f5f\"}}, \"ternary\": {\"aaxis\": {\"gridcolor\": \"white\", \"linecolor\": \"white\", \"ticks\": \"\"}, \"baxis\": {\"gridcolor\": \"white\", \"linecolor\": \"white\", \"ticks\": \"\"}, \"bgcolor\": \"#E5ECF6\", \"caxis\": {\"gridcolor\": \"white\", \"linecolor\": \"white\", \"ticks\": \"\"}}, \"title\": {\"x\": 0.05}, \"xaxis\": {\"automargin\": true, \"gridcolor\": \"white\", \"linecolor\": \"white\", \"ticks\": \"\", \"title\": {\"standoff\": 15}, \"zerolinecolor\": \"white\", \"zerolinewidth\": 2}, \"yaxis\": {\"automargin\": true, \"gridcolor\": \"white\", \"linecolor\": \"white\", \"ticks\": \"\", \"title\": {\"standoff\": 15}, \"zerolinecolor\": \"white\", \"zerolinewidth\": 2}}}, \"title\": {\"font\": {\"color\": \"#4D5663\"}}, \"xaxis\": {\"gridcolor\": \"#E1E5ED\", \"showgrid\": true, \"tickfont\": {\"color\": \"#4D5663\"}, \"title\": {\"font\": {\"color\": \"#4D5663\"}, \"text\": \"\"}, \"zerolinecolor\": \"#E1E5ED\"}, \"yaxis\": {\"gridcolor\": \"#E1E5ED\", \"showgrid\": true, \"tickfont\": {\"color\": \"#4D5663\"}, \"title\": {\"font\": {\"color\": \"#4D5663\"}, \"text\": \"\"}, \"zerolinecolor\": \"#E1E5ED\"}},                        {\"showLink\": true, \"linkText\": \"Export to plot.ly\", \"plotlyServerURL\": \"https://plot.ly\", \"responsive\": true}                    ).then(function(){\n",
       "                            \n",
       "var gd = document.getElementById('051e779f-7ec4-4827-9607-333f1e8e9f90');\n",
       "var x = new MutationObserver(function (mutations, observer) {{\n",
       "        var display = window.getComputedStyle(gd).display;\n",
       "        if (!display || display === 'none') {{\n",
       "            console.log([gd, 'removed!']);\n",
       "            Plotly.purge(gd);\n",
       "            observer.disconnect();\n",
       "        }}\n",
       "}});\n",
       "\n",
       "// Listen for the removal of the full notebook cells\n",
       "var notebookContainer = gd.closest('#notebook-container');\n",
       "if (notebookContainer) {{\n",
       "    x.observe(notebookContainer, {childList: true});\n",
       "}}\n",
       "\n",
       "// Listen for the clearing of the current output cell\n",
       "var outputEl = gd.closest('.output');\n",
       "if (outputEl) {{\n",
       "    x.observe(outputEl, {childList: true});\n",
       "}}\n",
       "\n",
       "                        })                };                });            </script>        </div>"
      ]
     },
     "metadata": {},
     "output_type": "display_data"
    }
   ],
   "source": [
    "# df1.plot()\n",
    "df1.iplot()"
   ]
  },
  {
   "cell_type": "markdown",
   "metadata": {},
   "source": [
    "Notice the options on the right corner of your plot!. We have range of options. Save, zoom, zoom in, zoom out, autoscale and so on.  <br>\n",
    "\n",
    "If we go to the legend, we can turn anyone on or off with a click, so we can see on the plot what we want (only one or more say A, B etc)."
   ]
  },
  {
   "cell_type": "markdown",
   "metadata": {},
   "source": [
    "**We have range of option with cufflinks and `iplot()` using `kind` parameter as well**<br>\n",
    "Let's try some commonly used plots using `kind` parameter."
   ]
  },
  {
   "cell_type": "markdown",
   "metadata": {},
   "source": [
    "### `kind =  scatter`\n",
    "Let's grab the columns 'A' and 'B' from our dataframe 'df1' here!"
   ]
  },
  {
   "cell_type": "code",
   "execution_count": 11,
   "metadata": {},
   "outputs": [
    {
     "data": {
      "application/vnd.plotly.v1+json": {
       "config": {
        "linkText": "Export to plot.ly",
        "plotlyServerURL": "https://plot.ly",
        "showLink": true
       },
       "data": [
        {
         "line": {
          "color": "rgba(255, 153, 51, 1.0)",
          "dash": "solid",
          "shape": "linear",
          "width": 1.3
         },
         "marker": {
          "size": 10,
          "symbol": "circle"
         },
         "mode": "markers",
         "name": "B",
         "text": "",
         "type": "scatter",
         "x": [
          -1.7538858937551702,
          -1.7226856703555207,
          -0.4140247115632524,
          0.8211538745067284,
          1.1389978845908453,
          0.2937800164063252,
          0.38523754634530905,
          0.2495826223220929,
          0.4639041966379346,
          0.7966092223449669,
          1.767194154936893,
          -1.0236061425711371,
          -0.35302571009675604,
          1.2179000914228575,
          -0.44883972685594975,
          -1.1619490891090674,
          0.265305113798835,
          0.9905367335152827,
          -0.33441518723358027,
          -0.5480061657291567,
          -1.5001806885986948,
          -1.6590235035842018,
          -1.3715138381506373,
          0.825866973830695,
          0.9420282609542272,
          0.2606962286828969,
          -0.8849246227370032,
          -0.1078503532732208,
          -0.2974603475612812,
          0.9503169590893906,
          0.41812936220293445,
          -0.5348523266504603,
          0.3760730387943392,
          1.0318066442606086,
          -1.2427394197115595,
          0.5043938659863496,
          1.376755938082115,
          0.6005663618734192,
          -1.0519314917957416,
          0.8808568140393724,
          -2.5261638208699035,
          0.7136595538703409,
          0.3677890721824107,
          -0.018947152325261948,
          -0.553662200013513,
          -0.7925670548920108,
          -0.6685321613037117,
          -1.0229969463524564,
          -0.9238619405833758,
          3.080723651001204,
          1.147456931259636,
          -1.8086378449607519,
          -0.24632702376956678,
          0.5684542426237913,
          0.32936644752117283,
          -0.2615535328896379,
          -0.4105392123307298,
          1.6966320973188525,
          -0.7331190860107024,
          0.3478166244604999,
          -1.876629782501499,
          0.7441579168092955,
          -0.45529571105198646,
          0.5307556936191674,
          0.7043984803253995,
          -0.518335332573801,
          0.2801872548345399,
          0.6279250320877873,
          -0.699545807581524,
          -1.4828830868202263,
          -0.008939436335171736,
          -0.585396146704361,
          -0.09089604926936432,
          2.158360064948021,
          0.040842014274870456,
          0.8994208482062952,
          -0.18837857102847666,
          0.39477911885784556,
          -0.49919456228234604,
          -0.24278778188330472,
          -0.27801459712440885,
          -0.02005599493814914,
          0.5111805799165396,
          -0.7177136725412908,
          -0.16231118047802034,
          -0.630899750574069,
          -0.28833971879513925,
          -1.3391993460263756,
          0.43487028069968203,
          2.4936536813480936,
          0.9268871399951262,
          0.2290428161700579,
          0.5817920127165599,
          -1.103928935045968,
          0.06652031913783847,
          0.8547749603573822,
          0.22744064562977065,
          -0.21988446126173516,
          0.7915929868565157,
          1.2123195799722162
         ],
         "y": [
          -0.15034330799727522,
          -0.6775470321842226,
          0.6292302615166938,
          0.5146514364050291,
          0.12812953407454677,
          1.4826523396260014,
          1.09461465459242,
          -1.4309059964459574,
          0.9924000728264003,
          -0.16462330131150943,
          -0.9680204294618735,
          -0.05819894733102732,
          -0.4193492884002126,
          -0.9512509775295541,
          -1.5592432068927438,
          -0.37724667575089077,
          -0.8163454087741805,
          -1.1634426284274009,
          -0.7727169645991858,
          -1.5660952387404672,
          1.63108501567007,
          0.22506325763177487,
          -0.25763665286886805,
          0.214860159679175,
          1.251753056344124,
          1.6690314114825355,
          0.3022929317996026,
          0.7392394248453502,
          -0.32489558407014246,
          0.01816151334724389,
          -1.111172085958229,
          0.798352804883693,
          0.6689865089232654,
          1.0112287761521896,
          -1.0089163375181691,
          0.010197645661448367,
          -1.3606762482533754,
          1.3145565857906587,
          -1.4714209197893855,
          -0.020970917635074096,
          -0.734765310087592,
          -0.2577290087930091,
          -0.16650988995760022,
          -0.0077112515004609345,
          0.5156972692644582,
          -1.5358085131991082,
          2.2327494567305863,
          0.26956941953525115,
          -1.3301215335316772,
          -1.1899279787713606,
          0.12113748908960048,
          0.6013672613407213,
          -0.8773803605119841,
          0.4587511532092964,
          0.6156664665083802,
          -0.12173311874599524,
          -1.209952008476506,
          0.9255410385804945,
          0.8919998451645604,
          0.35032603007400487,
          -1.062444387771096,
          0.06669724592427571,
          -1.203321627677848,
          -0.4905731440856716,
          -0.8608338683949729,
          0.05490535505286273,
          0.9957292249459686,
          -0.547794495412987,
          0.8518552352628243,
          0.5881964642812763,
          -1.784922865556606,
          -1.0250579370559378,
          1.1404566416637723,
          0.6585384645569528,
          0.6879293639606842,
          1.09000165692416,
          -1.2315473031585094,
          0.7718231219070881,
          0.834867657747323,
          0.5206816714698226,
          -0.12189711099490538,
          -2.794522227360413,
          1.7058546209147678,
          0.3103434913930824,
          0.29940444575234265,
          2.346868837056278,
          -0.13980954316876368,
          0.32151168696495624,
          0.8555709588576978,
          -0.32964332918219585,
          -0.05134402117910471,
          -0.8213825402502497,
          -1.3226533802406837,
          2.239462592111017,
          -1.067529006567402,
          -0.1749593741413527,
          1.2879721958908095,
          0.7740484010414118,
          -0.5052050279423617,
          1.458345819319322
         ]
        }
       ],
       "layout": {
        "legend": {
         "bgcolor": "#F5F6F9",
         "font": {
          "color": "#4D5663"
         }
        },
        "paper_bgcolor": "#F5F6F9",
        "plot_bgcolor": "#F5F6F9",
        "template": {
         "data": {
          "bar": [
           {
            "error_x": {
             "color": "#2a3f5f"
            },
            "error_y": {
             "color": "#2a3f5f"
            },
            "marker": {
             "line": {
              "color": "#E5ECF6",
              "width": 0.5
             }
            },
            "type": "bar"
           }
          ],
          "barpolar": [
           {
            "marker": {
             "line": {
              "color": "#E5ECF6",
              "width": 0.5
             }
            },
            "type": "barpolar"
           }
          ],
          "carpet": [
           {
            "aaxis": {
             "endlinecolor": "#2a3f5f",
             "gridcolor": "white",
             "linecolor": "white",
             "minorgridcolor": "white",
             "startlinecolor": "#2a3f5f"
            },
            "baxis": {
             "endlinecolor": "#2a3f5f",
             "gridcolor": "white",
             "linecolor": "white",
             "minorgridcolor": "white",
             "startlinecolor": "#2a3f5f"
            },
            "type": "carpet"
           }
          ],
          "choropleth": [
           {
            "colorbar": {
             "outlinewidth": 0,
             "ticks": ""
            },
            "type": "choropleth"
           }
          ],
          "contour": [
           {
            "colorbar": {
             "outlinewidth": 0,
             "ticks": ""
            },
            "colorscale": [
             [
              0,
              "#0d0887"
             ],
             [
              0.1111111111111111,
              "#46039f"
             ],
             [
              0.2222222222222222,
              "#7201a8"
             ],
             [
              0.3333333333333333,
              "#9c179e"
             ],
             [
              0.4444444444444444,
              "#bd3786"
             ],
             [
              0.5555555555555556,
              "#d8576b"
             ],
             [
              0.6666666666666666,
              "#ed7953"
             ],
             [
              0.7777777777777778,
              "#fb9f3a"
             ],
             [
              0.8888888888888888,
              "#fdca26"
             ],
             [
              1,
              "#f0f921"
             ]
            ],
            "type": "contour"
           }
          ],
          "contourcarpet": [
           {
            "colorbar": {
             "outlinewidth": 0,
             "ticks": ""
            },
            "type": "contourcarpet"
           }
          ],
          "heatmap": [
           {
            "colorbar": {
             "outlinewidth": 0,
             "ticks": ""
            },
            "colorscale": [
             [
              0,
              "#0d0887"
             ],
             [
              0.1111111111111111,
              "#46039f"
             ],
             [
              0.2222222222222222,
              "#7201a8"
             ],
             [
              0.3333333333333333,
              "#9c179e"
             ],
             [
              0.4444444444444444,
              "#bd3786"
             ],
             [
              0.5555555555555556,
              "#d8576b"
             ],
             [
              0.6666666666666666,
              "#ed7953"
             ],
             [
              0.7777777777777778,
              "#fb9f3a"
             ],
             [
              0.8888888888888888,
              "#fdca26"
             ],
             [
              1,
              "#f0f921"
             ]
            ],
            "type": "heatmap"
           }
          ],
          "heatmapgl": [
           {
            "colorbar": {
             "outlinewidth": 0,
             "ticks": ""
            },
            "colorscale": [
             [
              0,
              "#0d0887"
             ],
             [
              0.1111111111111111,
              "#46039f"
             ],
             [
              0.2222222222222222,
              "#7201a8"
             ],
             [
              0.3333333333333333,
              "#9c179e"
             ],
             [
              0.4444444444444444,
              "#bd3786"
             ],
             [
              0.5555555555555556,
              "#d8576b"
             ],
             [
              0.6666666666666666,
              "#ed7953"
             ],
             [
              0.7777777777777778,
              "#fb9f3a"
             ],
             [
              0.8888888888888888,
              "#fdca26"
             ],
             [
              1,
              "#f0f921"
             ]
            ],
            "type": "heatmapgl"
           }
          ],
          "histogram": [
           {
            "marker": {
             "colorbar": {
              "outlinewidth": 0,
              "ticks": ""
             }
            },
            "type": "histogram"
           }
          ],
          "histogram2d": [
           {
            "colorbar": {
             "outlinewidth": 0,
             "ticks": ""
            },
            "colorscale": [
             [
              0,
              "#0d0887"
             ],
             [
              0.1111111111111111,
              "#46039f"
             ],
             [
              0.2222222222222222,
              "#7201a8"
             ],
             [
              0.3333333333333333,
              "#9c179e"
             ],
             [
              0.4444444444444444,
              "#bd3786"
             ],
             [
              0.5555555555555556,
              "#d8576b"
             ],
             [
              0.6666666666666666,
              "#ed7953"
             ],
             [
              0.7777777777777778,
              "#fb9f3a"
             ],
             [
              0.8888888888888888,
              "#fdca26"
             ],
             [
              1,
              "#f0f921"
             ]
            ],
            "type": "histogram2d"
           }
          ],
          "histogram2dcontour": [
           {
            "colorbar": {
             "outlinewidth": 0,
             "ticks": ""
            },
            "colorscale": [
             [
              0,
              "#0d0887"
             ],
             [
              0.1111111111111111,
              "#46039f"
             ],
             [
              0.2222222222222222,
              "#7201a8"
             ],
             [
              0.3333333333333333,
              "#9c179e"
             ],
             [
              0.4444444444444444,
              "#bd3786"
             ],
             [
              0.5555555555555556,
              "#d8576b"
             ],
             [
              0.6666666666666666,
              "#ed7953"
             ],
             [
              0.7777777777777778,
              "#fb9f3a"
             ],
             [
              0.8888888888888888,
              "#fdca26"
             ],
             [
              1,
              "#f0f921"
             ]
            ],
            "type": "histogram2dcontour"
           }
          ],
          "mesh3d": [
           {
            "colorbar": {
             "outlinewidth": 0,
             "ticks": ""
            },
            "type": "mesh3d"
           }
          ],
          "parcoords": [
           {
            "line": {
             "colorbar": {
              "outlinewidth": 0,
              "ticks": ""
             }
            },
            "type": "parcoords"
           }
          ],
          "pie": [
           {
            "automargin": true,
            "type": "pie"
           }
          ],
          "scatter": [
           {
            "marker": {
             "colorbar": {
              "outlinewidth": 0,
              "ticks": ""
             }
            },
            "type": "scatter"
           }
          ],
          "scatter3d": [
           {
            "line": {
             "colorbar": {
              "outlinewidth": 0,
              "ticks": ""
             }
            },
            "marker": {
             "colorbar": {
              "outlinewidth": 0,
              "ticks": ""
             }
            },
            "type": "scatter3d"
           }
          ],
          "scattercarpet": [
           {
            "marker": {
             "colorbar": {
              "outlinewidth": 0,
              "ticks": ""
             }
            },
            "type": "scattercarpet"
           }
          ],
          "scattergeo": [
           {
            "marker": {
             "colorbar": {
              "outlinewidth": 0,
              "ticks": ""
             }
            },
            "type": "scattergeo"
           }
          ],
          "scattergl": [
           {
            "marker": {
             "colorbar": {
              "outlinewidth": 0,
              "ticks": ""
             }
            },
            "type": "scattergl"
           }
          ],
          "scattermapbox": [
           {
            "marker": {
             "colorbar": {
              "outlinewidth": 0,
              "ticks": ""
             }
            },
            "type": "scattermapbox"
           }
          ],
          "scatterpolar": [
           {
            "marker": {
             "colorbar": {
              "outlinewidth": 0,
              "ticks": ""
             }
            },
            "type": "scatterpolar"
           }
          ],
          "scatterpolargl": [
           {
            "marker": {
             "colorbar": {
              "outlinewidth": 0,
              "ticks": ""
             }
            },
            "type": "scatterpolargl"
           }
          ],
          "scatterternary": [
           {
            "marker": {
             "colorbar": {
              "outlinewidth": 0,
              "ticks": ""
             }
            },
            "type": "scatterternary"
           }
          ],
          "surface": [
           {
            "colorbar": {
             "outlinewidth": 0,
             "ticks": ""
            },
            "colorscale": [
             [
              0,
              "#0d0887"
             ],
             [
              0.1111111111111111,
              "#46039f"
             ],
             [
              0.2222222222222222,
              "#7201a8"
             ],
             [
              0.3333333333333333,
              "#9c179e"
             ],
             [
              0.4444444444444444,
              "#bd3786"
             ],
             [
              0.5555555555555556,
              "#d8576b"
             ],
             [
              0.6666666666666666,
              "#ed7953"
             ],
             [
              0.7777777777777778,
              "#fb9f3a"
             ],
             [
              0.8888888888888888,
              "#fdca26"
             ],
             [
              1,
              "#f0f921"
             ]
            ],
            "type": "surface"
           }
          ],
          "table": [
           {
            "cells": {
             "fill": {
              "color": "#EBF0F8"
             },
             "line": {
              "color": "white"
             }
            },
            "header": {
             "fill": {
              "color": "#C8D4E3"
             },
             "line": {
              "color": "white"
             }
            },
            "type": "table"
           }
          ]
         },
         "layout": {
          "annotationdefaults": {
           "arrowcolor": "#2a3f5f",
           "arrowhead": 0,
           "arrowwidth": 1
          },
          "autotypenumbers": "strict",
          "coloraxis": {
           "colorbar": {
            "outlinewidth": 0,
            "ticks": ""
           }
          },
          "colorscale": {
           "diverging": [
            [
             0,
             "#8e0152"
            ],
            [
             0.1,
             "#c51b7d"
            ],
            [
             0.2,
             "#de77ae"
            ],
            [
             0.3,
             "#f1b6da"
            ],
            [
             0.4,
             "#fde0ef"
            ],
            [
             0.5,
             "#f7f7f7"
            ],
            [
             0.6,
             "#e6f5d0"
            ],
            [
             0.7,
             "#b8e186"
            ],
            [
             0.8,
             "#7fbc41"
            ],
            [
             0.9,
             "#4d9221"
            ],
            [
             1,
             "#276419"
            ]
           ],
           "sequential": [
            [
             0,
             "#0d0887"
            ],
            [
             0.1111111111111111,
             "#46039f"
            ],
            [
             0.2222222222222222,
             "#7201a8"
            ],
            [
             0.3333333333333333,
             "#9c179e"
            ],
            [
             0.4444444444444444,
             "#bd3786"
            ],
            [
             0.5555555555555556,
             "#d8576b"
            ],
            [
             0.6666666666666666,
             "#ed7953"
            ],
            [
             0.7777777777777778,
             "#fb9f3a"
            ],
            [
             0.8888888888888888,
             "#fdca26"
            ],
            [
             1,
             "#f0f921"
            ]
           ],
           "sequentialminus": [
            [
             0,
             "#0d0887"
            ],
            [
             0.1111111111111111,
             "#46039f"
            ],
            [
             0.2222222222222222,
             "#7201a8"
            ],
            [
             0.3333333333333333,
             "#9c179e"
            ],
            [
             0.4444444444444444,
             "#bd3786"
            ],
            [
             0.5555555555555556,
             "#d8576b"
            ],
            [
             0.6666666666666666,
             "#ed7953"
            ],
            [
             0.7777777777777778,
             "#fb9f3a"
            ],
            [
             0.8888888888888888,
             "#fdca26"
            ],
            [
             1,
             "#f0f921"
            ]
           ]
          },
          "colorway": [
           "#636efa",
           "#EF553B",
           "#00cc96",
           "#ab63fa",
           "#FFA15A",
           "#19d3f3",
           "#FF6692",
           "#B6E880",
           "#FF97FF",
           "#FECB52"
          ],
          "font": {
           "color": "#2a3f5f"
          },
          "geo": {
           "bgcolor": "white",
           "lakecolor": "white",
           "landcolor": "#E5ECF6",
           "showlakes": true,
           "showland": true,
           "subunitcolor": "white"
          },
          "hoverlabel": {
           "align": "left"
          },
          "hovermode": "closest",
          "mapbox": {
           "style": "light"
          },
          "paper_bgcolor": "white",
          "plot_bgcolor": "#E5ECF6",
          "polar": {
           "angularaxis": {
            "gridcolor": "white",
            "linecolor": "white",
            "ticks": ""
           },
           "bgcolor": "#E5ECF6",
           "radialaxis": {
            "gridcolor": "white",
            "linecolor": "white",
            "ticks": ""
           }
          },
          "scene": {
           "xaxis": {
            "backgroundcolor": "#E5ECF6",
            "gridcolor": "white",
            "gridwidth": 2,
            "linecolor": "white",
            "showbackground": true,
            "ticks": "",
            "zerolinecolor": "white"
           },
           "yaxis": {
            "backgroundcolor": "#E5ECF6",
            "gridcolor": "white",
            "gridwidth": 2,
            "linecolor": "white",
            "showbackground": true,
            "ticks": "",
            "zerolinecolor": "white"
           },
           "zaxis": {
            "backgroundcolor": "#E5ECF6",
            "gridcolor": "white",
            "gridwidth": 2,
            "linecolor": "white",
            "showbackground": true,
            "ticks": "",
            "zerolinecolor": "white"
           }
          },
          "shapedefaults": {
           "line": {
            "color": "#2a3f5f"
           }
          },
          "ternary": {
           "aaxis": {
            "gridcolor": "white",
            "linecolor": "white",
            "ticks": ""
           },
           "baxis": {
            "gridcolor": "white",
            "linecolor": "white",
            "ticks": ""
           },
           "bgcolor": "#E5ECF6",
           "caxis": {
            "gridcolor": "white",
            "linecolor": "white",
            "ticks": ""
           }
          },
          "title": {
           "x": 0.05
          },
          "xaxis": {
           "automargin": true,
           "gridcolor": "white",
           "linecolor": "white",
           "ticks": "",
           "title": {
            "standoff": 15
           },
           "zerolinecolor": "white",
           "zerolinewidth": 2
          },
          "yaxis": {
           "automargin": true,
           "gridcolor": "white",
           "linecolor": "white",
           "ticks": "",
           "title": {
            "standoff": 15
           },
           "zerolinecolor": "white",
           "zerolinewidth": 2
          }
         }
        },
        "title": {
         "font": {
          "color": "#4D5663"
         }
        },
        "xaxis": {
         "gridcolor": "#E1E5ED",
         "showgrid": true,
         "tickfont": {
          "color": "#4D5663"
         },
         "title": {
          "font": {
           "color": "#4D5663"
          },
          "text": ""
         },
         "zerolinecolor": "#E1E5ED"
        },
        "yaxis": {
         "gridcolor": "#E1E5ED",
         "showgrid": true,
         "tickfont": {
          "color": "#4D5663"
         },
         "title": {
          "font": {
           "color": "#4D5663"
          },
          "text": ""
         },
         "zerolinecolor": "#E1E5ED"
        }
       }
      },
      "text/html": [
       "<div>                            <div id=\"fe77336b-61ce-4aa3-8aae-e4caa48e38c0\" class=\"plotly-graph-div\" style=\"height:525px; width:100%;\"></div>            <script type=\"text/javascript\">                require([\"plotly\"], function(Plotly) {                    window.PLOTLYENV=window.PLOTLYENV || {};\n",
       "                    window.PLOTLYENV.BASE_URL='https://plot.ly';                                    if (document.getElementById(\"fe77336b-61ce-4aa3-8aae-e4caa48e38c0\")) {                    Plotly.newPlot(                        \"fe77336b-61ce-4aa3-8aae-e4caa48e38c0\",                        [{\"line\": {\"color\": \"rgba(255, 153, 51, 1.0)\", \"dash\": \"solid\", \"shape\": \"linear\", \"width\": 1.3}, \"marker\": {\"size\": 10, \"symbol\": \"circle\"}, \"mode\": \"markers\", \"name\": \"B\", \"text\": \"\", \"type\": \"scatter\", \"x\": [-1.7538858937551702, -1.7226856703555207, -0.4140247115632524, 0.8211538745067284, 1.1389978845908453, 0.2937800164063252, 0.38523754634530905, 0.2495826223220929, 0.4639041966379346, 0.7966092223449669, 1.767194154936893, -1.0236061425711371, -0.35302571009675604, 1.2179000914228575, -0.44883972685594975, -1.1619490891090674, 0.265305113798835, 0.9905367335152827, -0.33441518723358027, -0.5480061657291567, -1.5001806885986948, -1.6590235035842018, -1.3715138381506373, 0.825866973830695, 0.9420282609542272, 0.2606962286828969, -0.8849246227370032, -0.1078503532732208, -0.2974603475612812, 0.9503169590893906, 0.41812936220293445, -0.5348523266504603, 0.3760730387943392, 1.0318066442606086, -1.2427394197115595, 0.5043938659863496, 1.376755938082115, 0.6005663618734192, -1.0519314917957416, 0.8808568140393724, -2.5261638208699035, 0.7136595538703409, 0.3677890721824107, -0.018947152325261948, -0.553662200013513, -0.7925670548920108, -0.6685321613037117, -1.0229969463524564, -0.9238619405833758, 3.080723651001204, 1.147456931259636, -1.8086378449607519, -0.24632702376956678, 0.5684542426237913, 0.32936644752117283, -0.2615535328896379, -0.4105392123307298, 1.6966320973188525, -0.7331190860107024, 0.3478166244604999, -1.876629782501499, 0.7441579168092955, -0.45529571105198646, 0.5307556936191674, 0.7043984803253995, -0.518335332573801, 0.2801872548345399, 0.6279250320877873, -0.699545807581524, -1.4828830868202263, -0.008939436335171736, -0.585396146704361, -0.09089604926936432, 2.158360064948021, 0.040842014274870456, 0.8994208482062952, -0.18837857102847666, 0.39477911885784556, -0.49919456228234604, -0.24278778188330472, -0.27801459712440885, -0.02005599493814914, 0.5111805799165396, -0.7177136725412908, -0.16231118047802034, -0.630899750574069, -0.28833971879513925, -1.3391993460263756, 0.43487028069968203, 2.4936536813480936, 0.9268871399951262, 0.2290428161700579, 0.5817920127165599, -1.103928935045968, 0.06652031913783847, 0.8547749603573822, 0.22744064562977065, -0.21988446126173516, 0.7915929868565157, 1.2123195799722162], \"y\": [-0.15034330799727522, -0.6775470321842226, 0.6292302615166938, 0.5146514364050291, 0.12812953407454677, 1.4826523396260014, 1.09461465459242, -1.4309059964459574, 0.9924000728264003, -0.16462330131150943, -0.9680204294618735, -0.05819894733102732, -0.4193492884002126, -0.9512509775295541, -1.5592432068927438, -0.37724667575089077, -0.8163454087741805, -1.1634426284274009, -0.7727169645991858, -1.5660952387404672, 1.63108501567007, 0.22506325763177487, -0.25763665286886805, 0.214860159679175, 1.251753056344124, 1.6690314114825355, 0.3022929317996026, 0.7392394248453502, -0.32489558407014246, 0.01816151334724389, -1.111172085958229, 0.798352804883693, 0.6689865089232654, 1.0112287761521896, -1.0089163375181691, 0.010197645661448367, -1.3606762482533754, 1.3145565857906587, -1.4714209197893855, -0.020970917635074096, -0.734765310087592, -0.2577290087930091, -0.16650988995760022, -0.0077112515004609345, 0.5156972692644582, -1.5358085131991082, 2.2327494567305863, 0.26956941953525115, -1.3301215335316772, -1.1899279787713606, 0.12113748908960048, 0.6013672613407213, -0.8773803605119841, 0.4587511532092964, 0.6156664665083802, -0.12173311874599524, -1.209952008476506, 0.9255410385804945, 0.8919998451645604, 0.35032603007400487, -1.062444387771096, 0.06669724592427571, -1.203321627677848, -0.4905731440856716, -0.8608338683949729, 0.05490535505286273, 0.9957292249459686, -0.547794495412987, 0.8518552352628243, 0.5881964642812763, -1.784922865556606, -1.0250579370559378, 1.1404566416637723, 0.6585384645569528, 0.6879293639606842, 1.09000165692416, -1.2315473031585094, 0.7718231219070881, 0.834867657747323, 0.5206816714698226, -0.12189711099490538, -2.794522227360413, 1.7058546209147678, 0.3103434913930824, 0.29940444575234265, 2.346868837056278, -0.13980954316876368, 0.32151168696495624, 0.8555709588576978, -0.32964332918219585, -0.05134402117910471, -0.8213825402502497, -1.3226533802406837, 2.239462592111017, -1.067529006567402, -0.1749593741413527, 1.2879721958908095, 0.7740484010414118, -0.5052050279423617, 1.458345819319322]}],                        {\"legend\": {\"bgcolor\": \"#F5F6F9\", \"font\": {\"color\": \"#4D5663\"}}, \"paper_bgcolor\": \"#F5F6F9\", \"plot_bgcolor\": \"#F5F6F9\", \"template\": {\"data\": {\"bar\": [{\"error_x\": {\"color\": \"#2a3f5f\"}, \"error_y\": {\"color\": \"#2a3f5f\"}, \"marker\": {\"line\": {\"color\": \"#E5ECF6\", \"width\": 0.5}}, \"type\": \"bar\"}], \"barpolar\": [{\"marker\": {\"line\": {\"color\": \"#E5ECF6\", \"width\": 0.5}}, \"type\": \"barpolar\"}], \"carpet\": [{\"aaxis\": {\"endlinecolor\": \"#2a3f5f\", \"gridcolor\": \"white\", \"linecolor\": \"white\", \"minorgridcolor\": \"white\", \"startlinecolor\": \"#2a3f5f\"}, \"baxis\": {\"endlinecolor\": \"#2a3f5f\", \"gridcolor\": \"white\", \"linecolor\": \"white\", \"minorgridcolor\": \"white\", \"startlinecolor\": \"#2a3f5f\"}, \"type\": \"carpet\"}], \"choropleth\": [{\"colorbar\": {\"outlinewidth\": 0, \"ticks\": \"\"}, \"type\": \"choropleth\"}], \"contour\": [{\"colorbar\": {\"outlinewidth\": 0, \"ticks\": \"\"}, \"colorscale\": [[0.0, \"#0d0887\"], [0.1111111111111111, \"#46039f\"], [0.2222222222222222, \"#7201a8\"], [0.3333333333333333, \"#9c179e\"], [0.4444444444444444, \"#bd3786\"], [0.5555555555555556, \"#d8576b\"], [0.6666666666666666, \"#ed7953\"], [0.7777777777777778, \"#fb9f3a\"], [0.8888888888888888, \"#fdca26\"], [1.0, \"#f0f921\"]], \"type\": \"contour\"}], \"contourcarpet\": [{\"colorbar\": {\"outlinewidth\": 0, \"ticks\": \"\"}, \"type\": \"contourcarpet\"}], \"heatmap\": [{\"colorbar\": {\"outlinewidth\": 0, \"ticks\": \"\"}, \"colorscale\": [[0.0, \"#0d0887\"], [0.1111111111111111, \"#46039f\"], [0.2222222222222222, \"#7201a8\"], [0.3333333333333333, \"#9c179e\"], [0.4444444444444444, \"#bd3786\"], [0.5555555555555556, \"#d8576b\"], [0.6666666666666666, \"#ed7953\"], [0.7777777777777778, \"#fb9f3a\"], [0.8888888888888888, \"#fdca26\"], [1.0, \"#f0f921\"]], \"type\": \"heatmap\"}], \"heatmapgl\": [{\"colorbar\": {\"outlinewidth\": 0, \"ticks\": \"\"}, \"colorscale\": [[0.0, \"#0d0887\"], [0.1111111111111111, \"#46039f\"], [0.2222222222222222, \"#7201a8\"], [0.3333333333333333, \"#9c179e\"], [0.4444444444444444, \"#bd3786\"], [0.5555555555555556, \"#d8576b\"], [0.6666666666666666, \"#ed7953\"], [0.7777777777777778, \"#fb9f3a\"], [0.8888888888888888, \"#fdca26\"], [1.0, \"#f0f921\"]], \"type\": \"heatmapgl\"}], \"histogram\": [{\"marker\": {\"colorbar\": {\"outlinewidth\": 0, \"ticks\": \"\"}}, \"type\": \"histogram\"}], \"histogram2d\": [{\"colorbar\": {\"outlinewidth\": 0, \"ticks\": \"\"}, \"colorscale\": [[0.0, \"#0d0887\"], [0.1111111111111111, \"#46039f\"], [0.2222222222222222, \"#7201a8\"], [0.3333333333333333, \"#9c179e\"], [0.4444444444444444, \"#bd3786\"], [0.5555555555555556, \"#d8576b\"], [0.6666666666666666, \"#ed7953\"], [0.7777777777777778, \"#fb9f3a\"], [0.8888888888888888, \"#fdca26\"], [1.0, \"#f0f921\"]], \"type\": \"histogram2d\"}], \"histogram2dcontour\": [{\"colorbar\": {\"outlinewidth\": 0, \"ticks\": \"\"}, \"colorscale\": [[0.0, \"#0d0887\"], [0.1111111111111111, \"#46039f\"], [0.2222222222222222, \"#7201a8\"], [0.3333333333333333, \"#9c179e\"], [0.4444444444444444, \"#bd3786\"], [0.5555555555555556, \"#d8576b\"], [0.6666666666666666, \"#ed7953\"], [0.7777777777777778, \"#fb9f3a\"], [0.8888888888888888, \"#fdca26\"], [1.0, \"#f0f921\"]], \"type\": \"histogram2dcontour\"}], \"mesh3d\": [{\"colorbar\": {\"outlinewidth\": 0, \"ticks\": \"\"}, \"type\": \"mesh3d\"}], \"parcoords\": [{\"line\": {\"colorbar\": {\"outlinewidth\": 0, \"ticks\": \"\"}}, \"type\": \"parcoords\"}], \"pie\": [{\"automargin\": true, \"type\": \"pie\"}], \"scatter\": [{\"marker\": {\"colorbar\": {\"outlinewidth\": 0, \"ticks\": \"\"}}, \"type\": \"scatter\"}], \"scatter3d\": [{\"line\": {\"colorbar\": {\"outlinewidth\": 0, \"ticks\": \"\"}}, \"marker\": {\"colorbar\": {\"outlinewidth\": 0, \"ticks\": \"\"}}, \"type\": \"scatter3d\"}], \"scattercarpet\": [{\"marker\": {\"colorbar\": {\"outlinewidth\": 0, \"ticks\": \"\"}}, \"type\": \"scattercarpet\"}], \"scattergeo\": [{\"marker\": {\"colorbar\": {\"outlinewidth\": 0, \"ticks\": \"\"}}, \"type\": \"scattergeo\"}], \"scattergl\": [{\"marker\": {\"colorbar\": {\"outlinewidth\": 0, \"ticks\": \"\"}}, \"type\": \"scattergl\"}], \"scattermapbox\": [{\"marker\": {\"colorbar\": {\"outlinewidth\": 0, \"ticks\": \"\"}}, \"type\": \"scattermapbox\"}], \"scatterpolar\": [{\"marker\": {\"colorbar\": {\"outlinewidth\": 0, \"ticks\": \"\"}}, \"type\": \"scatterpolar\"}], \"scatterpolargl\": [{\"marker\": {\"colorbar\": {\"outlinewidth\": 0, \"ticks\": \"\"}}, \"type\": \"scatterpolargl\"}], \"scatterternary\": [{\"marker\": {\"colorbar\": {\"outlinewidth\": 0, \"ticks\": \"\"}}, \"type\": \"scatterternary\"}], \"surface\": [{\"colorbar\": {\"outlinewidth\": 0, \"ticks\": \"\"}, \"colorscale\": [[0.0, \"#0d0887\"], [0.1111111111111111, \"#46039f\"], [0.2222222222222222, \"#7201a8\"], [0.3333333333333333, \"#9c179e\"], [0.4444444444444444, \"#bd3786\"], [0.5555555555555556, \"#d8576b\"], [0.6666666666666666, \"#ed7953\"], [0.7777777777777778, \"#fb9f3a\"], [0.8888888888888888, \"#fdca26\"], [1.0, \"#f0f921\"]], \"type\": \"surface\"}], \"table\": [{\"cells\": {\"fill\": {\"color\": \"#EBF0F8\"}, \"line\": {\"color\": \"white\"}}, \"header\": {\"fill\": {\"color\": \"#C8D4E3\"}, \"line\": {\"color\": \"white\"}}, \"type\": \"table\"}]}, \"layout\": {\"annotationdefaults\": {\"arrowcolor\": \"#2a3f5f\", \"arrowhead\": 0, \"arrowwidth\": 1}, \"autotypenumbers\": \"strict\", \"coloraxis\": {\"colorbar\": {\"outlinewidth\": 0, \"ticks\": \"\"}}, \"colorscale\": {\"diverging\": [[0, \"#8e0152\"], [0.1, \"#c51b7d\"], [0.2, \"#de77ae\"], [0.3, \"#f1b6da\"], [0.4, \"#fde0ef\"], [0.5, \"#f7f7f7\"], [0.6, \"#e6f5d0\"], [0.7, \"#b8e186\"], [0.8, \"#7fbc41\"], [0.9, \"#4d9221\"], [1, \"#276419\"]], \"sequential\": [[0.0, \"#0d0887\"], [0.1111111111111111, \"#46039f\"], [0.2222222222222222, \"#7201a8\"], [0.3333333333333333, \"#9c179e\"], [0.4444444444444444, \"#bd3786\"], [0.5555555555555556, \"#d8576b\"], [0.6666666666666666, \"#ed7953\"], [0.7777777777777778, \"#fb9f3a\"], [0.8888888888888888, \"#fdca26\"], [1.0, \"#f0f921\"]], \"sequentialminus\": [[0.0, \"#0d0887\"], [0.1111111111111111, \"#46039f\"], [0.2222222222222222, \"#7201a8\"], [0.3333333333333333, \"#9c179e\"], [0.4444444444444444, \"#bd3786\"], [0.5555555555555556, \"#d8576b\"], [0.6666666666666666, \"#ed7953\"], [0.7777777777777778, \"#fb9f3a\"], [0.8888888888888888, \"#fdca26\"], [1.0, \"#f0f921\"]]}, \"colorway\": [\"#636efa\", \"#EF553B\", \"#00cc96\", \"#ab63fa\", \"#FFA15A\", \"#19d3f3\", \"#FF6692\", \"#B6E880\", \"#FF97FF\", \"#FECB52\"], \"font\": {\"color\": \"#2a3f5f\"}, \"geo\": {\"bgcolor\": \"white\", \"lakecolor\": \"white\", \"landcolor\": \"#E5ECF6\", \"showlakes\": true, \"showland\": true, \"subunitcolor\": \"white\"}, \"hoverlabel\": {\"align\": \"left\"}, \"hovermode\": \"closest\", \"mapbox\": {\"style\": \"light\"}, \"paper_bgcolor\": \"white\", \"plot_bgcolor\": \"#E5ECF6\", \"polar\": {\"angularaxis\": {\"gridcolor\": \"white\", \"linecolor\": \"white\", \"ticks\": \"\"}, \"bgcolor\": \"#E5ECF6\", \"radialaxis\": {\"gridcolor\": \"white\", \"linecolor\": \"white\", \"ticks\": \"\"}}, \"scene\": {\"xaxis\": {\"backgroundcolor\": \"#E5ECF6\", \"gridcolor\": \"white\", \"gridwidth\": 2, \"linecolor\": \"white\", \"showbackground\": true, \"ticks\": \"\", \"zerolinecolor\": \"white\"}, \"yaxis\": {\"backgroundcolor\": \"#E5ECF6\", \"gridcolor\": \"white\", \"gridwidth\": 2, \"linecolor\": \"white\", \"showbackground\": true, \"ticks\": \"\", \"zerolinecolor\": \"white\"}, \"zaxis\": {\"backgroundcolor\": \"#E5ECF6\", \"gridcolor\": \"white\", \"gridwidth\": 2, \"linecolor\": \"white\", \"showbackground\": true, \"ticks\": \"\", \"zerolinecolor\": \"white\"}}, \"shapedefaults\": {\"line\": {\"color\": \"#2a3f5f\"}}, \"ternary\": {\"aaxis\": {\"gridcolor\": \"white\", \"linecolor\": \"white\", \"ticks\": \"\"}, \"baxis\": {\"gridcolor\": \"white\", \"linecolor\": \"white\", \"ticks\": \"\"}, \"bgcolor\": \"#E5ECF6\", \"caxis\": {\"gridcolor\": \"white\", \"linecolor\": \"white\", \"ticks\": \"\"}}, \"title\": {\"x\": 0.05}, \"xaxis\": {\"automargin\": true, \"gridcolor\": \"white\", \"linecolor\": \"white\", \"ticks\": \"\", \"title\": {\"standoff\": 15}, \"zerolinecolor\": \"white\", \"zerolinewidth\": 2}, \"yaxis\": {\"automargin\": true, \"gridcolor\": \"white\", \"linecolor\": \"white\", \"ticks\": \"\", \"title\": {\"standoff\": 15}, \"zerolinecolor\": \"white\", \"zerolinewidth\": 2}}}, \"title\": {\"font\": {\"color\": \"#4D5663\"}}, \"xaxis\": {\"gridcolor\": \"#E1E5ED\", \"showgrid\": true, \"tickfont\": {\"color\": \"#4D5663\"}, \"title\": {\"font\": {\"color\": \"#4D5663\"}, \"text\": \"\"}, \"zerolinecolor\": \"#E1E5ED\"}, \"yaxis\": {\"gridcolor\": \"#E1E5ED\", \"showgrid\": true, \"tickfont\": {\"color\": \"#4D5663\"}, \"title\": {\"font\": {\"color\": \"#4D5663\"}, \"text\": \"\"}, \"zerolinecolor\": \"#E1E5ED\"}},                        {\"showLink\": true, \"linkText\": \"Export to plot.ly\", \"plotlyServerURL\": \"https://plot.ly\", \"responsive\": true}                    ).then(function(){\n",
       "                            \n",
       "var gd = document.getElementById('fe77336b-61ce-4aa3-8aae-e4caa48e38c0');\n",
       "var x = new MutationObserver(function (mutations, observer) {{\n",
       "        var display = window.getComputedStyle(gd).display;\n",
       "        if (!display || display === 'none') {{\n",
       "            console.log([gd, 'removed!']);\n",
       "            Plotly.purge(gd);\n",
       "            observer.disconnect();\n",
       "        }}\n",
       "}});\n",
       "\n",
       "// Listen for the removal of the full notebook cells\n",
       "var notebookContainer = gd.closest('#notebook-container');\n",
       "if (notebookContainer) {{\n",
       "    x.observe(notebookContainer, {childList: true});\n",
       "}}\n",
       "\n",
       "// Listen for the clearing of the current output cell\n",
       "var outputEl = gd.closest('.output');\n",
       "if (outputEl) {{\n",
       "    x.observe(outputEl, {childList: true});\n",
       "}}\n",
       "\n",
       "                        })                };                });            </script>        </div>"
      ]
     },
     "metadata": {},
     "output_type": "display_data"
    }
   ],
   "source": [
    "df1.iplot(kind='scatter',x='A',y='B',mode='markers',size=10)\n",
    "# if we don't pass the mode, it will start connecting data points using lines!"
   ]
  },
  {
   "cell_type": "markdown",
   "metadata": {},
   "source": [
    "### `kind =  Bar`\n",
    "\n",
    "We have a dataframe df2 with Fruit and Count, this could be a good example for a Bar plot!"
   ]
  },
  {
   "cell_type": "code",
   "execution_count": 12,
   "metadata": {
    "scrolled": false
   },
   "outputs": [
    {
     "data": {
      "application/vnd.plotly.v1+json": {
       "config": {
        "linkText": "Export to plot.ly",
        "plotlyServerURL": "https://plot.ly",
        "showLink": true
       },
       "data": [
        {
         "marker": {
          "color": "rgba(255, 153, 51, 0.6)",
          "line": {
           "color": "rgba(255, 153, 51, 1.0)",
           "width": 1
          }
         },
         "name": "Count",
         "orientation": "v",
         "text": "",
         "type": "bar",
         "x": [
          "Apple",
          "Banana",
          "Pear",
          "Mango"
         ],
         "y": [
          32,
          43,
          50,
          32
         ]
        }
       ],
       "layout": {
        "legend": {
         "bgcolor": "#F5F6F9",
         "font": {
          "color": "#4D5663"
         }
        },
        "paper_bgcolor": "#F5F6F9",
        "plot_bgcolor": "#F5F6F9",
        "template": {
         "data": {
          "bar": [
           {
            "error_x": {
             "color": "#2a3f5f"
            },
            "error_y": {
             "color": "#2a3f5f"
            },
            "marker": {
             "line": {
              "color": "#E5ECF6",
              "width": 0.5
             }
            },
            "type": "bar"
           }
          ],
          "barpolar": [
           {
            "marker": {
             "line": {
              "color": "#E5ECF6",
              "width": 0.5
             }
            },
            "type": "barpolar"
           }
          ],
          "carpet": [
           {
            "aaxis": {
             "endlinecolor": "#2a3f5f",
             "gridcolor": "white",
             "linecolor": "white",
             "minorgridcolor": "white",
             "startlinecolor": "#2a3f5f"
            },
            "baxis": {
             "endlinecolor": "#2a3f5f",
             "gridcolor": "white",
             "linecolor": "white",
             "minorgridcolor": "white",
             "startlinecolor": "#2a3f5f"
            },
            "type": "carpet"
           }
          ],
          "choropleth": [
           {
            "colorbar": {
             "outlinewidth": 0,
             "ticks": ""
            },
            "type": "choropleth"
           }
          ],
          "contour": [
           {
            "colorbar": {
             "outlinewidth": 0,
             "ticks": ""
            },
            "colorscale": [
             [
              0,
              "#0d0887"
             ],
             [
              0.1111111111111111,
              "#46039f"
             ],
             [
              0.2222222222222222,
              "#7201a8"
             ],
             [
              0.3333333333333333,
              "#9c179e"
             ],
             [
              0.4444444444444444,
              "#bd3786"
             ],
             [
              0.5555555555555556,
              "#d8576b"
             ],
             [
              0.6666666666666666,
              "#ed7953"
             ],
             [
              0.7777777777777778,
              "#fb9f3a"
             ],
             [
              0.8888888888888888,
              "#fdca26"
             ],
             [
              1,
              "#f0f921"
             ]
            ],
            "type": "contour"
           }
          ],
          "contourcarpet": [
           {
            "colorbar": {
             "outlinewidth": 0,
             "ticks": ""
            },
            "type": "contourcarpet"
           }
          ],
          "heatmap": [
           {
            "colorbar": {
             "outlinewidth": 0,
             "ticks": ""
            },
            "colorscale": [
             [
              0,
              "#0d0887"
             ],
             [
              0.1111111111111111,
              "#46039f"
             ],
             [
              0.2222222222222222,
              "#7201a8"
             ],
             [
              0.3333333333333333,
              "#9c179e"
             ],
             [
              0.4444444444444444,
              "#bd3786"
             ],
             [
              0.5555555555555556,
              "#d8576b"
             ],
             [
              0.6666666666666666,
              "#ed7953"
             ],
             [
              0.7777777777777778,
              "#fb9f3a"
             ],
             [
              0.8888888888888888,
              "#fdca26"
             ],
             [
              1,
              "#f0f921"
             ]
            ],
            "type": "heatmap"
           }
          ],
          "heatmapgl": [
           {
            "colorbar": {
             "outlinewidth": 0,
             "ticks": ""
            },
            "colorscale": [
             [
              0,
              "#0d0887"
             ],
             [
              0.1111111111111111,
              "#46039f"
             ],
             [
              0.2222222222222222,
              "#7201a8"
             ],
             [
              0.3333333333333333,
              "#9c179e"
             ],
             [
              0.4444444444444444,
              "#bd3786"
             ],
             [
              0.5555555555555556,
              "#d8576b"
             ],
             [
              0.6666666666666666,
              "#ed7953"
             ],
             [
              0.7777777777777778,
              "#fb9f3a"
             ],
             [
              0.8888888888888888,
              "#fdca26"
             ],
             [
              1,
              "#f0f921"
             ]
            ],
            "type": "heatmapgl"
           }
          ],
          "histogram": [
           {
            "marker": {
             "colorbar": {
              "outlinewidth": 0,
              "ticks": ""
             }
            },
            "type": "histogram"
           }
          ],
          "histogram2d": [
           {
            "colorbar": {
             "outlinewidth": 0,
             "ticks": ""
            },
            "colorscale": [
             [
              0,
              "#0d0887"
             ],
             [
              0.1111111111111111,
              "#46039f"
             ],
             [
              0.2222222222222222,
              "#7201a8"
             ],
             [
              0.3333333333333333,
              "#9c179e"
             ],
             [
              0.4444444444444444,
              "#bd3786"
             ],
             [
              0.5555555555555556,
              "#d8576b"
             ],
             [
              0.6666666666666666,
              "#ed7953"
             ],
             [
              0.7777777777777778,
              "#fb9f3a"
             ],
             [
              0.8888888888888888,
              "#fdca26"
             ],
             [
              1,
              "#f0f921"
             ]
            ],
            "type": "histogram2d"
           }
          ],
          "histogram2dcontour": [
           {
            "colorbar": {
             "outlinewidth": 0,
             "ticks": ""
            },
            "colorscale": [
             [
              0,
              "#0d0887"
             ],
             [
              0.1111111111111111,
              "#46039f"
             ],
             [
              0.2222222222222222,
              "#7201a8"
             ],
             [
              0.3333333333333333,
              "#9c179e"
             ],
             [
              0.4444444444444444,
              "#bd3786"
             ],
             [
              0.5555555555555556,
              "#d8576b"
             ],
             [
              0.6666666666666666,
              "#ed7953"
             ],
             [
              0.7777777777777778,
              "#fb9f3a"
             ],
             [
              0.8888888888888888,
              "#fdca26"
             ],
             [
              1,
              "#f0f921"
             ]
            ],
            "type": "histogram2dcontour"
           }
          ],
          "mesh3d": [
           {
            "colorbar": {
             "outlinewidth": 0,
             "ticks": ""
            },
            "type": "mesh3d"
           }
          ],
          "parcoords": [
           {
            "line": {
             "colorbar": {
              "outlinewidth": 0,
              "ticks": ""
             }
            },
            "type": "parcoords"
           }
          ],
          "pie": [
           {
            "automargin": true,
            "type": "pie"
           }
          ],
          "scatter": [
           {
            "marker": {
             "colorbar": {
              "outlinewidth": 0,
              "ticks": ""
             }
            },
            "type": "scatter"
           }
          ],
          "scatter3d": [
           {
            "line": {
             "colorbar": {
              "outlinewidth": 0,
              "ticks": ""
             }
            },
            "marker": {
             "colorbar": {
              "outlinewidth": 0,
              "ticks": ""
             }
            },
            "type": "scatter3d"
           }
          ],
          "scattercarpet": [
           {
            "marker": {
             "colorbar": {
              "outlinewidth": 0,
              "ticks": ""
             }
            },
            "type": "scattercarpet"
           }
          ],
          "scattergeo": [
           {
            "marker": {
             "colorbar": {
              "outlinewidth": 0,
              "ticks": ""
             }
            },
            "type": "scattergeo"
           }
          ],
          "scattergl": [
           {
            "marker": {
             "colorbar": {
              "outlinewidth": 0,
              "ticks": ""
             }
            },
            "type": "scattergl"
           }
          ],
          "scattermapbox": [
           {
            "marker": {
             "colorbar": {
              "outlinewidth": 0,
              "ticks": ""
             }
            },
            "type": "scattermapbox"
           }
          ],
          "scatterpolar": [
           {
            "marker": {
             "colorbar": {
              "outlinewidth": 0,
              "ticks": ""
             }
            },
            "type": "scatterpolar"
           }
          ],
          "scatterpolargl": [
           {
            "marker": {
             "colorbar": {
              "outlinewidth": 0,
              "ticks": ""
             }
            },
            "type": "scatterpolargl"
           }
          ],
          "scatterternary": [
           {
            "marker": {
             "colorbar": {
              "outlinewidth": 0,
              "ticks": ""
             }
            },
            "type": "scatterternary"
           }
          ],
          "surface": [
           {
            "colorbar": {
             "outlinewidth": 0,
             "ticks": ""
            },
            "colorscale": [
             [
              0,
              "#0d0887"
             ],
             [
              0.1111111111111111,
              "#46039f"
             ],
             [
              0.2222222222222222,
              "#7201a8"
             ],
             [
              0.3333333333333333,
              "#9c179e"
             ],
             [
              0.4444444444444444,
              "#bd3786"
             ],
             [
              0.5555555555555556,
              "#d8576b"
             ],
             [
              0.6666666666666666,
              "#ed7953"
             ],
             [
              0.7777777777777778,
              "#fb9f3a"
             ],
             [
              0.8888888888888888,
              "#fdca26"
             ],
             [
              1,
              "#f0f921"
             ]
            ],
            "type": "surface"
           }
          ],
          "table": [
           {
            "cells": {
             "fill": {
              "color": "#EBF0F8"
             },
             "line": {
              "color": "white"
             }
            },
            "header": {
             "fill": {
              "color": "#C8D4E3"
             },
             "line": {
              "color": "white"
             }
            },
            "type": "table"
           }
          ]
         },
         "layout": {
          "annotationdefaults": {
           "arrowcolor": "#2a3f5f",
           "arrowhead": 0,
           "arrowwidth": 1
          },
          "autotypenumbers": "strict",
          "coloraxis": {
           "colorbar": {
            "outlinewidth": 0,
            "ticks": ""
           }
          },
          "colorscale": {
           "diverging": [
            [
             0,
             "#8e0152"
            ],
            [
             0.1,
             "#c51b7d"
            ],
            [
             0.2,
             "#de77ae"
            ],
            [
             0.3,
             "#f1b6da"
            ],
            [
             0.4,
             "#fde0ef"
            ],
            [
             0.5,
             "#f7f7f7"
            ],
            [
             0.6,
             "#e6f5d0"
            ],
            [
             0.7,
             "#b8e186"
            ],
            [
             0.8,
             "#7fbc41"
            ],
            [
             0.9,
             "#4d9221"
            ],
            [
             1,
             "#276419"
            ]
           ],
           "sequential": [
            [
             0,
             "#0d0887"
            ],
            [
             0.1111111111111111,
             "#46039f"
            ],
            [
             0.2222222222222222,
             "#7201a8"
            ],
            [
             0.3333333333333333,
             "#9c179e"
            ],
            [
             0.4444444444444444,
             "#bd3786"
            ],
            [
             0.5555555555555556,
             "#d8576b"
            ],
            [
             0.6666666666666666,
             "#ed7953"
            ],
            [
             0.7777777777777778,
             "#fb9f3a"
            ],
            [
             0.8888888888888888,
             "#fdca26"
            ],
            [
             1,
             "#f0f921"
            ]
           ],
           "sequentialminus": [
            [
             0,
             "#0d0887"
            ],
            [
             0.1111111111111111,
             "#46039f"
            ],
            [
             0.2222222222222222,
             "#7201a8"
            ],
            [
             0.3333333333333333,
             "#9c179e"
            ],
            [
             0.4444444444444444,
             "#bd3786"
            ],
            [
             0.5555555555555556,
             "#d8576b"
            ],
            [
             0.6666666666666666,
             "#ed7953"
            ],
            [
             0.7777777777777778,
             "#fb9f3a"
            ],
            [
             0.8888888888888888,
             "#fdca26"
            ],
            [
             1,
             "#f0f921"
            ]
           ]
          },
          "colorway": [
           "#636efa",
           "#EF553B",
           "#00cc96",
           "#ab63fa",
           "#FFA15A",
           "#19d3f3",
           "#FF6692",
           "#B6E880",
           "#FF97FF",
           "#FECB52"
          ],
          "font": {
           "color": "#2a3f5f"
          },
          "geo": {
           "bgcolor": "white",
           "lakecolor": "white",
           "landcolor": "#E5ECF6",
           "showlakes": true,
           "showland": true,
           "subunitcolor": "white"
          },
          "hoverlabel": {
           "align": "left"
          },
          "hovermode": "closest",
          "mapbox": {
           "style": "light"
          },
          "paper_bgcolor": "white",
          "plot_bgcolor": "#E5ECF6",
          "polar": {
           "angularaxis": {
            "gridcolor": "white",
            "linecolor": "white",
            "ticks": ""
           },
           "bgcolor": "#E5ECF6",
           "radialaxis": {
            "gridcolor": "white",
            "linecolor": "white",
            "ticks": ""
           }
          },
          "scene": {
           "xaxis": {
            "backgroundcolor": "#E5ECF6",
            "gridcolor": "white",
            "gridwidth": 2,
            "linecolor": "white",
            "showbackground": true,
            "ticks": "",
            "zerolinecolor": "white"
           },
           "yaxis": {
            "backgroundcolor": "#E5ECF6",
            "gridcolor": "white",
            "gridwidth": 2,
            "linecolor": "white",
            "showbackground": true,
            "ticks": "",
            "zerolinecolor": "white"
           },
           "zaxis": {
            "backgroundcolor": "#E5ECF6",
            "gridcolor": "white",
            "gridwidth": 2,
            "linecolor": "white",
            "showbackground": true,
            "ticks": "",
            "zerolinecolor": "white"
           }
          },
          "shapedefaults": {
           "line": {
            "color": "#2a3f5f"
           }
          },
          "ternary": {
           "aaxis": {
            "gridcolor": "white",
            "linecolor": "white",
            "ticks": ""
           },
           "baxis": {
            "gridcolor": "white",
            "linecolor": "white",
            "ticks": ""
           },
           "bgcolor": "#E5ECF6",
           "caxis": {
            "gridcolor": "white",
            "linecolor": "white",
            "ticks": ""
           }
          },
          "title": {
           "x": 0.05
          },
          "xaxis": {
           "automargin": true,
           "gridcolor": "white",
           "linecolor": "white",
           "ticks": "",
           "title": {
            "standoff": 15
           },
           "zerolinecolor": "white",
           "zerolinewidth": 2
          },
          "yaxis": {
           "automargin": true,
           "gridcolor": "white",
           "linecolor": "white",
           "ticks": "",
           "title": {
            "standoff": 15
           },
           "zerolinecolor": "white",
           "zerolinewidth": 2
          }
         }
        },
        "title": {
         "font": {
          "color": "#4D5663"
         }
        },
        "xaxis": {
         "gridcolor": "#E1E5ED",
         "showgrid": true,
         "tickfont": {
          "color": "#4D5663"
         },
         "title": {
          "font": {
           "color": "#4D5663"
          },
          "text": ""
         },
         "zerolinecolor": "#E1E5ED"
        },
        "yaxis": {
         "gridcolor": "#E1E5ED",
         "showgrid": true,
         "tickfont": {
          "color": "#4D5663"
         },
         "title": {
          "font": {
           "color": "#4D5663"
          },
          "text": ""
         },
         "zerolinecolor": "#E1E5ED"
        }
       }
      },
      "text/html": [
       "<div>                            <div id=\"7d7d5e68-ab87-40c1-8773-6d93f418d8f0\" class=\"plotly-graph-div\" style=\"height:525px; width:100%;\"></div>            <script type=\"text/javascript\">                require([\"plotly\"], function(Plotly) {                    window.PLOTLYENV=window.PLOTLYENV || {};\n",
       "                    window.PLOTLYENV.BASE_URL='https://plot.ly';                                    if (document.getElementById(\"7d7d5e68-ab87-40c1-8773-6d93f418d8f0\")) {                    Plotly.newPlot(                        \"7d7d5e68-ab87-40c1-8773-6d93f418d8f0\",                        [{\"marker\": {\"color\": \"rgba(255, 153, 51, 0.6)\", \"line\": {\"color\": \"rgba(255, 153, 51, 1.0)\", \"width\": 1}}, \"name\": \"Count\", \"orientation\": \"v\", \"text\": \"\", \"type\": \"bar\", \"x\": [\"Apple\", \"Banana\", \"Pear\", \"Mango\"], \"y\": [32, 43, 50, 32]}],                        {\"legend\": {\"bgcolor\": \"#F5F6F9\", \"font\": {\"color\": \"#4D5663\"}}, \"paper_bgcolor\": \"#F5F6F9\", \"plot_bgcolor\": \"#F5F6F9\", \"template\": {\"data\": {\"bar\": [{\"error_x\": {\"color\": \"#2a3f5f\"}, \"error_y\": {\"color\": \"#2a3f5f\"}, \"marker\": {\"line\": {\"color\": \"#E5ECF6\", \"width\": 0.5}}, \"type\": \"bar\"}], \"barpolar\": [{\"marker\": {\"line\": {\"color\": \"#E5ECF6\", \"width\": 0.5}}, \"type\": \"barpolar\"}], \"carpet\": [{\"aaxis\": {\"endlinecolor\": \"#2a3f5f\", \"gridcolor\": \"white\", \"linecolor\": \"white\", \"minorgridcolor\": \"white\", \"startlinecolor\": \"#2a3f5f\"}, \"baxis\": {\"endlinecolor\": \"#2a3f5f\", \"gridcolor\": \"white\", \"linecolor\": \"white\", \"minorgridcolor\": \"white\", \"startlinecolor\": \"#2a3f5f\"}, \"type\": \"carpet\"}], \"choropleth\": [{\"colorbar\": {\"outlinewidth\": 0, \"ticks\": \"\"}, \"type\": \"choropleth\"}], \"contour\": [{\"colorbar\": {\"outlinewidth\": 0, \"ticks\": \"\"}, \"colorscale\": [[0.0, \"#0d0887\"], [0.1111111111111111, \"#46039f\"], [0.2222222222222222, \"#7201a8\"], [0.3333333333333333, \"#9c179e\"], [0.4444444444444444, \"#bd3786\"], [0.5555555555555556, \"#d8576b\"], [0.6666666666666666, \"#ed7953\"], [0.7777777777777778, \"#fb9f3a\"], [0.8888888888888888, \"#fdca26\"], [1.0, \"#f0f921\"]], \"type\": \"contour\"}], \"contourcarpet\": [{\"colorbar\": {\"outlinewidth\": 0, \"ticks\": \"\"}, \"type\": \"contourcarpet\"}], \"heatmap\": [{\"colorbar\": {\"outlinewidth\": 0, \"ticks\": \"\"}, \"colorscale\": [[0.0, \"#0d0887\"], [0.1111111111111111, \"#46039f\"], [0.2222222222222222, \"#7201a8\"], [0.3333333333333333, \"#9c179e\"], [0.4444444444444444, \"#bd3786\"], [0.5555555555555556, \"#d8576b\"], [0.6666666666666666, \"#ed7953\"], [0.7777777777777778, \"#fb9f3a\"], [0.8888888888888888, \"#fdca26\"], [1.0, \"#f0f921\"]], \"type\": \"heatmap\"}], \"heatmapgl\": [{\"colorbar\": {\"outlinewidth\": 0, \"ticks\": \"\"}, \"colorscale\": [[0.0, \"#0d0887\"], [0.1111111111111111, \"#46039f\"], [0.2222222222222222, \"#7201a8\"], [0.3333333333333333, \"#9c179e\"], [0.4444444444444444, \"#bd3786\"], [0.5555555555555556, \"#d8576b\"], [0.6666666666666666, \"#ed7953\"], [0.7777777777777778, \"#fb9f3a\"], [0.8888888888888888, \"#fdca26\"], [1.0, \"#f0f921\"]], \"type\": \"heatmapgl\"}], \"histogram\": [{\"marker\": {\"colorbar\": {\"outlinewidth\": 0, \"ticks\": \"\"}}, \"type\": \"histogram\"}], \"histogram2d\": [{\"colorbar\": {\"outlinewidth\": 0, \"ticks\": \"\"}, \"colorscale\": [[0.0, \"#0d0887\"], [0.1111111111111111, \"#46039f\"], [0.2222222222222222, \"#7201a8\"], [0.3333333333333333, \"#9c179e\"], [0.4444444444444444, \"#bd3786\"], [0.5555555555555556, \"#d8576b\"], [0.6666666666666666, \"#ed7953\"], [0.7777777777777778, \"#fb9f3a\"], [0.8888888888888888, \"#fdca26\"], [1.0, \"#f0f921\"]], \"type\": \"histogram2d\"}], \"histogram2dcontour\": [{\"colorbar\": {\"outlinewidth\": 0, \"ticks\": \"\"}, \"colorscale\": [[0.0, \"#0d0887\"], [0.1111111111111111, \"#46039f\"], [0.2222222222222222, \"#7201a8\"], [0.3333333333333333, \"#9c179e\"], [0.4444444444444444, \"#bd3786\"], [0.5555555555555556, \"#d8576b\"], [0.6666666666666666, \"#ed7953\"], [0.7777777777777778, \"#fb9f3a\"], [0.8888888888888888, \"#fdca26\"], [1.0, \"#f0f921\"]], \"type\": \"histogram2dcontour\"}], \"mesh3d\": [{\"colorbar\": {\"outlinewidth\": 0, \"ticks\": \"\"}, \"type\": \"mesh3d\"}], \"parcoords\": [{\"line\": {\"colorbar\": {\"outlinewidth\": 0, \"ticks\": \"\"}}, \"type\": \"parcoords\"}], \"pie\": [{\"automargin\": true, \"type\": \"pie\"}], \"scatter\": [{\"marker\": {\"colorbar\": {\"outlinewidth\": 0, \"ticks\": \"\"}}, \"type\": \"scatter\"}], \"scatter3d\": [{\"line\": {\"colorbar\": {\"outlinewidth\": 0, \"ticks\": \"\"}}, \"marker\": {\"colorbar\": {\"outlinewidth\": 0, \"ticks\": \"\"}}, \"type\": \"scatter3d\"}], \"scattercarpet\": [{\"marker\": {\"colorbar\": {\"outlinewidth\": 0, \"ticks\": \"\"}}, \"type\": \"scattercarpet\"}], \"scattergeo\": [{\"marker\": {\"colorbar\": {\"outlinewidth\": 0, \"ticks\": \"\"}}, \"type\": \"scattergeo\"}], \"scattergl\": [{\"marker\": {\"colorbar\": {\"outlinewidth\": 0, \"ticks\": \"\"}}, \"type\": \"scattergl\"}], \"scattermapbox\": [{\"marker\": {\"colorbar\": {\"outlinewidth\": 0, \"ticks\": \"\"}}, \"type\": \"scattermapbox\"}], \"scatterpolar\": [{\"marker\": {\"colorbar\": {\"outlinewidth\": 0, \"ticks\": \"\"}}, \"type\": \"scatterpolar\"}], \"scatterpolargl\": [{\"marker\": {\"colorbar\": {\"outlinewidth\": 0, \"ticks\": \"\"}}, \"type\": \"scatterpolargl\"}], \"scatterternary\": [{\"marker\": {\"colorbar\": {\"outlinewidth\": 0, \"ticks\": \"\"}}, \"type\": \"scatterternary\"}], \"surface\": [{\"colorbar\": {\"outlinewidth\": 0, \"ticks\": \"\"}, \"colorscale\": [[0.0, \"#0d0887\"], [0.1111111111111111, \"#46039f\"], [0.2222222222222222, \"#7201a8\"], [0.3333333333333333, \"#9c179e\"], [0.4444444444444444, \"#bd3786\"], [0.5555555555555556, \"#d8576b\"], [0.6666666666666666, \"#ed7953\"], [0.7777777777777778, \"#fb9f3a\"], [0.8888888888888888, \"#fdca26\"], [1.0, \"#f0f921\"]], \"type\": \"surface\"}], \"table\": [{\"cells\": {\"fill\": {\"color\": \"#EBF0F8\"}, \"line\": {\"color\": \"white\"}}, \"header\": {\"fill\": {\"color\": \"#C8D4E3\"}, \"line\": {\"color\": \"white\"}}, \"type\": \"table\"}]}, \"layout\": {\"annotationdefaults\": {\"arrowcolor\": \"#2a3f5f\", \"arrowhead\": 0, \"arrowwidth\": 1}, \"autotypenumbers\": \"strict\", \"coloraxis\": {\"colorbar\": {\"outlinewidth\": 0, \"ticks\": \"\"}}, \"colorscale\": {\"diverging\": [[0, \"#8e0152\"], [0.1, \"#c51b7d\"], [0.2, \"#de77ae\"], [0.3, \"#f1b6da\"], [0.4, \"#fde0ef\"], [0.5, \"#f7f7f7\"], [0.6, \"#e6f5d0\"], [0.7, \"#b8e186\"], [0.8, \"#7fbc41\"], [0.9, \"#4d9221\"], [1, \"#276419\"]], \"sequential\": [[0.0, \"#0d0887\"], [0.1111111111111111, \"#46039f\"], [0.2222222222222222, \"#7201a8\"], [0.3333333333333333, \"#9c179e\"], [0.4444444444444444, \"#bd3786\"], [0.5555555555555556, \"#d8576b\"], [0.6666666666666666, \"#ed7953\"], [0.7777777777777778, \"#fb9f3a\"], [0.8888888888888888, \"#fdca26\"], [1.0, \"#f0f921\"]], \"sequentialminus\": [[0.0, \"#0d0887\"], [0.1111111111111111, \"#46039f\"], [0.2222222222222222, \"#7201a8\"], [0.3333333333333333, \"#9c179e\"], [0.4444444444444444, \"#bd3786\"], [0.5555555555555556, \"#d8576b\"], [0.6666666666666666, \"#ed7953\"], [0.7777777777777778, \"#fb9f3a\"], [0.8888888888888888, \"#fdca26\"], [1.0, \"#f0f921\"]]}, \"colorway\": [\"#636efa\", \"#EF553B\", \"#00cc96\", \"#ab63fa\", \"#FFA15A\", \"#19d3f3\", \"#FF6692\", \"#B6E880\", \"#FF97FF\", \"#FECB52\"], \"font\": {\"color\": \"#2a3f5f\"}, \"geo\": {\"bgcolor\": \"white\", \"lakecolor\": \"white\", \"landcolor\": \"#E5ECF6\", \"showlakes\": true, \"showland\": true, \"subunitcolor\": \"white\"}, \"hoverlabel\": {\"align\": \"left\"}, \"hovermode\": \"closest\", \"mapbox\": {\"style\": \"light\"}, \"paper_bgcolor\": \"white\", \"plot_bgcolor\": \"#E5ECF6\", \"polar\": {\"angularaxis\": {\"gridcolor\": \"white\", \"linecolor\": \"white\", \"ticks\": \"\"}, \"bgcolor\": \"#E5ECF6\", \"radialaxis\": {\"gridcolor\": \"white\", \"linecolor\": \"white\", \"ticks\": \"\"}}, \"scene\": {\"xaxis\": {\"backgroundcolor\": \"#E5ECF6\", \"gridcolor\": \"white\", \"gridwidth\": 2, \"linecolor\": \"white\", \"showbackground\": true, \"ticks\": \"\", \"zerolinecolor\": \"white\"}, \"yaxis\": {\"backgroundcolor\": \"#E5ECF6\", \"gridcolor\": \"white\", \"gridwidth\": 2, \"linecolor\": \"white\", \"showbackground\": true, \"ticks\": \"\", \"zerolinecolor\": \"white\"}, \"zaxis\": {\"backgroundcolor\": \"#E5ECF6\", \"gridcolor\": \"white\", \"gridwidth\": 2, \"linecolor\": \"white\", \"showbackground\": true, \"ticks\": \"\", \"zerolinecolor\": \"white\"}}, \"shapedefaults\": {\"line\": {\"color\": \"#2a3f5f\"}}, \"ternary\": {\"aaxis\": {\"gridcolor\": \"white\", \"linecolor\": \"white\", \"ticks\": \"\"}, \"baxis\": {\"gridcolor\": \"white\", \"linecolor\": \"white\", \"ticks\": \"\"}, \"bgcolor\": \"#E5ECF6\", \"caxis\": {\"gridcolor\": \"white\", \"linecolor\": \"white\", \"ticks\": \"\"}}, \"title\": {\"x\": 0.05}, \"xaxis\": {\"automargin\": true, \"gridcolor\": \"white\", \"linecolor\": \"white\", \"ticks\": \"\", \"title\": {\"standoff\": 15}, \"zerolinecolor\": \"white\", \"zerolinewidth\": 2}, \"yaxis\": {\"automargin\": true, \"gridcolor\": \"white\", \"linecolor\": \"white\", \"ticks\": \"\", \"title\": {\"standoff\": 15}, \"zerolinecolor\": \"white\", \"zerolinewidth\": 2}}}, \"title\": {\"font\": {\"color\": \"#4D5663\"}}, \"xaxis\": {\"gridcolor\": \"#E1E5ED\", \"showgrid\": true, \"tickfont\": {\"color\": \"#4D5663\"}, \"title\": {\"font\": {\"color\": \"#4D5663\"}, \"text\": \"\"}, \"zerolinecolor\": \"#E1E5ED\"}, \"yaxis\": {\"gridcolor\": \"#E1E5ED\", \"showgrid\": true, \"tickfont\": {\"color\": \"#4D5663\"}, \"title\": {\"font\": {\"color\": \"#4D5663\"}, \"text\": \"\"}, \"zerolinecolor\": \"#E1E5ED\"}},                        {\"showLink\": true, \"linkText\": \"Export to plot.ly\", \"plotlyServerURL\": \"https://plot.ly\", \"responsive\": true}                    ).then(function(){\n",
       "                            \n",
       "var gd = document.getElementById('7d7d5e68-ab87-40c1-8773-6d93f418d8f0');\n",
       "var x = new MutationObserver(function (mutations, observer) {{\n",
       "        var display = window.getComputedStyle(gd).display;\n",
       "        if (!display || display === 'none') {{\n",
       "            console.log([gd, 'removed!']);\n",
       "            Plotly.purge(gd);\n",
       "            observer.disconnect();\n",
       "        }}\n",
       "}});\n",
       "\n",
       "// Listen for the removal of the full notebook cells\n",
       "var notebookContainer = gd.closest('#notebook-container');\n",
       "if (notebookContainer) {{\n",
       "    x.observe(notebookContainer, {childList: true});\n",
       "}}\n",
       "\n",
       "// Listen for the clearing of the current output cell\n",
       "var outputEl = gd.closest('.output');\n",
       "if (outputEl) {{\n",
       "    x.observe(outputEl, {childList: true});\n",
       "}}\n",
       "\n",
       "                        })                };                });            </script>        </div>"
      ]
     },
     "metadata": {},
     "output_type": "display_data"
    }
   ],
   "source": [
    "df2.iplot(kind='bar',x='Fruit',y='Count')"
   ]
  },
  {
   "cell_type": "code",
   "execution_count": 13,
   "metadata": {},
   "outputs": [],
   "source": [
    "#df1.sum().iplot(kind='bar')"
   ]
  },
  {
   "cell_type": "markdown",
   "metadata": {},
   "source": [
    "### `kind =  box`"
   ]
  },
  {
   "cell_type": "code",
   "execution_count": 14,
   "metadata": {},
   "outputs": [
    {
     "data": {
      "application/vnd.plotly.v1+json": {
       "config": {
        "linkText": "Export to plot.ly",
        "plotlyServerURL": "https://plot.ly",
        "showLink": true
       },
       "data": [
        {
         "boxpoints": false,
         "line": {
          "width": 1.3
         },
         "marker": {
          "color": "rgba(255, 153, 51, 1.0)"
         },
         "name": "A",
         "orientation": "v",
         "type": "box",
         "y": [
          -1.7538858937551702,
          -1.7226856703555207,
          -0.4140247115632524,
          0.8211538745067284,
          1.1389978845908453,
          0.2937800164063252,
          0.38523754634530905,
          0.2495826223220929,
          0.4639041966379346,
          0.7966092223449669,
          1.767194154936893,
          -1.0236061425711371,
          -0.35302571009675604,
          1.2179000914228575,
          -0.44883972685594975,
          -1.1619490891090674,
          0.265305113798835,
          0.9905367335152827,
          -0.33441518723358027,
          -0.5480061657291567,
          -1.5001806885986948,
          -1.6590235035842018,
          -1.3715138381506373,
          0.825866973830695,
          0.9420282609542272,
          0.2606962286828969,
          -0.8849246227370032,
          -0.1078503532732208,
          -0.2974603475612812,
          0.9503169590893906,
          0.41812936220293445,
          -0.5348523266504603,
          0.3760730387943392,
          1.0318066442606086,
          -1.2427394197115595,
          0.5043938659863496,
          1.376755938082115,
          0.6005663618734192,
          -1.0519314917957416,
          0.8808568140393724,
          -2.5261638208699035,
          0.7136595538703409,
          0.3677890721824107,
          -0.018947152325261948,
          -0.553662200013513,
          -0.7925670548920108,
          -0.6685321613037117,
          -1.0229969463524564,
          -0.9238619405833758,
          3.080723651001204,
          1.147456931259636,
          -1.8086378449607519,
          -0.24632702376956678,
          0.5684542426237913,
          0.32936644752117283,
          -0.2615535328896379,
          -0.4105392123307298,
          1.6966320973188525,
          -0.7331190860107024,
          0.3478166244604999,
          -1.876629782501499,
          0.7441579168092955,
          -0.45529571105198646,
          0.5307556936191674,
          0.7043984803253995,
          -0.518335332573801,
          0.2801872548345399,
          0.6279250320877873,
          -0.699545807581524,
          -1.4828830868202263,
          -0.008939436335171736,
          -0.585396146704361,
          -0.09089604926936432,
          2.158360064948021,
          0.040842014274870456,
          0.8994208482062952,
          -0.18837857102847666,
          0.39477911885784556,
          -0.49919456228234604,
          -0.24278778188330472,
          -0.27801459712440885,
          -0.02005599493814914,
          0.5111805799165396,
          -0.7177136725412908,
          -0.16231118047802034,
          -0.630899750574069,
          -0.28833971879513925,
          -1.3391993460263756,
          0.43487028069968203,
          2.4936536813480936,
          0.9268871399951262,
          0.2290428161700579,
          0.5817920127165599,
          -1.103928935045968,
          0.06652031913783847,
          0.8547749603573822,
          0.22744064562977065,
          -0.21988446126173516,
          0.7915929868565157,
          1.2123195799722162
         ]
        },
        {
         "boxpoints": false,
         "line": {
          "width": 1.3
         },
         "marker": {
          "color": "rgba(55, 128, 191, 1.0)"
         },
         "name": "B",
         "orientation": "v",
         "type": "box",
         "y": [
          -0.15034330799727522,
          -0.6775470321842226,
          0.6292302615166938,
          0.5146514364050291,
          0.12812953407454677,
          1.4826523396260014,
          1.09461465459242,
          -1.4309059964459574,
          0.9924000728264003,
          -0.16462330131150943,
          -0.9680204294618735,
          -0.05819894733102732,
          -0.4193492884002126,
          -0.9512509775295541,
          -1.5592432068927438,
          -0.37724667575089077,
          -0.8163454087741805,
          -1.1634426284274009,
          -0.7727169645991858,
          -1.5660952387404672,
          1.63108501567007,
          0.22506325763177487,
          -0.25763665286886805,
          0.214860159679175,
          1.251753056344124,
          1.6690314114825355,
          0.3022929317996026,
          0.7392394248453502,
          -0.32489558407014246,
          0.01816151334724389,
          -1.111172085958229,
          0.798352804883693,
          0.6689865089232654,
          1.0112287761521896,
          -1.0089163375181691,
          0.010197645661448367,
          -1.3606762482533754,
          1.3145565857906587,
          -1.4714209197893855,
          -0.020970917635074096,
          -0.734765310087592,
          -0.2577290087930091,
          -0.16650988995760022,
          -0.0077112515004609345,
          0.5156972692644582,
          -1.5358085131991082,
          2.2327494567305863,
          0.26956941953525115,
          -1.3301215335316772,
          -1.1899279787713606,
          0.12113748908960048,
          0.6013672613407213,
          -0.8773803605119841,
          0.4587511532092964,
          0.6156664665083802,
          -0.12173311874599524,
          -1.209952008476506,
          0.9255410385804945,
          0.8919998451645604,
          0.35032603007400487,
          -1.062444387771096,
          0.06669724592427571,
          -1.203321627677848,
          -0.4905731440856716,
          -0.8608338683949729,
          0.05490535505286273,
          0.9957292249459686,
          -0.547794495412987,
          0.8518552352628243,
          0.5881964642812763,
          -1.784922865556606,
          -1.0250579370559378,
          1.1404566416637723,
          0.6585384645569528,
          0.6879293639606842,
          1.09000165692416,
          -1.2315473031585094,
          0.7718231219070881,
          0.834867657747323,
          0.5206816714698226,
          -0.12189711099490538,
          -2.794522227360413,
          1.7058546209147678,
          0.3103434913930824,
          0.29940444575234265,
          2.346868837056278,
          -0.13980954316876368,
          0.32151168696495624,
          0.8555709588576978,
          -0.32964332918219585,
          -0.05134402117910471,
          -0.8213825402502497,
          -1.3226533802406837,
          2.239462592111017,
          -1.067529006567402,
          -0.1749593741413527,
          1.2879721958908095,
          0.7740484010414118,
          -0.5052050279423617,
          1.458345819319322
         ]
        },
        {
         "boxpoints": false,
         "line": {
          "width": 1.3
         },
         "marker": {
          "color": "rgba(50, 171, 96, 1.0)"
         },
         "name": "C",
         "orientation": "v",
         "type": "box",
         "y": [
          0.3111254410605801,
          0.96658838617808,
          0.8553671248012684,
          -0.9028255174338453,
          -0.056339845917314,
          -1.2404521879728398,
          0.3939577008389254,
          -0.584309895164755,
          -0.1629706548040831,
          -0.1428612063326886,
          -0.2368666580884357,
          -0.7527648325887135,
          0.2772101269889636,
          1.0992266438041836,
          -1.2158171852229853,
          -0.03715493100422582,
          -1.5380281036666041,
          1.4756861413497433,
          1.1659434064334433,
          1.0642859262233144,
          -0.5339723566836979,
          -0.7368047833296468,
          0.7522974463580477,
          -1.2572153767194691,
          1.7738812184668709,
          0.5407453426631672,
          0.3371558672468022,
          -0.8198735196027412,
          -0.704256054131467,
          -0.9100459219697472,
          -1.4044269815348922,
          -0.571556951109997,
          1.312310205656458,
          -0.5087608002724731,
          -2.9893458226495726,
          -0.05521083419178454,
          0.0219794406892053,
          -1.1392982421587154,
          -0.585140474599415,
          0.04574398933940278,
          -1.2620196420653527,
          2.700449494361798,
          -1.0262589121646788,
          -2.0010890729862987,
          2.67672072390806,
          0.6632218086685767,
          0.7808151236780235,
          -1.4050518731223913,
          1.1072396981633452,
          -0.7662205085015786,
          -0.44581383111811995,
          0.28744566871358107,
          0.7793410458376682,
          -0.776046357221468,
          1.8013177068888124,
          0.14712931279548955,
          1.2544540913290385,
          -1.2338879462248078,
          -1.4834376873093869,
          -0.11069458462192475,
          -1.2135841483884229,
          -2.462624833994512,
          0.7297195021541508,
          -0.888023254409534,
          1.0370721495332529,
          0.5405662853487623,
          -0.3002664679052229,
          -0.27813614118761354,
          3.1871584994076727,
          -0.2825599905600144,
          1.471850039377236,
          -1.915324276813688,
          -0.6909013313081779,
          -0.1430489513114513,
          -0.4873770009907383,
          0.42824917877439167,
          0.8124056700108464,
          -0.3791085560901211,
          0.3522506471537461,
          -0.7935271883838341,
          -1.7882741893249297,
          -1.6273975036052946,
          0.41619845626210145,
          -0.1483835183685805,
          -0.19785043322526447,
          0.3794468224998039,
          2.152369319892974,
          -0.9912778633801927,
          0.4379671635038795,
          -1.0958714857576495,
          0.3533230510959733,
          0.8837952453922172,
          0.28420491440320556,
          -1.7550383687832753,
          -0.21079123913418088,
          -1.1019255019771754,
          -1.0114807982496816,
          -0.8732112512284295,
          -1.0027674554962795,
          -0.3921981820939004
         ]
        },
        {
         "boxpoints": false,
         "line": {
          "width": 1.3
         },
         "marker": {
          "color": "rgba(128, 0, 128, 1.0)"
         },
         "name": "D",
         "orientation": "v",
         "type": "box",
         "y": [
          1.4201394248344659,
          -0.9144939264623855,
          -1.4801918392582694,
          0.5708536906807992,
          -0.35859094240702466,
          -0.08412051532512825,
          -0.7706628384126709,
          -1.2042641652910422,
          0.9441072299952517,
          -1.5617260704594789,
          -0.9081702558424615,
          -2.3479977972102892,
          0.9460532090273667,
          0.7676546960402487,
          1.3394785640222264,
          0.15984825588287432,
          -0.7559048621852565,
          1.683075675429387,
          -1.6865748866203958,
          0.020514198856238054,
          -0.7517564301024344,
          -1.2951536127600454,
          -0.4057677811649712,
          0.8576682856337292,
          0.5200917615335241,
          0.7074748453036533,
          0.37101701756698247,
          1.122310879990849,
          -0.20621295186512476,
          -0.0032601343602030575,
          -0.28191609112828564,
          1.061987234722,
          0.771930238713787,
          -0.6171378058323791,
          1.1980557365147715,
          0.1052329293274022,
          -1.3633960138657655,
          -0.5432013610977238,
          -1.9889775436270527,
          0.42542474746181264,
          -0.8320065491717672,
          0.8996981512557594,
          -1.5021317823863942,
          0.40547245361748224,
          -1.5782133997424979,
          0.8984051226554823,
          -0.7520821248460748,
          -1.3079232754754473,
          0.452391135361414,
          -0.2956535711118633,
          0.5846715230762238,
          0.6012583462279851,
          -0.8899097613382391,
          0.8191498213703619,
          -0.12296751355312766,
          -1.0427103259921204,
          1.338268460525913,
          0.33654220525631123,
          -0.2566228361570299,
          -1.5251249106633016,
          -1.0053342011706616,
          0.08501699307871964,
          0.1772548015436161,
          0.2557458543850634,
          -0.9170092808076356,
          -0.6052155408657207,
          -2.6181708217216704,
          -0.18673588130011717,
          -1.427834436918814,
          1.7907124362613833,
          0.5860478682466103,
          -1.3248615079584147,
          0.208759238154158,
          -0.03531632616806003,
          0.5030091327279851,
          0.4406160308665978,
          1.1054110401762522,
          -1.8400531831956344,
          0.9727555527477301,
          0.385439344524998,
          -0.07678211344083324,
          -0.4612593574547356,
          0.6492120228845738,
          -1.0099929243964376,
          -1.1179346033929058,
          0.09522689064106103,
          0.9915616739080637,
          -1.4283030562543593,
          -0.127848327004066,
          0.37500248948169823,
          -0.3277764123810168,
          -0.5944250653013659,
          1.5146316840474294,
          -0.5477754107305259,
          1.0283329695299208,
          0.7780544383198856,
          0.23906649488896575,
          -0.8799787544871376,
          -0.30343995703734733,
          -0.27131721022203986
         ]
        }
       ],
       "layout": {
        "legend": {
         "bgcolor": "#F5F6F9",
         "font": {
          "color": "#4D5663"
         }
        },
        "paper_bgcolor": "#F5F6F9",
        "plot_bgcolor": "#F5F6F9",
        "template": {
         "data": {
          "bar": [
           {
            "error_x": {
             "color": "#2a3f5f"
            },
            "error_y": {
             "color": "#2a3f5f"
            },
            "marker": {
             "line": {
              "color": "#E5ECF6",
              "width": 0.5
             }
            },
            "type": "bar"
           }
          ],
          "barpolar": [
           {
            "marker": {
             "line": {
              "color": "#E5ECF6",
              "width": 0.5
             }
            },
            "type": "barpolar"
           }
          ],
          "carpet": [
           {
            "aaxis": {
             "endlinecolor": "#2a3f5f",
             "gridcolor": "white",
             "linecolor": "white",
             "minorgridcolor": "white",
             "startlinecolor": "#2a3f5f"
            },
            "baxis": {
             "endlinecolor": "#2a3f5f",
             "gridcolor": "white",
             "linecolor": "white",
             "minorgridcolor": "white",
             "startlinecolor": "#2a3f5f"
            },
            "type": "carpet"
           }
          ],
          "choropleth": [
           {
            "colorbar": {
             "outlinewidth": 0,
             "ticks": ""
            },
            "type": "choropleth"
           }
          ],
          "contour": [
           {
            "colorbar": {
             "outlinewidth": 0,
             "ticks": ""
            },
            "colorscale": [
             [
              0,
              "#0d0887"
             ],
             [
              0.1111111111111111,
              "#46039f"
             ],
             [
              0.2222222222222222,
              "#7201a8"
             ],
             [
              0.3333333333333333,
              "#9c179e"
             ],
             [
              0.4444444444444444,
              "#bd3786"
             ],
             [
              0.5555555555555556,
              "#d8576b"
             ],
             [
              0.6666666666666666,
              "#ed7953"
             ],
             [
              0.7777777777777778,
              "#fb9f3a"
             ],
             [
              0.8888888888888888,
              "#fdca26"
             ],
             [
              1,
              "#f0f921"
             ]
            ],
            "type": "contour"
           }
          ],
          "contourcarpet": [
           {
            "colorbar": {
             "outlinewidth": 0,
             "ticks": ""
            },
            "type": "contourcarpet"
           }
          ],
          "heatmap": [
           {
            "colorbar": {
             "outlinewidth": 0,
             "ticks": ""
            },
            "colorscale": [
             [
              0,
              "#0d0887"
             ],
             [
              0.1111111111111111,
              "#46039f"
             ],
             [
              0.2222222222222222,
              "#7201a8"
             ],
             [
              0.3333333333333333,
              "#9c179e"
             ],
             [
              0.4444444444444444,
              "#bd3786"
             ],
             [
              0.5555555555555556,
              "#d8576b"
             ],
             [
              0.6666666666666666,
              "#ed7953"
             ],
             [
              0.7777777777777778,
              "#fb9f3a"
             ],
             [
              0.8888888888888888,
              "#fdca26"
             ],
             [
              1,
              "#f0f921"
             ]
            ],
            "type": "heatmap"
           }
          ],
          "heatmapgl": [
           {
            "colorbar": {
             "outlinewidth": 0,
             "ticks": ""
            },
            "colorscale": [
             [
              0,
              "#0d0887"
             ],
             [
              0.1111111111111111,
              "#46039f"
             ],
             [
              0.2222222222222222,
              "#7201a8"
             ],
             [
              0.3333333333333333,
              "#9c179e"
             ],
             [
              0.4444444444444444,
              "#bd3786"
             ],
             [
              0.5555555555555556,
              "#d8576b"
             ],
             [
              0.6666666666666666,
              "#ed7953"
             ],
             [
              0.7777777777777778,
              "#fb9f3a"
             ],
             [
              0.8888888888888888,
              "#fdca26"
             ],
             [
              1,
              "#f0f921"
             ]
            ],
            "type": "heatmapgl"
           }
          ],
          "histogram": [
           {
            "marker": {
             "colorbar": {
              "outlinewidth": 0,
              "ticks": ""
             }
            },
            "type": "histogram"
           }
          ],
          "histogram2d": [
           {
            "colorbar": {
             "outlinewidth": 0,
             "ticks": ""
            },
            "colorscale": [
             [
              0,
              "#0d0887"
             ],
             [
              0.1111111111111111,
              "#46039f"
             ],
             [
              0.2222222222222222,
              "#7201a8"
             ],
             [
              0.3333333333333333,
              "#9c179e"
             ],
             [
              0.4444444444444444,
              "#bd3786"
             ],
             [
              0.5555555555555556,
              "#d8576b"
             ],
             [
              0.6666666666666666,
              "#ed7953"
             ],
             [
              0.7777777777777778,
              "#fb9f3a"
             ],
             [
              0.8888888888888888,
              "#fdca26"
             ],
             [
              1,
              "#f0f921"
             ]
            ],
            "type": "histogram2d"
           }
          ],
          "histogram2dcontour": [
           {
            "colorbar": {
             "outlinewidth": 0,
             "ticks": ""
            },
            "colorscale": [
             [
              0,
              "#0d0887"
             ],
             [
              0.1111111111111111,
              "#46039f"
             ],
             [
              0.2222222222222222,
              "#7201a8"
             ],
             [
              0.3333333333333333,
              "#9c179e"
             ],
             [
              0.4444444444444444,
              "#bd3786"
             ],
             [
              0.5555555555555556,
              "#d8576b"
             ],
             [
              0.6666666666666666,
              "#ed7953"
             ],
             [
              0.7777777777777778,
              "#fb9f3a"
             ],
             [
              0.8888888888888888,
              "#fdca26"
             ],
             [
              1,
              "#f0f921"
             ]
            ],
            "type": "histogram2dcontour"
           }
          ],
          "mesh3d": [
           {
            "colorbar": {
             "outlinewidth": 0,
             "ticks": ""
            },
            "type": "mesh3d"
           }
          ],
          "parcoords": [
           {
            "line": {
             "colorbar": {
              "outlinewidth": 0,
              "ticks": ""
             }
            },
            "type": "parcoords"
           }
          ],
          "pie": [
           {
            "automargin": true,
            "type": "pie"
           }
          ],
          "scatter": [
           {
            "marker": {
             "colorbar": {
              "outlinewidth": 0,
              "ticks": ""
             }
            },
            "type": "scatter"
           }
          ],
          "scatter3d": [
           {
            "line": {
             "colorbar": {
              "outlinewidth": 0,
              "ticks": ""
             }
            },
            "marker": {
             "colorbar": {
              "outlinewidth": 0,
              "ticks": ""
             }
            },
            "type": "scatter3d"
           }
          ],
          "scattercarpet": [
           {
            "marker": {
             "colorbar": {
              "outlinewidth": 0,
              "ticks": ""
             }
            },
            "type": "scattercarpet"
           }
          ],
          "scattergeo": [
           {
            "marker": {
             "colorbar": {
              "outlinewidth": 0,
              "ticks": ""
             }
            },
            "type": "scattergeo"
           }
          ],
          "scattergl": [
           {
            "marker": {
             "colorbar": {
              "outlinewidth": 0,
              "ticks": ""
             }
            },
            "type": "scattergl"
           }
          ],
          "scattermapbox": [
           {
            "marker": {
             "colorbar": {
              "outlinewidth": 0,
              "ticks": ""
             }
            },
            "type": "scattermapbox"
           }
          ],
          "scatterpolar": [
           {
            "marker": {
             "colorbar": {
              "outlinewidth": 0,
              "ticks": ""
             }
            },
            "type": "scatterpolar"
           }
          ],
          "scatterpolargl": [
           {
            "marker": {
             "colorbar": {
              "outlinewidth": 0,
              "ticks": ""
             }
            },
            "type": "scatterpolargl"
           }
          ],
          "scatterternary": [
           {
            "marker": {
             "colorbar": {
              "outlinewidth": 0,
              "ticks": ""
             }
            },
            "type": "scatterternary"
           }
          ],
          "surface": [
           {
            "colorbar": {
             "outlinewidth": 0,
             "ticks": ""
            },
            "colorscale": [
             [
              0,
              "#0d0887"
             ],
             [
              0.1111111111111111,
              "#46039f"
             ],
             [
              0.2222222222222222,
              "#7201a8"
             ],
             [
              0.3333333333333333,
              "#9c179e"
             ],
             [
              0.4444444444444444,
              "#bd3786"
             ],
             [
              0.5555555555555556,
              "#d8576b"
             ],
             [
              0.6666666666666666,
              "#ed7953"
             ],
             [
              0.7777777777777778,
              "#fb9f3a"
             ],
             [
              0.8888888888888888,
              "#fdca26"
             ],
             [
              1,
              "#f0f921"
             ]
            ],
            "type": "surface"
           }
          ],
          "table": [
           {
            "cells": {
             "fill": {
              "color": "#EBF0F8"
             },
             "line": {
              "color": "white"
             }
            },
            "header": {
             "fill": {
              "color": "#C8D4E3"
             },
             "line": {
              "color": "white"
             }
            },
            "type": "table"
           }
          ]
         },
         "layout": {
          "annotationdefaults": {
           "arrowcolor": "#2a3f5f",
           "arrowhead": 0,
           "arrowwidth": 1
          },
          "autotypenumbers": "strict",
          "coloraxis": {
           "colorbar": {
            "outlinewidth": 0,
            "ticks": ""
           }
          },
          "colorscale": {
           "diverging": [
            [
             0,
             "#8e0152"
            ],
            [
             0.1,
             "#c51b7d"
            ],
            [
             0.2,
             "#de77ae"
            ],
            [
             0.3,
             "#f1b6da"
            ],
            [
             0.4,
             "#fde0ef"
            ],
            [
             0.5,
             "#f7f7f7"
            ],
            [
             0.6,
             "#e6f5d0"
            ],
            [
             0.7,
             "#b8e186"
            ],
            [
             0.8,
             "#7fbc41"
            ],
            [
             0.9,
             "#4d9221"
            ],
            [
             1,
             "#276419"
            ]
           ],
           "sequential": [
            [
             0,
             "#0d0887"
            ],
            [
             0.1111111111111111,
             "#46039f"
            ],
            [
             0.2222222222222222,
             "#7201a8"
            ],
            [
             0.3333333333333333,
             "#9c179e"
            ],
            [
             0.4444444444444444,
             "#bd3786"
            ],
            [
             0.5555555555555556,
             "#d8576b"
            ],
            [
             0.6666666666666666,
             "#ed7953"
            ],
            [
             0.7777777777777778,
             "#fb9f3a"
            ],
            [
             0.8888888888888888,
             "#fdca26"
            ],
            [
             1,
             "#f0f921"
            ]
           ],
           "sequentialminus": [
            [
             0,
             "#0d0887"
            ],
            [
             0.1111111111111111,
             "#46039f"
            ],
            [
             0.2222222222222222,
             "#7201a8"
            ],
            [
             0.3333333333333333,
             "#9c179e"
            ],
            [
             0.4444444444444444,
             "#bd3786"
            ],
            [
             0.5555555555555556,
             "#d8576b"
            ],
            [
             0.6666666666666666,
             "#ed7953"
            ],
            [
             0.7777777777777778,
             "#fb9f3a"
            ],
            [
             0.8888888888888888,
             "#fdca26"
            ],
            [
             1,
             "#f0f921"
            ]
           ]
          },
          "colorway": [
           "#636efa",
           "#EF553B",
           "#00cc96",
           "#ab63fa",
           "#FFA15A",
           "#19d3f3",
           "#FF6692",
           "#B6E880",
           "#FF97FF",
           "#FECB52"
          ],
          "font": {
           "color": "#2a3f5f"
          },
          "geo": {
           "bgcolor": "white",
           "lakecolor": "white",
           "landcolor": "#E5ECF6",
           "showlakes": true,
           "showland": true,
           "subunitcolor": "white"
          },
          "hoverlabel": {
           "align": "left"
          },
          "hovermode": "closest",
          "mapbox": {
           "style": "light"
          },
          "paper_bgcolor": "white",
          "plot_bgcolor": "#E5ECF6",
          "polar": {
           "angularaxis": {
            "gridcolor": "white",
            "linecolor": "white",
            "ticks": ""
           },
           "bgcolor": "#E5ECF6",
           "radialaxis": {
            "gridcolor": "white",
            "linecolor": "white",
            "ticks": ""
           }
          },
          "scene": {
           "xaxis": {
            "backgroundcolor": "#E5ECF6",
            "gridcolor": "white",
            "gridwidth": 2,
            "linecolor": "white",
            "showbackground": true,
            "ticks": "",
            "zerolinecolor": "white"
           },
           "yaxis": {
            "backgroundcolor": "#E5ECF6",
            "gridcolor": "white",
            "gridwidth": 2,
            "linecolor": "white",
            "showbackground": true,
            "ticks": "",
            "zerolinecolor": "white"
           },
           "zaxis": {
            "backgroundcolor": "#E5ECF6",
            "gridcolor": "white",
            "gridwidth": 2,
            "linecolor": "white",
            "showbackground": true,
            "ticks": "",
            "zerolinecolor": "white"
           }
          },
          "shapedefaults": {
           "line": {
            "color": "#2a3f5f"
           }
          },
          "ternary": {
           "aaxis": {
            "gridcolor": "white",
            "linecolor": "white",
            "ticks": ""
           },
           "baxis": {
            "gridcolor": "white",
            "linecolor": "white",
            "ticks": ""
           },
           "bgcolor": "#E5ECF6",
           "caxis": {
            "gridcolor": "white",
            "linecolor": "white",
            "ticks": ""
           }
          },
          "title": {
           "x": 0.05
          },
          "xaxis": {
           "automargin": true,
           "gridcolor": "white",
           "linecolor": "white",
           "ticks": "",
           "title": {
            "standoff": 15
           },
           "zerolinecolor": "white",
           "zerolinewidth": 2
          },
          "yaxis": {
           "automargin": true,
           "gridcolor": "white",
           "linecolor": "white",
           "ticks": "",
           "title": {
            "standoff": 15
           },
           "zerolinecolor": "white",
           "zerolinewidth": 2
          }
         }
        },
        "title": {
         "font": {
          "color": "#4D5663"
         }
        },
        "xaxis": {
         "gridcolor": "#E1E5ED",
         "showgrid": true,
         "tickfont": {
          "color": "#4D5663"
         },
         "title": {
          "font": {
           "color": "#4D5663"
          },
          "text": ""
         },
         "zerolinecolor": "#E1E5ED"
        },
        "yaxis": {
         "gridcolor": "#E1E5ED",
         "showgrid": true,
         "tickfont": {
          "color": "#4D5663"
         },
         "title": {
          "font": {
           "color": "#4D5663"
          },
          "text": ""
         },
         "zerolinecolor": "#E1E5ED"
        }
       }
      },
      "text/html": [
       "<div>                            <div id=\"f5f1fadf-883d-4400-aa37-829d32874f31\" class=\"plotly-graph-div\" style=\"height:525px; width:100%;\"></div>            <script type=\"text/javascript\">                require([\"plotly\"], function(Plotly) {                    window.PLOTLYENV=window.PLOTLYENV || {};\n",
       "                    window.PLOTLYENV.BASE_URL='https://plot.ly';                                    if (document.getElementById(\"f5f1fadf-883d-4400-aa37-829d32874f31\")) {                    Plotly.newPlot(                        \"f5f1fadf-883d-4400-aa37-829d32874f31\",                        [{\"boxpoints\": false, \"line\": {\"width\": 1.3}, \"marker\": {\"color\": \"rgba(255, 153, 51, 1.0)\"}, \"name\": \"A\", \"orientation\": \"v\", \"type\": \"box\", \"y\": [-1.7538858937551702, -1.7226856703555207, -0.4140247115632524, 0.8211538745067284, 1.1389978845908453, 0.2937800164063252, 0.38523754634530905, 0.2495826223220929, 0.4639041966379346, 0.7966092223449669, 1.767194154936893, -1.0236061425711371, -0.35302571009675604, 1.2179000914228575, -0.44883972685594975, -1.1619490891090674, 0.265305113798835, 0.9905367335152827, -0.33441518723358027, -0.5480061657291567, -1.5001806885986948, -1.6590235035842018, -1.3715138381506373, 0.825866973830695, 0.9420282609542272, 0.2606962286828969, -0.8849246227370032, -0.1078503532732208, -0.2974603475612812, 0.9503169590893906, 0.41812936220293445, -0.5348523266504603, 0.3760730387943392, 1.0318066442606086, -1.2427394197115595, 0.5043938659863496, 1.376755938082115, 0.6005663618734192, -1.0519314917957416, 0.8808568140393724, -2.5261638208699035, 0.7136595538703409, 0.3677890721824107, -0.018947152325261948, -0.553662200013513, -0.7925670548920108, -0.6685321613037117, -1.0229969463524564, -0.9238619405833758, 3.080723651001204, 1.147456931259636, -1.8086378449607519, -0.24632702376956678, 0.5684542426237913, 0.32936644752117283, -0.2615535328896379, -0.4105392123307298, 1.6966320973188525, -0.7331190860107024, 0.3478166244604999, -1.876629782501499, 0.7441579168092955, -0.45529571105198646, 0.5307556936191674, 0.7043984803253995, -0.518335332573801, 0.2801872548345399, 0.6279250320877873, -0.699545807581524, -1.4828830868202263, -0.008939436335171736, -0.585396146704361, -0.09089604926936432, 2.158360064948021, 0.040842014274870456, 0.8994208482062952, -0.18837857102847666, 0.39477911885784556, -0.49919456228234604, -0.24278778188330472, -0.27801459712440885, -0.02005599493814914, 0.5111805799165396, -0.7177136725412908, -0.16231118047802034, -0.630899750574069, -0.28833971879513925, -1.3391993460263756, 0.43487028069968203, 2.4936536813480936, 0.9268871399951262, 0.2290428161700579, 0.5817920127165599, -1.103928935045968, 0.06652031913783847, 0.8547749603573822, 0.22744064562977065, -0.21988446126173516, 0.7915929868565157, 1.2123195799722162]}, {\"boxpoints\": false, \"line\": {\"width\": 1.3}, \"marker\": {\"color\": \"rgba(55, 128, 191, 1.0)\"}, \"name\": \"B\", \"orientation\": \"v\", \"type\": \"box\", \"y\": [-0.15034330799727522, -0.6775470321842226, 0.6292302615166938, 0.5146514364050291, 0.12812953407454677, 1.4826523396260014, 1.09461465459242, -1.4309059964459574, 0.9924000728264003, -0.16462330131150943, -0.9680204294618735, -0.05819894733102732, -0.4193492884002126, -0.9512509775295541, -1.5592432068927438, -0.37724667575089077, -0.8163454087741805, -1.1634426284274009, -0.7727169645991858, -1.5660952387404672, 1.63108501567007, 0.22506325763177487, -0.25763665286886805, 0.214860159679175, 1.251753056344124, 1.6690314114825355, 0.3022929317996026, 0.7392394248453502, -0.32489558407014246, 0.01816151334724389, -1.111172085958229, 0.798352804883693, 0.6689865089232654, 1.0112287761521896, -1.0089163375181691, 0.010197645661448367, -1.3606762482533754, 1.3145565857906587, -1.4714209197893855, -0.020970917635074096, -0.734765310087592, -0.2577290087930091, -0.16650988995760022, -0.0077112515004609345, 0.5156972692644582, -1.5358085131991082, 2.2327494567305863, 0.26956941953525115, -1.3301215335316772, -1.1899279787713606, 0.12113748908960048, 0.6013672613407213, -0.8773803605119841, 0.4587511532092964, 0.6156664665083802, -0.12173311874599524, -1.209952008476506, 0.9255410385804945, 0.8919998451645604, 0.35032603007400487, -1.062444387771096, 0.06669724592427571, -1.203321627677848, -0.4905731440856716, -0.8608338683949729, 0.05490535505286273, 0.9957292249459686, -0.547794495412987, 0.8518552352628243, 0.5881964642812763, -1.784922865556606, -1.0250579370559378, 1.1404566416637723, 0.6585384645569528, 0.6879293639606842, 1.09000165692416, -1.2315473031585094, 0.7718231219070881, 0.834867657747323, 0.5206816714698226, -0.12189711099490538, -2.794522227360413, 1.7058546209147678, 0.3103434913930824, 0.29940444575234265, 2.346868837056278, -0.13980954316876368, 0.32151168696495624, 0.8555709588576978, -0.32964332918219585, -0.05134402117910471, -0.8213825402502497, -1.3226533802406837, 2.239462592111017, -1.067529006567402, -0.1749593741413527, 1.2879721958908095, 0.7740484010414118, -0.5052050279423617, 1.458345819319322]}, {\"boxpoints\": false, \"line\": {\"width\": 1.3}, \"marker\": {\"color\": \"rgba(50, 171, 96, 1.0)\"}, \"name\": \"C\", \"orientation\": \"v\", \"type\": \"box\", \"y\": [0.3111254410605801, 0.96658838617808, 0.8553671248012684, -0.9028255174338453, -0.056339845917314, -1.2404521879728398, 0.3939577008389254, -0.584309895164755, -0.1629706548040831, -0.1428612063326886, -0.2368666580884357, -0.7527648325887135, 0.2772101269889636, 1.0992266438041836, -1.2158171852229853, -0.03715493100422582, -1.5380281036666041, 1.4756861413497433, 1.1659434064334433, 1.0642859262233144, -0.5339723566836979, -0.7368047833296468, 0.7522974463580477, -1.2572153767194691, 1.7738812184668709, 0.5407453426631672, 0.3371558672468022, -0.8198735196027412, -0.704256054131467, -0.9100459219697472, -1.4044269815348922, -0.571556951109997, 1.312310205656458, -0.5087608002724731, -2.9893458226495726, -0.05521083419178454, 0.0219794406892053, -1.1392982421587154, -0.585140474599415, 0.04574398933940278, -1.2620196420653527, 2.700449494361798, -1.0262589121646788, -2.0010890729862987, 2.67672072390806, 0.6632218086685767, 0.7808151236780235, -1.4050518731223913, 1.1072396981633452, -0.7662205085015786, -0.44581383111811995, 0.28744566871358107, 0.7793410458376682, -0.776046357221468, 1.8013177068888124, 0.14712931279548955, 1.2544540913290385, -1.2338879462248078, -1.4834376873093869, -0.11069458462192475, -1.2135841483884229, -2.462624833994512, 0.7297195021541508, -0.888023254409534, 1.0370721495332529, 0.5405662853487623, -0.3002664679052229, -0.27813614118761354, 3.1871584994076727, -0.2825599905600144, 1.471850039377236, -1.915324276813688, -0.6909013313081779, -0.1430489513114513, -0.4873770009907383, 0.42824917877439167, 0.8124056700108464, -0.3791085560901211, 0.3522506471537461, -0.7935271883838341, -1.7882741893249297, -1.6273975036052946, 0.41619845626210145, -0.1483835183685805, -0.19785043322526447, 0.3794468224998039, 2.152369319892974, -0.9912778633801927, 0.4379671635038795, -1.0958714857576495, 0.3533230510959733, 0.8837952453922172, 0.28420491440320556, -1.7550383687832753, -0.21079123913418088, -1.1019255019771754, -1.0114807982496816, -0.8732112512284295, -1.0027674554962795, -0.3921981820939004]}, {\"boxpoints\": false, \"line\": {\"width\": 1.3}, \"marker\": {\"color\": \"rgba(128, 0, 128, 1.0)\"}, \"name\": \"D\", \"orientation\": \"v\", \"type\": \"box\", \"y\": [1.4201394248344659, -0.9144939264623855, -1.4801918392582694, 0.5708536906807992, -0.35859094240702466, -0.08412051532512825, -0.7706628384126709, -1.2042641652910422, 0.9441072299952517, -1.5617260704594789, -0.9081702558424615, -2.3479977972102892, 0.9460532090273667, 0.7676546960402487, 1.3394785640222264, 0.15984825588287432, -0.7559048621852565, 1.683075675429387, -1.6865748866203958, 0.020514198856238054, -0.7517564301024344, -1.2951536127600454, -0.4057677811649712, 0.8576682856337292, 0.5200917615335241, 0.7074748453036533, 0.37101701756698247, 1.122310879990849, -0.20621295186512476, -0.0032601343602030575, -0.28191609112828564, 1.061987234722, 0.771930238713787, -0.6171378058323791, 1.1980557365147715, 0.1052329293274022, -1.3633960138657655, -0.5432013610977238, -1.9889775436270527, 0.42542474746181264, -0.8320065491717672, 0.8996981512557594, -1.5021317823863942, 0.40547245361748224, -1.5782133997424979, 0.8984051226554823, -0.7520821248460748, -1.3079232754754473, 0.452391135361414, -0.2956535711118633, 0.5846715230762238, 0.6012583462279851, -0.8899097613382391, 0.8191498213703619, -0.12296751355312766, -1.0427103259921204, 1.338268460525913, 0.33654220525631123, -0.2566228361570299, -1.5251249106633016, -1.0053342011706616, 0.08501699307871964, 0.1772548015436161, 0.2557458543850634, -0.9170092808076356, -0.6052155408657207, -2.6181708217216704, -0.18673588130011717, -1.427834436918814, 1.7907124362613833, 0.5860478682466103, -1.3248615079584147, 0.208759238154158, -0.03531632616806003, 0.5030091327279851, 0.4406160308665978, 1.1054110401762522, -1.8400531831956344, 0.9727555527477301, 0.385439344524998, -0.07678211344083324, -0.4612593574547356, 0.6492120228845738, -1.0099929243964376, -1.1179346033929058, 0.09522689064106103, 0.9915616739080637, -1.4283030562543593, -0.127848327004066, 0.37500248948169823, -0.3277764123810168, -0.5944250653013659, 1.5146316840474294, -0.5477754107305259, 1.0283329695299208, 0.7780544383198856, 0.23906649488896575, -0.8799787544871376, -0.30343995703734733, -0.27131721022203986]}],                        {\"legend\": {\"bgcolor\": \"#F5F6F9\", \"font\": {\"color\": \"#4D5663\"}}, \"paper_bgcolor\": \"#F5F6F9\", \"plot_bgcolor\": \"#F5F6F9\", \"template\": {\"data\": {\"bar\": [{\"error_x\": {\"color\": \"#2a3f5f\"}, \"error_y\": {\"color\": \"#2a3f5f\"}, \"marker\": {\"line\": {\"color\": \"#E5ECF6\", \"width\": 0.5}}, \"type\": \"bar\"}], \"barpolar\": [{\"marker\": {\"line\": {\"color\": \"#E5ECF6\", \"width\": 0.5}}, \"type\": \"barpolar\"}], \"carpet\": [{\"aaxis\": {\"endlinecolor\": \"#2a3f5f\", \"gridcolor\": \"white\", \"linecolor\": \"white\", \"minorgridcolor\": \"white\", \"startlinecolor\": \"#2a3f5f\"}, \"baxis\": {\"endlinecolor\": \"#2a3f5f\", \"gridcolor\": \"white\", \"linecolor\": \"white\", \"minorgridcolor\": \"white\", \"startlinecolor\": \"#2a3f5f\"}, \"type\": \"carpet\"}], \"choropleth\": [{\"colorbar\": {\"outlinewidth\": 0, \"ticks\": \"\"}, \"type\": \"choropleth\"}], \"contour\": [{\"colorbar\": {\"outlinewidth\": 0, \"ticks\": \"\"}, \"colorscale\": [[0.0, \"#0d0887\"], [0.1111111111111111, \"#46039f\"], [0.2222222222222222, \"#7201a8\"], [0.3333333333333333, \"#9c179e\"], [0.4444444444444444, \"#bd3786\"], [0.5555555555555556, \"#d8576b\"], [0.6666666666666666, \"#ed7953\"], [0.7777777777777778, \"#fb9f3a\"], [0.8888888888888888, \"#fdca26\"], [1.0, \"#f0f921\"]], \"type\": \"contour\"}], \"contourcarpet\": [{\"colorbar\": {\"outlinewidth\": 0, \"ticks\": \"\"}, \"type\": \"contourcarpet\"}], \"heatmap\": [{\"colorbar\": {\"outlinewidth\": 0, \"ticks\": \"\"}, \"colorscale\": [[0.0, \"#0d0887\"], [0.1111111111111111, \"#46039f\"], [0.2222222222222222, \"#7201a8\"], [0.3333333333333333, \"#9c179e\"], [0.4444444444444444, \"#bd3786\"], [0.5555555555555556, \"#d8576b\"], [0.6666666666666666, \"#ed7953\"], [0.7777777777777778, \"#fb9f3a\"], [0.8888888888888888, \"#fdca26\"], [1.0, \"#f0f921\"]], \"type\": \"heatmap\"}], \"heatmapgl\": [{\"colorbar\": {\"outlinewidth\": 0, \"ticks\": \"\"}, \"colorscale\": [[0.0, \"#0d0887\"], [0.1111111111111111, \"#46039f\"], [0.2222222222222222, \"#7201a8\"], [0.3333333333333333, \"#9c179e\"], [0.4444444444444444, \"#bd3786\"], [0.5555555555555556, \"#d8576b\"], [0.6666666666666666, \"#ed7953\"], [0.7777777777777778, \"#fb9f3a\"], [0.8888888888888888, \"#fdca26\"], [1.0, \"#f0f921\"]], \"type\": \"heatmapgl\"}], \"histogram\": [{\"marker\": {\"colorbar\": {\"outlinewidth\": 0, \"ticks\": \"\"}}, \"type\": \"histogram\"}], \"histogram2d\": [{\"colorbar\": {\"outlinewidth\": 0, \"ticks\": \"\"}, \"colorscale\": [[0.0, \"#0d0887\"], [0.1111111111111111, \"#46039f\"], [0.2222222222222222, \"#7201a8\"], [0.3333333333333333, \"#9c179e\"], [0.4444444444444444, \"#bd3786\"], [0.5555555555555556, \"#d8576b\"], [0.6666666666666666, \"#ed7953\"], [0.7777777777777778, \"#fb9f3a\"], [0.8888888888888888, \"#fdca26\"], [1.0, \"#f0f921\"]], \"type\": \"histogram2d\"}], \"histogram2dcontour\": [{\"colorbar\": {\"outlinewidth\": 0, \"ticks\": \"\"}, \"colorscale\": [[0.0, \"#0d0887\"], [0.1111111111111111, \"#46039f\"], [0.2222222222222222, \"#7201a8\"], [0.3333333333333333, \"#9c179e\"], [0.4444444444444444, \"#bd3786\"], [0.5555555555555556, \"#d8576b\"], [0.6666666666666666, \"#ed7953\"], [0.7777777777777778, \"#fb9f3a\"], [0.8888888888888888, \"#fdca26\"], [1.0, \"#f0f921\"]], \"type\": \"histogram2dcontour\"}], \"mesh3d\": [{\"colorbar\": {\"outlinewidth\": 0, \"ticks\": \"\"}, \"type\": \"mesh3d\"}], \"parcoords\": [{\"line\": {\"colorbar\": {\"outlinewidth\": 0, \"ticks\": \"\"}}, \"type\": \"parcoords\"}], \"pie\": [{\"automargin\": true, \"type\": \"pie\"}], \"scatter\": [{\"marker\": {\"colorbar\": {\"outlinewidth\": 0, \"ticks\": \"\"}}, \"type\": \"scatter\"}], \"scatter3d\": [{\"line\": {\"colorbar\": {\"outlinewidth\": 0, \"ticks\": \"\"}}, \"marker\": {\"colorbar\": {\"outlinewidth\": 0, \"ticks\": \"\"}}, \"type\": \"scatter3d\"}], \"scattercarpet\": [{\"marker\": {\"colorbar\": {\"outlinewidth\": 0, \"ticks\": \"\"}}, \"type\": \"scattercarpet\"}], \"scattergeo\": [{\"marker\": {\"colorbar\": {\"outlinewidth\": 0, \"ticks\": \"\"}}, \"type\": \"scattergeo\"}], \"scattergl\": [{\"marker\": {\"colorbar\": {\"outlinewidth\": 0, \"ticks\": \"\"}}, \"type\": \"scattergl\"}], \"scattermapbox\": [{\"marker\": {\"colorbar\": {\"outlinewidth\": 0, \"ticks\": \"\"}}, \"type\": \"scattermapbox\"}], \"scatterpolar\": [{\"marker\": {\"colorbar\": {\"outlinewidth\": 0, \"ticks\": \"\"}}, \"type\": \"scatterpolar\"}], \"scatterpolargl\": [{\"marker\": {\"colorbar\": {\"outlinewidth\": 0, \"ticks\": \"\"}}, \"type\": \"scatterpolargl\"}], \"scatterternary\": [{\"marker\": {\"colorbar\": {\"outlinewidth\": 0, \"ticks\": \"\"}}, \"type\": \"scatterternary\"}], \"surface\": [{\"colorbar\": {\"outlinewidth\": 0, \"ticks\": \"\"}, \"colorscale\": [[0.0, \"#0d0887\"], [0.1111111111111111, \"#46039f\"], [0.2222222222222222, \"#7201a8\"], [0.3333333333333333, \"#9c179e\"], [0.4444444444444444, \"#bd3786\"], [0.5555555555555556, \"#d8576b\"], [0.6666666666666666, \"#ed7953\"], [0.7777777777777778, \"#fb9f3a\"], [0.8888888888888888, \"#fdca26\"], [1.0, \"#f0f921\"]], \"type\": \"surface\"}], \"table\": [{\"cells\": {\"fill\": {\"color\": \"#EBF0F8\"}, \"line\": {\"color\": \"white\"}}, \"header\": {\"fill\": {\"color\": \"#C8D4E3\"}, \"line\": {\"color\": \"white\"}}, \"type\": \"table\"}]}, \"layout\": {\"annotationdefaults\": {\"arrowcolor\": \"#2a3f5f\", \"arrowhead\": 0, \"arrowwidth\": 1}, \"autotypenumbers\": \"strict\", \"coloraxis\": {\"colorbar\": {\"outlinewidth\": 0, \"ticks\": \"\"}}, \"colorscale\": {\"diverging\": [[0, \"#8e0152\"], [0.1, \"#c51b7d\"], [0.2, \"#de77ae\"], [0.3, \"#f1b6da\"], [0.4, \"#fde0ef\"], [0.5, \"#f7f7f7\"], [0.6, \"#e6f5d0\"], [0.7, \"#b8e186\"], [0.8, \"#7fbc41\"], [0.9, \"#4d9221\"], [1, \"#276419\"]], \"sequential\": [[0.0, \"#0d0887\"], [0.1111111111111111, \"#46039f\"], [0.2222222222222222, \"#7201a8\"], [0.3333333333333333, \"#9c179e\"], [0.4444444444444444, \"#bd3786\"], [0.5555555555555556, \"#d8576b\"], [0.6666666666666666, \"#ed7953\"], [0.7777777777777778, \"#fb9f3a\"], [0.8888888888888888, \"#fdca26\"], [1.0, \"#f0f921\"]], \"sequentialminus\": [[0.0, \"#0d0887\"], [0.1111111111111111, \"#46039f\"], [0.2222222222222222, \"#7201a8\"], [0.3333333333333333, \"#9c179e\"], [0.4444444444444444, \"#bd3786\"], [0.5555555555555556, \"#d8576b\"], [0.6666666666666666, \"#ed7953\"], [0.7777777777777778, \"#fb9f3a\"], [0.8888888888888888, \"#fdca26\"], [1.0, \"#f0f921\"]]}, \"colorway\": [\"#636efa\", \"#EF553B\", \"#00cc96\", \"#ab63fa\", \"#FFA15A\", \"#19d3f3\", \"#FF6692\", \"#B6E880\", \"#FF97FF\", \"#FECB52\"], \"font\": {\"color\": \"#2a3f5f\"}, \"geo\": {\"bgcolor\": \"white\", \"lakecolor\": \"white\", \"landcolor\": \"#E5ECF6\", \"showlakes\": true, \"showland\": true, \"subunitcolor\": \"white\"}, \"hoverlabel\": {\"align\": \"left\"}, \"hovermode\": \"closest\", \"mapbox\": {\"style\": \"light\"}, \"paper_bgcolor\": \"white\", \"plot_bgcolor\": \"#E5ECF6\", \"polar\": {\"angularaxis\": {\"gridcolor\": \"white\", \"linecolor\": \"white\", \"ticks\": \"\"}, \"bgcolor\": \"#E5ECF6\", \"radialaxis\": {\"gridcolor\": \"white\", \"linecolor\": \"white\", \"ticks\": \"\"}}, \"scene\": {\"xaxis\": {\"backgroundcolor\": \"#E5ECF6\", \"gridcolor\": \"white\", \"gridwidth\": 2, \"linecolor\": \"white\", \"showbackground\": true, \"ticks\": \"\", \"zerolinecolor\": \"white\"}, \"yaxis\": {\"backgroundcolor\": \"#E5ECF6\", \"gridcolor\": \"white\", \"gridwidth\": 2, \"linecolor\": \"white\", \"showbackground\": true, \"ticks\": \"\", \"zerolinecolor\": \"white\"}, \"zaxis\": {\"backgroundcolor\": \"#E5ECF6\", \"gridcolor\": \"white\", \"gridwidth\": 2, \"linecolor\": \"white\", \"showbackground\": true, \"ticks\": \"\", \"zerolinecolor\": \"white\"}}, \"shapedefaults\": {\"line\": {\"color\": \"#2a3f5f\"}}, \"ternary\": {\"aaxis\": {\"gridcolor\": \"white\", \"linecolor\": \"white\", \"ticks\": \"\"}, \"baxis\": {\"gridcolor\": \"white\", \"linecolor\": \"white\", \"ticks\": \"\"}, \"bgcolor\": \"#E5ECF6\", \"caxis\": {\"gridcolor\": \"white\", \"linecolor\": \"white\", \"ticks\": \"\"}}, \"title\": {\"x\": 0.05}, \"xaxis\": {\"automargin\": true, \"gridcolor\": \"white\", \"linecolor\": \"white\", \"ticks\": \"\", \"title\": {\"standoff\": 15}, \"zerolinecolor\": \"white\", \"zerolinewidth\": 2}, \"yaxis\": {\"automargin\": true, \"gridcolor\": \"white\", \"linecolor\": \"white\", \"ticks\": \"\", \"title\": {\"standoff\": 15}, \"zerolinecolor\": \"white\", \"zerolinewidth\": 2}}}, \"title\": {\"font\": {\"color\": \"#4D5663\"}}, \"xaxis\": {\"gridcolor\": \"#E1E5ED\", \"showgrid\": true, \"tickfont\": {\"color\": \"#4D5663\"}, \"title\": {\"font\": {\"color\": \"#4D5663\"}, \"text\": \"\"}, \"zerolinecolor\": \"#E1E5ED\"}, \"yaxis\": {\"gridcolor\": \"#E1E5ED\", \"showgrid\": true, \"tickfont\": {\"color\": \"#4D5663\"}, \"title\": {\"font\": {\"color\": \"#4D5663\"}, \"text\": \"\"}, \"zerolinecolor\": \"#E1E5ED\"}},                        {\"showLink\": true, \"linkText\": \"Export to plot.ly\", \"plotlyServerURL\": \"https://plot.ly\", \"responsive\": true}                    ).then(function(){\n",
       "                            \n",
       "var gd = document.getElementById('f5f1fadf-883d-4400-aa37-829d32874f31');\n",
       "var x = new MutationObserver(function (mutations, observer) {{\n",
       "        var display = window.getComputedStyle(gd).display;\n",
       "        if (!display || display === 'none') {{\n",
       "            console.log([gd, 'removed!']);\n",
       "            Plotly.purge(gd);\n",
       "            observer.disconnect();\n",
       "        }}\n",
       "}});\n",
       "\n",
       "// Listen for the removal of the full notebook cells\n",
       "var notebookContainer = gd.closest('#notebook-container');\n",
       "if (notebookContainer) {{\n",
       "    x.observe(notebookContainer, {childList: true});\n",
       "}}\n",
       "\n",
       "// Listen for the clearing of the current output cell\n",
       "var outputEl = gd.closest('.output');\n",
       "if (outputEl) {{\n",
       "    x.observe(outputEl, {childList: true});\n",
       "}}\n",
       "\n",
       "                        })                };                });            </script>        </div>"
      ]
     },
     "metadata": {},
     "output_type": "display_data"
    }
   ],
   "source": [
    "df1.iplot(kind='box')"
   ]
  },
  {
   "cell_type": "markdown",
   "metadata": {},
   "source": [
    "### `kind = surface`\n",
    "Let's generate some date for a better surface plot to understand!"
   ]
  },
  {
   "cell_type": "code",
   "execution_count": 15,
   "metadata": {},
   "outputs": [
    {
     "data": {
      "application/vnd.plotly.v1+json": {
       "config": {
        "linkText": "Export to plot.ly",
        "plotlyServerURL": "https://plot.ly",
        "showLink": true
       },
       "data": [
        {
         "colorscale": [
          [
           0,
           "rgb(255, 153, 51)"
          ],
          [
           0.1111111111111111,
           "rgb(55, 128, 191)"
          ],
          [
           0.2222222222222222,
           "rgb(50, 171, 96)"
          ],
          [
           0.3333333333333333,
           "rgb(128, 0, 128)"
          ],
          [
           0.4444444444444444,
           "rgb(219, 64, 82)"
          ],
          [
           0.5555555555555556,
           "rgb(0, 128, 128)"
          ],
          [
           0.6666666666666666,
           "rgb(255, 255, 51)"
          ],
          [
           0.7777777777777778,
           "rgb(128, 128, 0)"
          ],
          [
           0.8888888888888888,
           "rgb(251, 128, 114)"
          ],
          [
           1,
           "rgb(128, 177, 211)"
          ]
         ],
         "type": "surface",
         "x": [
          0,
          1,
          2,
          3,
          4
         ],
         "y": [
          "x",
          "y",
          "z"
         ],
         "z": [
          [
           1,
           2,
           3,
           4,
           5
          ],
          [
           10,
           20,
           30,
           20,
           10
          ],
          [
           5,
           4,
           3,
           2,
           1
          ]
         ]
        }
       ],
       "layout": {
        "legend": {
         "bgcolor": "#F5F6F9",
         "font": {
          "color": "#4D5663"
         }
        },
        "paper_bgcolor": "#F5F6F9",
        "plot_bgcolor": "#F5F6F9",
        "template": {
         "data": {
          "bar": [
           {
            "error_x": {
             "color": "#2a3f5f"
            },
            "error_y": {
             "color": "#2a3f5f"
            },
            "marker": {
             "line": {
              "color": "#E5ECF6",
              "width": 0.5
             }
            },
            "type": "bar"
           }
          ],
          "barpolar": [
           {
            "marker": {
             "line": {
              "color": "#E5ECF6",
              "width": 0.5
             }
            },
            "type": "barpolar"
           }
          ],
          "carpet": [
           {
            "aaxis": {
             "endlinecolor": "#2a3f5f",
             "gridcolor": "white",
             "linecolor": "white",
             "minorgridcolor": "white",
             "startlinecolor": "#2a3f5f"
            },
            "baxis": {
             "endlinecolor": "#2a3f5f",
             "gridcolor": "white",
             "linecolor": "white",
             "minorgridcolor": "white",
             "startlinecolor": "#2a3f5f"
            },
            "type": "carpet"
           }
          ],
          "choropleth": [
           {
            "colorbar": {
             "outlinewidth": 0,
             "ticks": ""
            },
            "type": "choropleth"
           }
          ],
          "contour": [
           {
            "colorbar": {
             "outlinewidth": 0,
             "ticks": ""
            },
            "colorscale": [
             [
              0,
              "#0d0887"
             ],
             [
              0.1111111111111111,
              "#46039f"
             ],
             [
              0.2222222222222222,
              "#7201a8"
             ],
             [
              0.3333333333333333,
              "#9c179e"
             ],
             [
              0.4444444444444444,
              "#bd3786"
             ],
             [
              0.5555555555555556,
              "#d8576b"
             ],
             [
              0.6666666666666666,
              "#ed7953"
             ],
             [
              0.7777777777777778,
              "#fb9f3a"
             ],
             [
              0.8888888888888888,
              "#fdca26"
             ],
             [
              1,
              "#f0f921"
             ]
            ],
            "type": "contour"
           }
          ],
          "contourcarpet": [
           {
            "colorbar": {
             "outlinewidth": 0,
             "ticks": ""
            },
            "type": "contourcarpet"
           }
          ],
          "heatmap": [
           {
            "colorbar": {
             "outlinewidth": 0,
             "ticks": ""
            },
            "colorscale": [
             [
              0,
              "#0d0887"
             ],
             [
              0.1111111111111111,
              "#46039f"
             ],
             [
              0.2222222222222222,
              "#7201a8"
             ],
             [
              0.3333333333333333,
              "#9c179e"
             ],
             [
              0.4444444444444444,
              "#bd3786"
             ],
             [
              0.5555555555555556,
              "#d8576b"
             ],
             [
              0.6666666666666666,
              "#ed7953"
             ],
             [
              0.7777777777777778,
              "#fb9f3a"
             ],
             [
              0.8888888888888888,
              "#fdca26"
             ],
             [
              1,
              "#f0f921"
             ]
            ],
            "type": "heatmap"
           }
          ],
          "heatmapgl": [
           {
            "colorbar": {
             "outlinewidth": 0,
             "ticks": ""
            },
            "colorscale": [
             [
              0,
              "#0d0887"
             ],
             [
              0.1111111111111111,
              "#46039f"
             ],
             [
              0.2222222222222222,
              "#7201a8"
             ],
             [
              0.3333333333333333,
              "#9c179e"
             ],
             [
              0.4444444444444444,
              "#bd3786"
             ],
             [
              0.5555555555555556,
              "#d8576b"
             ],
             [
              0.6666666666666666,
              "#ed7953"
             ],
             [
              0.7777777777777778,
              "#fb9f3a"
             ],
             [
              0.8888888888888888,
              "#fdca26"
             ],
             [
              1,
              "#f0f921"
             ]
            ],
            "type": "heatmapgl"
           }
          ],
          "histogram": [
           {
            "marker": {
             "colorbar": {
              "outlinewidth": 0,
              "ticks": ""
             }
            },
            "type": "histogram"
           }
          ],
          "histogram2d": [
           {
            "colorbar": {
             "outlinewidth": 0,
             "ticks": ""
            },
            "colorscale": [
             [
              0,
              "#0d0887"
             ],
             [
              0.1111111111111111,
              "#46039f"
             ],
             [
              0.2222222222222222,
              "#7201a8"
             ],
             [
              0.3333333333333333,
              "#9c179e"
             ],
             [
              0.4444444444444444,
              "#bd3786"
             ],
             [
              0.5555555555555556,
              "#d8576b"
             ],
             [
              0.6666666666666666,
              "#ed7953"
             ],
             [
              0.7777777777777778,
              "#fb9f3a"
             ],
             [
              0.8888888888888888,
              "#fdca26"
             ],
             [
              1,
              "#f0f921"
             ]
            ],
            "type": "histogram2d"
           }
          ],
          "histogram2dcontour": [
           {
            "colorbar": {
             "outlinewidth": 0,
             "ticks": ""
            },
            "colorscale": [
             [
              0,
              "#0d0887"
             ],
             [
              0.1111111111111111,
              "#46039f"
             ],
             [
              0.2222222222222222,
              "#7201a8"
             ],
             [
              0.3333333333333333,
              "#9c179e"
             ],
             [
              0.4444444444444444,
              "#bd3786"
             ],
             [
              0.5555555555555556,
              "#d8576b"
             ],
             [
              0.6666666666666666,
              "#ed7953"
             ],
             [
              0.7777777777777778,
              "#fb9f3a"
             ],
             [
              0.8888888888888888,
              "#fdca26"
             ],
             [
              1,
              "#f0f921"
             ]
            ],
            "type": "histogram2dcontour"
           }
          ],
          "mesh3d": [
           {
            "colorbar": {
             "outlinewidth": 0,
             "ticks": ""
            },
            "type": "mesh3d"
           }
          ],
          "parcoords": [
           {
            "line": {
             "colorbar": {
              "outlinewidth": 0,
              "ticks": ""
             }
            },
            "type": "parcoords"
           }
          ],
          "pie": [
           {
            "automargin": true,
            "type": "pie"
           }
          ],
          "scatter": [
           {
            "marker": {
             "colorbar": {
              "outlinewidth": 0,
              "ticks": ""
             }
            },
            "type": "scatter"
           }
          ],
          "scatter3d": [
           {
            "line": {
             "colorbar": {
              "outlinewidth": 0,
              "ticks": ""
             }
            },
            "marker": {
             "colorbar": {
              "outlinewidth": 0,
              "ticks": ""
             }
            },
            "type": "scatter3d"
           }
          ],
          "scattercarpet": [
           {
            "marker": {
             "colorbar": {
              "outlinewidth": 0,
              "ticks": ""
             }
            },
            "type": "scattercarpet"
           }
          ],
          "scattergeo": [
           {
            "marker": {
             "colorbar": {
              "outlinewidth": 0,
              "ticks": ""
             }
            },
            "type": "scattergeo"
           }
          ],
          "scattergl": [
           {
            "marker": {
             "colorbar": {
              "outlinewidth": 0,
              "ticks": ""
             }
            },
            "type": "scattergl"
           }
          ],
          "scattermapbox": [
           {
            "marker": {
             "colorbar": {
              "outlinewidth": 0,
              "ticks": ""
             }
            },
            "type": "scattermapbox"
           }
          ],
          "scatterpolar": [
           {
            "marker": {
             "colorbar": {
              "outlinewidth": 0,
              "ticks": ""
             }
            },
            "type": "scatterpolar"
           }
          ],
          "scatterpolargl": [
           {
            "marker": {
             "colorbar": {
              "outlinewidth": 0,
              "ticks": ""
             }
            },
            "type": "scatterpolargl"
           }
          ],
          "scatterternary": [
           {
            "marker": {
             "colorbar": {
              "outlinewidth": 0,
              "ticks": ""
             }
            },
            "type": "scatterternary"
           }
          ],
          "surface": [
           {
            "colorbar": {
             "outlinewidth": 0,
             "ticks": ""
            },
            "colorscale": [
             [
              0,
              "#0d0887"
             ],
             [
              0.1111111111111111,
              "#46039f"
             ],
             [
              0.2222222222222222,
              "#7201a8"
             ],
             [
              0.3333333333333333,
              "#9c179e"
             ],
             [
              0.4444444444444444,
              "#bd3786"
             ],
             [
              0.5555555555555556,
              "#d8576b"
             ],
             [
              0.6666666666666666,
              "#ed7953"
             ],
             [
              0.7777777777777778,
              "#fb9f3a"
             ],
             [
              0.8888888888888888,
              "#fdca26"
             ],
             [
              1,
              "#f0f921"
             ]
            ],
            "type": "surface"
           }
          ],
          "table": [
           {
            "cells": {
             "fill": {
              "color": "#EBF0F8"
             },
             "line": {
              "color": "white"
             }
            },
            "header": {
             "fill": {
              "color": "#C8D4E3"
             },
             "line": {
              "color": "white"
             }
            },
            "type": "table"
           }
          ]
         },
         "layout": {
          "annotationdefaults": {
           "arrowcolor": "#2a3f5f",
           "arrowhead": 0,
           "arrowwidth": 1
          },
          "autotypenumbers": "strict",
          "coloraxis": {
           "colorbar": {
            "outlinewidth": 0,
            "ticks": ""
           }
          },
          "colorscale": {
           "diverging": [
            [
             0,
             "#8e0152"
            ],
            [
             0.1,
             "#c51b7d"
            ],
            [
             0.2,
             "#de77ae"
            ],
            [
             0.3,
             "#f1b6da"
            ],
            [
             0.4,
             "#fde0ef"
            ],
            [
             0.5,
             "#f7f7f7"
            ],
            [
             0.6,
             "#e6f5d0"
            ],
            [
             0.7,
             "#b8e186"
            ],
            [
             0.8,
             "#7fbc41"
            ],
            [
             0.9,
             "#4d9221"
            ],
            [
             1,
             "#276419"
            ]
           ],
           "sequential": [
            [
             0,
             "#0d0887"
            ],
            [
             0.1111111111111111,
             "#46039f"
            ],
            [
             0.2222222222222222,
             "#7201a8"
            ],
            [
             0.3333333333333333,
             "#9c179e"
            ],
            [
             0.4444444444444444,
             "#bd3786"
            ],
            [
             0.5555555555555556,
             "#d8576b"
            ],
            [
             0.6666666666666666,
             "#ed7953"
            ],
            [
             0.7777777777777778,
             "#fb9f3a"
            ],
            [
             0.8888888888888888,
             "#fdca26"
            ],
            [
             1,
             "#f0f921"
            ]
           ],
           "sequentialminus": [
            [
             0,
             "#0d0887"
            ],
            [
             0.1111111111111111,
             "#46039f"
            ],
            [
             0.2222222222222222,
             "#7201a8"
            ],
            [
             0.3333333333333333,
             "#9c179e"
            ],
            [
             0.4444444444444444,
             "#bd3786"
            ],
            [
             0.5555555555555556,
             "#d8576b"
            ],
            [
             0.6666666666666666,
             "#ed7953"
            ],
            [
             0.7777777777777778,
             "#fb9f3a"
            ],
            [
             0.8888888888888888,
             "#fdca26"
            ],
            [
             1,
             "#f0f921"
            ]
           ]
          },
          "colorway": [
           "#636efa",
           "#EF553B",
           "#00cc96",
           "#ab63fa",
           "#FFA15A",
           "#19d3f3",
           "#FF6692",
           "#B6E880",
           "#FF97FF",
           "#FECB52"
          ],
          "font": {
           "color": "#2a3f5f"
          },
          "geo": {
           "bgcolor": "white",
           "lakecolor": "white",
           "landcolor": "#E5ECF6",
           "showlakes": true,
           "showland": true,
           "subunitcolor": "white"
          },
          "hoverlabel": {
           "align": "left"
          },
          "hovermode": "closest",
          "mapbox": {
           "style": "light"
          },
          "paper_bgcolor": "white",
          "plot_bgcolor": "#E5ECF6",
          "polar": {
           "angularaxis": {
            "gridcolor": "white",
            "linecolor": "white",
            "ticks": ""
           },
           "bgcolor": "#E5ECF6",
           "radialaxis": {
            "gridcolor": "white",
            "linecolor": "white",
            "ticks": ""
           }
          },
          "scene": {
           "xaxis": {
            "backgroundcolor": "#E5ECF6",
            "gridcolor": "white",
            "gridwidth": 2,
            "linecolor": "white",
            "showbackground": true,
            "ticks": "",
            "zerolinecolor": "white"
           },
           "yaxis": {
            "backgroundcolor": "#E5ECF6",
            "gridcolor": "white",
            "gridwidth": 2,
            "linecolor": "white",
            "showbackground": true,
            "ticks": "",
            "zerolinecolor": "white"
           },
           "zaxis": {
            "backgroundcolor": "#E5ECF6",
            "gridcolor": "white",
            "gridwidth": 2,
            "linecolor": "white",
            "showbackground": true,
            "ticks": "",
            "zerolinecolor": "white"
           }
          },
          "shapedefaults": {
           "line": {
            "color": "#2a3f5f"
           }
          },
          "ternary": {
           "aaxis": {
            "gridcolor": "white",
            "linecolor": "white",
            "ticks": ""
           },
           "baxis": {
            "gridcolor": "white",
            "linecolor": "white",
            "ticks": ""
           },
           "bgcolor": "#E5ECF6",
           "caxis": {
            "gridcolor": "white",
            "linecolor": "white",
            "ticks": ""
           }
          },
          "title": {
           "x": 0.05
          },
          "xaxis": {
           "automargin": true,
           "gridcolor": "white",
           "linecolor": "white",
           "ticks": "",
           "title": {
            "standoff": 15
           },
           "zerolinecolor": "white",
           "zerolinewidth": 2
          },
          "yaxis": {
           "automargin": true,
           "gridcolor": "white",
           "linecolor": "white",
           "ticks": "",
           "title": {
            "standoff": 15
           },
           "zerolinecolor": "white",
           "zerolinewidth": 2
          }
         }
        },
        "title": {
         "font": {
          "color": "#4D5663"
         }
        },
        "xaxis": {
         "gridcolor": "#E1E5ED",
         "showgrid": true,
         "tickfont": {
          "color": "#4D5663"
         },
         "title": {
          "font": {
           "color": "#4D5663"
          },
          "text": ""
         },
         "zerolinecolor": "#E1E5ED"
        },
        "yaxis": {
         "gridcolor": "#E1E5ED",
         "showgrid": true,
         "tickfont": {
          "color": "#4D5663"
         },
         "title": {
          "font": {
           "color": "#4D5663"
          },
          "text": ""
         },
         "zerolinecolor": "#E1E5ED"
        }
       }
      },
      "text/html": [
       "<div>                            <div id=\"3ad4ea14-c33a-483b-b840-5e2245aa991e\" class=\"plotly-graph-div\" style=\"height:525px; width:100%;\"></div>            <script type=\"text/javascript\">                require([\"plotly\"], function(Plotly) {                    window.PLOTLYENV=window.PLOTLYENV || {};\n",
       "                    window.PLOTLYENV.BASE_URL='https://plot.ly';                                    if (document.getElementById(\"3ad4ea14-c33a-483b-b840-5e2245aa991e\")) {                    Plotly.newPlot(                        \"3ad4ea14-c33a-483b-b840-5e2245aa991e\",                        [{\"colorscale\": [[0.0, \"rgb(255, 153, 51)\"], [0.1111111111111111, \"rgb(55, 128, 191)\"], [0.2222222222222222, \"rgb(50, 171, 96)\"], [0.3333333333333333, \"rgb(128, 0, 128)\"], [0.4444444444444444, \"rgb(219, 64, 82)\"], [0.5555555555555556, \"rgb(0, 128, 128)\"], [0.6666666666666666, \"rgb(255, 255, 51)\"], [0.7777777777777778, \"rgb(128, 128, 0)\"], [0.8888888888888888, \"rgb(251, 128, 114)\"], [1.0, \"rgb(128, 177, 211)\"]], \"type\": \"surface\", \"x\": [0, 1, 2, 3, 4], \"y\": [\"x\", \"y\", \"z\"], \"z\": [[1, 2, 3, 4, 5], [10, 20, 30, 20, 10], [5, 4, 3, 2, 1]]}],                        {\"legend\": {\"bgcolor\": \"#F5F6F9\", \"font\": {\"color\": \"#4D5663\"}}, \"paper_bgcolor\": \"#F5F6F9\", \"plot_bgcolor\": \"#F5F6F9\", \"template\": {\"data\": {\"bar\": [{\"error_x\": {\"color\": \"#2a3f5f\"}, \"error_y\": {\"color\": \"#2a3f5f\"}, \"marker\": {\"line\": {\"color\": \"#E5ECF6\", \"width\": 0.5}}, \"type\": \"bar\"}], \"barpolar\": [{\"marker\": {\"line\": {\"color\": \"#E5ECF6\", \"width\": 0.5}}, \"type\": \"barpolar\"}], \"carpet\": [{\"aaxis\": {\"endlinecolor\": \"#2a3f5f\", \"gridcolor\": \"white\", \"linecolor\": \"white\", \"minorgridcolor\": \"white\", \"startlinecolor\": \"#2a3f5f\"}, \"baxis\": {\"endlinecolor\": \"#2a3f5f\", \"gridcolor\": \"white\", \"linecolor\": \"white\", \"minorgridcolor\": \"white\", \"startlinecolor\": \"#2a3f5f\"}, \"type\": \"carpet\"}], \"choropleth\": [{\"colorbar\": {\"outlinewidth\": 0, \"ticks\": \"\"}, \"type\": \"choropleth\"}], \"contour\": [{\"colorbar\": {\"outlinewidth\": 0, \"ticks\": \"\"}, \"colorscale\": [[0.0, \"#0d0887\"], [0.1111111111111111, \"#46039f\"], [0.2222222222222222, \"#7201a8\"], [0.3333333333333333, \"#9c179e\"], [0.4444444444444444, \"#bd3786\"], [0.5555555555555556, \"#d8576b\"], [0.6666666666666666, \"#ed7953\"], [0.7777777777777778, \"#fb9f3a\"], [0.8888888888888888, \"#fdca26\"], [1.0, \"#f0f921\"]], \"type\": \"contour\"}], \"contourcarpet\": [{\"colorbar\": {\"outlinewidth\": 0, \"ticks\": \"\"}, \"type\": \"contourcarpet\"}], \"heatmap\": [{\"colorbar\": {\"outlinewidth\": 0, \"ticks\": \"\"}, \"colorscale\": [[0.0, \"#0d0887\"], [0.1111111111111111, \"#46039f\"], [0.2222222222222222, \"#7201a8\"], [0.3333333333333333, \"#9c179e\"], [0.4444444444444444, \"#bd3786\"], [0.5555555555555556, \"#d8576b\"], [0.6666666666666666, \"#ed7953\"], [0.7777777777777778, \"#fb9f3a\"], [0.8888888888888888, \"#fdca26\"], [1.0, \"#f0f921\"]], \"type\": \"heatmap\"}], \"heatmapgl\": [{\"colorbar\": {\"outlinewidth\": 0, \"ticks\": \"\"}, \"colorscale\": [[0.0, \"#0d0887\"], [0.1111111111111111, \"#46039f\"], [0.2222222222222222, \"#7201a8\"], [0.3333333333333333, \"#9c179e\"], [0.4444444444444444, \"#bd3786\"], [0.5555555555555556, \"#d8576b\"], [0.6666666666666666, \"#ed7953\"], [0.7777777777777778, \"#fb9f3a\"], [0.8888888888888888, \"#fdca26\"], [1.0, \"#f0f921\"]], \"type\": \"heatmapgl\"}], \"histogram\": [{\"marker\": {\"colorbar\": {\"outlinewidth\": 0, \"ticks\": \"\"}}, \"type\": \"histogram\"}], \"histogram2d\": [{\"colorbar\": {\"outlinewidth\": 0, \"ticks\": \"\"}, \"colorscale\": [[0.0, \"#0d0887\"], [0.1111111111111111, \"#46039f\"], [0.2222222222222222, \"#7201a8\"], [0.3333333333333333, \"#9c179e\"], [0.4444444444444444, \"#bd3786\"], [0.5555555555555556, \"#d8576b\"], [0.6666666666666666, \"#ed7953\"], [0.7777777777777778, \"#fb9f3a\"], [0.8888888888888888, \"#fdca26\"], [1.0, \"#f0f921\"]], \"type\": \"histogram2d\"}], \"histogram2dcontour\": [{\"colorbar\": {\"outlinewidth\": 0, \"ticks\": \"\"}, \"colorscale\": [[0.0, \"#0d0887\"], [0.1111111111111111, \"#46039f\"], [0.2222222222222222, \"#7201a8\"], [0.3333333333333333, \"#9c179e\"], [0.4444444444444444, \"#bd3786\"], [0.5555555555555556, \"#d8576b\"], [0.6666666666666666, \"#ed7953\"], [0.7777777777777778, \"#fb9f3a\"], [0.8888888888888888, \"#fdca26\"], [1.0, \"#f0f921\"]], \"type\": \"histogram2dcontour\"}], \"mesh3d\": [{\"colorbar\": {\"outlinewidth\": 0, \"ticks\": \"\"}, \"type\": \"mesh3d\"}], \"parcoords\": [{\"line\": {\"colorbar\": {\"outlinewidth\": 0, \"ticks\": \"\"}}, \"type\": \"parcoords\"}], \"pie\": [{\"automargin\": true, \"type\": \"pie\"}], \"scatter\": [{\"marker\": {\"colorbar\": {\"outlinewidth\": 0, \"ticks\": \"\"}}, \"type\": \"scatter\"}], \"scatter3d\": [{\"line\": {\"colorbar\": {\"outlinewidth\": 0, \"ticks\": \"\"}}, \"marker\": {\"colorbar\": {\"outlinewidth\": 0, \"ticks\": \"\"}}, \"type\": \"scatter3d\"}], \"scattercarpet\": [{\"marker\": {\"colorbar\": {\"outlinewidth\": 0, \"ticks\": \"\"}}, \"type\": \"scattercarpet\"}], \"scattergeo\": [{\"marker\": {\"colorbar\": {\"outlinewidth\": 0, \"ticks\": \"\"}}, \"type\": \"scattergeo\"}], \"scattergl\": [{\"marker\": {\"colorbar\": {\"outlinewidth\": 0, \"ticks\": \"\"}}, \"type\": \"scattergl\"}], \"scattermapbox\": [{\"marker\": {\"colorbar\": {\"outlinewidth\": 0, \"ticks\": \"\"}}, \"type\": \"scattermapbox\"}], \"scatterpolar\": [{\"marker\": {\"colorbar\": {\"outlinewidth\": 0, \"ticks\": \"\"}}, \"type\": \"scatterpolar\"}], \"scatterpolargl\": [{\"marker\": {\"colorbar\": {\"outlinewidth\": 0, \"ticks\": \"\"}}, \"type\": \"scatterpolargl\"}], \"scatterternary\": [{\"marker\": {\"colorbar\": {\"outlinewidth\": 0, \"ticks\": \"\"}}, \"type\": \"scatterternary\"}], \"surface\": [{\"colorbar\": {\"outlinewidth\": 0, \"ticks\": \"\"}, \"colorscale\": [[0.0, \"#0d0887\"], [0.1111111111111111, \"#46039f\"], [0.2222222222222222, \"#7201a8\"], [0.3333333333333333, \"#9c179e\"], [0.4444444444444444, \"#bd3786\"], [0.5555555555555556, \"#d8576b\"], [0.6666666666666666, \"#ed7953\"], [0.7777777777777778, \"#fb9f3a\"], [0.8888888888888888, \"#fdca26\"], [1.0, \"#f0f921\"]], \"type\": \"surface\"}], \"table\": [{\"cells\": {\"fill\": {\"color\": \"#EBF0F8\"}, \"line\": {\"color\": \"white\"}}, \"header\": {\"fill\": {\"color\": \"#C8D4E3\"}, \"line\": {\"color\": \"white\"}}, \"type\": \"table\"}]}, \"layout\": {\"annotationdefaults\": {\"arrowcolor\": \"#2a3f5f\", \"arrowhead\": 0, \"arrowwidth\": 1}, \"autotypenumbers\": \"strict\", \"coloraxis\": {\"colorbar\": {\"outlinewidth\": 0, \"ticks\": \"\"}}, \"colorscale\": {\"diverging\": [[0, \"#8e0152\"], [0.1, \"#c51b7d\"], [0.2, \"#de77ae\"], [0.3, \"#f1b6da\"], [0.4, \"#fde0ef\"], [0.5, \"#f7f7f7\"], [0.6, \"#e6f5d0\"], [0.7, \"#b8e186\"], [0.8, \"#7fbc41\"], [0.9, \"#4d9221\"], [1, \"#276419\"]], \"sequential\": [[0.0, \"#0d0887\"], [0.1111111111111111, \"#46039f\"], [0.2222222222222222, \"#7201a8\"], [0.3333333333333333, \"#9c179e\"], [0.4444444444444444, \"#bd3786\"], [0.5555555555555556, \"#d8576b\"], [0.6666666666666666, \"#ed7953\"], [0.7777777777777778, \"#fb9f3a\"], [0.8888888888888888, \"#fdca26\"], [1.0, \"#f0f921\"]], \"sequentialminus\": [[0.0, \"#0d0887\"], [0.1111111111111111, \"#46039f\"], [0.2222222222222222, \"#7201a8\"], [0.3333333333333333, \"#9c179e\"], [0.4444444444444444, \"#bd3786\"], [0.5555555555555556, \"#d8576b\"], [0.6666666666666666, \"#ed7953\"], [0.7777777777777778, \"#fb9f3a\"], [0.8888888888888888, \"#fdca26\"], [1.0, \"#f0f921\"]]}, \"colorway\": [\"#636efa\", \"#EF553B\", \"#00cc96\", \"#ab63fa\", \"#FFA15A\", \"#19d3f3\", \"#FF6692\", \"#B6E880\", \"#FF97FF\", \"#FECB52\"], \"font\": {\"color\": \"#2a3f5f\"}, \"geo\": {\"bgcolor\": \"white\", \"lakecolor\": \"white\", \"landcolor\": \"#E5ECF6\", \"showlakes\": true, \"showland\": true, \"subunitcolor\": \"white\"}, \"hoverlabel\": {\"align\": \"left\"}, \"hovermode\": \"closest\", \"mapbox\": {\"style\": \"light\"}, \"paper_bgcolor\": \"white\", \"plot_bgcolor\": \"#E5ECF6\", \"polar\": {\"angularaxis\": {\"gridcolor\": \"white\", \"linecolor\": \"white\", \"ticks\": \"\"}, \"bgcolor\": \"#E5ECF6\", \"radialaxis\": {\"gridcolor\": \"white\", \"linecolor\": \"white\", \"ticks\": \"\"}}, \"scene\": {\"xaxis\": {\"backgroundcolor\": \"#E5ECF6\", \"gridcolor\": \"white\", \"gridwidth\": 2, \"linecolor\": \"white\", \"showbackground\": true, \"ticks\": \"\", \"zerolinecolor\": \"white\"}, \"yaxis\": {\"backgroundcolor\": \"#E5ECF6\", \"gridcolor\": \"white\", \"gridwidth\": 2, \"linecolor\": \"white\", \"showbackground\": true, \"ticks\": \"\", \"zerolinecolor\": \"white\"}, \"zaxis\": {\"backgroundcolor\": \"#E5ECF6\", \"gridcolor\": \"white\", \"gridwidth\": 2, \"linecolor\": \"white\", \"showbackground\": true, \"ticks\": \"\", \"zerolinecolor\": \"white\"}}, \"shapedefaults\": {\"line\": {\"color\": \"#2a3f5f\"}}, \"ternary\": {\"aaxis\": {\"gridcolor\": \"white\", \"linecolor\": \"white\", \"ticks\": \"\"}, \"baxis\": {\"gridcolor\": \"white\", \"linecolor\": \"white\", \"ticks\": \"\"}, \"bgcolor\": \"#E5ECF6\", \"caxis\": {\"gridcolor\": \"white\", \"linecolor\": \"white\", \"ticks\": \"\"}}, \"title\": {\"x\": 0.05}, \"xaxis\": {\"automargin\": true, \"gridcolor\": \"white\", \"linecolor\": \"white\", \"ticks\": \"\", \"title\": {\"standoff\": 15}, \"zerolinecolor\": \"white\", \"zerolinewidth\": 2}, \"yaxis\": {\"automargin\": true, \"gridcolor\": \"white\", \"linecolor\": \"white\", \"ticks\": \"\", \"title\": {\"standoff\": 15}, \"zerolinecolor\": \"white\", \"zerolinewidth\": 2}}}, \"title\": {\"font\": {\"color\": \"#4D5663\"}}, \"xaxis\": {\"gridcolor\": \"#E1E5ED\", \"showgrid\": true, \"tickfont\": {\"color\": \"#4D5663\"}, \"title\": {\"font\": {\"color\": \"#4D5663\"}, \"text\": \"\"}, \"zerolinecolor\": \"#E1E5ED\"}, \"yaxis\": {\"gridcolor\": \"#E1E5ED\", \"showgrid\": true, \"tickfont\": {\"color\": \"#4D5663\"}, \"title\": {\"font\": {\"color\": \"#4D5663\"}, \"text\": \"\"}, \"zerolinecolor\": \"#E1E5ED\"}},                        {\"showLink\": true, \"linkText\": \"Export to plot.ly\", \"plotlyServerURL\": \"https://plot.ly\", \"responsive\": true}                    ).then(function(){\n",
       "                            \n",
       "var gd = document.getElementById('3ad4ea14-c33a-483b-b840-5e2245aa991e');\n",
       "var x = new MutationObserver(function (mutations, observer) {{\n",
       "        var display = window.getComputedStyle(gd).display;\n",
       "        if (!display || display === 'none') {{\n",
       "            console.log([gd, 'removed!']);\n",
       "            Plotly.purge(gd);\n",
       "            observer.disconnect();\n",
       "        }}\n",
       "}});\n",
       "\n",
       "// Listen for the removal of the full notebook cells\n",
       "var notebookContainer = gd.closest('#notebook-container');\n",
       "if (notebookContainer) {{\n",
       "    x.observe(notebookContainer, {childList: true});\n",
       "}}\n",
       "\n",
       "// Listen for the clearing of the current output cell\n",
       "var outputEl = gd.closest('.output');\n",
       "if (outputEl) {{\n",
       "    x.observe(outputEl, {childList: true});\n",
       "}}\n",
       "\n",
       "                        })                };                });            </script>        </div>"
      ]
     },
     "metadata": {},
     "output_type": "display_data"
    }
   ],
   "source": [
    "df3 = pd.DataFrame({'x':[1,2,3,4,5],'y':[10,20,30,20,10],'z':[5,4,3,2,1]})\n",
    "df3.iplot(kind='surface')#,colorscale='rdylbu')"
   ]
  },
  {
   "cell_type": "markdown",
   "metadata": {},
   "source": [
    "### `kind = hist`\n",
    "Creating a histogram of a single column"
   ]
  },
  {
   "cell_type": "code",
   "execution_count": 16,
   "metadata": {
    "scrolled": false
   },
   "outputs": [
    {
     "data": {
      "application/vnd.plotly.v1+json": {
       "config": {
        "linkText": "Export to plot.ly",
        "plotlyServerURL": "https://plot.ly",
        "showLink": true
       },
       "data": [
        {
         "histfunc": "count",
         "histnorm": "",
         "marker": {
          "color": "rgba(255, 153, 51, 1.0)",
          "line": {
           "color": "#4D5663",
           "width": 1.3
          }
         },
         "name": "A",
         "nbinsx": 50,
         "opacity": 0.8,
         "orientation": "v",
         "type": "histogram",
         "x": [
          -1.7538858937551702,
          -1.7226856703555207,
          -0.4140247115632524,
          0.8211538745067284,
          1.1389978845908453,
          0.2937800164063252,
          0.38523754634530905,
          0.2495826223220929,
          0.4639041966379346,
          0.7966092223449669,
          1.767194154936893,
          -1.0236061425711371,
          -0.35302571009675604,
          1.2179000914228575,
          -0.44883972685594975,
          -1.1619490891090674,
          0.265305113798835,
          0.9905367335152827,
          -0.33441518723358027,
          -0.5480061657291567,
          -1.5001806885986948,
          -1.6590235035842018,
          -1.3715138381506373,
          0.825866973830695,
          0.9420282609542272,
          0.2606962286828969,
          -0.8849246227370032,
          -0.1078503532732208,
          -0.2974603475612812,
          0.9503169590893906,
          0.41812936220293445,
          -0.5348523266504603,
          0.3760730387943392,
          1.0318066442606086,
          -1.2427394197115595,
          0.5043938659863496,
          1.376755938082115,
          0.6005663618734192,
          -1.0519314917957416,
          0.8808568140393724,
          -2.5261638208699035,
          0.7136595538703409,
          0.3677890721824107,
          -0.018947152325261948,
          -0.553662200013513,
          -0.7925670548920108,
          -0.6685321613037117,
          -1.0229969463524564,
          -0.9238619405833758,
          3.080723651001204,
          1.147456931259636,
          -1.8086378449607519,
          -0.24632702376956678,
          0.5684542426237913,
          0.32936644752117283,
          -0.2615535328896379,
          -0.4105392123307298,
          1.6966320973188525,
          -0.7331190860107024,
          0.3478166244604999,
          -1.876629782501499,
          0.7441579168092955,
          -0.45529571105198646,
          0.5307556936191674,
          0.7043984803253995,
          -0.518335332573801,
          0.2801872548345399,
          0.6279250320877873,
          -0.699545807581524,
          -1.4828830868202263,
          -0.008939436335171736,
          -0.585396146704361,
          -0.09089604926936432,
          2.158360064948021,
          0.040842014274870456,
          0.8994208482062952,
          -0.18837857102847666,
          0.39477911885784556,
          -0.49919456228234604,
          -0.24278778188330472,
          -0.27801459712440885,
          -0.02005599493814914,
          0.5111805799165396,
          -0.7177136725412908,
          -0.16231118047802034,
          -0.630899750574069,
          -0.28833971879513925,
          -1.3391993460263756,
          0.43487028069968203,
          2.4936536813480936,
          0.9268871399951262,
          0.2290428161700579,
          0.5817920127165599,
          -1.103928935045968,
          0.06652031913783847,
          0.8547749603573822,
          0.22744064562977065,
          -0.21988446126173516,
          0.7915929868565157,
          1.2123195799722162
         ]
        }
       ],
       "layout": {
        "barmode": "overlay",
        "legend": {
         "bgcolor": "#F5F6F9",
         "font": {
          "color": "#4D5663"
         }
        },
        "paper_bgcolor": "#F5F6F9",
        "plot_bgcolor": "#F5F6F9",
        "template": {
         "data": {
          "bar": [
           {
            "error_x": {
             "color": "#2a3f5f"
            },
            "error_y": {
             "color": "#2a3f5f"
            },
            "marker": {
             "line": {
              "color": "#E5ECF6",
              "width": 0.5
             }
            },
            "type": "bar"
           }
          ],
          "barpolar": [
           {
            "marker": {
             "line": {
              "color": "#E5ECF6",
              "width": 0.5
             }
            },
            "type": "barpolar"
           }
          ],
          "carpet": [
           {
            "aaxis": {
             "endlinecolor": "#2a3f5f",
             "gridcolor": "white",
             "linecolor": "white",
             "minorgridcolor": "white",
             "startlinecolor": "#2a3f5f"
            },
            "baxis": {
             "endlinecolor": "#2a3f5f",
             "gridcolor": "white",
             "linecolor": "white",
             "minorgridcolor": "white",
             "startlinecolor": "#2a3f5f"
            },
            "type": "carpet"
           }
          ],
          "choropleth": [
           {
            "colorbar": {
             "outlinewidth": 0,
             "ticks": ""
            },
            "type": "choropleth"
           }
          ],
          "contour": [
           {
            "colorbar": {
             "outlinewidth": 0,
             "ticks": ""
            },
            "colorscale": [
             [
              0,
              "#0d0887"
             ],
             [
              0.1111111111111111,
              "#46039f"
             ],
             [
              0.2222222222222222,
              "#7201a8"
             ],
             [
              0.3333333333333333,
              "#9c179e"
             ],
             [
              0.4444444444444444,
              "#bd3786"
             ],
             [
              0.5555555555555556,
              "#d8576b"
             ],
             [
              0.6666666666666666,
              "#ed7953"
             ],
             [
              0.7777777777777778,
              "#fb9f3a"
             ],
             [
              0.8888888888888888,
              "#fdca26"
             ],
             [
              1,
              "#f0f921"
             ]
            ],
            "type": "contour"
           }
          ],
          "contourcarpet": [
           {
            "colorbar": {
             "outlinewidth": 0,
             "ticks": ""
            },
            "type": "contourcarpet"
           }
          ],
          "heatmap": [
           {
            "colorbar": {
             "outlinewidth": 0,
             "ticks": ""
            },
            "colorscale": [
             [
              0,
              "#0d0887"
             ],
             [
              0.1111111111111111,
              "#46039f"
             ],
             [
              0.2222222222222222,
              "#7201a8"
             ],
             [
              0.3333333333333333,
              "#9c179e"
             ],
             [
              0.4444444444444444,
              "#bd3786"
             ],
             [
              0.5555555555555556,
              "#d8576b"
             ],
             [
              0.6666666666666666,
              "#ed7953"
             ],
             [
              0.7777777777777778,
              "#fb9f3a"
             ],
             [
              0.8888888888888888,
              "#fdca26"
             ],
             [
              1,
              "#f0f921"
             ]
            ],
            "type": "heatmap"
           }
          ],
          "heatmapgl": [
           {
            "colorbar": {
             "outlinewidth": 0,
             "ticks": ""
            },
            "colorscale": [
             [
              0,
              "#0d0887"
             ],
             [
              0.1111111111111111,
              "#46039f"
             ],
             [
              0.2222222222222222,
              "#7201a8"
             ],
             [
              0.3333333333333333,
              "#9c179e"
             ],
             [
              0.4444444444444444,
              "#bd3786"
             ],
             [
              0.5555555555555556,
              "#d8576b"
             ],
             [
              0.6666666666666666,
              "#ed7953"
             ],
             [
              0.7777777777777778,
              "#fb9f3a"
             ],
             [
              0.8888888888888888,
              "#fdca26"
             ],
             [
              1,
              "#f0f921"
             ]
            ],
            "type": "heatmapgl"
           }
          ],
          "histogram": [
           {
            "marker": {
             "colorbar": {
              "outlinewidth": 0,
              "ticks": ""
             }
            },
            "type": "histogram"
           }
          ],
          "histogram2d": [
           {
            "colorbar": {
             "outlinewidth": 0,
             "ticks": ""
            },
            "colorscale": [
             [
              0,
              "#0d0887"
             ],
             [
              0.1111111111111111,
              "#46039f"
             ],
             [
              0.2222222222222222,
              "#7201a8"
             ],
             [
              0.3333333333333333,
              "#9c179e"
             ],
             [
              0.4444444444444444,
              "#bd3786"
             ],
             [
              0.5555555555555556,
              "#d8576b"
             ],
             [
              0.6666666666666666,
              "#ed7953"
             ],
             [
              0.7777777777777778,
              "#fb9f3a"
             ],
             [
              0.8888888888888888,
              "#fdca26"
             ],
             [
              1,
              "#f0f921"
             ]
            ],
            "type": "histogram2d"
           }
          ],
          "histogram2dcontour": [
           {
            "colorbar": {
             "outlinewidth": 0,
             "ticks": ""
            },
            "colorscale": [
             [
              0,
              "#0d0887"
             ],
             [
              0.1111111111111111,
              "#46039f"
             ],
             [
              0.2222222222222222,
              "#7201a8"
             ],
             [
              0.3333333333333333,
              "#9c179e"
             ],
             [
              0.4444444444444444,
              "#bd3786"
             ],
             [
              0.5555555555555556,
              "#d8576b"
             ],
             [
              0.6666666666666666,
              "#ed7953"
             ],
             [
              0.7777777777777778,
              "#fb9f3a"
             ],
             [
              0.8888888888888888,
              "#fdca26"
             ],
             [
              1,
              "#f0f921"
             ]
            ],
            "type": "histogram2dcontour"
           }
          ],
          "mesh3d": [
           {
            "colorbar": {
             "outlinewidth": 0,
             "ticks": ""
            },
            "type": "mesh3d"
           }
          ],
          "parcoords": [
           {
            "line": {
             "colorbar": {
              "outlinewidth": 0,
              "ticks": ""
             }
            },
            "type": "parcoords"
           }
          ],
          "pie": [
           {
            "automargin": true,
            "type": "pie"
           }
          ],
          "scatter": [
           {
            "marker": {
             "colorbar": {
              "outlinewidth": 0,
              "ticks": ""
             }
            },
            "type": "scatter"
           }
          ],
          "scatter3d": [
           {
            "line": {
             "colorbar": {
              "outlinewidth": 0,
              "ticks": ""
             }
            },
            "marker": {
             "colorbar": {
              "outlinewidth": 0,
              "ticks": ""
             }
            },
            "type": "scatter3d"
           }
          ],
          "scattercarpet": [
           {
            "marker": {
             "colorbar": {
              "outlinewidth": 0,
              "ticks": ""
             }
            },
            "type": "scattercarpet"
           }
          ],
          "scattergeo": [
           {
            "marker": {
             "colorbar": {
              "outlinewidth": 0,
              "ticks": ""
             }
            },
            "type": "scattergeo"
           }
          ],
          "scattergl": [
           {
            "marker": {
             "colorbar": {
              "outlinewidth": 0,
              "ticks": ""
             }
            },
            "type": "scattergl"
           }
          ],
          "scattermapbox": [
           {
            "marker": {
             "colorbar": {
              "outlinewidth": 0,
              "ticks": ""
             }
            },
            "type": "scattermapbox"
           }
          ],
          "scatterpolar": [
           {
            "marker": {
             "colorbar": {
              "outlinewidth": 0,
              "ticks": ""
             }
            },
            "type": "scatterpolar"
           }
          ],
          "scatterpolargl": [
           {
            "marker": {
             "colorbar": {
              "outlinewidth": 0,
              "ticks": ""
             }
            },
            "type": "scatterpolargl"
           }
          ],
          "scatterternary": [
           {
            "marker": {
             "colorbar": {
              "outlinewidth": 0,
              "ticks": ""
             }
            },
            "type": "scatterternary"
           }
          ],
          "surface": [
           {
            "colorbar": {
             "outlinewidth": 0,
             "ticks": ""
            },
            "colorscale": [
             [
              0,
              "#0d0887"
             ],
             [
              0.1111111111111111,
              "#46039f"
             ],
             [
              0.2222222222222222,
              "#7201a8"
             ],
             [
              0.3333333333333333,
              "#9c179e"
             ],
             [
              0.4444444444444444,
              "#bd3786"
             ],
             [
              0.5555555555555556,
              "#d8576b"
             ],
             [
              0.6666666666666666,
              "#ed7953"
             ],
             [
              0.7777777777777778,
              "#fb9f3a"
             ],
             [
              0.8888888888888888,
              "#fdca26"
             ],
             [
              1,
              "#f0f921"
             ]
            ],
            "type": "surface"
           }
          ],
          "table": [
           {
            "cells": {
             "fill": {
              "color": "#EBF0F8"
             },
             "line": {
              "color": "white"
             }
            },
            "header": {
             "fill": {
              "color": "#C8D4E3"
             },
             "line": {
              "color": "white"
             }
            },
            "type": "table"
           }
          ]
         },
         "layout": {
          "annotationdefaults": {
           "arrowcolor": "#2a3f5f",
           "arrowhead": 0,
           "arrowwidth": 1
          },
          "autotypenumbers": "strict",
          "coloraxis": {
           "colorbar": {
            "outlinewidth": 0,
            "ticks": ""
           }
          },
          "colorscale": {
           "diverging": [
            [
             0,
             "#8e0152"
            ],
            [
             0.1,
             "#c51b7d"
            ],
            [
             0.2,
             "#de77ae"
            ],
            [
             0.3,
             "#f1b6da"
            ],
            [
             0.4,
             "#fde0ef"
            ],
            [
             0.5,
             "#f7f7f7"
            ],
            [
             0.6,
             "#e6f5d0"
            ],
            [
             0.7,
             "#b8e186"
            ],
            [
             0.8,
             "#7fbc41"
            ],
            [
             0.9,
             "#4d9221"
            ],
            [
             1,
             "#276419"
            ]
           ],
           "sequential": [
            [
             0,
             "#0d0887"
            ],
            [
             0.1111111111111111,
             "#46039f"
            ],
            [
             0.2222222222222222,
             "#7201a8"
            ],
            [
             0.3333333333333333,
             "#9c179e"
            ],
            [
             0.4444444444444444,
             "#bd3786"
            ],
            [
             0.5555555555555556,
             "#d8576b"
            ],
            [
             0.6666666666666666,
             "#ed7953"
            ],
            [
             0.7777777777777778,
             "#fb9f3a"
            ],
            [
             0.8888888888888888,
             "#fdca26"
            ],
            [
             1,
             "#f0f921"
            ]
           ],
           "sequentialminus": [
            [
             0,
             "#0d0887"
            ],
            [
             0.1111111111111111,
             "#46039f"
            ],
            [
             0.2222222222222222,
             "#7201a8"
            ],
            [
             0.3333333333333333,
             "#9c179e"
            ],
            [
             0.4444444444444444,
             "#bd3786"
            ],
            [
             0.5555555555555556,
             "#d8576b"
            ],
            [
             0.6666666666666666,
             "#ed7953"
            ],
            [
             0.7777777777777778,
             "#fb9f3a"
            ],
            [
             0.8888888888888888,
             "#fdca26"
            ],
            [
             1,
             "#f0f921"
            ]
           ]
          },
          "colorway": [
           "#636efa",
           "#EF553B",
           "#00cc96",
           "#ab63fa",
           "#FFA15A",
           "#19d3f3",
           "#FF6692",
           "#B6E880",
           "#FF97FF",
           "#FECB52"
          ],
          "font": {
           "color": "#2a3f5f"
          },
          "geo": {
           "bgcolor": "white",
           "lakecolor": "white",
           "landcolor": "#E5ECF6",
           "showlakes": true,
           "showland": true,
           "subunitcolor": "white"
          },
          "hoverlabel": {
           "align": "left"
          },
          "hovermode": "closest",
          "mapbox": {
           "style": "light"
          },
          "paper_bgcolor": "white",
          "plot_bgcolor": "#E5ECF6",
          "polar": {
           "angularaxis": {
            "gridcolor": "white",
            "linecolor": "white",
            "ticks": ""
           },
           "bgcolor": "#E5ECF6",
           "radialaxis": {
            "gridcolor": "white",
            "linecolor": "white",
            "ticks": ""
           }
          },
          "scene": {
           "xaxis": {
            "backgroundcolor": "#E5ECF6",
            "gridcolor": "white",
            "gridwidth": 2,
            "linecolor": "white",
            "showbackground": true,
            "ticks": "",
            "zerolinecolor": "white"
           },
           "yaxis": {
            "backgroundcolor": "#E5ECF6",
            "gridcolor": "white",
            "gridwidth": 2,
            "linecolor": "white",
            "showbackground": true,
            "ticks": "",
            "zerolinecolor": "white"
           },
           "zaxis": {
            "backgroundcolor": "#E5ECF6",
            "gridcolor": "white",
            "gridwidth": 2,
            "linecolor": "white",
            "showbackground": true,
            "ticks": "",
            "zerolinecolor": "white"
           }
          },
          "shapedefaults": {
           "line": {
            "color": "#2a3f5f"
           }
          },
          "ternary": {
           "aaxis": {
            "gridcolor": "white",
            "linecolor": "white",
            "ticks": ""
           },
           "baxis": {
            "gridcolor": "white",
            "linecolor": "white",
            "ticks": ""
           },
           "bgcolor": "#E5ECF6",
           "caxis": {
            "gridcolor": "white",
            "linecolor": "white",
            "ticks": ""
           }
          },
          "title": {
           "x": 0.05
          },
          "xaxis": {
           "automargin": true,
           "gridcolor": "white",
           "linecolor": "white",
           "ticks": "",
           "title": {
            "standoff": 15
           },
           "zerolinecolor": "white",
           "zerolinewidth": 2
          },
          "yaxis": {
           "automargin": true,
           "gridcolor": "white",
           "linecolor": "white",
           "ticks": "",
           "title": {
            "standoff": 15
           },
           "zerolinecolor": "white",
           "zerolinewidth": 2
          }
         }
        },
        "title": {
         "font": {
          "color": "#4D5663"
         }
        },
        "xaxis": {
         "gridcolor": "#E1E5ED",
         "showgrid": true,
         "tickfont": {
          "color": "#4D5663"
         },
         "title": {
          "font": {
           "color": "#4D5663"
          },
          "text": ""
         },
         "zerolinecolor": "#E1E5ED"
        },
        "yaxis": {
         "gridcolor": "#E1E5ED",
         "showgrid": true,
         "tickfont": {
          "color": "#4D5663"
         },
         "title": {
          "font": {
           "color": "#4D5663"
          },
          "text": ""
         },
         "zerolinecolor": "#E1E5ED"
        }
       }
      },
      "text/html": [
       "<div>                            <div id=\"437147b2-3aa3-4b1c-bede-e3765f668183\" class=\"plotly-graph-div\" style=\"height:525px; width:100%;\"></div>            <script type=\"text/javascript\">                require([\"plotly\"], function(Plotly) {                    window.PLOTLYENV=window.PLOTLYENV || {};\n",
       "                    window.PLOTLYENV.BASE_URL='https://plot.ly';                                    if (document.getElementById(\"437147b2-3aa3-4b1c-bede-e3765f668183\")) {                    Plotly.newPlot(                        \"437147b2-3aa3-4b1c-bede-e3765f668183\",                        [{\"histfunc\": \"count\", \"histnorm\": \"\", \"marker\": {\"color\": \"rgba(255, 153, 51, 1.0)\", \"line\": {\"color\": \"#4D5663\", \"width\": 1.3}}, \"name\": \"A\", \"nbinsx\": 50, \"opacity\": 0.8, \"orientation\": \"v\", \"type\": \"histogram\", \"x\": [-1.7538858937551702, -1.7226856703555207, -0.4140247115632524, 0.8211538745067284, 1.1389978845908453, 0.2937800164063252, 0.38523754634530905, 0.2495826223220929, 0.4639041966379346, 0.7966092223449669, 1.767194154936893, -1.0236061425711371, -0.35302571009675604, 1.2179000914228575, -0.44883972685594975, -1.1619490891090674, 0.265305113798835, 0.9905367335152827, -0.33441518723358027, -0.5480061657291567, -1.5001806885986948, -1.6590235035842018, -1.3715138381506373, 0.825866973830695, 0.9420282609542272, 0.2606962286828969, -0.8849246227370032, -0.1078503532732208, -0.2974603475612812, 0.9503169590893906, 0.41812936220293445, -0.5348523266504603, 0.3760730387943392, 1.0318066442606086, -1.2427394197115595, 0.5043938659863496, 1.376755938082115, 0.6005663618734192, -1.0519314917957416, 0.8808568140393724, -2.5261638208699035, 0.7136595538703409, 0.3677890721824107, -0.018947152325261948, -0.553662200013513, -0.7925670548920108, -0.6685321613037117, -1.0229969463524564, -0.9238619405833758, 3.080723651001204, 1.147456931259636, -1.8086378449607519, -0.24632702376956678, 0.5684542426237913, 0.32936644752117283, -0.2615535328896379, -0.4105392123307298, 1.6966320973188525, -0.7331190860107024, 0.3478166244604999, -1.876629782501499, 0.7441579168092955, -0.45529571105198646, 0.5307556936191674, 0.7043984803253995, -0.518335332573801, 0.2801872548345399, 0.6279250320877873, -0.699545807581524, -1.4828830868202263, -0.008939436335171736, -0.585396146704361, -0.09089604926936432, 2.158360064948021, 0.040842014274870456, 0.8994208482062952, -0.18837857102847666, 0.39477911885784556, -0.49919456228234604, -0.24278778188330472, -0.27801459712440885, -0.02005599493814914, 0.5111805799165396, -0.7177136725412908, -0.16231118047802034, -0.630899750574069, -0.28833971879513925, -1.3391993460263756, 0.43487028069968203, 2.4936536813480936, 0.9268871399951262, 0.2290428161700579, 0.5817920127165599, -1.103928935045968, 0.06652031913783847, 0.8547749603573822, 0.22744064562977065, -0.21988446126173516, 0.7915929868565157, 1.2123195799722162]}],                        {\"barmode\": \"overlay\", \"legend\": {\"bgcolor\": \"#F5F6F9\", \"font\": {\"color\": \"#4D5663\"}}, \"paper_bgcolor\": \"#F5F6F9\", \"plot_bgcolor\": \"#F5F6F9\", \"template\": {\"data\": {\"bar\": [{\"error_x\": {\"color\": \"#2a3f5f\"}, \"error_y\": {\"color\": \"#2a3f5f\"}, \"marker\": {\"line\": {\"color\": \"#E5ECF6\", \"width\": 0.5}}, \"type\": \"bar\"}], \"barpolar\": [{\"marker\": {\"line\": {\"color\": \"#E5ECF6\", \"width\": 0.5}}, \"type\": \"barpolar\"}], \"carpet\": [{\"aaxis\": {\"endlinecolor\": \"#2a3f5f\", \"gridcolor\": \"white\", \"linecolor\": \"white\", \"minorgridcolor\": \"white\", \"startlinecolor\": \"#2a3f5f\"}, \"baxis\": {\"endlinecolor\": \"#2a3f5f\", \"gridcolor\": \"white\", \"linecolor\": \"white\", \"minorgridcolor\": \"white\", \"startlinecolor\": \"#2a3f5f\"}, \"type\": \"carpet\"}], \"choropleth\": [{\"colorbar\": {\"outlinewidth\": 0, \"ticks\": \"\"}, \"type\": \"choropleth\"}], \"contour\": [{\"colorbar\": {\"outlinewidth\": 0, \"ticks\": \"\"}, \"colorscale\": [[0.0, \"#0d0887\"], [0.1111111111111111, \"#46039f\"], [0.2222222222222222, \"#7201a8\"], [0.3333333333333333, \"#9c179e\"], [0.4444444444444444, \"#bd3786\"], [0.5555555555555556, \"#d8576b\"], [0.6666666666666666, \"#ed7953\"], [0.7777777777777778, \"#fb9f3a\"], [0.8888888888888888, \"#fdca26\"], [1.0, \"#f0f921\"]], \"type\": \"contour\"}], \"contourcarpet\": [{\"colorbar\": {\"outlinewidth\": 0, \"ticks\": \"\"}, \"type\": \"contourcarpet\"}], \"heatmap\": [{\"colorbar\": {\"outlinewidth\": 0, \"ticks\": \"\"}, \"colorscale\": [[0.0, \"#0d0887\"], [0.1111111111111111, \"#46039f\"], [0.2222222222222222, \"#7201a8\"], [0.3333333333333333, \"#9c179e\"], [0.4444444444444444, \"#bd3786\"], [0.5555555555555556, \"#d8576b\"], [0.6666666666666666, \"#ed7953\"], [0.7777777777777778, \"#fb9f3a\"], [0.8888888888888888, \"#fdca26\"], [1.0, \"#f0f921\"]], \"type\": \"heatmap\"}], \"heatmapgl\": [{\"colorbar\": {\"outlinewidth\": 0, \"ticks\": \"\"}, \"colorscale\": [[0.0, \"#0d0887\"], [0.1111111111111111, \"#46039f\"], [0.2222222222222222, \"#7201a8\"], [0.3333333333333333, \"#9c179e\"], [0.4444444444444444, \"#bd3786\"], [0.5555555555555556, \"#d8576b\"], [0.6666666666666666, \"#ed7953\"], [0.7777777777777778, \"#fb9f3a\"], [0.8888888888888888, \"#fdca26\"], [1.0, \"#f0f921\"]], \"type\": \"heatmapgl\"}], \"histogram\": [{\"marker\": {\"colorbar\": {\"outlinewidth\": 0, \"ticks\": \"\"}}, \"type\": \"histogram\"}], \"histogram2d\": [{\"colorbar\": {\"outlinewidth\": 0, \"ticks\": \"\"}, \"colorscale\": [[0.0, \"#0d0887\"], [0.1111111111111111, \"#46039f\"], [0.2222222222222222, \"#7201a8\"], [0.3333333333333333, \"#9c179e\"], [0.4444444444444444, \"#bd3786\"], [0.5555555555555556, \"#d8576b\"], [0.6666666666666666, \"#ed7953\"], [0.7777777777777778, \"#fb9f3a\"], [0.8888888888888888, \"#fdca26\"], [1.0, \"#f0f921\"]], \"type\": \"histogram2d\"}], \"histogram2dcontour\": [{\"colorbar\": {\"outlinewidth\": 0, \"ticks\": \"\"}, \"colorscale\": [[0.0, \"#0d0887\"], [0.1111111111111111, \"#46039f\"], [0.2222222222222222, \"#7201a8\"], [0.3333333333333333, \"#9c179e\"], [0.4444444444444444, \"#bd3786\"], [0.5555555555555556, \"#d8576b\"], [0.6666666666666666, \"#ed7953\"], [0.7777777777777778, \"#fb9f3a\"], [0.8888888888888888, \"#fdca26\"], [1.0, \"#f0f921\"]], \"type\": \"histogram2dcontour\"}], \"mesh3d\": [{\"colorbar\": {\"outlinewidth\": 0, \"ticks\": \"\"}, \"type\": \"mesh3d\"}], \"parcoords\": [{\"line\": {\"colorbar\": {\"outlinewidth\": 0, \"ticks\": \"\"}}, \"type\": \"parcoords\"}], \"pie\": [{\"automargin\": true, \"type\": \"pie\"}], \"scatter\": [{\"marker\": {\"colorbar\": {\"outlinewidth\": 0, \"ticks\": \"\"}}, \"type\": \"scatter\"}], \"scatter3d\": [{\"line\": {\"colorbar\": {\"outlinewidth\": 0, \"ticks\": \"\"}}, \"marker\": {\"colorbar\": {\"outlinewidth\": 0, \"ticks\": \"\"}}, \"type\": \"scatter3d\"}], \"scattercarpet\": [{\"marker\": {\"colorbar\": {\"outlinewidth\": 0, \"ticks\": \"\"}}, \"type\": \"scattercarpet\"}], \"scattergeo\": [{\"marker\": {\"colorbar\": {\"outlinewidth\": 0, \"ticks\": \"\"}}, \"type\": \"scattergeo\"}], \"scattergl\": [{\"marker\": {\"colorbar\": {\"outlinewidth\": 0, \"ticks\": \"\"}}, \"type\": \"scattergl\"}], \"scattermapbox\": [{\"marker\": {\"colorbar\": {\"outlinewidth\": 0, \"ticks\": \"\"}}, \"type\": \"scattermapbox\"}], \"scatterpolar\": [{\"marker\": {\"colorbar\": {\"outlinewidth\": 0, \"ticks\": \"\"}}, \"type\": \"scatterpolar\"}], \"scatterpolargl\": [{\"marker\": {\"colorbar\": {\"outlinewidth\": 0, \"ticks\": \"\"}}, \"type\": \"scatterpolargl\"}], \"scatterternary\": [{\"marker\": {\"colorbar\": {\"outlinewidth\": 0, \"ticks\": \"\"}}, \"type\": \"scatterternary\"}], \"surface\": [{\"colorbar\": {\"outlinewidth\": 0, \"ticks\": \"\"}, \"colorscale\": [[0.0, \"#0d0887\"], [0.1111111111111111, \"#46039f\"], [0.2222222222222222, \"#7201a8\"], [0.3333333333333333, \"#9c179e\"], [0.4444444444444444, \"#bd3786\"], [0.5555555555555556, \"#d8576b\"], [0.6666666666666666, \"#ed7953\"], [0.7777777777777778, \"#fb9f3a\"], [0.8888888888888888, \"#fdca26\"], [1.0, \"#f0f921\"]], \"type\": \"surface\"}], \"table\": [{\"cells\": {\"fill\": {\"color\": \"#EBF0F8\"}, \"line\": {\"color\": \"white\"}}, \"header\": {\"fill\": {\"color\": \"#C8D4E3\"}, \"line\": {\"color\": \"white\"}}, \"type\": \"table\"}]}, \"layout\": {\"annotationdefaults\": {\"arrowcolor\": \"#2a3f5f\", \"arrowhead\": 0, \"arrowwidth\": 1}, \"autotypenumbers\": \"strict\", \"coloraxis\": {\"colorbar\": {\"outlinewidth\": 0, \"ticks\": \"\"}}, \"colorscale\": {\"diverging\": [[0, \"#8e0152\"], [0.1, \"#c51b7d\"], [0.2, \"#de77ae\"], [0.3, \"#f1b6da\"], [0.4, \"#fde0ef\"], [0.5, \"#f7f7f7\"], [0.6, \"#e6f5d0\"], [0.7, \"#b8e186\"], [0.8, \"#7fbc41\"], [0.9, \"#4d9221\"], [1, \"#276419\"]], \"sequential\": [[0.0, \"#0d0887\"], [0.1111111111111111, \"#46039f\"], [0.2222222222222222, \"#7201a8\"], [0.3333333333333333, \"#9c179e\"], [0.4444444444444444, \"#bd3786\"], [0.5555555555555556, \"#d8576b\"], [0.6666666666666666, \"#ed7953\"], [0.7777777777777778, \"#fb9f3a\"], [0.8888888888888888, \"#fdca26\"], [1.0, \"#f0f921\"]], \"sequentialminus\": [[0.0, \"#0d0887\"], [0.1111111111111111, \"#46039f\"], [0.2222222222222222, \"#7201a8\"], [0.3333333333333333, \"#9c179e\"], [0.4444444444444444, \"#bd3786\"], [0.5555555555555556, \"#d8576b\"], [0.6666666666666666, \"#ed7953\"], [0.7777777777777778, \"#fb9f3a\"], [0.8888888888888888, \"#fdca26\"], [1.0, \"#f0f921\"]]}, \"colorway\": [\"#636efa\", \"#EF553B\", \"#00cc96\", \"#ab63fa\", \"#FFA15A\", \"#19d3f3\", \"#FF6692\", \"#B6E880\", \"#FF97FF\", \"#FECB52\"], \"font\": {\"color\": \"#2a3f5f\"}, \"geo\": {\"bgcolor\": \"white\", \"lakecolor\": \"white\", \"landcolor\": \"#E5ECF6\", \"showlakes\": true, \"showland\": true, \"subunitcolor\": \"white\"}, \"hoverlabel\": {\"align\": \"left\"}, \"hovermode\": \"closest\", \"mapbox\": {\"style\": \"light\"}, \"paper_bgcolor\": \"white\", \"plot_bgcolor\": \"#E5ECF6\", \"polar\": {\"angularaxis\": {\"gridcolor\": \"white\", \"linecolor\": \"white\", \"ticks\": \"\"}, \"bgcolor\": \"#E5ECF6\", \"radialaxis\": {\"gridcolor\": \"white\", \"linecolor\": \"white\", \"ticks\": \"\"}}, \"scene\": {\"xaxis\": {\"backgroundcolor\": \"#E5ECF6\", \"gridcolor\": \"white\", \"gridwidth\": 2, \"linecolor\": \"white\", \"showbackground\": true, \"ticks\": \"\", \"zerolinecolor\": \"white\"}, \"yaxis\": {\"backgroundcolor\": \"#E5ECF6\", \"gridcolor\": \"white\", \"gridwidth\": 2, \"linecolor\": \"white\", \"showbackground\": true, \"ticks\": \"\", \"zerolinecolor\": \"white\"}, \"zaxis\": {\"backgroundcolor\": \"#E5ECF6\", \"gridcolor\": \"white\", \"gridwidth\": 2, \"linecolor\": \"white\", \"showbackground\": true, \"ticks\": \"\", \"zerolinecolor\": \"white\"}}, \"shapedefaults\": {\"line\": {\"color\": \"#2a3f5f\"}}, \"ternary\": {\"aaxis\": {\"gridcolor\": \"white\", \"linecolor\": \"white\", \"ticks\": \"\"}, \"baxis\": {\"gridcolor\": \"white\", \"linecolor\": \"white\", \"ticks\": \"\"}, \"bgcolor\": \"#E5ECF6\", \"caxis\": {\"gridcolor\": \"white\", \"linecolor\": \"white\", \"ticks\": \"\"}}, \"title\": {\"x\": 0.05}, \"xaxis\": {\"automargin\": true, \"gridcolor\": \"white\", \"linecolor\": \"white\", \"ticks\": \"\", \"title\": {\"standoff\": 15}, \"zerolinecolor\": \"white\", \"zerolinewidth\": 2}, \"yaxis\": {\"automargin\": true, \"gridcolor\": \"white\", \"linecolor\": \"white\", \"ticks\": \"\", \"title\": {\"standoff\": 15}, \"zerolinecolor\": \"white\", \"zerolinewidth\": 2}}}, \"title\": {\"font\": {\"color\": \"#4D5663\"}}, \"xaxis\": {\"gridcolor\": \"#E1E5ED\", \"showgrid\": true, \"tickfont\": {\"color\": \"#4D5663\"}, \"title\": {\"font\": {\"color\": \"#4D5663\"}, \"text\": \"\"}, \"zerolinecolor\": \"#E1E5ED\"}, \"yaxis\": {\"gridcolor\": \"#E1E5ED\", \"showgrid\": true, \"tickfont\": {\"color\": \"#4D5663\"}, \"title\": {\"font\": {\"color\": \"#4D5663\"}, \"text\": \"\"}, \"zerolinecolor\": \"#E1E5ED\"}},                        {\"showLink\": true, \"linkText\": \"Export to plot.ly\", \"plotlyServerURL\": \"https://plot.ly\", \"responsive\": true}                    ).then(function(){\n",
       "                            \n",
       "var gd = document.getElementById('437147b2-3aa3-4b1c-bede-e3765f668183');\n",
       "var x = new MutationObserver(function (mutations, observer) {{\n",
       "        var display = window.getComputedStyle(gd).display;\n",
       "        if (!display || display === 'none') {{\n",
       "            console.log([gd, 'removed!']);\n",
       "            Plotly.purge(gd);\n",
       "            observer.disconnect();\n",
       "        }}\n",
       "}});\n",
       "\n",
       "// Listen for the removal of the full notebook cells\n",
       "var notebookContainer = gd.closest('#notebook-container');\n",
       "if (notebookContainer) {{\n",
       "    x.observe(notebookContainer, {childList: true});\n",
       "}}\n",
       "\n",
       "// Listen for the clearing of the current output cell\n",
       "var outputEl = gd.closest('.output');\n",
       "if (outputEl) {{\n",
       "    x.observe(outputEl, {childList: true});\n",
       "}}\n",
       "\n",
       "                        })                };                });            </script>        </div>"
      ]
     },
     "metadata": {},
     "output_type": "display_data"
    }
   ],
   "source": [
    "df1['A'].iplot(kind='hist',bins=50) # for a single column\n",
    "#df1.iplot(kind='hist',bins=25) # overlaped hist plots, trun ON/OFF"
   ]
  },
  {
   "cell_type": "markdown",
   "metadata": {},
   "source": [
    "### `kind = spread`\n",
    "spread is usually used for stock data. The code below will give the plot and a spread between two selected columns at each point.  "
   ]
  },
  {
   "cell_type": "code",
   "execution_count": 17,
   "metadata": {},
   "outputs": [
    {
     "name": "stderr",
     "output_type": "stream",
     "text": [
      "C:\\Users\\siva\\anaconda3\\lib\\site-packages\\cufflinks\\plotlytools.py:849: FutureWarning:\n",
      "\n",
      "The pandas.np module is deprecated and will be removed from pandas in a future version. Import numpy directly instead\n",
      "\n",
      "C:\\Users\\siva\\anaconda3\\lib\\site-packages\\cufflinks\\plotlytools.py:850: FutureWarning:\n",
      "\n",
      "The pandas.np module is deprecated and will be removed from pandas in a future version. Import numpy directly instead\n",
      "\n"
     ]
    },
    {
     "data": {
      "application/vnd.plotly.v1+json": {
       "config": {
        "linkText": "Export to plot.ly",
        "plotlyServerURL": "https://plot.ly",
        "showLink": true
       },
       "data": [
        {
         "line": {
          "color": "rgba(255, 153, 51, 1.0)",
          "dash": "solid",
          "shape": "linear",
          "width": 1.3
         },
         "mode": "lines",
         "name": "A",
         "text": "",
         "type": "scatter",
         "x": [
          0,
          1,
          2,
          3,
          4,
          5,
          6,
          7,
          8,
          9,
          10,
          11,
          12,
          13,
          14,
          15,
          16,
          17,
          18,
          19,
          20,
          21,
          22,
          23,
          24,
          25,
          26,
          27,
          28,
          29,
          30,
          31,
          32,
          33,
          34,
          35,
          36,
          37,
          38,
          39,
          40,
          41,
          42,
          43,
          44,
          45,
          46,
          47,
          48,
          49,
          50,
          51,
          52,
          53,
          54,
          55,
          56,
          57,
          58,
          59,
          60,
          61,
          62,
          63,
          64,
          65,
          66,
          67,
          68,
          69,
          70,
          71,
          72,
          73,
          74,
          75,
          76,
          77,
          78,
          79,
          80,
          81,
          82,
          83,
          84,
          85,
          86,
          87,
          88,
          89,
          90,
          91,
          92,
          93,
          94,
          95,
          96,
          97,
          98,
          99
         ],
         "y": [
          -1.7538858937551702,
          -1.7226856703555207,
          -0.4140247115632524,
          0.8211538745067284,
          1.1389978845908453,
          0.2937800164063252,
          0.38523754634530905,
          0.2495826223220929,
          0.4639041966379346,
          0.7966092223449669,
          1.767194154936893,
          -1.0236061425711371,
          -0.35302571009675604,
          1.2179000914228575,
          -0.44883972685594975,
          -1.1619490891090674,
          0.265305113798835,
          0.9905367335152827,
          -0.33441518723358027,
          -0.5480061657291567,
          -1.5001806885986948,
          -1.6590235035842018,
          -1.3715138381506373,
          0.825866973830695,
          0.9420282609542272,
          0.2606962286828969,
          -0.8849246227370032,
          -0.1078503532732208,
          -0.2974603475612812,
          0.9503169590893906,
          0.41812936220293445,
          -0.5348523266504603,
          0.3760730387943392,
          1.0318066442606086,
          -1.2427394197115595,
          0.5043938659863496,
          1.376755938082115,
          0.6005663618734192,
          -1.0519314917957416,
          0.8808568140393724,
          -2.5261638208699035,
          0.7136595538703409,
          0.3677890721824107,
          -0.018947152325261948,
          -0.553662200013513,
          -0.7925670548920108,
          -0.6685321613037117,
          -1.0229969463524564,
          -0.9238619405833758,
          3.080723651001204,
          1.147456931259636,
          -1.8086378449607519,
          -0.24632702376956678,
          0.5684542426237913,
          0.32936644752117283,
          -0.2615535328896379,
          -0.4105392123307298,
          1.6966320973188525,
          -0.7331190860107024,
          0.3478166244604999,
          -1.876629782501499,
          0.7441579168092955,
          -0.45529571105198646,
          0.5307556936191674,
          0.7043984803253995,
          -0.518335332573801,
          0.2801872548345399,
          0.6279250320877873,
          -0.699545807581524,
          -1.4828830868202263,
          -0.008939436335171736,
          -0.585396146704361,
          -0.09089604926936432,
          2.158360064948021,
          0.040842014274870456,
          0.8994208482062952,
          -0.18837857102847666,
          0.39477911885784556,
          -0.49919456228234604,
          -0.24278778188330472,
          -0.27801459712440885,
          -0.02005599493814914,
          0.5111805799165396,
          -0.7177136725412908,
          -0.16231118047802034,
          -0.630899750574069,
          -0.28833971879513925,
          -1.3391993460263756,
          0.43487028069968203,
          2.4936536813480936,
          0.9268871399951262,
          0.2290428161700579,
          0.5817920127165599,
          -1.103928935045968,
          0.06652031913783847,
          0.8547749603573822,
          0.22744064562977065,
          -0.21988446126173516,
          0.7915929868565157,
          1.2123195799722162
         ]
        },
        {
         "line": {
          "color": "rgba(55, 128, 191, 1.0)",
          "dash": "solid",
          "shape": "linear",
          "width": 1.3
         },
         "mode": "lines",
         "name": "B",
         "text": "",
         "type": "scatter",
         "x": [
          0,
          1,
          2,
          3,
          4,
          5,
          6,
          7,
          8,
          9,
          10,
          11,
          12,
          13,
          14,
          15,
          16,
          17,
          18,
          19,
          20,
          21,
          22,
          23,
          24,
          25,
          26,
          27,
          28,
          29,
          30,
          31,
          32,
          33,
          34,
          35,
          36,
          37,
          38,
          39,
          40,
          41,
          42,
          43,
          44,
          45,
          46,
          47,
          48,
          49,
          50,
          51,
          52,
          53,
          54,
          55,
          56,
          57,
          58,
          59,
          60,
          61,
          62,
          63,
          64,
          65,
          66,
          67,
          68,
          69,
          70,
          71,
          72,
          73,
          74,
          75,
          76,
          77,
          78,
          79,
          80,
          81,
          82,
          83,
          84,
          85,
          86,
          87,
          88,
          89,
          90,
          91,
          92,
          93,
          94,
          95,
          96,
          97,
          98,
          99
         ],
         "y": [
          -0.15034330799727522,
          -0.6775470321842226,
          0.6292302615166938,
          0.5146514364050291,
          0.12812953407454677,
          1.4826523396260014,
          1.09461465459242,
          -1.4309059964459574,
          0.9924000728264003,
          -0.16462330131150943,
          -0.9680204294618735,
          -0.05819894733102732,
          -0.4193492884002126,
          -0.9512509775295541,
          -1.5592432068927438,
          -0.37724667575089077,
          -0.8163454087741805,
          -1.1634426284274009,
          -0.7727169645991858,
          -1.5660952387404672,
          1.63108501567007,
          0.22506325763177487,
          -0.25763665286886805,
          0.214860159679175,
          1.251753056344124,
          1.6690314114825355,
          0.3022929317996026,
          0.7392394248453502,
          -0.32489558407014246,
          0.01816151334724389,
          -1.111172085958229,
          0.798352804883693,
          0.6689865089232654,
          1.0112287761521896,
          -1.0089163375181691,
          0.010197645661448367,
          -1.3606762482533754,
          1.3145565857906587,
          -1.4714209197893855,
          -0.020970917635074096,
          -0.734765310087592,
          -0.2577290087930091,
          -0.16650988995760022,
          -0.0077112515004609345,
          0.5156972692644582,
          -1.5358085131991082,
          2.2327494567305863,
          0.26956941953525115,
          -1.3301215335316772,
          -1.1899279787713606,
          0.12113748908960048,
          0.6013672613407213,
          -0.8773803605119841,
          0.4587511532092964,
          0.6156664665083802,
          -0.12173311874599524,
          -1.209952008476506,
          0.9255410385804945,
          0.8919998451645604,
          0.35032603007400487,
          -1.062444387771096,
          0.06669724592427571,
          -1.203321627677848,
          -0.4905731440856716,
          -0.8608338683949729,
          0.05490535505286273,
          0.9957292249459686,
          -0.547794495412987,
          0.8518552352628243,
          0.5881964642812763,
          -1.784922865556606,
          -1.0250579370559378,
          1.1404566416637723,
          0.6585384645569528,
          0.6879293639606842,
          1.09000165692416,
          -1.2315473031585094,
          0.7718231219070881,
          0.834867657747323,
          0.5206816714698226,
          -0.12189711099490538,
          -2.794522227360413,
          1.7058546209147678,
          0.3103434913930824,
          0.29940444575234265,
          2.346868837056278,
          -0.13980954316876368,
          0.32151168696495624,
          0.8555709588576978,
          -0.32964332918219585,
          -0.05134402117910471,
          -0.8213825402502497,
          -1.3226533802406837,
          2.239462592111017,
          -1.067529006567402,
          -0.1749593741413527,
          1.2879721958908095,
          0.7740484010414118,
          -0.5052050279423617,
          1.458345819319322
         ]
        },
        {
         "connectgaps": false,
         "fill": "tozeroy",
         "line": {
          "color": "green",
          "dash": "solid",
          "shape": "linear",
          "width": 0.5
         },
         "mode": "lines",
         "name": "Spread",
         "showlegend": false,
         "type": "scatter",
         "x": [
          0,
          1,
          2,
          3,
          4,
          5,
          6,
          7,
          8,
          9,
          10,
          11,
          12,
          13,
          14,
          15,
          16,
          17,
          18,
          19,
          20,
          21,
          22,
          23,
          24,
          25,
          26,
          27,
          28,
          29,
          30,
          31,
          32,
          33,
          34,
          35,
          36,
          37,
          38,
          39,
          40,
          41,
          42,
          43,
          44,
          45,
          46,
          47,
          48,
          49,
          50,
          51,
          52,
          53,
          54,
          55,
          56,
          57,
          58,
          59,
          60,
          61,
          62,
          63,
          64,
          65,
          66,
          67,
          68,
          69,
          70,
          71,
          72,
          73,
          74,
          75,
          76,
          77,
          78,
          79,
          80,
          81,
          82,
          83,
          84,
          85,
          86,
          87,
          88,
          89,
          90,
          91,
          92,
          93,
          94,
          95,
          96,
          97,
          98,
          99
         ],
         "xaxis": "x2",
         "y": [
          "",
          "",
          "",
          0.3065024381016993,
          1.0108683505162985,
          "",
          "",
          1.6804886187680503,
          "",
          0.9612325236564763,
          2.7352145843987667,
          "",
          0.06632357830345659,
          2.1691510689524116,
          1.1104034800367941,
          "",
          1.0816505225730155,
          2.1539793619426835,
          0.43830177736560555,
          1.0180890730113106,
          "",
          "",
          "",
          0.6110068141515199,
          "",
          "",
          "",
          "",
          0.02743523650886126,
          0.9321554457421467,
          1.5293014481611635,
          "",
          "",
          0.020577868108418995,
          "",
          0.49419622032490124,
          2.7374321863354902,
          "",
          0.41948942799364386,
          0.9018277316744465,
          "",
          0.9713885626633499,
          0.5342989621400109,
          "",
          "",
          0.7432414583070973,
          "",
          "",
          0.4062595929483014,
          4.270651629772565,
          1.0263194421700357,
          "",
          0.6310533367424174,
          0.10970308941449491,
          "",
          "",
          0.7994127961457762,
          0.7710910587383579,
          "",
          "",
          "",
          0.6774606708850198,
          0.7480259166258616,
          1.021328837704839,
          1.5652323487203725,
          "",
          "",
          1.1757195275007741,
          "",
          "",
          1.7759834292214343,
          0.4396617903515768,
          "",
          1.499821600391068,
          "",
          "",
          1.0431687321300327,
          "",
          "",
          "",
          "",
          2.7744662324222635,
          "",
          "",
          "",
          "",
          "",
          "",
          "",
          2.8232970105302897,
          0.9782311611742309,
          1.0504253564203077,
          1.9044453929572436,
          "",
          1.1340493257052404,
          1.0297343344987349,
          "",
          "",
          1.2967980147988774,
          ""
         ],
         "yaxis": "y2"
        },
        {
         "connectgaps": false,
         "fill": "tozeroy",
         "line": {
          "color": "red",
          "dash": "solid",
          "shape": "linear",
          "width": 0.5
         },
         "mode": "lines",
         "name": "Spread",
         "showlegend": false,
         "type": "scatter",
         "x": [
          0,
          1,
          2,
          3,
          4,
          5,
          6,
          7,
          8,
          9,
          10,
          11,
          12,
          13,
          14,
          15,
          16,
          17,
          18,
          19,
          20,
          21,
          22,
          23,
          24,
          25,
          26,
          27,
          28,
          29,
          30,
          31,
          32,
          33,
          34,
          35,
          36,
          37,
          38,
          39,
          40,
          41,
          42,
          43,
          44,
          45,
          46,
          47,
          48,
          49,
          50,
          51,
          52,
          53,
          54,
          55,
          56,
          57,
          58,
          59,
          60,
          61,
          62,
          63,
          64,
          65,
          66,
          67,
          68,
          69,
          70,
          71,
          72,
          73,
          74,
          75,
          76,
          77,
          78,
          79,
          80,
          81,
          82,
          83,
          84,
          85,
          86,
          87,
          88,
          89,
          90,
          91,
          92,
          93,
          94,
          95,
          96,
          97,
          98,
          99
         ],
         "xaxis": "x2",
         "y": [
          -1.603542585757895,
          -1.0451386381712982,
          -1.043254973079946,
          "",
          "",
          -1.1888723232196763,
          -0.709377108247111,
          "",
          -0.5284958761884657,
          "",
          "",
          -0.9654071952401098,
          "",
          "",
          "",
          -0.7847024133581766,
          "",
          "",
          "",
          "",
          -3.131265704268765,
          -1.8840867612159766,
          -1.1138771852817693,
          "",
          -0.3097247953898967,
          -1.4083351827996387,
          -1.187217554536606,
          -0.847089778118571,
          "",
          "",
          "",
          -1.3332051315341533,
          -0.2929134701289262,
          "",
          -0.23382308219339043,
          "",
          "",
          -0.7139902239172395,
          "",
          "",
          -1.7913985107823116,
          "",
          "",
          -0.011235900824801012,
          -1.069359469277971,
          "",
          -2.901281618034298,
          -1.2925663658877076,
          "",
          "",
          "",
          -2.4100051063014734,
          "",
          "",
          -0.28630001898720736,
          -0.13982041414364266,
          "",
          "",
          -1.6251189311752627,
          -0.002509405613504989,
          -0.814185394730403,
          "",
          "",
          "",
          "",
          -0.5732406876266638,
          -0.7155419701114287,
          "",
          -1.5514010428443483,
          -2.0710795511015023,
          "",
          "",
          -1.2313526909331365,
          "",
          -0.6470873496858137,
          -0.19058080871786476,
          "",
          -0.37704400304924257,
          -1.334062220029669,
          -0.7634694533531273,
          -0.15611748612950346,
          "",
          -1.1946740409982282,
          -1.0280571639343732,
          -0.461715626230363,
          -2.977768587630347,
          -0.14853017562637558,
          -1.660711032991332,
          -0.4207006781580158,
          "",
          "",
          "",
          "",
          -3.343391527156985,
          "",
          "",
          -1.0605315502610388,
          -0.9939328623031469,
          "",
          -0.24602623934710577
         ],
         "yaxis": "y2"
        }
       ],
       "layout": {
        "hovermode": "x",
        "legend": {
         "bgcolor": "#F5F6F9",
         "font": {
          "color": "#4D5663"
         }
        },
        "paper_bgcolor": "#F5F6F9",
        "plot_bgcolor": "#F5F6F9",
        "template": {
         "data": {
          "bar": [
           {
            "error_x": {
             "color": "#2a3f5f"
            },
            "error_y": {
             "color": "#2a3f5f"
            },
            "marker": {
             "line": {
              "color": "#E5ECF6",
              "width": 0.5
             }
            },
            "type": "bar"
           }
          ],
          "barpolar": [
           {
            "marker": {
             "line": {
              "color": "#E5ECF6",
              "width": 0.5
             }
            },
            "type": "barpolar"
           }
          ],
          "carpet": [
           {
            "aaxis": {
             "endlinecolor": "#2a3f5f",
             "gridcolor": "white",
             "linecolor": "white",
             "minorgridcolor": "white",
             "startlinecolor": "#2a3f5f"
            },
            "baxis": {
             "endlinecolor": "#2a3f5f",
             "gridcolor": "white",
             "linecolor": "white",
             "minorgridcolor": "white",
             "startlinecolor": "#2a3f5f"
            },
            "type": "carpet"
           }
          ],
          "choropleth": [
           {
            "colorbar": {
             "outlinewidth": 0,
             "ticks": ""
            },
            "type": "choropleth"
           }
          ],
          "contour": [
           {
            "colorbar": {
             "outlinewidth": 0,
             "ticks": ""
            },
            "colorscale": [
             [
              0,
              "#0d0887"
             ],
             [
              0.1111111111111111,
              "#46039f"
             ],
             [
              0.2222222222222222,
              "#7201a8"
             ],
             [
              0.3333333333333333,
              "#9c179e"
             ],
             [
              0.4444444444444444,
              "#bd3786"
             ],
             [
              0.5555555555555556,
              "#d8576b"
             ],
             [
              0.6666666666666666,
              "#ed7953"
             ],
             [
              0.7777777777777778,
              "#fb9f3a"
             ],
             [
              0.8888888888888888,
              "#fdca26"
             ],
             [
              1,
              "#f0f921"
             ]
            ],
            "type": "contour"
           }
          ],
          "contourcarpet": [
           {
            "colorbar": {
             "outlinewidth": 0,
             "ticks": ""
            },
            "type": "contourcarpet"
           }
          ],
          "heatmap": [
           {
            "colorbar": {
             "outlinewidth": 0,
             "ticks": ""
            },
            "colorscale": [
             [
              0,
              "#0d0887"
             ],
             [
              0.1111111111111111,
              "#46039f"
             ],
             [
              0.2222222222222222,
              "#7201a8"
             ],
             [
              0.3333333333333333,
              "#9c179e"
             ],
             [
              0.4444444444444444,
              "#bd3786"
             ],
             [
              0.5555555555555556,
              "#d8576b"
             ],
             [
              0.6666666666666666,
              "#ed7953"
             ],
             [
              0.7777777777777778,
              "#fb9f3a"
             ],
             [
              0.8888888888888888,
              "#fdca26"
             ],
             [
              1,
              "#f0f921"
             ]
            ],
            "type": "heatmap"
           }
          ],
          "heatmapgl": [
           {
            "colorbar": {
             "outlinewidth": 0,
             "ticks": ""
            },
            "colorscale": [
             [
              0,
              "#0d0887"
             ],
             [
              0.1111111111111111,
              "#46039f"
             ],
             [
              0.2222222222222222,
              "#7201a8"
             ],
             [
              0.3333333333333333,
              "#9c179e"
             ],
             [
              0.4444444444444444,
              "#bd3786"
             ],
             [
              0.5555555555555556,
              "#d8576b"
             ],
             [
              0.6666666666666666,
              "#ed7953"
             ],
             [
              0.7777777777777778,
              "#fb9f3a"
             ],
             [
              0.8888888888888888,
              "#fdca26"
             ],
             [
              1,
              "#f0f921"
             ]
            ],
            "type": "heatmapgl"
           }
          ],
          "histogram": [
           {
            "marker": {
             "colorbar": {
              "outlinewidth": 0,
              "ticks": ""
             }
            },
            "type": "histogram"
           }
          ],
          "histogram2d": [
           {
            "colorbar": {
             "outlinewidth": 0,
             "ticks": ""
            },
            "colorscale": [
             [
              0,
              "#0d0887"
             ],
             [
              0.1111111111111111,
              "#46039f"
             ],
             [
              0.2222222222222222,
              "#7201a8"
             ],
             [
              0.3333333333333333,
              "#9c179e"
             ],
             [
              0.4444444444444444,
              "#bd3786"
             ],
             [
              0.5555555555555556,
              "#d8576b"
             ],
             [
              0.6666666666666666,
              "#ed7953"
             ],
             [
              0.7777777777777778,
              "#fb9f3a"
             ],
             [
              0.8888888888888888,
              "#fdca26"
             ],
             [
              1,
              "#f0f921"
             ]
            ],
            "type": "histogram2d"
           }
          ],
          "histogram2dcontour": [
           {
            "colorbar": {
             "outlinewidth": 0,
             "ticks": ""
            },
            "colorscale": [
             [
              0,
              "#0d0887"
             ],
             [
              0.1111111111111111,
              "#46039f"
             ],
             [
              0.2222222222222222,
              "#7201a8"
             ],
             [
              0.3333333333333333,
              "#9c179e"
             ],
             [
              0.4444444444444444,
              "#bd3786"
             ],
             [
              0.5555555555555556,
              "#d8576b"
             ],
             [
              0.6666666666666666,
              "#ed7953"
             ],
             [
              0.7777777777777778,
              "#fb9f3a"
             ],
             [
              0.8888888888888888,
              "#fdca26"
             ],
             [
              1,
              "#f0f921"
             ]
            ],
            "type": "histogram2dcontour"
           }
          ],
          "mesh3d": [
           {
            "colorbar": {
             "outlinewidth": 0,
             "ticks": ""
            },
            "type": "mesh3d"
           }
          ],
          "parcoords": [
           {
            "line": {
             "colorbar": {
              "outlinewidth": 0,
              "ticks": ""
             }
            },
            "type": "parcoords"
           }
          ],
          "pie": [
           {
            "automargin": true,
            "type": "pie"
           }
          ],
          "scatter": [
           {
            "marker": {
             "colorbar": {
              "outlinewidth": 0,
              "ticks": ""
             }
            },
            "type": "scatter"
           }
          ],
          "scatter3d": [
           {
            "line": {
             "colorbar": {
              "outlinewidth": 0,
              "ticks": ""
             }
            },
            "marker": {
             "colorbar": {
              "outlinewidth": 0,
              "ticks": ""
             }
            },
            "type": "scatter3d"
           }
          ],
          "scattercarpet": [
           {
            "marker": {
             "colorbar": {
              "outlinewidth": 0,
              "ticks": ""
             }
            },
            "type": "scattercarpet"
           }
          ],
          "scattergeo": [
           {
            "marker": {
             "colorbar": {
              "outlinewidth": 0,
              "ticks": ""
             }
            },
            "type": "scattergeo"
           }
          ],
          "scattergl": [
           {
            "marker": {
             "colorbar": {
              "outlinewidth": 0,
              "ticks": ""
             }
            },
            "type": "scattergl"
           }
          ],
          "scattermapbox": [
           {
            "marker": {
             "colorbar": {
              "outlinewidth": 0,
              "ticks": ""
             }
            },
            "type": "scattermapbox"
           }
          ],
          "scatterpolar": [
           {
            "marker": {
             "colorbar": {
              "outlinewidth": 0,
              "ticks": ""
             }
            },
            "type": "scatterpolar"
           }
          ],
          "scatterpolargl": [
           {
            "marker": {
             "colorbar": {
              "outlinewidth": 0,
              "ticks": ""
             }
            },
            "type": "scatterpolargl"
           }
          ],
          "scatterternary": [
           {
            "marker": {
             "colorbar": {
              "outlinewidth": 0,
              "ticks": ""
             }
            },
            "type": "scatterternary"
           }
          ],
          "surface": [
           {
            "colorbar": {
             "outlinewidth": 0,
             "ticks": ""
            },
            "colorscale": [
             [
              0,
              "#0d0887"
             ],
             [
              0.1111111111111111,
              "#46039f"
             ],
             [
              0.2222222222222222,
              "#7201a8"
             ],
             [
              0.3333333333333333,
              "#9c179e"
             ],
             [
              0.4444444444444444,
              "#bd3786"
             ],
             [
              0.5555555555555556,
              "#d8576b"
             ],
             [
              0.6666666666666666,
              "#ed7953"
             ],
             [
              0.7777777777777778,
              "#fb9f3a"
             ],
             [
              0.8888888888888888,
              "#fdca26"
             ],
             [
              1,
              "#f0f921"
             ]
            ],
            "type": "surface"
           }
          ],
          "table": [
           {
            "cells": {
             "fill": {
              "color": "#EBF0F8"
             },
             "line": {
              "color": "white"
             }
            },
            "header": {
             "fill": {
              "color": "#C8D4E3"
             },
             "line": {
              "color": "white"
             }
            },
            "type": "table"
           }
          ]
         },
         "layout": {
          "annotationdefaults": {
           "arrowcolor": "#2a3f5f",
           "arrowhead": 0,
           "arrowwidth": 1
          },
          "autotypenumbers": "strict",
          "coloraxis": {
           "colorbar": {
            "outlinewidth": 0,
            "ticks": ""
           }
          },
          "colorscale": {
           "diverging": [
            [
             0,
             "#8e0152"
            ],
            [
             0.1,
             "#c51b7d"
            ],
            [
             0.2,
             "#de77ae"
            ],
            [
             0.3,
             "#f1b6da"
            ],
            [
             0.4,
             "#fde0ef"
            ],
            [
             0.5,
             "#f7f7f7"
            ],
            [
             0.6,
             "#e6f5d0"
            ],
            [
             0.7,
             "#b8e186"
            ],
            [
             0.8,
             "#7fbc41"
            ],
            [
             0.9,
             "#4d9221"
            ],
            [
             1,
             "#276419"
            ]
           ],
           "sequential": [
            [
             0,
             "#0d0887"
            ],
            [
             0.1111111111111111,
             "#46039f"
            ],
            [
             0.2222222222222222,
             "#7201a8"
            ],
            [
             0.3333333333333333,
             "#9c179e"
            ],
            [
             0.4444444444444444,
             "#bd3786"
            ],
            [
             0.5555555555555556,
             "#d8576b"
            ],
            [
             0.6666666666666666,
             "#ed7953"
            ],
            [
             0.7777777777777778,
             "#fb9f3a"
            ],
            [
             0.8888888888888888,
             "#fdca26"
            ],
            [
             1,
             "#f0f921"
            ]
           ],
           "sequentialminus": [
            [
             0,
             "#0d0887"
            ],
            [
             0.1111111111111111,
             "#46039f"
            ],
            [
             0.2222222222222222,
             "#7201a8"
            ],
            [
             0.3333333333333333,
             "#9c179e"
            ],
            [
             0.4444444444444444,
             "#bd3786"
            ],
            [
             0.5555555555555556,
             "#d8576b"
            ],
            [
             0.6666666666666666,
             "#ed7953"
            ],
            [
             0.7777777777777778,
             "#fb9f3a"
            ],
            [
             0.8888888888888888,
             "#fdca26"
            ],
            [
             1,
             "#f0f921"
            ]
           ]
          },
          "colorway": [
           "#636efa",
           "#EF553B",
           "#00cc96",
           "#ab63fa",
           "#FFA15A",
           "#19d3f3",
           "#FF6692",
           "#B6E880",
           "#FF97FF",
           "#FECB52"
          ],
          "font": {
           "color": "#2a3f5f"
          },
          "geo": {
           "bgcolor": "white",
           "lakecolor": "white",
           "landcolor": "#E5ECF6",
           "showlakes": true,
           "showland": true,
           "subunitcolor": "white"
          },
          "hoverlabel": {
           "align": "left"
          },
          "hovermode": "closest",
          "mapbox": {
           "style": "light"
          },
          "paper_bgcolor": "white",
          "plot_bgcolor": "#E5ECF6",
          "polar": {
           "angularaxis": {
            "gridcolor": "white",
            "linecolor": "white",
            "ticks": ""
           },
           "bgcolor": "#E5ECF6",
           "radialaxis": {
            "gridcolor": "white",
            "linecolor": "white",
            "ticks": ""
           }
          },
          "scene": {
           "xaxis": {
            "backgroundcolor": "#E5ECF6",
            "gridcolor": "white",
            "gridwidth": 2,
            "linecolor": "white",
            "showbackground": true,
            "ticks": "",
            "zerolinecolor": "white"
           },
           "yaxis": {
            "backgroundcolor": "#E5ECF6",
            "gridcolor": "white",
            "gridwidth": 2,
            "linecolor": "white",
            "showbackground": true,
            "ticks": "",
            "zerolinecolor": "white"
           },
           "zaxis": {
            "backgroundcolor": "#E5ECF6",
            "gridcolor": "white",
            "gridwidth": 2,
            "linecolor": "white",
            "showbackground": true,
            "ticks": "",
            "zerolinecolor": "white"
           }
          },
          "shapedefaults": {
           "line": {
            "color": "#2a3f5f"
           }
          },
          "ternary": {
           "aaxis": {
            "gridcolor": "white",
            "linecolor": "white",
            "ticks": ""
           },
           "baxis": {
            "gridcolor": "white",
            "linecolor": "white",
            "ticks": ""
           },
           "bgcolor": "#E5ECF6",
           "caxis": {
            "gridcolor": "white",
            "linecolor": "white",
            "ticks": ""
           }
          },
          "title": {
           "x": 0.05
          },
          "xaxis": {
           "automargin": true,
           "gridcolor": "white",
           "linecolor": "white",
           "ticks": "",
           "title": {
            "standoff": 15
           },
           "zerolinecolor": "white",
           "zerolinewidth": 2
          },
          "yaxis": {
           "automargin": true,
           "gridcolor": "white",
           "linecolor": "white",
           "ticks": "",
           "title": {
            "standoff": 15
           },
           "zerolinecolor": "white",
           "zerolinewidth": 2
          }
         }
        },
        "title": {
         "font": {
          "color": "#4D5663"
         }
        },
        "xaxis": {
         "gridcolor": "#E1E5ED",
         "showgrid": true,
         "tickfont": {
          "color": "#4D5663"
         },
         "title": {
          "font": {
           "color": "#4D5663"
          },
          "text": ""
         },
         "zerolinecolor": "#E1E5ED"
        },
        "xaxis2": {
         "anchor": "y2",
         "gridcolor": "#E1E5ED",
         "showgrid": true,
         "showticklabels": false,
         "tickfont": {
          "color": "#4D5663"
         },
         "title": {
          "font": {
           "color": "#4D5663"
          },
          "text": ""
         },
         "zerolinecolor": "#E1E5ED"
        },
        "yaxis": {
         "domain": [
          0.3,
          1
         ],
         "gridcolor": "#E1E5ED",
         "showgrid": true,
         "tickfont": {
          "color": "#4D5663"
         },
         "title": {
          "font": {
           "color": "#4D5663"
          },
          "text": ""
         },
         "zerolinecolor": "#E1E5ED"
        },
        "yaxis2": {
         "domain": [
          0,
          0.25
         ],
         "gridcolor": "#E1E5ED",
         "showgrid": true,
         "tickfont": {
          "color": "#4D5663"
         },
         "title": {
          "font": {
           "color": "#4D5663"
          },
          "text": "Spread"
         },
         "zerolinecolor": "#E1E5ED"
        }
       }
      },
      "text/html": [
       "<div>                            <div id=\"c31336e6-0bf5-47f7-9df7-efb375c7dbd6\" class=\"plotly-graph-div\" style=\"height:525px; width:100%;\"></div>            <script type=\"text/javascript\">                require([\"plotly\"], function(Plotly) {                    window.PLOTLYENV=window.PLOTLYENV || {};\n",
       "                    window.PLOTLYENV.BASE_URL='https://plot.ly';                                    if (document.getElementById(\"c31336e6-0bf5-47f7-9df7-efb375c7dbd6\")) {                    Plotly.newPlot(                        \"c31336e6-0bf5-47f7-9df7-efb375c7dbd6\",                        [{\"line\": {\"color\": \"rgba(255, 153, 51, 1.0)\", \"dash\": \"solid\", \"shape\": \"linear\", \"width\": 1.3}, \"mode\": \"lines\", \"name\": \"A\", \"text\": \"\", \"type\": \"scatter\", \"x\": [0, 1, 2, 3, 4, 5, 6, 7, 8, 9, 10, 11, 12, 13, 14, 15, 16, 17, 18, 19, 20, 21, 22, 23, 24, 25, 26, 27, 28, 29, 30, 31, 32, 33, 34, 35, 36, 37, 38, 39, 40, 41, 42, 43, 44, 45, 46, 47, 48, 49, 50, 51, 52, 53, 54, 55, 56, 57, 58, 59, 60, 61, 62, 63, 64, 65, 66, 67, 68, 69, 70, 71, 72, 73, 74, 75, 76, 77, 78, 79, 80, 81, 82, 83, 84, 85, 86, 87, 88, 89, 90, 91, 92, 93, 94, 95, 96, 97, 98, 99], \"y\": [-1.7538858937551702, -1.7226856703555207, -0.4140247115632524, 0.8211538745067284, 1.1389978845908453, 0.2937800164063252, 0.38523754634530905, 0.2495826223220929, 0.4639041966379346, 0.7966092223449669, 1.767194154936893, -1.0236061425711371, -0.35302571009675604, 1.2179000914228575, -0.44883972685594975, -1.1619490891090674, 0.265305113798835, 0.9905367335152827, -0.33441518723358027, -0.5480061657291567, -1.5001806885986948, -1.6590235035842018, -1.3715138381506373, 0.825866973830695, 0.9420282609542272, 0.2606962286828969, -0.8849246227370032, -0.1078503532732208, -0.2974603475612812, 0.9503169590893906, 0.41812936220293445, -0.5348523266504603, 0.3760730387943392, 1.0318066442606086, -1.2427394197115595, 0.5043938659863496, 1.376755938082115, 0.6005663618734192, -1.0519314917957416, 0.8808568140393724, -2.5261638208699035, 0.7136595538703409, 0.3677890721824107, -0.018947152325261948, -0.553662200013513, -0.7925670548920108, -0.6685321613037117, -1.0229969463524564, -0.9238619405833758, 3.080723651001204, 1.147456931259636, -1.8086378449607519, -0.24632702376956678, 0.5684542426237913, 0.32936644752117283, -0.2615535328896379, -0.4105392123307298, 1.6966320973188525, -0.7331190860107024, 0.3478166244604999, -1.876629782501499, 0.7441579168092955, -0.45529571105198646, 0.5307556936191674, 0.7043984803253995, -0.518335332573801, 0.2801872548345399, 0.6279250320877873, -0.699545807581524, -1.4828830868202263, -0.008939436335171736, -0.585396146704361, -0.09089604926936432, 2.158360064948021, 0.040842014274870456, 0.8994208482062952, -0.18837857102847666, 0.39477911885784556, -0.49919456228234604, -0.24278778188330472, -0.27801459712440885, -0.02005599493814914, 0.5111805799165396, -0.7177136725412908, -0.16231118047802034, -0.630899750574069, -0.28833971879513925, -1.3391993460263756, 0.43487028069968203, 2.4936536813480936, 0.9268871399951262, 0.2290428161700579, 0.5817920127165599, -1.103928935045968, 0.06652031913783847, 0.8547749603573822, 0.22744064562977065, -0.21988446126173516, 0.7915929868565157, 1.2123195799722162]}, {\"line\": {\"color\": \"rgba(55, 128, 191, 1.0)\", \"dash\": \"solid\", \"shape\": \"linear\", \"width\": 1.3}, \"mode\": \"lines\", \"name\": \"B\", \"text\": \"\", \"type\": \"scatter\", \"x\": [0, 1, 2, 3, 4, 5, 6, 7, 8, 9, 10, 11, 12, 13, 14, 15, 16, 17, 18, 19, 20, 21, 22, 23, 24, 25, 26, 27, 28, 29, 30, 31, 32, 33, 34, 35, 36, 37, 38, 39, 40, 41, 42, 43, 44, 45, 46, 47, 48, 49, 50, 51, 52, 53, 54, 55, 56, 57, 58, 59, 60, 61, 62, 63, 64, 65, 66, 67, 68, 69, 70, 71, 72, 73, 74, 75, 76, 77, 78, 79, 80, 81, 82, 83, 84, 85, 86, 87, 88, 89, 90, 91, 92, 93, 94, 95, 96, 97, 98, 99], \"y\": [-0.15034330799727522, -0.6775470321842226, 0.6292302615166938, 0.5146514364050291, 0.12812953407454677, 1.4826523396260014, 1.09461465459242, -1.4309059964459574, 0.9924000728264003, -0.16462330131150943, -0.9680204294618735, -0.05819894733102732, -0.4193492884002126, -0.9512509775295541, -1.5592432068927438, -0.37724667575089077, -0.8163454087741805, -1.1634426284274009, -0.7727169645991858, -1.5660952387404672, 1.63108501567007, 0.22506325763177487, -0.25763665286886805, 0.214860159679175, 1.251753056344124, 1.6690314114825355, 0.3022929317996026, 0.7392394248453502, -0.32489558407014246, 0.01816151334724389, -1.111172085958229, 0.798352804883693, 0.6689865089232654, 1.0112287761521896, -1.0089163375181691, 0.010197645661448367, -1.3606762482533754, 1.3145565857906587, -1.4714209197893855, -0.020970917635074096, -0.734765310087592, -0.2577290087930091, -0.16650988995760022, -0.0077112515004609345, 0.5156972692644582, -1.5358085131991082, 2.2327494567305863, 0.26956941953525115, -1.3301215335316772, -1.1899279787713606, 0.12113748908960048, 0.6013672613407213, -0.8773803605119841, 0.4587511532092964, 0.6156664665083802, -0.12173311874599524, -1.209952008476506, 0.9255410385804945, 0.8919998451645604, 0.35032603007400487, -1.062444387771096, 0.06669724592427571, -1.203321627677848, -0.4905731440856716, -0.8608338683949729, 0.05490535505286273, 0.9957292249459686, -0.547794495412987, 0.8518552352628243, 0.5881964642812763, -1.784922865556606, -1.0250579370559378, 1.1404566416637723, 0.6585384645569528, 0.6879293639606842, 1.09000165692416, -1.2315473031585094, 0.7718231219070881, 0.834867657747323, 0.5206816714698226, -0.12189711099490538, -2.794522227360413, 1.7058546209147678, 0.3103434913930824, 0.29940444575234265, 2.346868837056278, -0.13980954316876368, 0.32151168696495624, 0.8555709588576978, -0.32964332918219585, -0.05134402117910471, -0.8213825402502497, -1.3226533802406837, 2.239462592111017, -1.067529006567402, -0.1749593741413527, 1.2879721958908095, 0.7740484010414118, -0.5052050279423617, 1.458345819319322]}, {\"connectgaps\": false, \"fill\": \"tozeroy\", \"line\": {\"color\": \"green\", \"dash\": \"solid\", \"shape\": \"linear\", \"width\": 0.5}, \"mode\": \"lines\", \"name\": \"Spread\", \"showlegend\": false, \"type\": \"scatter\", \"x\": [0, 1, 2, 3, 4, 5, 6, 7, 8, 9, 10, 11, 12, 13, 14, 15, 16, 17, 18, 19, 20, 21, 22, 23, 24, 25, 26, 27, 28, 29, 30, 31, 32, 33, 34, 35, 36, 37, 38, 39, 40, 41, 42, 43, 44, 45, 46, 47, 48, 49, 50, 51, 52, 53, 54, 55, 56, 57, 58, 59, 60, 61, 62, 63, 64, 65, 66, 67, 68, 69, 70, 71, 72, 73, 74, 75, 76, 77, 78, 79, 80, 81, 82, 83, 84, 85, 86, 87, 88, 89, 90, 91, 92, 93, 94, 95, 96, 97, 98, 99], \"xaxis\": \"x2\", \"y\": [\"\", \"\", \"\", 0.3065024381016993, 1.0108683505162985, \"\", \"\", 1.6804886187680503, \"\", 0.9612325236564763, 2.7352145843987667, \"\", 0.06632357830345659, 2.1691510689524116, 1.1104034800367941, \"\", 1.0816505225730155, 2.1539793619426835, 0.43830177736560555, 1.0180890730113106, \"\", \"\", \"\", 0.6110068141515199, \"\", \"\", \"\", \"\", 0.02743523650886126, 0.9321554457421467, 1.5293014481611635, \"\", \"\", 0.020577868108418995, \"\", 0.49419622032490124, 2.7374321863354902, \"\", 0.41948942799364386, 0.9018277316744465, \"\", 0.9713885626633499, 0.5342989621400109, \"\", \"\", 0.7432414583070973, \"\", \"\", 0.4062595929483014, 4.270651629772565, 1.0263194421700357, \"\", 0.6310533367424174, 0.10970308941449491, \"\", \"\", 0.7994127961457762, 0.7710910587383579, \"\", \"\", \"\", 0.6774606708850198, 0.7480259166258616, 1.021328837704839, 1.5652323487203725, \"\", \"\", 1.1757195275007741, \"\", \"\", 1.7759834292214343, 0.4396617903515768, \"\", 1.499821600391068, \"\", \"\", 1.0431687321300327, \"\", \"\", \"\", \"\", 2.7744662324222635, \"\", \"\", \"\", \"\", \"\", \"\", \"\", 2.8232970105302897, 0.9782311611742309, 1.0504253564203077, 1.9044453929572436, \"\", 1.1340493257052404, 1.0297343344987349, \"\", \"\", 1.2967980147988774, \"\"], \"yaxis\": \"y2\"}, {\"connectgaps\": false, \"fill\": \"tozeroy\", \"line\": {\"color\": \"red\", \"dash\": \"solid\", \"shape\": \"linear\", \"width\": 0.5}, \"mode\": \"lines\", \"name\": \"Spread\", \"showlegend\": false, \"type\": \"scatter\", \"x\": [0, 1, 2, 3, 4, 5, 6, 7, 8, 9, 10, 11, 12, 13, 14, 15, 16, 17, 18, 19, 20, 21, 22, 23, 24, 25, 26, 27, 28, 29, 30, 31, 32, 33, 34, 35, 36, 37, 38, 39, 40, 41, 42, 43, 44, 45, 46, 47, 48, 49, 50, 51, 52, 53, 54, 55, 56, 57, 58, 59, 60, 61, 62, 63, 64, 65, 66, 67, 68, 69, 70, 71, 72, 73, 74, 75, 76, 77, 78, 79, 80, 81, 82, 83, 84, 85, 86, 87, 88, 89, 90, 91, 92, 93, 94, 95, 96, 97, 98, 99], \"xaxis\": \"x2\", \"y\": [-1.603542585757895, -1.0451386381712982, -1.043254973079946, \"\", \"\", -1.1888723232196763, -0.709377108247111, \"\", -0.5284958761884657, \"\", \"\", -0.9654071952401098, \"\", \"\", \"\", -0.7847024133581766, \"\", \"\", \"\", \"\", -3.131265704268765, -1.8840867612159766, -1.1138771852817693, \"\", -0.3097247953898967, -1.4083351827996387, -1.187217554536606, -0.847089778118571, \"\", \"\", \"\", -1.3332051315341533, -0.2929134701289262, \"\", -0.23382308219339043, \"\", \"\", -0.7139902239172395, \"\", \"\", -1.7913985107823116, \"\", \"\", -0.011235900824801012, -1.069359469277971, \"\", -2.901281618034298, -1.2925663658877076, \"\", \"\", \"\", -2.4100051063014734, \"\", \"\", -0.28630001898720736, -0.13982041414364266, \"\", \"\", -1.6251189311752627, -0.002509405613504989, -0.814185394730403, \"\", \"\", \"\", \"\", -0.5732406876266638, -0.7155419701114287, \"\", -1.5514010428443483, -2.0710795511015023, \"\", \"\", -1.2313526909331365, \"\", -0.6470873496858137, -0.19058080871786476, \"\", -0.37704400304924257, -1.334062220029669, -0.7634694533531273, -0.15611748612950346, \"\", -1.1946740409982282, -1.0280571639343732, -0.461715626230363, -2.977768587630347, -0.14853017562637558, -1.660711032991332, -0.4207006781580158, \"\", \"\", \"\", \"\", -3.343391527156985, \"\", \"\", -1.0605315502610388, -0.9939328623031469, \"\", -0.24602623934710577], \"yaxis\": \"y2\"}],                        {\"hovermode\": \"x\", \"legend\": {\"bgcolor\": \"#F5F6F9\", \"font\": {\"color\": \"#4D5663\"}}, \"paper_bgcolor\": \"#F5F6F9\", \"plot_bgcolor\": \"#F5F6F9\", \"template\": {\"data\": {\"bar\": [{\"error_x\": {\"color\": \"#2a3f5f\"}, \"error_y\": {\"color\": \"#2a3f5f\"}, \"marker\": {\"line\": {\"color\": \"#E5ECF6\", \"width\": 0.5}}, \"type\": \"bar\"}], \"barpolar\": [{\"marker\": {\"line\": {\"color\": \"#E5ECF6\", \"width\": 0.5}}, \"type\": \"barpolar\"}], \"carpet\": [{\"aaxis\": {\"endlinecolor\": \"#2a3f5f\", \"gridcolor\": \"white\", \"linecolor\": \"white\", \"minorgridcolor\": \"white\", \"startlinecolor\": \"#2a3f5f\"}, \"baxis\": {\"endlinecolor\": \"#2a3f5f\", \"gridcolor\": \"white\", \"linecolor\": \"white\", \"minorgridcolor\": \"white\", \"startlinecolor\": \"#2a3f5f\"}, \"type\": \"carpet\"}], \"choropleth\": [{\"colorbar\": {\"outlinewidth\": 0, \"ticks\": \"\"}, \"type\": \"choropleth\"}], \"contour\": [{\"colorbar\": {\"outlinewidth\": 0, \"ticks\": \"\"}, \"colorscale\": [[0.0, \"#0d0887\"], [0.1111111111111111, \"#46039f\"], [0.2222222222222222, \"#7201a8\"], [0.3333333333333333, \"#9c179e\"], [0.4444444444444444, \"#bd3786\"], [0.5555555555555556, \"#d8576b\"], [0.6666666666666666, \"#ed7953\"], [0.7777777777777778, \"#fb9f3a\"], [0.8888888888888888, \"#fdca26\"], [1.0, \"#f0f921\"]], \"type\": \"contour\"}], \"contourcarpet\": [{\"colorbar\": {\"outlinewidth\": 0, \"ticks\": \"\"}, \"type\": \"contourcarpet\"}], \"heatmap\": [{\"colorbar\": {\"outlinewidth\": 0, \"ticks\": \"\"}, \"colorscale\": [[0.0, \"#0d0887\"], [0.1111111111111111, \"#46039f\"], [0.2222222222222222, \"#7201a8\"], [0.3333333333333333, \"#9c179e\"], [0.4444444444444444, \"#bd3786\"], [0.5555555555555556, \"#d8576b\"], [0.6666666666666666, \"#ed7953\"], [0.7777777777777778, \"#fb9f3a\"], [0.8888888888888888, \"#fdca26\"], [1.0, \"#f0f921\"]], \"type\": \"heatmap\"}], \"heatmapgl\": [{\"colorbar\": {\"outlinewidth\": 0, \"ticks\": \"\"}, \"colorscale\": [[0.0, \"#0d0887\"], [0.1111111111111111, \"#46039f\"], [0.2222222222222222, \"#7201a8\"], [0.3333333333333333, \"#9c179e\"], [0.4444444444444444, \"#bd3786\"], [0.5555555555555556, \"#d8576b\"], [0.6666666666666666, \"#ed7953\"], [0.7777777777777778, \"#fb9f3a\"], [0.8888888888888888, \"#fdca26\"], [1.0, \"#f0f921\"]], \"type\": \"heatmapgl\"}], \"histogram\": [{\"marker\": {\"colorbar\": {\"outlinewidth\": 0, \"ticks\": \"\"}}, \"type\": \"histogram\"}], \"histogram2d\": [{\"colorbar\": {\"outlinewidth\": 0, \"ticks\": \"\"}, \"colorscale\": [[0.0, \"#0d0887\"], [0.1111111111111111, \"#46039f\"], [0.2222222222222222, \"#7201a8\"], [0.3333333333333333, \"#9c179e\"], [0.4444444444444444, \"#bd3786\"], [0.5555555555555556, \"#d8576b\"], [0.6666666666666666, \"#ed7953\"], [0.7777777777777778, \"#fb9f3a\"], [0.8888888888888888, \"#fdca26\"], [1.0, \"#f0f921\"]], \"type\": \"histogram2d\"}], \"histogram2dcontour\": [{\"colorbar\": {\"outlinewidth\": 0, \"ticks\": \"\"}, \"colorscale\": [[0.0, \"#0d0887\"], [0.1111111111111111, \"#46039f\"], [0.2222222222222222, \"#7201a8\"], [0.3333333333333333, \"#9c179e\"], [0.4444444444444444, \"#bd3786\"], [0.5555555555555556, \"#d8576b\"], [0.6666666666666666, \"#ed7953\"], [0.7777777777777778, \"#fb9f3a\"], [0.8888888888888888, \"#fdca26\"], [1.0, \"#f0f921\"]], \"type\": \"histogram2dcontour\"}], \"mesh3d\": [{\"colorbar\": {\"outlinewidth\": 0, \"ticks\": \"\"}, \"type\": \"mesh3d\"}], \"parcoords\": [{\"line\": {\"colorbar\": {\"outlinewidth\": 0, \"ticks\": \"\"}}, \"type\": \"parcoords\"}], \"pie\": [{\"automargin\": true, \"type\": \"pie\"}], \"scatter\": [{\"marker\": {\"colorbar\": {\"outlinewidth\": 0, \"ticks\": \"\"}}, \"type\": \"scatter\"}], \"scatter3d\": [{\"line\": {\"colorbar\": {\"outlinewidth\": 0, \"ticks\": \"\"}}, \"marker\": {\"colorbar\": {\"outlinewidth\": 0, \"ticks\": \"\"}}, \"type\": \"scatter3d\"}], \"scattercarpet\": [{\"marker\": {\"colorbar\": {\"outlinewidth\": 0, \"ticks\": \"\"}}, \"type\": \"scattercarpet\"}], \"scattergeo\": [{\"marker\": {\"colorbar\": {\"outlinewidth\": 0, \"ticks\": \"\"}}, \"type\": \"scattergeo\"}], \"scattergl\": [{\"marker\": {\"colorbar\": {\"outlinewidth\": 0, \"ticks\": \"\"}}, \"type\": \"scattergl\"}], \"scattermapbox\": [{\"marker\": {\"colorbar\": {\"outlinewidth\": 0, \"ticks\": \"\"}}, \"type\": \"scattermapbox\"}], \"scatterpolar\": [{\"marker\": {\"colorbar\": {\"outlinewidth\": 0, \"ticks\": \"\"}}, \"type\": \"scatterpolar\"}], \"scatterpolargl\": [{\"marker\": {\"colorbar\": {\"outlinewidth\": 0, \"ticks\": \"\"}}, \"type\": \"scatterpolargl\"}], \"scatterternary\": [{\"marker\": {\"colorbar\": {\"outlinewidth\": 0, \"ticks\": \"\"}}, \"type\": \"scatterternary\"}], \"surface\": [{\"colorbar\": {\"outlinewidth\": 0, \"ticks\": \"\"}, \"colorscale\": [[0.0, \"#0d0887\"], [0.1111111111111111, \"#46039f\"], [0.2222222222222222, \"#7201a8\"], [0.3333333333333333, \"#9c179e\"], [0.4444444444444444, \"#bd3786\"], [0.5555555555555556, \"#d8576b\"], [0.6666666666666666, \"#ed7953\"], [0.7777777777777778, \"#fb9f3a\"], [0.8888888888888888, \"#fdca26\"], [1.0, \"#f0f921\"]], \"type\": \"surface\"}], \"table\": [{\"cells\": {\"fill\": {\"color\": \"#EBF0F8\"}, \"line\": {\"color\": \"white\"}}, \"header\": {\"fill\": {\"color\": \"#C8D4E3\"}, \"line\": {\"color\": \"white\"}}, \"type\": \"table\"}]}, \"layout\": {\"annotationdefaults\": {\"arrowcolor\": \"#2a3f5f\", \"arrowhead\": 0, \"arrowwidth\": 1}, \"autotypenumbers\": \"strict\", \"coloraxis\": {\"colorbar\": {\"outlinewidth\": 0, \"ticks\": \"\"}}, \"colorscale\": {\"diverging\": [[0, \"#8e0152\"], [0.1, \"#c51b7d\"], [0.2, \"#de77ae\"], [0.3, \"#f1b6da\"], [0.4, \"#fde0ef\"], [0.5, \"#f7f7f7\"], [0.6, \"#e6f5d0\"], [0.7, \"#b8e186\"], [0.8, \"#7fbc41\"], [0.9, \"#4d9221\"], [1, \"#276419\"]], \"sequential\": [[0.0, \"#0d0887\"], [0.1111111111111111, \"#46039f\"], [0.2222222222222222, \"#7201a8\"], [0.3333333333333333, \"#9c179e\"], [0.4444444444444444, \"#bd3786\"], [0.5555555555555556, \"#d8576b\"], [0.6666666666666666, \"#ed7953\"], [0.7777777777777778, \"#fb9f3a\"], [0.8888888888888888, \"#fdca26\"], [1.0, \"#f0f921\"]], \"sequentialminus\": [[0.0, \"#0d0887\"], [0.1111111111111111, \"#46039f\"], [0.2222222222222222, \"#7201a8\"], [0.3333333333333333, \"#9c179e\"], [0.4444444444444444, \"#bd3786\"], [0.5555555555555556, \"#d8576b\"], [0.6666666666666666, \"#ed7953\"], [0.7777777777777778, \"#fb9f3a\"], [0.8888888888888888, \"#fdca26\"], [1.0, \"#f0f921\"]]}, \"colorway\": [\"#636efa\", \"#EF553B\", \"#00cc96\", \"#ab63fa\", \"#FFA15A\", \"#19d3f3\", \"#FF6692\", \"#B6E880\", \"#FF97FF\", \"#FECB52\"], \"font\": {\"color\": \"#2a3f5f\"}, \"geo\": {\"bgcolor\": \"white\", \"lakecolor\": \"white\", \"landcolor\": \"#E5ECF6\", \"showlakes\": true, \"showland\": true, \"subunitcolor\": \"white\"}, \"hoverlabel\": {\"align\": \"left\"}, \"hovermode\": \"closest\", \"mapbox\": {\"style\": \"light\"}, \"paper_bgcolor\": \"white\", \"plot_bgcolor\": \"#E5ECF6\", \"polar\": {\"angularaxis\": {\"gridcolor\": \"white\", \"linecolor\": \"white\", \"ticks\": \"\"}, \"bgcolor\": \"#E5ECF6\", \"radialaxis\": {\"gridcolor\": \"white\", \"linecolor\": \"white\", \"ticks\": \"\"}}, \"scene\": {\"xaxis\": {\"backgroundcolor\": \"#E5ECF6\", \"gridcolor\": \"white\", \"gridwidth\": 2, \"linecolor\": \"white\", \"showbackground\": true, \"ticks\": \"\", \"zerolinecolor\": \"white\"}, \"yaxis\": {\"backgroundcolor\": \"#E5ECF6\", \"gridcolor\": \"white\", \"gridwidth\": 2, \"linecolor\": \"white\", \"showbackground\": true, \"ticks\": \"\", \"zerolinecolor\": \"white\"}, \"zaxis\": {\"backgroundcolor\": \"#E5ECF6\", \"gridcolor\": \"white\", \"gridwidth\": 2, \"linecolor\": \"white\", \"showbackground\": true, \"ticks\": \"\", \"zerolinecolor\": \"white\"}}, \"shapedefaults\": {\"line\": {\"color\": \"#2a3f5f\"}}, \"ternary\": {\"aaxis\": {\"gridcolor\": \"white\", \"linecolor\": \"white\", \"ticks\": \"\"}, \"baxis\": {\"gridcolor\": \"white\", \"linecolor\": \"white\", \"ticks\": \"\"}, \"bgcolor\": \"#E5ECF6\", \"caxis\": {\"gridcolor\": \"white\", \"linecolor\": \"white\", \"ticks\": \"\"}}, \"title\": {\"x\": 0.05}, \"xaxis\": {\"automargin\": true, \"gridcolor\": \"white\", \"linecolor\": \"white\", \"ticks\": \"\", \"title\": {\"standoff\": 15}, \"zerolinecolor\": \"white\", \"zerolinewidth\": 2}, \"yaxis\": {\"automargin\": true, \"gridcolor\": \"white\", \"linecolor\": \"white\", \"ticks\": \"\", \"title\": {\"standoff\": 15}, \"zerolinecolor\": \"white\", \"zerolinewidth\": 2}}}, \"title\": {\"font\": {\"color\": \"#4D5663\"}}, \"xaxis\": {\"gridcolor\": \"#E1E5ED\", \"showgrid\": true, \"tickfont\": {\"color\": \"#4D5663\"}, \"title\": {\"font\": {\"color\": \"#4D5663\"}, \"text\": \"\"}, \"zerolinecolor\": \"#E1E5ED\"}, \"xaxis2\": {\"anchor\": \"y2\", \"gridcolor\": \"#E1E5ED\", \"showgrid\": true, \"showticklabels\": false, \"tickfont\": {\"color\": \"#4D5663\"}, \"title\": {\"font\": {\"color\": \"#4D5663\"}, \"text\": \"\"}, \"zerolinecolor\": \"#E1E5ED\"}, \"yaxis\": {\"domain\": [0.3, 1], \"gridcolor\": \"#E1E5ED\", \"showgrid\": true, \"tickfont\": {\"color\": \"#4D5663\"}, \"title\": {\"font\": {\"color\": \"#4D5663\"}, \"text\": \"\"}, \"zerolinecolor\": \"#E1E5ED\"}, \"yaxis2\": {\"domain\": [0, 0.25], \"gridcolor\": \"#E1E5ED\", \"showgrid\": true, \"tickfont\": {\"color\": \"#4D5663\"}, \"title\": {\"font\": {\"color\": \"#4D5663\"}, \"text\": \"Spread\"}, \"zerolinecolor\": \"#E1E5ED\"}},                        {\"showLink\": true, \"linkText\": \"Export to plot.ly\", \"plotlyServerURL\": \"https://plot.ly\", \"responsive\": true}                    ).then(function(){\n",
       "                            \n",
       "var gd = document.getElementById('c31336e6-0bf5-47f7-9df7-efb375c7dbd6');\n",
       "var x = new MutationObserver(function (mutations, observer) {{\n",
       "        var display = window.getComputedStyle(gd).display;\n",
       "        if (!display || display === 'none') {{\n",
       "            console.log([gd, 'removed!']);\n",
       "            Plotly.purge(gd);\n",
       "            observer.disconnect();\n",
       "        }}\n",
       "}});\n",
       "\n",
       "// Listen for the removal of the full notebook cells\n",
       "var notebookContainer = gd.closest('#notebook-container');\n",
       "if (notebookContainer) {{\n",
       "    x.observe(notebookContainer, {childList: true});\n",
       "}}\n",
       "\n",
       "// Listen for the clearing of the current output cell\n",
       "var outputEl = gd.closest('.output');\n",
       "if (outputEl) {{\n",
       "    x.observe(outputEl, {childList: true});\n",
       "}}\n",
       "\n",
       "                        })                };                });            </script>        </div>"
      ]
     },
     "metadata": {},
     "output_type": "display_data"
    }
   ],
   "source": [
    "df1[['A','B']].iplot(kind='spread')"
   ]
  },
  {
   "cell_type": "markdown",
   "metadata": {},
   "source": [
    "### `kind = bubble`\n",
    "Very similar to the scatter plot, but we can use bubble to show the third dimension as a size of the bubble!<br>\n",
    "These plots are very common in plotting world GDP, happiness etc in united nation reports!"
   ]
  },
  {
   "cell_type": "code",
   "execution_count": 18,
   "metadata": {},
   "outputs": [
    {
     "data": {
      "application/vnd.plotly.v1+json": {
       "config": {
        "linkText": "Export to plot.ly",
        "plotlyServerURL": "https://plot.ly",
        "showLink": true
       },
       "data": [
        {
         "marker": {
          "color": [
           "rgb(255, 153, 51)",
           "rgb(55, 128, 191)",
           "rgb(50, 171, 96)",
           "rgb(128, 0, 128)",
           "rgb(219, 64, 82)",
           "rgb(0, 128, 128)",
           "rgb(255, 255, 51)",
           "rgb(128, 128, 0)",
           "rgb(251, 128, 114)",
           "rgb(128, 177, 211)"
          ],
          "line": {
           "width": 1.3
          },
          "size": [
           65,
           76,
           74,
           45,
           59,
           40,
           66,
           50,
           57,
           58,
           56,
           48,
           64,
           78,
           40,
           59,
           35,
           84,
           79,
           77,
           51,
           48,
           72,
           40,
           89,
           69,
           65,
           47,
           48,
           45,
           37,
           51,
           81,
           52,
           12,
           59,
           60,
           41,
           50,
           61,
           39,
           104,
           43,
           28,
           103,
           71,
           73,
           37,
           78,
           47,
           53,
           65,
           73,
           47,
           89,
           62,
           80,
           40,
           36,
           58,
           40,
           20,
           72,
           46,
           77,
           69,
           55,
           55,
           112,
           55,
           84,
           29,
           49,
           58,
           52,
           67,
           73,
           54,
           66,
           47,
           31,
           34,
           67,
           57,
           57,
           66,
           95,
           44,
           67,
           42,
           66,
           74,
           65,
           31,
           56,
           42,
           44,
           46,
           44,
           54
          ],
          "symbol": "circle"
         },
         "mode": "markers",
         "text": "",
         "type": "scatter",
         "x": [
          -1.7538858937551702,
          -1.7226856703555207,
          -0.4140247115632524,
          0.8211538745067284,
          1.1389978845908453,
          0.2937800164063252,
          0.38523754634530905,
          0.2495826223220929,
          0.4639041966379346,
          0.7966092223449669,
          1.767194154936893,
          -1.0236061425711371,
          -0.35302571009675604,
          1.2179000914228575,
          -0.44883972685594975,
          -1.1619490891090674,
          0.265305113798835,
          0.9905367335152827,
          -0.33441518723358027,
          -0.5480061657291567,
          -1.5001806885986948,
          -1.6590235035842018,
          -1.3715138381506373,
          0.825866973830695,
          0.9420282609542272,
          0.2606962286828969,
          -0.8849246227370032,
          -0.1078503532732208,
          -0.2974603475612812,
          0.9503169590893906,
          0.41812936220293445,
          -0.5348523266504603,
          0.3760730387943392,
          1.0318066442606086,
          -1.2427394197115595,
          0.5043938659863496,
          1.376755938082115,
          0.6005663618734192,
          -1.0519314917957416,
          0.8808568140393724,
          -2.5261638208699035,
          0.7136595538703409,
          0.3677890721824107,
          -0.018947152325261948,
          -0.553662200013513,
          -0.7925670548920108,
          -0.6685321613037117,
          -1.0229969463524564,
          -0.9238619405833758,
          3.080723651001204,
          1.147456931259636,
          -1.8086378449607519,
          -0.24632702376956678,
          0.5684542426237913,
          0.32936644752117283,
          -0.2615535328896379,
          -0.4105392123307298,
          1.6966320973188525,
          -0.7331190860107024,
          0.3478166244604999,
          -1.876629782501499,
          0.7441579168092955,
          -0.45529571105198646,
          0.5307556936191674,
          0.7043984803253995,
          -0.518335332573801,
          0.2801872548345399,
          0.6279250320877873,
          -0.699545807581524,
          -1.4828830868202263,
          -0.008939436335171736,
          -0.585396146704361,
          -0.09089604926936432,
          2.158360064948021,
          0.040842014274870456,
          0.8994208482062952,
          -0.18837857102847666,
          0.39477911885784556,
          -0.49919456228234604,
          -0.24278778188330472,
          -0.27801459712440885,
          -0.02005599493814914,
          0.5111805799165396,
          -0.7177136725412908,
          -0.16231118047802034,
          -0.630899750574069,
          -0.28833971879513925,
          -1.3391993460263756,
          0.43487028069968203,
          2.4936536813480936,
          0.9268871399951262,
          0.2290428161700579,
          0.5817920127165599,
          -1.103928935045968,
          0.06652031913783847,
          0.8547749603573822,
          0.22744064562977065,
          -0.21988446126173516,
          0.7915929868565157,
          1.2123195799722162
         ],
         "y": [
          -0.15034330799727522,
          -0.6775470321842226,
          0.6292302615166938,
          0.5146514364050291,
          0.12812953407454677,
          1.4826523396260014,
          1.09461465459242,
          -1.4309059964459574,
          0.9924000728264003,
          -0.16462330131150943,
          -0.9680204294618735,
          -0.05819894733102732,
          -0.4193492884002126,
          -0.9512509775295541,
          -1.5592432068927438,
          -0.37724667575089077,
          -0.8163454087741805,
          -1.1634426284274009,
          -0.7727169645991858,
          -1.5660952387404672,
          1.63108501567007,
          0.22506325763177487,
          -0.25763665286886805,
          0.214860159679175,
          1.251753056344124,
          1.6690314114825355,
          0.3022929317996026,
          0.7392394248453502,
          -0.32489558407014246,
          0.01816151334724389,
          -1.111172085958229,
          0.798352804883693,
          0.6689865089232654,
          1.0112287761521896,
          -1.0089163375181691,
          0.010197645661448367,
          -1.3606762482533754,
          1.3145565857906587,
          -1.4714209197893855,
          -0.020970917635074096,
          -0.734765310087592,
          -0.2577290087930091,
          -0.16650988995760022,
          -0.0077112515004609345,
          0.5156972692644582,
          -1.5358085131991082,
          2.2327494567305863,
          0.26956941953525115,
          -1.3301215335316772,
          -1.1899279787713606,
          0.12113748908960048,
          0.6013672613407213,
          -0.8773803605119841,
          0.4587511532092964,
          0.6156664665083802,
          -0.12173311874599524,
          -1.209952008476506,
          0.9255410385804945,
          0.8919998451645604,
          0.35032603007400487,
          -1.062444387771096,
          0.06669724592427571,
          -1.203321627677848,
          -0.4905731440856716,
          -0.8608338683949729,
          0.05490535505286273,
          0.9957292249459686,
          -0.547794495412987,
          0.8518552352628243,
          0.5881964642812763,
          -1.784922865556606,
          -1.0250579370559378,
          1.1404566416637723,
          0.6585384645569528,
          0.6879293639606842,
          1.09000165692416,
          -1.2315473031585094,
          0.7718231219070881,
          0.834867657747323,
          0.5206816714698226,
          -0.12189711099490538,
          -2.794522227360413,
          1.7058546209147678,
          0.3103434913930824,
          0.29940444575234265,
          2.346868837056278,
          -0.13980954316876368,
          0.32151168696495624,
          0.8555709588576978,
          -0.32964332918219585,
          -0.05134402117910471,
          -0.8213825402502497,
          -1.3226533802406837,
          2.239462592111017,
          -1.067529006567402,
          -0.1749593741413527,
          1.2879721958908095,
          0.7740484010414118,
          -0.5052050279423617,
          1.458345819319322
         ]
        }
       ],
       "layout": {
        "legend": {
         "bgcolor": "#F5F6F9",
         "font": {
          "color": "#4D5663"
         }
        },
        "paper_bgcolor": "#F5F6F9",
        "plot_bgcolor": "#F5F6F9",
        "template": {
         "data": {
          "bar": [
           {
            "error_x": {
             "color": "#2a3f5f"
            },
            "error_y": {
             "color": "#2a3f5f"
            },
            "marker": {
             "line": {
              "color": "#E5ECF6",
              "width": 0.5
             }
            },
            "type": "bar"
           }
          ],
          "barpolar": [
           {
            "marker": {
             "line": {
              "color": "#E5ECF6",
              "width": 0.5
             }
            },
            "type": "barpolar"
           }
          ],
          "carpet": [
           {
            "aaxis": {
             "endlinecolor": "#2a3f5f",
             "gridcolor": "white",
             "linecolor": "white",
             "minorgridcolor": "white",
             "startlinecolor": "#2a3f5f"
            },
            "baxis": {
             "endlinecolor": "#2a3f5f",
             "gridcolor": "white",
             "linecolor": "white",
             "minorgridcolor": "white",
             "startlinecolor": "#2a3f5f"
            },
            "type": "carpet"
           }
          ],
          "choropleth": [
           {
            "colorbar": {
             "outlinewidth": 0,
             "ticks": ""
            },
            "type": "choropleth"
           }
          ],
          "contour": [
           {
            "colorbar": {
             "outlinewidth": 0,
             "ticks": ""
            },
            "colorscale": [
             [
              0,
              "#0d0887"
             ],
             [
              0.1111111111111111,
              "#46039f"
             ],
             [
              0.2222222222222222,
              "#7201a8"
             ],
             [
              0.3333333333333333,
              "#9c179e"
             ],
             [
              0.4444444444444444,
              "#bd3786"
             ],
             [
              0.5555555555555556,
              "#d8576b"
             ],
             [
              0.6666666666666666,
              "#ed7953"
             ],
             [
              0.7777777777777778,
              "#fb9f3a"
             ],
             [
              0.8888888888888888,
              "#fdca26"
             ],
             [
              1,
              "#f0f921"
             ]
            ],
            "type": "contour"
           }
          ],
          "contourcarpet": [
           {
            "colorbar": {
             "outlinewidth": 0,
             "ticks": ""
            },
            "type": "contourcarpet"
           }
          ],
          "heatmap": [
           {
            "colorbar": {
             "outlinewidth": 0,
             "ticks": ""
            },
            "colorscale": [
             [
              0,
              "#0d0887"
             ],
             [
              0.1111111111111111,
              "#46039f"
             ],
             [
              0.2222222222222222,
              "#7201a8"
             ],
             [
              0.3333333333333333,
              "#9c179e"
             ],
             [
              0.4444444444444444,
              "#bd3786"
             ],
             [
              0.5555555555555556,
              "#d8576b"
             ],
             [
              0.6666666666666666,
              "#ed7953"
             ],
             [
              0.7777777777777778,
              "#fb9f3a"
             ],
             [
              0.8888888888888888,
              "#fdca26"
             ],
             [
              1,
              "#f0f921"
             ]
            ],
            "type": "heatmap"
           }
          ],
          "heatmapgl": [
           {
            "colorbar": {
             "outlinewidth": 0,
             "ticks": ""
            },
            "colorscale": [
             [
              0,
              "#0d0887"
             ],
             [
              0.1111111111111111,
              "#46039f"
             ],
             [
              0.2222222222222222,
              "#7201a8"
             ],
             [
              0.3333333333333333,
              "#9c179e"
             ],
             [
              0.4444444444444444,
              "#bd3786"
             ],
             [
              0.5555555555555556,
              "#d8576b"
             ],
             [
              0.6666666666666666,
              "#ed7953"
             ],
             [
              0.7777777777777778,
              "#fb9f3a"
             ],
             [
              0.8888888888888888,
              "#fdca26"
             ],
             [
              1,
              "#f0f921"
             ]
            ],
            "type": "heatmapgl"
           }
          ],
          "histogram": [
           {
            "marker": {
             "colorbar": {
              "outlinewidth": 0,
              "ticks": ""
             }
            },
            "type": "histogram"
           }
          ],
          "histogram2d": [
           {
            "colorbar": {
             "outlinewidth": 0,
             "ticks": ""
            },
            "colorscale": [
             [
              0,
              "#0d0887"
             ],
             [
              0.1111111111111111,
              "#46039f"
             ],
             [
              0.2222222222222222,
              "#7201a8"
             ],
             [
              0.3333333333333333,
              "#9c179e"
             ],
             [
              0.4444444444444444,
              "#bd3786"
             ],
             [
              0.5555555555555556,
              "#d8576b"
             ],
             [
              0.6666666666666666,
              "#ed7953"
             ],
             [
              0.7777777777777778,
              "#fb9f3a"
             ],
             [
              0.8888888888888888,
              "#fdca26"
             ],
             [
              1,
              "#f0f921"
             ]
            ],
            "type": "histogram2d"
           }
          ],
          "histogram2dcontour": [
           {
            "colorbar": {
             "outlinewidth": 0,
             "ticks": ""
            },
            "colorscale": [
             [
              0,
              "#0d0887"
             ],
             [
              0.1111111111111111,
              "#46039f"
             ],
             [
              0.2222222222222222,
              "#7201a8"
             ],
             [
              0.3333333333333333,
              "#9c179e"
             ],
             [
              0.4444444444444444,
              "#bd3786"
             ],
             [
              0.5555555555555556,
              "#d8576b"
             ],
             [
              0.6666666666666666,
              "#ed7953"
             ],
             [
              0.7777777777777778,
              "#fb9f3a"
             ],
             [
              0.8888888888888888,
              "#fdca26"
             ],
             [
              1,
              "#f0f921"
             ]
            ],
            "type": "histogram2dcontour"
           }
          ],
          "mesh3d": [
           {
            "colorbar": {
             "outlinewidth": 0,
             "ticks": ""
            },
            "type": "mesh3d"
           }
          ],
          "parcoords": [
           {
            "line": {
             "colorbar": {
              "outlinewidth": 0,
              "ticks": ""
             }
            },
            "type": "parcoords"
           }
          ],
          "pie": [
           {
            "automargin": true,
            "type": "pie"
           }
          ],
          "scatter": [
           {
            "marker": {
             "colorbar": {
              "outlinewidth": 0,
              "ticks": ""
             }
            },
            "type": "scatter"
           }
          ],
          "scatter3d": [
           {
            "line": {
             "colorbar": {
              "outlinewidth": 0,
              "ticks": ""
             }
            },
            "marker": {
             "colorbar": {
              "outlinewidth": 0,
              "ticks": ""
             }
            },
            "type": "scatter3d"
           }
          ],
          "scattercarpet": [
           {
            "marker": {
             "colorbar": {
              "outlinewidth": 0,
              "ticks": ""
             }
            },
            "type": "scattercarpet"
           }
          ],
          "scattergeo": [
           {
            "marker": {
             "colorbar": {
              "outlinewidth": 0,
              "ticks": ""
             }
            },
            "type": "scattergeo"
           }
          ],
          "scattergl": [
           {
            "marker": {
             "colorbar": {
              "outlinewidth": 0,
              "ticks": ""
             }
            },
            "type": "scattergl"
           }
          ],
          "scattermapbox": [
           {
            "marker": {
             "colorbar": {
              "outlinewidth": 0,
              "ticks": ""
             }
            },
            "type": "scattermapbox"
           }
          ],
          "scatterpolar": [
           {
            "marker": {
             "colorbar": {
              "outlinewidth": 0,
              "ticks": ""
             }
            },
            "type": "scatterpolar"
           }
          ],
          "scatterpolargl": [
           {
            "marker": {
             "colorbar": {
              "outlinewidth": 0,
              "ticks": ""
             }
            },
            "type": "scatterpolargl"
           }
          ],
          "scatterternary": [
           {
            "marker": {
             "colorbar": {
              "outlinewidth": 0,
              "ticks": ""
             }
            },
            "type": "scatterternary"
           }
          ],
          "surface": [
           {
            "colorbar": {
             "outlinewidth": 0,
             "ticks": ""
            },
            "colorscale": [
             [
              0,
              "#0d0887"
             ],
             [
              0.1111111111111111,
              "#46039f"
             ],
             [
              0.2222222222222222,
              "#7201a8"
             ],
             [
              0.3333333333333333,
              "#9c179e"
             ],
             [
              0.4444444444444444,
              "#bd3786"
             ],
             [
              0.5555555555555556,
              "#d8576b"
             ],
             [
              0.6666666666666666,
              "#ed7953"
             ],
             [
              0.7777777777777778,
              "#fb9f3a"
             ],
             [
              0.8888888888888888,
              "#fdca26"
             ],
             [
              1,
              "#f0f921"
             ]
            ],
            "type": "surface"
           }
          ],
          "table": [
           {
            "cells": {
             "fill": {
              "color": "#EBF0F8"
             },
             "line": {
              "color": "white"
             }
            },
            "header": {
             "fill": {
              "color": "#C8D4E3"
             },
             "line": {
              "color": "white"
             }
            },
            "type": "table"
           }
          ]
         },
         "layout": {
          "annotationdefaults": {
           "arrowcolor": "#2a3f5f",
           "arrowhead": 0,
           "arrowwidth": 1
          },
          "autotypenumbers": "strict",
          "coloraxis": {
           "colorbar": {
            "outlinewidth": 0,
            "ticks": ""
           }
          },
          "colorscale": {
           "diverging": [
            [
             0,
             "#8e0152"
            ],
            [
             0.1,
             "#c51b7d"
            ],
            [
             0.2,
             "#de77ae"
            ],
            [
             0.3,
             "#f1b6da"
            ],
            [
             0.4,
             "#fde0ef"
            ],
            [
             0.5,
             "#f7f7f7"
            ],
            [
             0.6,
             "#e6f5d0"
            ],
            [
             0.7,
             "#b8e186"
            ],
            [
             0.8,
             "#7fbc41"
            ],
            [
             0.9,
             "#4d9221"
            ],
            [
             1,
             "#276419"
            ]
           ],
           "sequential": [
            [
             0,
             "#0d0887"
            ],
            [
             0.1111111111111111,
             "#46039f"
            ],
            [
             0.2222222222222222,
             "#7201a8"
            ],
            [
             0.3333333333333333,
             "#9c179e"
            ],
            [
             0.4444444444444444,
             "#bd3786"
            ],
            [
             0.5555555555555556,
             "#d8576b"
            ],
            [
             0.6666666666666666,
             "#ed7953"
            ],
            [
             0.7777777777777778,
             "#fb9f3a"
            ],
            [
             0.8888888888888888,
             "#fdca26"
            ],
            [
             1,
             "#f0f921"
            ]
           ],
           "sequentialminus": [
            [
             0,
             "#0d0887"
            ],
            [
             0.1111111111111111,
             "#46039f"
            ],
            [
             0.2222222222222222,
             "#7201a8"
            ],
            [
             0.3333333333333333,
             "#9c179e"
            ],
            [
             0.4444444444444444,
             "#bd3786"
            ],
            [
             0.5555555555555556,
             "#d8576b"
            ],
            [
             0.6666666666666666,
             "#ed7953"
            ],
            [
             0.7777777777777778,
             "#fb9f3a"
            ],
            [
             0.8888888888888888,
             "#fdca26"
            ],
            [
             1,
             "#f0f921"
            ]
           ]
          },
          "colorway": [
           "#636efa",
           "#EF553B",
           "#00cc96",
           "#ab63fa",
           "#FFA15A",
           "#19d3f3",
           "#FF6692",
           "#B6E880",
           "#FF97FF",
           "#FECB52"
          ],
          "font": {
           "color": "#2a3f5f"
          },
          "geo": {
           "bgcolor": "white",
           "lakecolor": "white",
           "landcolor": "#E5ECF6",
           "showlakes": true,
           "showland": true,
           "subunitcolor": "white"
          },
          "hoverlabel": {
           "align": "left"
          },
          "hovermode": "closest",
          "mapbox": {
           "style": "light"
          },
          "paper_bgcolor": "white",
          "plot_bgcolor": "#E5ECF6",
          "polar": {
           "angularaxis": {
            "gridcolor": "white",
            "linecolor": "white",
            "ticks": ""
           },
           "bgcolor": "#E5ECF6",
           "radialaxis": {
            "gridcolor": "white",
            "linecolor": "white",
            "ticks": ""
           }
          },
          "scene": {
           "xaxis": {
            "backgroundcolor": "#E5ECF6",
            "gridcolor": "white",
            "gridwidth": 2,
            "linecolor": "white",
            "showbackground": true,
            "ticks": "",
            "zerolinecolor": "white"
           },
           "yaxis": {
            "backgroundcolor": "#E5ECF6",
            "gridcolor": "white",
            "gridwidth": 2,
            "linecolor": "white",
            "showbackground": true,
            "ticks": "",
            "zerolinecolor": "white"
           },
           "zaxis": {
            "backgroundcolor": "#E5ECF6",
            "gridcolor": "white",
            "gridwidth": 2,
            "linecolor": "white",
            "showbackground": true,
            "ticks": "",
            "zerolinecolor": "white"
           }
          },
          "shapedefaults": {
           "line": {
            "color": "#2a3f5f"
           }
          },
          "ternary": {
           "aaxis": {
            "gridcolor": "white",
            "linecolor": "white",
            "ticks": ""
           },
           "baxis": {
            "gridcolor": "white",
            "linecolor": "white",
            "ticks": ""
           },
           "bgcolor": "#E5ECF6",
           "caxis": {
            "gridcolor": "white",
            "linecolor": "white",
            "ticks": ""
           }
          },
          "title": {
           "x": 0.05
          },
          "xaxis": {
           "automargin": true,
           "gridcolor": "white",
           "linecolor": "white",
           "ticks": "",
           "title": {
            "standoff": 15
           },
           "zerolinecolor": "white",
           "zerolinewidth": 2
          },
          "yaxis": {
           "automargin": true,
           "gridcolor": "white",
           "linecolor": "white",
           "ticks": "",
           "title": {
            "standoff": 15
           },
           "zerolinecolor": "white",
           "zerolinewidth": 2
          }
         }
        },
        "title": {
         "font": {
          "color": "#4D5663"
         }
        },
        "xaxis": {
         "gridcolor": "#E1E5ED",
         "showgrid": true,
         "tickfont": {
          "color": "#4D5663"
         },
         "title": {
          "font": {
           "color": "#4D5663"
          },
          "text": ""
         },
         "zerolinecolor": "#E1E5ED"
        },
        "yaxis": {
         "gridcolor": "#E1E5ED",
         "showgrid": true,
         "tickfont": {
          "color": "#4D5663"
         },
         "title": {
          "font": {
           "color": "#4D5663"
          },
          "text": ""
         },
         "zerolinecolor": "#E1E5ED"
        }
       }
      },
      "text/html": [
       "<div>                            <div id=\"b9939c0c-7ef5-4c52-aa61-b3cf96fc401e\" class=\"plotly-graph-div\" style=\"height:525px; width:100%;\"></div>            <script type=\"text/javascript\">                require([\"plotly\"], function(Plotly) {                    window.PLOTLYENV=window.PLOTLYENV || {};\n",
       "                    window.PLOTLYENV.BASE_URL='https://plot.ly';                                    if (document.getElementById(\"b9939c0c-7ef5-4c52-aa61-b3cf96fc401e\")) {                    Plotly.newPlot(                        \"b9939c0c-7ef5-4c52-aa61-b3cf96fc401e\",                        [{\"marker\": {\"color\": [\"rgb(255, 153, 51)\", \"rgb(55, 128, 191)\", \"rgb(50, 171, 96)\", \"rgb(128, 0, 128)\", \"rgb(219, 64, 82)\", \"rgb(0, 128, 128)\", \"rgb(255, 255, 51)\", \"rgb(128, 128, 0)\", \"rgb(251, 128, 114)\", \"rgb(128, 177, 211)\"], \"line\": {\"width\": 1.3}, \"size\": [65, 76, 74, 45, 59, 40, 66, 50, 57, 58, 56, 48, 64, 78, 40, 59, 35, 84, 79, 77, 51, 48, 72, 40, 89, 69, 65, 47, 48, 45, 37, 51, 81, 52, 12, 59, 60, 41, 50, 61, 39, 104, 43, 28, 103, 71, 73, 37, 78, 47, 53, 65, 73, 47, 89, 62, 80, 40, 36, 58, 40, 20, 72, 46, 77, 69, 55, 55, 112, 55, 84, 29, 49, 58, 52, 67, 73, 54, 66, 47, 31, 34, 67, 57, 57, 66, 95, 44, 67, 42, 66, 74, 65, 31, 56, 42, 44, 46, 44, 54], \"symbol\": \"circle\"}, \"mode\": \"markers\", \"text\": \"\", \"type\": \"scatter\", \"x\": [-1.7538858937551702, -1.7226856703555207, -0.4140247115632524, 0.8211538745067284, 1.1389978845908453, 0.2937800164063252, 0.38523754634530905, 0.2495826223220929, 0.4639041966379346, 0.7966092223449669, 1.767194154936893, -1.0236061425711371, -0.35302571009675604, 1.2179000914228575, -0.44883972685594975, -1.1619490891090674, 0.265305113798835, 0.9905367335152827, -0.33441518723358027, -0.5480061657291567, -1.5001806885986948, -1.6590235035842018, -1.3715138381506373, 0.825866973830695, 0.9420282609542272, 0.2606962286828969, -0.8849246227370032, -0.1078503532732208, -0.2974603475612812, 0.9503169590893906, 0.41812936220293445, -0.5348523266504603, 0.3760730387943392, 1.0318066442606086, -1.2427394197115595, 0.5043938659863496, 1.376755938082115, 0.6005663618734192, -1.0519314917957416, 0.8808568140393724, -2.5261638208699035, 0.7136595538703409, 0.3677890721824107, -0.018947152325261948, -0.553662200013513, -0.7925670548920108, -0.6685321613037117, -1.0229969463524564, -0.9238619405833758, 3.080723651001204, 1.147456931259636, -1.8086378449607519, -0.24632702376956678, 0.5684542426237913, 0.32936644752117283, -0.2615535328896379, -0.4105392123307298, 1.6966320973188525, -0.7331190860107024, 0.3478166244604999, -1.876629782501499, 0.7441579168092955, -0.45529571105198646, 0.5307556936191674, 0.7043984803253995, -0.518335332573801, 0.2801872548345399, 0.6279250320877873, -0.699545807581524, -1.4828830868202263, -0.008939436335171736, -0.585396146704361, -0.09089604926936432, 2.158360064948021, 0.040842014274870456, 0.8994208482062952, -0.18837857102847666, 0.39477911885784556, -0.49919456228234604, -0.24278778188330472, -0.27801459712440885, -0.02005599493814914, 0.5111805799165396, -0.7177136725412908, -0.16231118047802034, -0.630899750574069, -0.28833971879513925, -1.3391993460263756, 0.43487028069968203, 2.4936536813480936, 0.9268871399951262, 0.2290428161700579, 0.5817920127165599, -1.103928935045968, 0.06652031913783847, 0.8547749603573822, 0.22744064562977065, -0.21988446126173516, 0.7915929868565157, 1.2123195799722162], \"y\": [-0.15034330799727522, -0.6775470321842226, 0.6292302615166938, 0.5146514364050291, 0.12812953407454677, 1.4826523396260014, 1.09461465459242, -1.4309059964459574, 0.9924000728264003, -0.16462330131150943, -0.9680204294618735, -0.05819894733102732, -0.4193492884002126, -0.9512509775295541, -1.5592432068927438, -0.37724667575089077, -0.8163454087741805, -1.1634426284274009, -0.7727169645991858, -1.5660952387404672, 1.63108501567007, 0.22506325763177487, -0.25763665286886805, 0.214860159679175, 1.251753056344124, 1.6690314114825355, 0.3022929317996026, 0.7392394248453502, -0.32489558407014246, 0.01816151334724389, -1.111172085958229, 0.798352804883693, 0.6689865089232654, 1.0112287761521896, -1.0089163375181691, 0.010197645661448367, -1.3606762482533754, 1.3145565857906587, -1.4714209197893855, -0.020970917635074096, -0.734765310087592, -0.2577290087930091, -0.16650988995760022, -0.0077112515004609345, 0.5156972692644582, -1.5358085131991082, 2.2327494567305863, 0.26956941953525115, -1.3301215335316772, -1.1899279787713606, 0.12113748908960048, 0.6013672613407213, -0.8773803605119841, 0.4587511532092964, 0.6156664665083802, -0.12173311874599524, -1.209952008476506, 0.9255410385804945, 0.8919998451645604, 0.35032603007400487, -1.062444387771096, 0.06669724592427571, -1.203321627677848, -0.4905731440856716, -0.8608338683949729, 0.05490535505286273, 0.9957292249459686, -0.547794495412987, 0.8518552352628243, 0.5881964642812763, -1.784922865556606, -1.0250579370559378, 1.1404566416637723, 0.6585384645569528, 0.6879293639606842, 1.09000165692416, -1.2315473031585094, 0.7718231219070881, 0.834867657747323, 0.5206816714698226, -0.12189711099490538, -2.794522227360413, 1.7058546209147678, 0.3103434913930824, 0.29940444575234265, 2.346868837056278, -0.13980954316876368, 0.32151168696495624, 0.8555709588576978, -0.32964332918219585, -0.05134402117910471, -0.8213825402502497, -1.3226533802406837, 2.239462592111017, -1.067529006567402, -0.1749593741413527, 1.2879721958908095, 0.7740484010414118, -0.5052050279423617, 1.458345819319322]}],                        {\"legend\": {\"bgcolor\": \"#F5F6F9\", \"font\": {\"color\": \"#4D5663\"}}, \"paper_bgcolor\": \"#F5F6F9\", \"plot_bgcolor\": \"#F5F6F9\", \"template\": {\"data\": {\"bar\": [{\"error_x\": {\"color\": \"#2a3f5f\"}, \"error_y\": {\"color\": \"#2a3f5f\"}, \"marker\": {\"line\": {\"color\": \"#E5ECF6\", \"width\": 0.5}}, \"type\": \"bar\"}], \"barpolar\": [{\"marker\": {\"line\": {\"color\": \"#E5ECF6\", \"width\": 0.5}}, \"type\": \"barpolar\"}], \"carpet\": [{\"aaxis\": {\"endlinecolor\": \"#2a3f5f\", \"gridcolor\": \"white\", \"linecolor\": \"white\", \"minorgridcolor\": \"white\", \"startlinecolor\": \"#2a3f5f\"}, \"baxis\": {\"endlinecolor\": \"#2a3f5f\", \"gridcolor\": \"white\", \"linecolor\": \"white\", \"minorgridcolor\": \"white\", \"startlinecolor\": \"#2a3f5f\"}, \"type\": \"carpet\"}], \"choropleth\": [{\"colorbar\": {\"outlinewidth\": 0, \"ticks\": \"\"}, \"type\": \"choropleth\"}], \"contour\": [{\"colorbar\": {\"outlinewidth\": 0, \"ticks\": \"\"}, \"colorscale\": [[0.0, \"#0d0887\"], [0.1111111111111111, \"#46039f\"], [0.2222222222222222, \"#7201a8\"], [0.3333333333333333, \"#9c179e\"], [0.4444444444444444, \"#bd3786\"], [0.5555555555555556, \"#d8576b\"], [0.6666666666666666, \"#ed7953\"], [0.7777777777777778, \"#fb9f3a\"], [0.8888888888888888, \"#fdca26\"], [1.0, \"#f0f921\"]], \"type\": \"contour\"}], \"contourcarpet\": [{\"colorbar\": {\"outlinewidth\": 0, \"ticks\": \"\"}, \"type\": \"contourcarpet\"}], \"heatmap\": [{\"colorbar\": {\"outlinewidth\": 0, \"ticks\": \"\"}, \"colorscale\": [[0.0, \"#0d0887\"], [0.1111111111111111, \"#46039f\"], [0.2222222222222222, \"#7201a8\"], [0.3333333333333333, \"#9c179e\"], [0.4444444444444444, \"#bd3786\"], [0.5555555555555556, \"#d8576b\"], [0.6666666666666666, \"#ed7953\"], [0.7777777777777778, \"#fb9f3a\"], [0.8888888888888888, \"#fdca26\"], [1.0, \"#f0f921\"]], \"type\": \"heatmap\"}], \"heatmapgl\": [{\"colorbar\": {\"outlinewidth\": 0, \"ticks\": \"\"}, \"colorscale\": [[0.0, \"#0d0887\"], [0.1111111111111111, \"#46039f\"], [0.2222222222222222, \"#7201a8\"], [0.3333333333333333, \"#9c179e\"], [0.4444444444444444, \"#bd3786\"], [0.5555555555555556, \"#d8576b\"], [0.6666666666666666, \"#ed7953\"], [0.7777777777777778, \"#fb9f3a\"], [0.8888888888888888, \"#fdca26\"], [1.0, \"#f0f921\"]], \"type\": \"heatmapgl\"}], \"histogram\": [{\"marker\": {\"colorbar\": {\"outlinewidth\": 0, \"ticks\": \"\"}}, \"type\": \"histogram\"}], \"histogram2d\": [{\"colorbar\": {\"outlinewidth\": 0, \"ticks\": \"\"}, \"colorscale\": [[0.0, \"#0d0887\"], [0.1111111111111111, \"#46039f\"], [0.2222222222222222, \"#7201a8\"], [0.3333333333333333, \"#9c179e\"], [0.4444444444444444, \"#bd3786\"], [0.5555555555555556, \"#d8576b\"], [0.6666666666666666, \"#ed7953\"], [0.7777777777777778, \"#fb9f3a\"], [0.8888888888888888, \"#fdca26\"], [1.0, \"#f0f921\"]], \"type\": \"histogram2d\"}], \"histogram2dcontour\": [{\"colorbar\": {\"outlinewidth\": 0, \"ticks\": \"\"}, \"colorscale\": [[0.0, \"#0d0887\"], [0.1111111111111111, \"#46039f\"], [0.2222222222222222, \"#7201a8\"], [0.3333333333333333, \"#9c179e\"], [0.4444444444444444, \"#bd3786\"], [0.5555555555555556, \"#d8576b\"], [0.6666666666666666, \"#ed7953\"], [0.7777777777777778, \"#fb9f3a\"], [0.8888888888888888, \"#fdca26\"], [1.0, \"#f0f921\"]], \"type\": \"histogram2dcontour\"}], \"mesh3d\": [{\"colorbar\": {\"outlinewidth\": 0, \"ticks\": \"\"}, \"type\": \"mesh3d\"}], \"parcoords\": [{\"line\": {\"colorbar\": {\"outlinewidth\": 0, \"ticks\": \"\"}}, \"type\": \"parcoords\"}], \"pie\": [{\"automargin\": true, \"type\": \"pie\"}], \"scatter\": [{\"marker\": {\"colorbar\": {\"outlinewidth\": 0, \"ticks\": \"\"}}, \"type\": \"scatter\"}], \"scatter3d\": [{\"line\": {\"colorbar\": {\"outlinewidth\": 0, \"ticks\": \"\"}}, \"marker\": {\"colorbar\": {\"outlinewidth\": 0, \"ticks\": \"\"}}, \"type\": \"scatter3d\"}], \"scattercarpet\": [{\"marker\": {\"colorbar\": {\"outlinewidth\": 0, \"ticks\": \"\"}}, \"type\": \"scattercarpet\"}], \"scattergeo\": [{\"marker\": {\"colorbar\": {\"outlinewidth\": 0, \"ticks\": \"\"}}, \"type\": \"scattergeo\"}], \"scattergl\": [{\"marker\": {\"colorbar\": {\"outlinewidth\": 0, \"ticks\": \"\"}}, \"type\": \"scattergl\"}], \"scattermapbox\": [{\"marker\": {\"colorbar\": {\"outlinewidth\": 0, \"ticks\": \"\"}}, \"type\": \"scattermapbox\"}], \"scatterpolar\": [{\"marker\": {\"colorbar\": {\"outlinewidth\": 0, \"ticks\": \"\"}}, \"type\": \"scatterpolar\"}], \"scatterpolargl\": [{\"marker\": {\"colorbar\": {\"outlinewidth\": 0, \"ticks\": \"\"}}, \"type\": \"scatterpolargl\"}], \"scatterternary\": [{\"marker\": {\"colorbar\": {\"outlinewidth\": 0, \"ticks\": \"\"}}, \"type\": \"scatterternary\"}], \"surface\": [{\"colorbar\": {\"outlinewidth\": 0, \"ticks\": \"\"}, \"colorscale\": [[0.0, \"#0d0887\"], [0.1111111111111111, \"#46039f\"], [0.2222222222222222, \"#7201a8\"], [0.3333333333333333, \"#9c179e\"], [0.4444444444444444, \"#bd3786\"], [0.5555555555555556, \"#d8576b\"], [0.6666666666666666, \"#ed7953\"], [0.7777777777777778, \"#fb9f3a\"], [0.8888888888888888, \"#fdca26\"], [1.0, \"#f0f921\"]], \"type\": \"surface\"}], \"table\": [{\"cells\": {\"fill\": {\"color\": \"#EBF0F8\"}, \"line\": {\"color\": \"white\"}}, \"header\": {\"fill\": {\"color\": \"#C8D4E3\"}, \"line\": {\"color\": \"white\"}}, \"type\": \"table\"}]}, \"layout\": {\"annotationdefaults\": {\"arrowcolor\": \"#2a3f5f\", \"arrowhead\": 0, \"arrowwidth\": 1}, \"autotypenumbers\": \"strict\", \"coloraxis\": {\"colorbar\": {\"outlinewidth\": 0, \"ticks\": \"\"}}, \"colorscale\": {\"diverging\": [[0, \"#8e0152\"], [0.1, \"#c51b7d\"], [0.2, \"#de77ae\"], [0.3, \"#f1b6da\"], [0.4, \"#fde0ef\"], [0.5, \"#f7f7f7\"], [0.6, \"#e6f5d0\"], [0.7, \"#b8e186\"], [0.8, \"#7fbc41\"], [0.9, \"#4d9221\"], [1, \"#276419\"]], \"sequential\": [[0.0, \"#0d0887\"], [0.1111111111111111, \"#46039f\"], [0.2222222222222222, \"#7201a8\"], [0.3333333333333333, \"#9c179e\"], [0.4444444444444444, \"#bd3786\"], [0.5555555555555556, \"#d8576b\"], [0.6666666666666666, \"#ed7953\"], [0.7777777777777778, \"#fb9f3a\"], [0.8888888888888888, \"#fdca26\"], [1.0, \"#f0f921\"]], \"sequentialminus\": [[0.0, \"#0d0887\"], [0.1111111111111111, \"#46039f\"], [0.2222222222222222, \"#7201a8\"], [0.3333333333333333, \"#9c179e\"], [0.4444444444444444, \"#bd3786\"], [0.5555555555555556, \"#d8576b\"], [0.6666666666666666, \"#ed7953\"], [0.7777777777777778, \"#fb9f3a\"], [0.8888888888888888, \"#fdca26\"], [1.0, \"#f0f921\"]]}, \"colorway\": [\"#636efa\", \"#EF553B\", \"#00cc96\", \"#ab63fa\", \"#FFA15A\", \"#19d3f3\", \"#FF6692\", \"#B6E880\", \"#FF97FF\", \"#FECB52\"], \"font\": {\"color\": \"#2a3f5f\"}, \"geo\": {\"bgcolor\": \"white\", \"lakecolor\": \"white\", \"landcolor\": \"#E5ECF6\", \"showlakes\": true, \"showland\": true, \"subunitcolor\": \"white\"}, \"hoverlabel\": {\"align\": \"left\"}, \"hovermode\": \"closest\", \"mapbox\": {\"style\": \"light\"}, \"paper_bgcolor\": \"white\", \"plot_bgcolor\": \"#E5ECF6\", \"polar\": {\"angularaxis\": {\"gridcolor\": \"white\", \"linecolor\": \"white\", \"ticks\": \"\"}, \"bgcolor\": \"#E5ECF6\", \"radialaxis\": {\"gridcolor\": \"white\", \"linecolor\": \"white\", \"ticks\": \"\"}}, \"scene\": {\"xaxis\": {\"backgroundcolor\": \"#E5ECF6\", \"gridcolor\": \"white\", \"gridwidth\": 2, \"linecolor\": \"white\", \"showbackground\": true, \"ticks\": \"\", \"zerolinecolor\": \"white\"}, \"yaxis\": {\"backgroundcolor\": \"#E5ECF6\", \"gridcolor\": \"white\", \"gridwidth\": 2, \"linecolor\": \"white\", \"showbackground\": true, \"ticks\": \"\", \"zerolinecolor\": \"white\"}, \"zaxis\": {\"backgroundcolor\": \"#E5ECF6\", \"gridcolor\": \"white\", \"gridwidth\": 2, \"linecolor\": \"white\", \"showbackground\": true, \"ticks\": \"\", \"zerolinecolor\": \"white\"}}, \"shapedefaults\": {\"line\": {\"color\": \"#2a3f5f\"}}, \"ternary\": {\"aaxis\": {\"gridcolor\": \"white\", \"linecolor\": \"white\", \"ticks\": \"\"}, \"baxis\": {\"gridcolor\": \"white\", \"linecolor\": \"white\", \"ticks\": \"\"}, \"bgcolor\": \"#E5ECF6\", \"caxis\": {\"gridcolor\": \"white\", \"linecolor\": \"white\", \"ticks\": \"\"}}, \"title\": {\"x\": 0.05}, \"xaxis\": {\"automargin\": true, \"gridcolor\": \"white\", \"linecolor\": \"white\", \"ticks\": \"\", \"title\": {\"standoff\": 15}, \"zerolinecolor\": \"white\", \"zerolinewidth\": 2}, \"yaxis\": {\"automargin\": true, \"gridcolor\": \"white\", \"linecolor\": \"white\", \"ticks\": \"\", \"title\": {\"standoff\": 15}, \"zerolinecolor\": \"white\", \"zerolinewidth\": 2}}}, \"title\": {\"font\": {\"color\": \"#4D5663\"}}, \"xaxis\": {\"gridcolor\": \"#E1E5ED\", \"showgrid\": true, \"tickfont\": {\"color\": \"#4D5663\"}, \"title\": {\"font\": {\"color\": \"#4D5663\"}, \"text\": \"\"}, \"zerolinecolor\": \"#E1E5ED\"}, \"yaxis\": {\"gridcolor\": \"#E1E5ED\", \"showgrid\": true, \"tickfont\": {\"color\": \"#4D5663\"}, \"title\": {\"font\": {\"color\": \"#4D5663\"}, \"text\": \"\"}, \"zerolinecolor\": \"#E1E5ED\"}},                        {\"showLink\": true, \"linkText\": \"Export to plot.ly\", \"plotlyServerURL\": \"https://plot.ly\", \"responsive\": true}                    ).then(function(){\n",
       "                            \n",
       "var gd = document.getElementById('b9939c0c-7ef5-4c52-aa61-b3cf96fc401e');\n",
       "var x = new MutationObserver(function (mutations, observer) {{\n",
       "        var display = window.getComputedStyle(gd).display;\n",
       "        if (!display || display === 'none') {{\n",
       "            console.log([gd, 'removed!']);\n",
       "            Plotly.purge(gd);\n",
       "            observer.disconnect();\n",
       "        }}\n",
       "}});\n",
       "\n",
       "// Listen for the removal of the full notebook cells\n",
       "var notebookContainer = gd.closest('#notebook-container');\n",
       "if (notebookContainer) {{\n",
       "    x.observe(notebookContainer, {childList: true});\n",
       "}}\n",
       "\n",
       "// Listen for the clearing of the current output cell\n",
       "var outputEl = gd.closest('.output');\n",
       "if (outputEl) {{\n",
       "    x.observe(outputEl, {childList: true});\n",
       "}}\n",
       "\n",
       "                        })                };                });            </script>        </div>"
      ]
     },
     "metadata": {},
     "output_type": "display_data"
    }
   ],
   "source": [
    "df1.iplot(kind='bubble',x='A',y='B',size='C')"
   ]
  },
  {
   "cell_type": "markdown",
   "metadata": {},
   "source": [
    "### `scatter_matrix()`\n",
    "\n",
    "This is similar to `sns.pairplot()`"
   ]
  },
  {
   "cell_type": "code",
   "execution_count": 19,
   "metadata": {
    "scrolled": false
   },
   "outputs": [
    {
     "data": {
      "application/vnd.plotly.v1+json": {
       "config": {
        "linkText": "Export to plot.ly",
        "plotlyServerURL": "https://plot.ly",
        "showLink": true
       },
       "data": [
        {
         "histfunc": "count",
         "histnorm": "",
         "marker": {
          "color": "rgba(255, 153, 51, 1.0)",
          "line": {
           "color": "#4D5663",
           "width": 1.3
          }
         },
         "name": "A",
         "nbinsx": 10,
         "opacity": 0.8,
         "orientation": "v",
         "type": "histogram",
         "x": [
          -1.7538858937551702,
          -1.7226856703555207,
          -0.4140247115632524,
          0.8211538745067284,
          1.1389978845908453,
          0.2937800164063252,
          0.38523754634530905,
          0.2495826223220929,
          0.4639041966379346,
          0.7966092223449669,
          1.767194154936893,
          -1.0236061425711371,
          -0.35302571009675604,
          1.2179000914228575,
          -0.44883972685594975,
          -1.1619490891090674,
          0.265305113798835,
          0.9905367335152827,
          -0.33441518723358027,
          -0.5480061657291567,
          -1.5001806885986948,
          -1.6590235035842018,
          -1.3715138381506373,
          0.825866973830695,
          0.9420282609542272,
          0.2606962286828969,
          -0.8849246227370032,
          -0.1078503532732208,
          -0.2974603475612812,
          0.9503169590893906,
          0.41812936220293445,
          -0.5348523266504603,
          0.3760730387943392,
          1.0318066442606086,
          -1.2427394197115595,
          0.5043938659863496,
          1.376755938082115,
          0.6005663618734192,
          -1.0519314917957416,
          0.8808568140393724,
          -2.5261638208699035,
          0.7136595538703409,
          0.3677890721824107,
          -0.018947152325261948,
          -0.553662200013513,
          -0.7925670548920108,
          -0.6685321613037117,
          -1.0229969463524564,
          -0.9238619405833758,
          3.080723651001204,
          1.147456931259636,
          -1.8086378449607519,
          -0.24632702376956678,
          0.5684542426237913,
          0.32936644752117283,
          -0.2615535328896379,
          -0.4105392123307298,
          1.6966320973188525,
          -0.7331190860107024,
          0.3478166244604999,
          -1.876629782501499,
          0.7441579168092955,
          -0.45529571105198646,
          0.5307556936191674,
          0.7043984803253995,
          -0.518335332573801,
          0.2801872548345399,
          0.6279250320877873,
          -0.699545807581524,
          -1.4828830868202263,
          -0.008939436335171736,
          -0.585396146704361,
          -0.09089604926936432,
          2.158360064948021,
          0.040842014274870456,
          0.8994208482062952,
          -0.18837857102847666,
          0.39477911885784556,
          -0.49919456228234604,
          -0.24278778188330472,
          -0.27801459712440885,
          -0.02005599493814914,
          0.5111805799165396,
          -0.7177136725412908,
          -0.16231118047802034,
          -0.630899750574069,
          -0.28833971879513925,
          -1.3391993460263756,
          0.43487028069968203,
          2.4936536813480936,
          0.9268871399951262,
          0.2290428161700579,
          0.5817920127165599,
          -1.103928935045968,
          0.06652031913783847,
          0.8547749603573822,
          0.22744064562977065,
          -0.21988446126173516,
          0.7915929868565157,
          1.2123195799722162
         ],
         "xaxis": "x",
         "yaxis": "y"
        },
        {
         "line": {
          "color": "rgba(128, 128, 128, 1.0)",
          "dash": "solid",
          "shape": "linear",
          "width": 1.3
         },
         "marker": {
          "size": 2,
          "symbol": "circle"
         },
         "mode": "markers",
         "name": "A",
         "text": "",
         "type": "scatter",
         "x": [
          -0.15034330799727522,
          -0.6775470321842226,
          0.6292302615166938,
          0.5146514364050291,
          0.12812953407454677,
          1.4826523396260014,
          1.09461465459242,
          -1.4309059964459574,
          0.9924000728264003,
          -0.16462330131150943,
          -0.9680204294618735,
          -0.05819894733102732,
          -0.4193492884002126,
          -0.9512509775295541,
          -1.5592432068927438,
          -0.37724667575089077,
          -0.8163454087741805,
          -1.1634426284274009,
          -0.7727169645991858,
          -1.5660952387404672,
          1.63108501567007,
          0.22506325763177487,
          -0.25763665286886805,
          0.214860159679175,
          1.251753056344124,
          1.6690314114825355,
          0.3022929317996026,
          0.7392394248453502,
          -0.32489558407014246,
          0.01816151334724389,
          -1.111172085958229,
          0.798352804883693,
          0.6689865089232654,
          1.0112287761521896,
          -1.0089163375181691,
          0.010197645661448367,
          -1.3606762482533754,
          1.3145565857906587,
          -1.4714209197893855,
          -0.020970917635074096,
          -0.734765310087592,
          -0.2577290087930091,
          -0.16650988995760022,
          -0.0077112515004609345,
          0.5156972692644582,
          -1.5358085131991082,
          2.2327494567305863,
          0.26956941953525115,
          -1.3301215335316772,
          -1.1899279787713606,
          0.12113748908960048,
          0.6013672613407213,
          -0.8773803605119841,
          0.4587511532092964,
          0.6156664665083802,
          -0.12173311874599524,
          -1.209952008476506,
          0.9255410385804945,
          0.8919998451645604,
          0.35032603007400487,
          -1.062444387771096,
          0.06669724592427571,
          -1.203321627677848,
          -0.4905731440856716,
          -0.8608338683949729,
          0.05490535505286273,
          0.9957292249459686,
          -0.547794495412987,
          0.8518552352628243,
          0.5881964642812763,
          -1.784922865556606,
          -1.0250579370559378,
          1.1404566416637723,
          0.6585384645569528,
          0.6879293639606842,
          1.09000165692416,
          -1.2315473031585094,
          0.7718231219070881,
          0.834867657747323,
          0.5206816714698226,
          -0.12189711099490538,
          -2.794522227360413,
          1.7058546209147678,
          0.3103434913930824,
          0.29940444575234265,
          2.346868837056278,
          -0.13980954316876368,
          0.32151168696495624,
          0.8555709588576978,
          -0.32964332918219585,
          -0.05134402117910471,
          -0.8213825402502497,
          -1.3226533802406837,
          2.239462592111017,
          -1.067529006567402,
          -0.1749593741413527,
          1.2879721958908095,
          0.7740484010414118,
          -0.5052050279423617,
          1.458345819319322
         ],
         "xaxis": "x2",
         "y": [
          -1.7538858937551702,
          -1.7226856703555207,
          -0.4140247115632524,
          0.8211538745067284,
          1.1389978845908453,
          0.2937800164063252,
          0.38523754634530905,
          0.2495826223220929,
          0.4639041966379346,
          0.7966092223449669,
          1.767194154936893,
          -1.0236061425711371,
          -0.35302571009675604,
          1.2179000914228575,
          -0.44883972685594975,
          -1.1619490891090674,
          0.265305113798835,
          0.9905367335152827,
          -0.33441518723358027,
          -0.5480061657291567,
          -1.5001806885986948,
          -1.6590235035842018,
          -1.3715138381506373,
          0.825866973830695,
          0.9420282609542272,
          0.2606962286828969,
          -0.8849246227370032,
          -0.1078503532732208,
          -0.2974603475612812,
          0.9503169590893906,
          0.41812936220293445,
          -0.5348523266504603,
          0.3760730387943392,
          1.0318066442606086,
          -1.2427394197115595,
          0.5043938659863496,
          1.376755938082115,
          0.6005663618734192,
          -1.0519314917957416,
          0.8808568140393724,
          -2.5261638208699035,
          0.7136595538703409,
          0.3677890721824107,
          -0.018947152325261948,
          -0.553662200013513,
          -0.7925670548920108,
          -0.6685321613037117,
          -1.0229969463524564,
          -0.9238619405833758,
          3.080723651001204,
          1.147456931259636,
          -1.8086378449607519,
          -0.24632702376956678,
          0.5684542426237913,
          0.32936644752117283,
          -0.2615535328896379,
          -0.4105392123307298,
          1.6966320973188525,
          -0.7331190860107024,
          0.3478166244604999,
          -1.876629782501499,
          0.7441579168092955,
          -0.45529571105198646,
          0.5307556936191674,
          0.7043984803253995,
          -0.518335332573801,
          0.2801872548345399,
          0.6279250320877873,
          -0.699545807581524,
          -1.4828830868202263,
          -0.008939436335171736,
          -0.585396146704361,
          -0.09089604926936432,
          2.158360064948021,
          0.040842014274870456,
          0.8994208482062952,
          -0.18837857102847666,
          0.39477911885784556,
          -0.49919456228234604,
          -0.24278778188330472,
          -0.27801459712440885,
          -0.02005599493814914,
          0.5111805799165396,
          -0.7177136725412908,
          -0.16231118047802034,
          -0.630899750574069,
          -0.28833971879513925,
          -1.3391993460263756,
          0.43487028069968203,
          2.4936536813480936,
          0.9268871399951262,
          0.2290428161700579,
          0.5817920127165599,
          -1.103928935045968,
          0.06652031913783847,
          0.8547749603573822,
          0.22744064562977065,
          -0.21988446126173516,
          0.7915929868565157,
          1.2123195799722162
         ],
         "yaxis": "y2"
        },
        {
         "line": {
          "color": "rgba(128, 128, 128, 1.0)",
          "dash": "solid",
          "shape": "linear",
          "width": 1.3
         },
         "marker": {
          "size": 2,
          "symbol": "circle"
         },
         "mode": "markers",
         "name": "A",
         "text": "",
         "type": "scatter",
         "x": [
          0.3111254410605801,
          0.96658838617808,
          0.8553671248012684,
          -0.9028255174338453,
          -0.056339845917314,
          -1.2404521879728398,
          0.3939577008389254,
          -0.584309895164755,
          -0.1629706548040831,
          -0.1428612063326886,
          -0.2368666580884357,
          -0.7527648325887135,
          0.2772101269889636,
          1.0992266438041836,
          -1.2158171852229853,
          -0.03715493100422582,
          -1.5380281036666041,
          1.4756861413497433,
          1.1659434064334433,
          1.0642859262233144,
          -0.5339723566836979,
          -0.7368047833296468,
          0.7522974463580477,
          -1.2572153767194691,
          1.7738812184668709,
          0.5407453426631672,
          0.3371558672468022,
          -0.8198735196027412,
          -0.704256054131467,
          -0.9100459219697472,
          -1.4044269815348922,
          -0.571556951109997,
          1.312310205656458,
          -0.5087608002724731,
          -2.9893458226495726,
          -0.05521083419178454,
          0.0219794406892053,
          -1.1392982421587154,
          -0.585140474599415,
          0.04574398933940278,
          -1.2620196420653527,
          2.700449494361798,
          -1.0262589121646788,
          -2.0010890729862987,
          2.67672072390806,
          0.6632218086685767,
          0.7808151236780235,
          -1.4050518731223913,
          1.1072396981633452,
          -0.7662205085015786,
          -0.44581383111811995,
          0.28744566871358107,
          0.7793410458376682,
          -0.776046357221468,
          1.8013177068888124,
          0.14712931279548955,
          1.2544540913290385,
          -1.2338879462248078,
          -1.4834376873093869,
          -0.11069458462192475,
          -1.2135841483884229,
          -2.462624833994512,
          0.7297195021541508,
          -0.888023254409534,
          1.0370721495332529,
          0.5405662853487623,
          -0.3002664679052229,
          -0.27813614118761354,
          3.1871584994076727,
          -0.2825599905600144,
          1.471850039377236,
          -1.915324276813688,
          -0.6909013313081779,
          -0.1430489513114513,
          -0.4873770009907383,
          0.42824917877439167,
          0.8124056700108464,
          -0.3791085560901211,
          0.3522506471537461,
          -0.7935271883838341,
          -1.7882741893249297,
          -1.6273975036052946,
          0.41619845626210145,
          -0.1483835183685805,
          -0.19785043322526447,
          0.3794468224998039,
          2.152369319892974,
          -0.9912778633801927,
          0.4379671635038795,
          -1.0958714857576495,
          0.3533230510959733,
          0.8837952453922172,
          0.28420491440320556,
          -1.7550383687832753,
          -0.21079123913418088,
          -1.1019255019771754,
          -1.0114807982496816,
          -0.8732112512284295,
          -1.0027674554962795,
          -0.3921981820939004
         ],
         "xaxis": "x3",
         "y": [
          -1.7538858937551702,
          -1.7226856703555207,
          -0.4140247115632524,
          0.8211538745067284,
          1.1389978845908453,
          0.2937800164063252,
          0.38523754634530905,
          0.2495826223220929,
          0.4639041966379346,
          0.7966092223449669,
          1.767194154936893,
          -1.0236061425711371,
          -0.35302571009675604,
          1.2179000914228575,
          -0.44883972685594975,
          -1.1619490891090674,
          0.265305113798835,
          0.9905367335152827,
          -0.33441518723358027,
          -0.5480061657291567,
          -1.5001806885986948,
          -1.6590235035842018,
          -1.3715138381506373,
          0.825866973830695,
          0.9420282609542272,
          0.2606962286828969,
          -0.8849246227370032,
          -0.1078503532732208,
          -0.2974603475612812,
          0.9503169590893906,
          0.41812936220293445,
          -0.5348523266504603,
          0.3760730387943392,
          1.0318066442606086,
          -1.2427394197115595,
          0.5043938659863496,
          1.376755938082115,
          0.6005663618734192,
          -1.0519314917957416,
          0.8808568140393724,
          -2.5261638208699035,
          0.7136595538703409,
          0.3677890721824107,
          -0.018947152325261948,
          -0.553662200013513,
          -0.7925670548920108,
          -0.6685321613037117,
          -1.0229969463524564,
          -0.9238619405833758,
          3.080723651001204,
          1.147456931259636,
          -1.8086378449607519,
          -0.24632702376956678,
          0.5684542426237913,
          0.32936644752117283,
          -0.2615535328896379,
          -0.4105392123307298,
          1.6966320973188525,
          -0.7331190860107024,
          0.3478166244604999,
          -1.876629782501499,
          0.7441579168092955,
          -0.45529571105198646,
          0.5307556936191674,
          0.7043984803253995,
          -0.518335332573801,
          0.2801872548345399,
          0.6279250320877873,
          -0.699545807581524,
          -1.4828830868202263,
          -0.008939436335171736,
          -0.585396146704361,
          -0.09089604926936432,
          2.158360064948021,
          0.040842014274870456,
          0.8994208482062952,
          -0.18837857102847666,
          0.39477911885784556,
          -0.49919456228234604,
          -0.24278778188330472,
          -0.27801459712440885,
          -0.02005599493814914,
          0.5111805799165396,
          -0.7177136725412908,
          -0.16231118047802034,
          -0.630899750574069,
          -0.28833971879513925,
          -1.3391993460263756,
          0.43487028069968203,
          2.4936536813480936,
          0.9268871399951262,
          0.2290428161700579,
          0.5817920127165599,
          -1.103928935045968,
          0.06652031913783847,
          0.8547749603573822,
          0.22744064562977065,
          -0.21988446126173516,
          0.7915929868565157,
          1.2123195799722162
         ],
         "yaxis": "y3"
        },
        {
         "line": {
          "color": "rgba(128, 128, 128, 1.0)",
          "dash": "solid",
          "shape": "linear",
          "width": 1.3
         },
         "marker": {
          "size": 2,
          "symbol": "circle"
         },
         "mode": "markers",
         "name": "A",
         "text": "",
         "type": "scatter",
         "x": [
          1.4201394248344659,
          -0.9144939264623855,
          -1.4801918392582694,
          0.5708536906807992,
          -0.35859094240702466,
          -0.08412051532512825,
          -0.7706628384126709,
          -1.2042641652910422,
          0.9441072299952517,
          -1.5617260704594789,
          -0.9081702558424615,
          -2.3479977972102892,
          0.9460532090273667,
          0.7676546960402487,
          1.3394785640222264,
          0.15984825588287432,
          -0.7559048621852565,
          1.683075675429387,
          -1.6865748866203958,
          0.020514198856238054,
          -0.7517564301024344,
          -1.2951536127600454,
          -0.4057677811649712,
          0.8576682856337292,
          0.5200917615335241,
          0.7074748453036533,
          0.37101701756698247,
          1.122310879990849,
          -0.20621295186512476,
          -0.0032601343602030575,
          -0.28191609112828564,
          1.061987234722,
          0.771930238713787,
          -0.6171378058323791,
          1.1980557365147715,
          0.1052329293274022,
          -1.3633960138657655,
          -0.5432013610977238,
          -1.9889775436270527,
          0.42542474746181264,
          -0.8320065491717672,
          0.8996981512557594,
          -1.5021317823863942,
          0.40547245361748224,
          -1.5782133997424979,
          0.8984051226554823,
          -0.7520821248460748,
          -1.3079232754754473,
          0.452391135361414,
          -0.2956535711118633,
          0.5846715230762238,
          0.6012583462279851,
          -0.8899097613382391,
          0.8191498213703619,
          -0.12296751355312766,
          -1.0427103259921204,
          1.338268460525913,
          0.33654220525631123,
          -0.2566228361570299,
          -1.5251249106633016,
          -1.0053342011706616,
          0.08501699307871964,
          0.1772548015436161,
          0.2557458543850634,
          -0.9170092808076356,
          -0.6052155408657207,
          -2.6181708217216704,
          -0.18673588130011717,
          -1.427834436918814,
          1.7907124362613833,
          0.5860478682466103,
          -1.3248615079584147,
          0.208759238154158,
          -0.03531632616806003,
          0.5030091327279851,
          0.4406160308665978,
          1.1054110401762522,
          -1.8400531831956344,
          0.9727555527477301,
          0.385439344524998,
          -0.07678211344083324,
          -0.4612593574547356,
          0.6492120228845738,
          -1.0099929243964376,
          -1.1179346033929058,
          0.09522689064106103,
          0.9915616739080637,
          -1.4283030562543593,
          -0.127848327004066,
          0.37500248948169823,
          -0.3277764123810168,
          -0.5944250653013659,
          1.5146316840474294,
          -0.5477754107305259,
          1.0283329695299208,
          0.7780544383198856,
          0.23906649488896575,
          -0.8799787544871376,
          -0.30343995703734733,
          -0.27131721022203986
         ],
         "xaxis": "x4",
         "y": [
          -1.7538858937551702,
          -1.7226856703555207,
          -0.4140247115632524,
          0.8211538745067284,
          1.1389978845908453,
          0.2937800164063252,
          0.38523754634530905,
          0.2495826223220929,
          0.4639041966379346,
          0.7966092223449669,
          1.767194154936893,
          -1.0236061425711371,
          -0.35302571009675604,
          1.2179000914228575,
          -0.44883972685594975,
          -1.1619490891090674,
          0.265305113798835,
          0.9905367335152827,
          -0.33441518723358027,
          -0.5480061657291567,
          -1.5001806885986948,
          -1.6590235035842018,
          -1.3715138381506373,
          0.825866973830695,
          0.9420282609542272,
          0.2606962286828969,
          -0.8849246227370032,
          -0.1078503532732208,
          -0.2974603475612812,
          0.9503169590893906,
          0.41812936220293445,
          -0.5348523266504603,
          0.3760730387943392,
          1.0318066442606086,
          -1.2427394197115595,
          0.5043938659863496,
          1.376755938082115,
          0.6005663618734192,
          -1.0519314917957416,
          0.8808568140393724,
          -2.5261638208699035,
          0.7136595538703409,
          0.3677890721824107,
          -0.018947152325261948,
          -0.553662200013513,
          -0.7925670548920108,
          -0.6685321613037117,
          -1.0229969463524564,
          -0.9238619405833758,
          3.080723651001204,
          1.147456931259636,
          -1.8086378449607519,
          -0.24632702376956678,
          0.5684542426237913,
          0.32936644752117283,
          -0.2615535328896379,
          -0.4105392123307298,
          1.6966320973188525,
          -0.7331190860107024,
          0.3478166244604999,
          -1.876629782501499,
          0.7441579168092955,
          -0.45529571105198646,
          0.5307556936191674,
          0.7043984803253995,
          -0.518335332573801,
          0.2801872548345399,
          0.6279250320877873,
          -0.699545807581524,
          -1.4828830868202263,
          -0.008939436335171736,
          -0.585396146704361,
          -0.09089604926936432,
          2.158360064948021,
          0.040842014274870456,
          0.8994208482062952,
          -0.18837857102847666,
          0.39477911885784556,
          -0.49919456228234604,
          -0.24278778188330472,
          -0.27801459712440885,
          -0.02005599493814914,
          0.5111805799165396,
          -0.7177136725412908,
          -0.16231118047802034,
          -0.630899750574069,
          -0.28833971879513925,
          -1.3391993460263756,
          0.43487028069968203,
          2.4936536813480936,
          0.9268871399951262,
          0.2290428161700579,
          0.5817920127165599,
          -1.103928935045968,
          0.06652031913783847,
          0.8547749603573822,
          0.22744064562977065,
          -0.21988446126173516,
          0.7915929868565157,
          1.2123195799722162
         ],
         "yaxis": "y4"
        },
        {
         "line": {
          "color": "rgba(128, 128, 128, 1.0)",
          "dash": "solid",
          "shape": "linear",
          "width": 1.3
         },
         "marker": {
          "size": 2,
          "symbol": "circle"
         },
         "mode": "markers",
         "name": "B",
         "text": "",
         "type": "scatter",
         "x": [
          -1.7538858937551702,
          -1.7226856703555207,
          -0.4140247115632524,
          0.8211538745067284,
          1.1389978845908453,
          0.2937800164063252,
          0.38523754634530905,
          0.2495826223220929,
          0.4639041966379346,
          0.7966092223449669,
          1.767194154936893,
          -1.0236061425711371,
          -0.35302571009675604,
          1.2179000914228575,
          -0.44883972685594975,
          -1.1619490891090674,
          0.265305113798835,
          0.9905367335152827,
          -0.33441518723358027,
          -0.5480061657291567,
          -1.5001806885986948,
          -1.6590235035842018,
          -1.3715138381506373,
          0.825866973830695,
          0.9420282609542272,
          0.2606962286828969,
          -0.8849246227370032,
          -0.1078503532732208,
          -0.2974603475612812,
          0.9503169590893906,
          0.41812936220293445,
          -0.5348523266504603,
          0.3760730387943392,
          1.0318066442606086,
          -1.2427394197115595,
          0.5043938659863496,
          1.376755938082115,
          0.6005663618734192,
          -1.0519314917957416,
          0.8808568140393724,
          -2.5261638208699035,
          0.7136595538703409,
          0.3677890721824107,
          -0.018947152325261948,
          -0.553662200013513,
          -0.7925670548920108,
          -0.6685321613037117,
          -1.0229969463524564,
          -0.9238619405833758,
          3.080723651001204,
          1.147456931259636,
          -1.8086378449607519,
          -0.24632702376956678,
          0.5684542426237913,
          0.32936644752117283,
          -0.2615535328896379,
          -0.4105392123307298,
          1.6966320973188525,
          -0.7331190860107024,
          0.3478166244604999,
          -1.876629782501499,
          0.7441579168092955,
          -0.45529571105198646,
          0.5307556936191674,
          0.7043984803253995,
          -0.518335332573801,
          0.2801872548345399,
          0.6279250320877873,
          -0.699545807581524,
          -1.4828830868202263,
          -0.008939436335171736,
          -0.585396146704361,
          -0.09089604926936432,
          2.158360064948021,
          0.040842014274870456,
          0.8994208482062952,
          -0.18837857102847666,
          0.39477911885784556,
          -0.49919456228234604,
          -0.24278778188330472,
          -0.27801459712440885,
          -0.02005599493814914,
          0.5111805799165396,
          -0.7177136725412908,
          -0.16231118047802034,
          -0.630899750574069,
          -0.28833971879513925,
          -1.3391993460263756,
          0.43487028069968203,
          2.4936536813480936,
          0.9268871399951262,
          0.2290428161700579,
          0.5817920127165599,
          -1.103928935045968,
          0.06652031913783847,
          0.8547749603573822,
          0.22744064562977065,
          -0.21988446126173516,
          0.7915929868565157,
          1.2123195799722162
         ],
         "xaxis": "x5",
         "y": [
          -0.15034330799727522,
          -0.6775470321842226,
          0.6292302615166938,
          0.5146514364050291,
          0.12812953407454677,
          1.4826523396260014,
          1.09461465459242,
          -1.4309059964459574,
          0.9924000728264003,
          -0.16462330131150943,
          -0.9680204294618735,
          -0.05819894733102732,
          -0.4193492884002126,
          -0.9512509775295541,
          -1.5592432068927438,
          -0.37724667575089077,
          -0.8163454087741805,
          -1.1634426284274009,
          -0.7727169645991858,
          -1.5660952387404672,
          1.63108501567007,
          0.22506325763177487,
          -0.25763665286886805,
          0.214860159679175,
          1.251753056344124,
          1.6690314114825355,
          0.3022929317996026,
          0.7392394248453502,
          -0.32489558407014246,
          0.01816151334724389,
          -1.111172085958229,
          0.798352804883693,
          0.6689865089232654,
          1.0112287761521896,
          -1.0089163375181691,
          0.010197645661448367,
          -1.3606762482533754,
          1.3145565857906587,
          -1.4714209197893855,
          -0.020970917635074096,
          -0.734765310087592,
          -0.2577290087930091,
          -0.16650988995760022,
          -0.0077112515004609345,
          0.5156972692644582,
          -1.5358085131991082,
          2.2327494567305863,
          0.26956941953525115,
          -1.3301215335316772,
          -1.1899279787713606,
          0.12113748908960048,
          0.6013672613407213,
          -0.8773803605119841,
          0.4587511532092964,
          0.6156664665083802,
          -0.12173311874599524,
          -1.209952008476506,
          0.9255410385804945,
          0.8919998451645604,
          0.35032603007400487,
          -1.062444387771096,
          0.06669724592427571,
          -1.203321627677848,
          -0.4905731440856716,
          -0.8608338683949729,
          0.05490535505286273,
          0.9957292249459686,
          -0.547794495412987,
          0.8518552352628243,
          0.5881964642812763,
          -1.784922865556606,
          -1.0250579370559378,
          1.1404566416637723,
          0.6585384645569528,
          0.6879293639606842,
          1.09000165692416,
          -1.2315473031585094,
          0.7718231219070881,
          0.834867657747323,
          0.5206816714698226,
          -0.12189711099490538,
          -2.794522227360413,
          1.7058546209147678,
          0.3103434913930824,
          0.29940444575234265,
          2.346868837056278,
          -0.13980954316876368,
          0.32151168696495624,
          0.8555709588576978,
          -0.32964332918219585,
          -0.05134402117910471,
          -0.8213825402502497,
          -1.3226533802406837,
          2.239462592111017,
          -1.067529006567402,
          -0.1749593741413527,
          1.2879721958908095,
          0.7740484010414118,
          -0.5052050279423617,
          1.458345819319322
         ],
         "yaxis": "y5"
        },
        {
         "histfunc": "count",
         "histnorm": "",
         "marker": {
          "color": "rgba(55, 128, 191, 1.0)",
          "line": {
           "color": "#4D5663",
           "width": 1.3
          }
         },
         "name": "B",
         "nbinsx": 10,
         "opacity": 0.8,
         "orientation": "v",
         "type": "histogram",
         "x": [
          -0.15034330799727522,
          -0.6775470321842226,
          0.6292302615166938,
          0.5146514364050291,
          0.12812953407454677,
          1.4826523396260014,
          1.09461465459242,
          -1.4309059964459574,
          0.9924000728264003,
          -0.16462330131150943,
          -0.9680204294618735,
          -0.05819894733102732,
          -0.4193492884002126,
          -0.9512509775295541,
          -1.5592432068927438,
          -0.37724667575089077,
          -0.8163454087741805,
          -1.1634426284274009,
          -0.7727169645991858,
          -1.5660952387404672,
          1.63108501567007,
          0.22506325763177487,
          -0.25763665286886805,
          0.214860159679175,
          1.251753056344124,
          1.6690314114825355,
          0.3022929317996026,
          0.7392394248453502,
          -0.32489558407014246,
          0.01816151334724389,
          -1.111172085958229,
          0.798352804883693,
          0.6689865089232654,
          1.0112287761521896,
          -1.0089163375181691,
          0.010197645661448367,
          -1.3606762482533754,
          1.3145565857906587,
          -1.4714209197893855,
          -0.020970917635074096,
          -0.734765310087592,
          -0.2577290087930091,
          -0.16650988995760022,
          -0.0077112515004609345,
          0.5156972692644582,
          -1.5358085131991082,
          2.2327494567305863,
          0.26956941953525115,
          -1.3301215335316772,
          -1.1899279787713606,
          0.12113748908960048,
          0.6013672613407213,
          -0.8773803605119841,
          0.4587511532092964,
          0.6156664665083802,
          -0.12173311874599524,
          -1.209952008476506,
          0.9255410385804945,
          0.8919998451645604,
          0.35032603007400487,
          -1.062444387771096,
          0.06669724592427571,
          -1.203321627677848,
          -0.4905731440856716,
          -0.8608338683949729,
          0.05490535505286273,
          0.9957292249459686,
          -0.547794495412987,
          0.8518552352628243,
          0.5881964642812763,
          -1.784922865556606,
          -1.0250579370559378,
          1.1404566416637723,
          0.6585384645569528,
          0.6879293639606842,
          1.09000165692416,
          -1.2315473031585094,
          0.7718231219070881,
          0.834867657747323,
          0.5206816714698226,
          -0.12189711099490538,
          -2.794522227360413,
          1.7058546209147678,
          0.3103434913930824,
          0.29940444575234265,
          2.346868837056278,
          -0.13980954316876368,
          0.32151168696495624,
          0.8555709588576978,
          -0.32964332918219585,
          -0.05134402117910471,
          -0.8213825402502497,
          -1.3226533802406837,
          2.239462592111017,
          -1.067529006567402,
          -0.1749593741413527,
          1.2879721958908095,
          0.7740484010414118,
          -0.5052050279423617,
          1.458345819319322
         ],
         "xaxis": "x6",
         "yaxis": "y6"
        },
        {
         "line": {
          "color": "rgba(128, 128, 128, 1.0)",
          "dash": "solid",
          "shape": "linear",
          "width": 1.3
         },
         "marker": {
          "size": 2,
          "symbol": "circle"
         },
         "mode": "markers",
         "name": "B",
         "text": "",
         "type": "scatter",
         "x": [
          0.3111254410605801,
          0.96658838617808,
          0.8553671248012684,
          -0.9028255174338453,
          -0.056339845917314,
          -1.2404521879728398,
          0.3939577008389254,
          -0.584309895164755,
          -0.1629706548040831,
          -0.1428612063326886,
          -0.2368666580884357,
          -0.7527648325887135,
          0.2772101269889636,
          1.0992266438041836,
          -1.2158171852229853,
          -0.03715493100422582,
          -1.5380281036666041,
          1.4756861413497433,
          1.1659434064334433,
          1.0642859262233144,
          -0.5339723566836979,
          -0.7368047833296468,
          0.7522974463580477,
          -1.2572153767194691,
          1.7738812184668709,
          0.5407453426631672,
          0.3371558672468022,
          -0.8198735196027412,
          -0.704256054131467,
          -0.9100459219697472,
          -1.4044269815348922,
          -0.571556951109997,
          1.312310205656458,
          -0.5087608002724731,
          -2.9893458226495726,
          -0.05521083419178454,
          0.0219794406892053,
          -1.1392982421587154,
          -0.585140474599415,
          0.04574398933940278,
          -1.2620196420653527,
          2.700449494361798,
          -1.0262589121646788,
          -2.0010890729862987,
          2.67672072390806,
          0.6632218086685767,
          0.7808151236780235,
          -1.4050518731223913,
          1.1072396981633452,
          -0.7662205085015786,
          -0.44581383111811995,
          0.28744566871358107,
          0.7793410458376682,
          -0.776046357221468,
          1.8013177068888124,
          0.14712931279548955,
          1.2544540913290385,
          -1.2338879462248078,
          -1.4834376873093869,
          -0.11069458462192475,
          -1.2135841483884229,
          -2.462624833994512,
          0.7297195021541508,
          -0.888023254409534,
          1.0370721495332529,
          0.5405662853487623,
          -0.3002664679052229,
          -0.27813614118761354,
          3.1871584994076727,
          -0.2825599905600144,
          1.471850039377236,
          -1.915324276813688,
          -0.6909013313081779,
          -0.1430489513114513,
          -0.4873770009907383,
          0.42824917877439167,
          0.8124056700108464,
          -0.3791085560901211,
          0.3522506471537461,
          -0.7935271883838341,
          -1.7882741893249297,
          -1.6273975036052946,
          0.41619845626210145,
          -0.1483835183685805,
          -0.19785043322526447,
          0.3794468224998039,
          2.152369319892974,
          -0.9912778633801927,
          0.4379671635038795,
          -1.0958714857576495,
          0.3533230510959733,
          0.8837952453922172,
          0.28420491440320556,
          -1.7550383687832753,
          -0.21079123913418088,
          -1.1019255019771754,
          -1.0114807982496816,
          -0.8732112512284295,
          -1.0027674554962795,
          -0.3921981820939004
         ],
         "xaxis": "x7",
         "y": [
          -0.15034330799727522,
          -0.6775470321842226,
          0.6292302615166938,
          0.5146514364050291,
          0.12812953407454677,
          1.4826523396260014,
          1.09461465459242,
          -1.4309059964459574,
          0.9924000728264003,
          -0.16462330131150943,
          -0.9680204294618735,
          -0.05819894733102732,
          -0.4193492884002126,
          -0.9512509775295541,
          -1.5592432068927438,
          -0.37724667575089077,
          -0.8163454087741805,
          -1.1634426284274009,
          -0.7727169645991858,
          -1.5660952387404672,
          1.63108501567007,
          0.22506325763177487,
          -0.25763665286886805,
          0.214860159679175,
          1.251753056344124,
          1.6690314114825355,
          0.3022929317996026,
          0.7392394248453502,
          -0.32489558407014246,
          0.01816151334724389,
          -1.111172085958229,
          0.798352804883693,
          0.6689865089232654,
          1.0112287761521896,
          -1.0089163375181691,
          0.010197645661448367,
          -1.3606762482533754,
          1.3145565857906587,
          -1.4714209197893855,
          -0.020970917635074096,
          -0.734765310087592,
          -0.2577290087930091,
          -0.16650988995760022,
          -0.0077112515004609345,
          0.5156972692644582,
          -1.5358085131991082,
          2.2327494567305863,
          0.26956941953525115,
          -1.3301215335316772,
          -1.1899279787713606,
          0.12113748908960048,
          0.6013672613407213,
          -0.8773803605119841,
          0.4587511532092964,
          0.6156664665083802,
          -0.12173311874599524,
          -1.209952008476506,
          0.9255410385804945,
          0.8919998451645604,
          0.35032603007400487,
          -1.062444387771096,
          0.06669724592427571,
          -1.203321627677848,
          -0.4905731440856716,
          -0.8608338683949729,
          0.05490535505286273,
          0.9957292249459686,
          -0.547794495412987,
          0.8518552352628243,
          0.5881964642812763,
          -1.784922865556606,
          -1.0250579370559378,
          1.1404566416637723,
          0.6585384645569528,
          0.6879293639606842,
          1.09000165692416,
          -1.2315473031585094,
          0.7718231219070881,
          0.834867657747323,
          0.5206816714698226,
          -0.12189711099490538,
          -2.794522227360413,
          1.7058546209147678,
          0.3103434913930824,
          0.29940444575234265,
          2.346868837056278,
          -0.13980954316876368,
          0.32151168696495624,
          0.8555709588576978,
          -0.32964332918219585,
          -0.05134402117910471,
          -0.8213825402502497,
          -1.3226533802406837,
          2.239462592111017,
          -1.067529006567402,
          -0.1749593741413527,
          1.2879721958908095,
          0.7740484010414118,
          -0.5052050279423617,
          1.458345819319322
         ],
         "yaxis": "y7"
        },
        {
         "line": {
          "color": "rgba(128, 128, 128, 1.0)",
          "dash": "solid",
          "shape": "linear",
          "width": 1.3
         },
         "marker": {
          "size": 2,
          "symbol": "circle"
         },
         "mode": "markers",
         "name": "B",
         "text": "",
         "type": "scatter",
         "x": [
          1.4201394248344659,
          -0.9144939264623855,
          -1.4801918392582694,
          0.5708536906807992,
          -0.35859094240702466,
          -0.08412051532512825,
          -0.7706628384126709,
          -1.2042641652910422,
          0.9441072299952517,
          -1.5617260704594789,
          -0.9081702558424615,
          -2.3479977972102892,
          0.9460532090273667,
          0.7676546960402487,
          1.3394785640222264,
          0.15984825588287432,
          -0.7559048621852565,
          1.683075675429387,
          -1.6865748866203958,
          0.020514198856238054,
          -0.7517564301024344,
          -1.2951536127600454,
          -0.4057677811649712,
          0.8576682856337292,
          0.5200917615335241,
          0.7074748453036533,
          0.37101701756698247,
          1.122310879990849,
          -0.20621295186512476,
          -0.0032601343602030575,
          -0.28191609112828564,
          1.061987234722,
          0.771930238713787,
          -0.6171378058323791,
          1.1980557365147715,
          0.1052329293274022,
          -1.3633960138657655,
          -0.5432013610977238,
          -1.9889775436270527,
          0.42542474746181264,
          -0.8320065491717672,
          0.8996981512557594,
          -1.5021317823863942,
          0.40547245361748224,
          -1.5782133997424979,
          0.8984051226554823,
          -0.7520821248460748,
          -1.3079232754754473,
          0.452391135361414,
          -0.2956535711118633,
          0.5846715230762238,
          0.6012583462279851,
          -0.8899097613382391,
          0.8191498213703619,
          -0.12296751355312766,
          -1.0427103259921204,
          1.338268460525913,
          0.33654220525631123,
          -0.2566228361570299,
          -1.5251249106633016,
          -1.0053342011706616,
          0.08501699307871964,
          0.1772548015436161,
          0.2557458543850634,
          -0.9170092808076356,
          -0.6052155408657207,
          -2.6181708217216704,
          -0.18673588130011717,
          -1.427834436918814,
          1.7907124362613833,
          0.5860478682466103,
          -1.3248615079584147,
          0.208759238154158,
          -0.03531632616806003,
          0.5030091327279851,
          0.4406160308665978,
          1.1054110401762522,
          -1.8400531831956344,
          0.9727555527477301,
          0.385439344524998,
          -0.07678211344083324,
          -0.4612593574547356,
          0.6492120228845738,
          -1.0099929243964376,
          -1.1179346033929058,
          0.09522689064106103,
          0.9915616739080637,
          -1.4283030562543593,
          -0.127848327004066,
          0.37500248948169823,
          -0.3277764123810168,
          -0.5944250653013659,
          1.5146316840474294,
          -0.5477754107305259,
          1.0283329695299208,
          0.7780544383198856,
          0.23906649488896575,
          -0.8799787544871376,
          -0.30343995703734733,
          -0.27131721022203986
         ],
         "xaxis": "x8",
         "y": [
          -0.15034330799727522,
          -0.6775470321842226,
          0.6292302615166938,
          0.5146514364050291,
          0.12812953407454677,
          1.4826523396260014,
          1.09461465459242,
          -1.4309059964459574,
          0.9924000728264003,
          -0.16462330131150943,
          -0.9680204294618735,
          -0.05819894733102732,
          -0.4193492884002126,
          -0.9512509775295541,
          -1.5592432068927438,
          -0.37724667575089077,
          -0.8163454087741805,
          -1.1634426284274009,
          -0.7727169645991858,
          -1.5660952387404672,
          1.63108501567007,
          0.22506325763177487,
          -0.25763665286886805,
          0.214860159679175,
          1.251753056344124,
          1.6690314114825355,
          0.3022929317996026,
          0.7392394248453502,
          -0.32489558407014246,
          0.01816151334724389,
          -1.111172085958229,
          0.798352804883693,
          0.6689865089232654,
          1.0112287761521896,
          -1.0089163375181691,
          0.010197645661448367,
          -1.3606762482533754,
          1.3145565857906587,
          -1.4714209197893855,
          -0.020970917635074096,
          -0.734765310087592,
          -0.2577290087930091,
          -0.16650988995760022,
          -0.0077112515004609345,
          0.5156972692644582,
          -1.5358085131991082,
          2.2327494567305863,
          0.26956941953525115,
          -1.3301215335316772,
          -1.1899279787713606,
          0.12113748908960048,
          0.6013672613407213,
          -0.8773803605119841,
          0.4587511532092964,
          0.6156664665083802,
          -0.12173311874599524,
          -1.209952008476506,
          0.9255410385804945,
          0.8919998451645604,
          0.35032603007400487,
          -1.062444387771096,
          0.06669724592427571,
          -1.203321627677848,
          -0.4905731440856716,
          -0.8608338683949729,
          0.05490535505286273,
          0.9957292249459686,
          -0.547794495412987,
          0.8518552352628243,
          0.5881964642812763,
          -1.784922865556606,
          -1.0250579370559378,
          1.1404566416637723,
          0.6585384645569528,
          0.6879293639606842,
          1.09000165692416,
          -1.2315473031585094,
          0.7718231219070881,
          0.834867657747323,
          0.5206816714698226,
          -0.12189711099490538,
          -2.794522227360413,
          1.7058546209147678,
          0.3103434913930824,
          0.29940444575234265,
          2.346868837056278,
          -0.13980954316876368,
          0.32151168696495624,
          0.8555709588576978,
          -0.32964332918219585,
          -0.05134402117910471,
          -0.8213825402502497,
          -1.3226533802406837,
          2.239462592111017,
          -1.067529006567402,
          -0.1749593741413527,
          1.2879721958908095,
          0.7740484010414118,
          -0.5052050279423617,
          1.458345819319322
         ],
         "yaxis": "y8"
        },
        {
         "line": {
          "color": "rgba(128, 128, 128, 1.0)",
          "dash": "solid",
          "shape": "linear",
          "width": 1.3
         },
         "marker": {
          "size": 2,
          "symbol": "circle"
         },
         "mode": "markers",
         "name": "C",
         "text": "",
         "type": "scatter",
         "x": [
          -1.7538858937551702,
          -1.7226856703555207,
          -0.4140247115632524,
          0.8211538745067284,
          1.1389978845908453,
          0.2937800164063252,
          0.38523754634530905,
          0.2495826223220929,
          0.4639041966379346,
          0.7966092223449669,
          1.767194154936893,
          -1.0236061425711371,
          -0.35302571009675604,
          1.2179000914228575,
          -0.44883972685594975,
          -1.1619490891090674,
          0.265305113798835,
          0.9905367335152827,
          -0.33441518723358027,
          -0.5480061657291567,
          -1.5001806885986948,
          -1.6590235035842018,
          -1.3715138381506373,
          0.825866973830695,
          0.9420282609542272,
          0.2606962286828969,
          -0.8849246227370032,
          -0.1078503532732208,
          -0.2974603475612812,
          0.9503169590893906,
          0.41812936220293445,
          -0.5348523266504603,
          0.3760730387943392,
          1.0318066442606086,
          -1.2427394197115595,
          0.5043938659863496,
          1.376755938082115,
          0.6005663618734192,
          -1.0519314917957416,
          0.8808568140393724,
          -2.5261638208699035,
          0.7136595538703409,
          0.3677890721824107,
          -0.018947152325261948,
          -0.553662200013513,
          -0.7925670548920108,
          -0.6685321613037117,
          -1.0229969463524564,
          -0.9238619405833758,
          3.080723651001204,
          1.147456931259636,
          -1.8086378449607519,
          -0.24632702376956678,
          0.5684542426237913,
          0.32936644752117283,
          -0.2615535328896379,
          -0.4105392123307298,
          1.6966320973188525,
          -0.7331190860107024,
          0.3478166244604999,
          -1.876629782501499,
          0.7441579168092955,
          -0.45529571105198646,
          0.5307556936191674,
          0.7043984803253995,
          -0.518335332573801,
          0.2801872548345399,
          0.6279250320877873,
          -0.699545807581524,
          -1.4828830868202263,
          -0.008939436335171736,
          -0.585396146704361,
          -0.09089604926936432,
          2.158360064948021,
          0.040842014274870456,
          0.8994208482062952,
          -0.18837857102847666,
          0.39477911885784556,
          -0.49919456228234604,
          -0.24278778188330472,
          -0.27801459712440885,
          -0.02005599493814914,
          0.5111805799165396,
          -0.7177136725412908,
          -0.16231118047802034,
          -0.630899750574069,
          -0.28833971879513925,
          -1.3391993460263756,
          0.43487028069968203,
          2.4936536813480936,
          0.9268871399951262,
          0.2290428161700579,
          0.5817920127165599,
          -1.103928935045968,
          0.06652031913783847,
          0.8547749603573822,
          0.22744064562977065,
          -0.21988446126173516,
          0.7915929868565157,
          1.2123195799722162
         ],
         "xaxis": "x9",
         "y": [
          0.3111254410605801,
          0.96658838617808,
          0.8553671248012684,
          -0.9028255174338453,
          -0.056339845917314,
          -1.2404521879728398,
          0.3939577008389254,
          -0.584309895164755,
          -0.1629706548040831,
          -0.1428612063326886,
          -0.2368666580884357,
          -0.7527648325887135,
          0.2772101269889636,
          1.0992266438041836,
          -1.2158171852229853,
          -0.03715493100422582,
          -1.5380281036666041,
          1.4756861413497433,
          1.1659434064334433,
          1.0642859262233144,
          -0.5339723566836979,
          -0.7368047833296468,
          0.7522974463580477,
          -1.2572153767194691,
          1.7738812184668709,
          0.5407453426631672,
          0.3371558672468022,
          -0.8198735196027412,
          -0.704256054131467,
          -0.9100459219697472,
          -1.4044269815348922,
          -0.571556951109997,
          1.312310205656458,
          -0.5087608002724731,
          -2.9893458226495726,
          -0.05521083419178454,
          0.0219794406892053,
          -1.1392982421587154,
          -0.585140474599415,
          0.04574398933940278,
          -1.2620196420653527,
          2.700449494361798,
          -1.0262589121646788,
          -2.0010890729862987,
          2.67672072390806,
          0.6632218086685767,
          0.7808151236780235,
          -1.4050518731223913,
          1.1072396981633452,
          -0.7662205085015786,
          -0.44581383111811995,
          0.28744566871358107,
          0.7793410458376682,
          -0.776046357221468,
          1.8013177068888124,
          0.14712931279548955,
          1.2544540913290385,
          -1.2338879462248078,
          -1.4834376873093869,
          -0.11069458462192475,
          -1.2135841483884229,
          -2.462624833994512,
          0.7297195021541508,
          -0.888023254409534,
          1.0370721495332529,
          0.5405662853487623,
          -0.3002664679052229,
          -0.27813614118761354,
          3.1871584994076727,
          -0.2825599905600144,
          1.471850039377236,
          -1.915324276813688,
          -0.6909013313081779,
          -0.1430489513114513,
          -0.4873770009907383,
          0.42824917877439167,
          0.8124056700108464,
          -0.3791085560901211,
          0.3522506471537461,
          -0.7935271883838341,
          -1.7882741893249297,
          -1.6273975036052946,
          0.41619845626210145,
          -0.1483835183685805,
          -0.19785043322526447,
          0.3794468224998039,
          2.152369319892974,
          -0.9912778633801927,
          0.4379671635038795,
          -1.0958714857576495,
          0.3533230510959733,
          0.8837952453922172,
          0.28420491440320556,
          -1.7550383687832753,
          -0.21079123913418088,
          -1.1019255019771754,
          -1.0114807982496816,
          -0.8732112512284295,
          -1.0027674554962795,
          -0.3921981820939004
         ],
         "yaxis": "y9"
        },
        {
         "line": {
          "color": "rgba(128, 128, 128, 1.0)",
          "dash": "solid",
          "shape": "linear",
          "width": 1.3
         },
         "marker": {
          "size": 2,
          "symbol": "circle"
         },
         "mode": "markers",
         "name": "C",
         "text": "",
         "type": "scatter",
         "x": [
          -0.15034330799727522,
          -0.6775470321842226,
          0.6292302615166938,
          0.5146514364050291,
          0.12812953407454677,
          1.4826523396260014,
          1.09461465459242,
          -1.4309059964459574,
          0.9924000728264003,
          -0.16462330131150943,
          -0.9680204294618735,
          -0.05819894733102732,
          -0.4193492884002126,
          -0.9512509775295541,
          -1.5592432068927438,
          -0.37724667575089077,
          -0.8163454087741805,
          -1.1634426284274009,
          -0.7727169645991858,
          -1.5660952387404672,
          1.63108501567007,
          0.22506325763177487,
          -0.25763665286886805,
          0.214860159679175,
          1.251753056344124,
          1.6690314114825355,
          0.3022929317996026,
          0.7392394248453502,
          -0.32489558407014246,
          0.01816151334724389,
          -1.111172085958229,
          0.798352804883693,
          0.6689865089232654,
          1.0112287761521896,
          -1.0089163375181691,
          0.010197645661448367,
          -1.3606762482533754,
          1.3145565857906587,
          -1.4714209197893855,
          -0.020970917635074096,
          -0.734765310087592,
          -0.2577290087930091,
          -0.16650988995760022,
          -0.0077112515004609345,
          0.5156972692644582,
          -1.5358085131991082,
          2.2327494567305863,
          0.26956941953525115,
          -1.3301215335316772,
          -1.1899279787713606,
          0.12113748908960048,
          0.6013672613407213,
          -0.8773803605119841,
          0.4587511532092964,
          0.6156664665083802,
          -0.12173311874599524,
          -1.209952008476506,
          0.9255410385804945,
          0.8919998451645604,
          0.35032603007400487,
          -1.062444387771096,
          0.06669724592427571,
          -1.203321627677848,
          -0.4905731440856716,
          -0.8608338683949729,
          0.05490535505286273,
          0.9957292249459686,
          -0.547794495412987,
          0.8518552352628243,
          0.5881964642812763,
          -1.784922865556606,
          -1.0250579370559378,
          1.1404566416637723,
          0.6585384645569528,
          0.6879293639606842,
          1.09000165692416,
          -1.2315473031585094,
          0.7718231219070881,
          0.834867657747323,
          0.5206816714698226,
          -0.12189711099490538,
          -2.794522227360413,
          1.7058546209147678,
          0.3103434913930824,
          0.29940444575234265,
          2.346868837056278,
          -0.13980954316876368,
          0.32151168696495624,
          0.8555709588576978,
          -0.32964332918219585,
          -0.05134402117910471,
          -0.8213825402502497,
          -1.3226533802406837,
          2.239462592111017,
          -1.067529006567402,
          -0.1749593741413527,
          1.2879721958908095,
          0.7740484010414118,
          -0.5052050279423617,
          1.458345819319322
         ],
         "xaxis": "x10",
         "y": [
          0.3111254410605801,
          0.96658838617808,
          0.8553671248012684,
          -0.9028255174338453,
          -0.056339845917314,
          -1.2404521879728398,
          0.3939577008389254,
          -0.584309895164755,
          -0.1629706548040831,
          -0.1428612063326886,
          -0.2368666580884357,
          -0.7527648325887135,
          0.2772101269889636,
          1.0992266438041836,
          -1.2158171852229853,
          -0.03715493100422582,
          -1.5380281036666041,
          1.4756861413497433,
          1.1659434064334433,
          1.0642859262233144,
          -0.5339723566836979,
          -0.7368047833296468,
          0.7522974463580477,
          -1.2572153767194691,
          1.7738812184668709,
          0.5407453426631672,
          0.3371558672468022,
          -0.8198735196027412,
          -0.704256054131467,
          -0.9100459219697472,
          -1.4044269815348922,
          -0.571556951109997,
          1.312310205656458,
          -0.5087608002724731,
          -2.9893458226495726,
          -0.05521083419178454,
          0.0219794406892053,
          -1.1392982421587154,
          -0.585140474599415,
          0.04574398933940278,
          -1.2620196420653527,
          2.700449494361798,
          -1.0262589121646788,
          -2.0010890729862987,
          2.67672072390806,
          0.6632218086685767,
          0.7808151236780235,
          -1.4050518731223913,
          1.1072396981633452,
          -0.7662205085015786,
          -0.44581383111811995,
          0.28744566871358107,
          0.7793410458376682,
          -0.776046357221468,
          1.8013177068888124,
          0.14712931279548955,
          1.2544540913290385,
          -1.2338879462248078,
          -1.4834376873093869,
          -0.11069458462192475,
          -1.2135841483884229,
          -2.462624833994512,
          0.7297195021541508,
          -0.888023254409534,
          1.0370721495332529,
          0.5405662853487623,
          -0.3002664679052229,
          -0.27813614118761354,
          3.1871584994076727,
          -0.2825599905600144,
          1.471850039377236,
          -1.915324276813688,
          -0.6909013313081779,
          -0.1430489513114513,
          -0.4873770009907383,
          0.42824917877439167,
          0.8124056700108464,
          -0.3791085560901211,
          0.3522506471537461,
          -0.7935271883838341,
          -1.7882741893249297,
          -1.6273975036052946,
          0.41619845626210145,
          -0.1483835183685805,
          -0.19785043322526447,
          0.3794468224998039,
          2.152369319892974,
          -0.9912778633801927,
          0.4379671635038795,
          -1.0958714857576495,
          0.3533230510959733,
          0.8837952453922172,
          0.28420491440320556,
          -1.7550383687832753,
          -0.21079123913418088,
          -1.1019255019771754,
          -1.0114807982496816,
          -0.8732112512284295,
          -1.0027674554962795,
          -0.3921981820939004
         ],
         "yaxis": "y10"
        },
        {
         "histfunc": "count",
         "histnorm": "",
         "marker": {
          "color": "rgba(50, 171, 96, 1.0)",
          "line": {
           "color": "#4D5663",
           "width": 1.3
          }
         },
         "name": "C",
         "nbinsx": 10,
         "opacity": 0.8,
         "orientation": "v",
         "type": "histogram",
         "x": [
          0.3111254410605801,
          0.96658838617808,
          0.8553671248012684,
          -0.9028255174338453,
          -0.056339845917314,
          -1.2404521879728398,
          0.3939577008389254,
          -0.584309895164755,
          -0.1629706548040831,
          -0.1428612063326886,
          -0.2368666580884357,
          -0.7527648325887135,
          0.2772101269889636,
          1.0992266438041836,
          -1.2158171852229853,
          -0.03715493100422582,
          -1.5380281036666041,
          1.4756861413497433,
          1.1659434064334433,
          1.0642859262233144,
          -0.5339723566836979,
          -0.7368047833296468,
          0.7522974463580477,
          -1.2572153767194691,
          1.7738812184668709,
          0.5407453426631672,
          0.3371558672468022,
          -0.8198735196027412,
          -0.704256054131467,
          -0.9100459219697472,
          -1.4044269815348922,
          -0.571556951109997,
          1.312310205656458,
          -0.5087608002724731,
          -2.9893458226495726,
          -0.05521083419178454,
          0.0219794406892053,
          -1.1392982421587154,
          -0.585140474599415,
          0.04574398933940278,
          -1.2620196420653527,
          2.700449494361798,
          -1.0262589121646788,
          -2.0010890729862987,
          2.67672072390806,
          0.6632218086685767,
          0.7808151236780235,
          -1.4050518731223913,
          1.1072396981633452,
          -0.7662205085015786,
          -0.44581383111811995,
          0.28744566871358107,
          0.7793410458376682,
          -0.776046357221468,
          1.8013177068888124,
          0.14712931279548955,
          1.2544540913290385,
          -1.2338879462248078,
          -1.4834376873093869,
          -0.11069458462192475,
          -1.2135841483884229,
          -2.462624833994512,
          0.7297195021541508,
          -0.888023254409534,
          1.0370721495332529,
          0.5405662853487623,
          -0.3002664679052229,
          -0.27813614118761354,
          3.1871584994076727,
          -0.2825599905600144,
          1.471850039377236,
          -1.915324276813688,
          -0.6909013313081779,
          -0.1430489513114513,
          -0.4873770009907383,
          0.42824917877439167,
          0.8124056700108464,
          -0.3791085560901211,
          0.3522506471537461,
          -0.7935271883838341,
          -1.7882741893249297,
          -1.6273975036052946,
          0.41619845626210145,
          -0.1483835183685805,
          -0.19785043322526447,
          0.3794468224998039,
          2.152369319892974,
          -0.9912778633801927,
          0.4379671635038795,
          -1.0958714857576495,
          0.3533230510959733,
          0.8837952453922172,
          0.28420491440320556,
          -1.7550383687832753,
          -0.21079123913418088,
          -1.1019255019771754,
          -1.0114807982496816,
          -0.8732112512284295,
          -1.0027674554962795,
          -0.3921981820939004
         ],
         "xaxis": "x11",
         "yaxis": "y11"
        },
        {
         "line": {
          "color": "rgba(128, 128, 128, 1.0)",
          "dash": "solid",
          "shape": "linear",
          "width": 1.3
         },
         "marker": {
          "size": 2,
          "symbol": "circle"
         },
         "mode": "markers",
         "name": "C",
         "text": "",
         "type": "scatter",
         "x": [
          1.4201394248344659,
          -0.9144939264623855,
          -1.4801918392582694,
          0.5708536906807992,
          -0.35859094240702466,
          -0.08412051532512825,
          -0.7706628384126709,
          -1.2042641652910422,
          0.9441072299952517,
          -1.5617260704594789,
          -0.9081702558424615,
          -2.3479977972102892,
          0.9460532090273667,
          0.7676546960402487,
          1.3394785640222264,
          0.15984825588287432,
          -0.7559048621852565,
          1.683075675429387,
          -1.6865748866203958,
          0.020514198856238054,
          -0.7517564301024344,
          -1.2951536127600454,
          -0.4057677811649712,
          0.8576682856337292,
          0.5200917615335241,
          0.7074748453036533,
          0.37101701756698247,
          1.122310879990849,
          -0.20621295186512476,
          -0.0032601343602030575,
          -0.28191609112828564,
          1.061987234722,
          0.771930238713787,
          -0.6171378058323791,
          1.1980557365147715,
          0.1052329293274022,
          -1.3633960138657655,
          -0.5432013610977238,
          -1.9889775436270527,
          0.42542474746181264,
          -0.8320065491717672,
          0.8996981512557594,
          -1.5021317823863942,
          0.40547245361748224,
          -1.5782133997424979,
          0.8984051226554823,
          -0.7520821248460748,
          -1.3079232754754473,
          0.452391135361414,
          -0.2956535711118633,
          0.5846715230762238,
          0.6012583462279851,
          -0.8899097613382391,
          0.8191498213703619,
          -0.12296751355312766,
          -1.0427103259921204,
          1.338268460525913,
          0.33654220525631123,
          -0.2566228361570299,
          -1.5251249106633016,
          -1.0053342011706616,
          0.08501699307871964,
          0.1772548015436161,
          0.2557458543850634,
          -0.9170092808076356,
          -0.6052155408657207,
          -2.6181708217216704,
          -0.18673588130011717,
          -1.427834436918814,
          1.7907124362613833,
          0.5860478682466103,
          -1.3248615079584147,
          0.208759238154158,
          -0.03531632616806003,
          0.5030091327279851,
          0.4406160308665978,
          1.1054110401762522,
          -1.8400531831956344,
          0.9727555527477301,
          0.385439344524998,
          -0.07678211344083324,
          -0.4612593574547356,
          0.6492120228845738,
          -1.0099929243964376,
          -1.1179346033929058,
          0.09522689064106103,
          0.9915616739080637,
          -1.4283030562543593,
          -0.127848327004066,
          0.37500248948169823,
          -0.3277764123810168,
          -0.5944250653013659,
          1.5146316840474294,
          -0.5477754107305259,
          1.0283329695299208,
          0.7780544383198856,
          0.23906649488896575,
          -0.8799787544871376,
          -0.30343995703734733,
          -0.27131721022203986
         ],
         "xaxis": "x12",
         "y": [
          0.3111254410605801,
          0.96658838617808,
          0.8553671248012684,
          -0.9028255174338453,
          -0.056339845917314,
          -1.2404521879728398,
          0.3939577008389254,
          -0.584309895164755,
          -0.1629706548040831,
          -0.1428612063326886,
          -0.2368666580884357,
          -0.7527648325887135,
          0.2772101269889636,
          1.0992266438041836,
          -1.2158171852229853,
          -0.03715493100422582,
          -1.5380281036666041,
          1.4756861413497433,
          1.1659434064334433,
          1.0642859262233144,
          -0.5339723566836979,
          -0.7368047833296468,
          0.7522974463580477,
          -1.2572153767194691,
          1.7738812184668709,
          0.5407453426631672,
          0.3371558672468022,
          -0.8198735196027412,
          -0.704256054131467,
          -0.9100459219697472,
          -1.4044269815348922,
          -0.571556951109997,
          1.312310205656458,
          -0.5087608002724731,
          -2.9893458226495726,
          -0.05521083419178454,
          0.0219794406892053,
          -1.1392982421587154,
          -0.585140474599415,
          0.04574398933940278,
          -1.2620196420653527,
          2.700449494361798,
          -1.0262589121646788,
          -2.0010890729862987,
          2.67672072390806,
          0.6632218086685767,
          0.7808151236780235,
          -1.4050518731223913,
          1.1072396981633452,
          -0.7662205085015786,
          -0.44581383111811995,
          0.28744566871358107,
          0.7793410458376682,
          -0.776046357221468,
          1.8013177068888124,
          0.14712931279548955,
          1.2544540913290385,
          -1.2338879462248078,
          -1.4834376873093869,
          -0.11069458462192475,
          -1.2135841483884229,
          -2.462624833994512,
          0.7297195021541508,
          -0.888023254409534,
          1.0370721495332529,
          0.5405662853487623,
          -0.3002664679052229,
          -0.27813614118761354,
          3.1871584994076727,
          -0.2825599905600144,
          1.471850039377236,
          -1.915324276813688,
          -0.6909013313081779,
          -0.1430489513114513,
          -0.4873770009907383,
          0.42824917877439167,
          0.8124056700108464,
          -0.3791085560901211,
          0.3522506471537461,
          -0.7935271883838341,
          -1.7882741893249297,
          -1.6273975036052946,
          0.41619845626210145,
          -0.1483835183685805,
          -0.19785043322526447,
          0.3794468224998039,
          2.152369319892974,
          -0.9912778633801927,
          0.4379671635038795,
          -1.0958714857576495,
          0.3533230510959733,
          0.8837952453922172,
          0.28420491440320556,
          -1.7550383687832753,
          -0.21079123913418088,
          -1.1019255019771754,
          -1.0114807982496816,
          -0.8732112512284295,
          -1.0027674554962795,
          -0.3921981820939004
         ],
         "yaxis": "y12"
        },
        {
         "line": {
          "color": "rgba(128, 128, 128, 1.0)",
          "dash": "solid",
          "shape": "linear",
          "width": 1.3
         },
         "marker": {
          "size": 2,
          "symbol": "circle"
         },
         "mode": "markers",
         "name": "D",
         "text": "",
         "type": "scatter",
         "x": [
          -1.7538858937551702,
          -1.7226856703555207,
          -0.4140247115632524,
          0.8211538745067284,
          1.1389978845908453,
          0.2937800164063252,
          0.38523754634530905,
          0.2495826223220929,
          0.4639041966379346,
          0.7966092223449669,
          1.767194154936893,
          -1.0236061425711371,
          -0.35302571009675604,
          1.2179000914228575,
          -0.44883972685594975,
          -1.1619490891090674,
          0.265305113798835,
          0.9905367335152827,
          -0.33441518723358027,
          -0.5480061657291567,
          -1.5001806885986948,
          -1.6590235035842018,
          -1.3715138381506373,
          0.825866973830695,
          0.9420282609542272,
          0.2606962286828969,
          -0.8849246227370032,
          -0.1078503532732208,
          -0.2974603475612812,
          0.9503169590893906,
          0.41812936220293445,
          -0.5348523266504603,
          0.3760730387943392,
          1.0318066442606086,
          -1.2427394197115595,
          0.5043938659863496,
          1.376755938082115,
          0.6005663618734192,
          -1.0519314917957416,
          0.8808568140393724,
          -2.5261638208699035,
          0.7136595538703409,
          0.3677890721824107,
          -0.018947152325261948,
          -0.553662200013513,
          -0.7925670548920108,
          -0.6685321613037117,
          -1.0229969463524564,
          -0.9238619405833758,
          3.080723651001204,
          1.147456931259636,
          -1.8086378449607519,
          -0.24632702376956678,
          0.5684542426237913,
          0.32936644752117283,
          -0.2615535328896379,
          -0.4105392123307298,
          1.6966320973188525,
          -0.7331190860107024,
          0.3478166244604999,
          -1.876629782501499,
          0.7441579168092955,
          -0.45529571105198646,
          0.5307556936191674,
          0.7043984803253995,
          -0.518335332573801,
          0.2801872548345399,
          0.6279250320877873,
          -0.699545807581524,
          -1.4828830868202263,
          -0.008939436335171736,
          -0.585396146704361,
          -0.09089604926936432,
          2.158360064948021,
          0.040842014274870456,
          0.8994208482062952,
          -0.18837857102847666,
          0.39477911885784556,
          -0.49919456228234604,
          -0.24278778188330472,
          -0.27801459712440885,
          -0.02005599493814914,
          0.5111805799165396,
          -0.7177136725412908,
          -0.16231118047802034,
          -0.630899750574069,
          -0.28833971879513925,
          -1.3391993460263756,
          0.43487028069968203,
          2.4936536813480936,
          0.9268871399951262,
          0.2290428161700579,
          0.5817920127165599,
          -1.103928935045968,
          0.06652031913783847,
          0.8547749603573822,
          0.22744064562977065,
          -0.21988446126173516,
          0.7915929868565157,
          1.2123195799722162
         ],
         "xaxis": "x13",
         "y": [
          1.4201394248344659,
          -0.9144939264623855,
          -1.4801918392582694,
          0.5708536906807992,
          -0.35859094240702466,
          -0.08412051532512825,
          -0.7706628384126709,
          -1.2042641652910422,
          0.9441072299952517,
          -1.5617260704594789,
          -0.9081702558424615,
          -2.3479977972102892,
          0.9460532090273667,
          0.7676546960402487,
          1.3394785640222264,
          0.15984825588287432,
          -0.7559048621852565,
          1.683075675429387,
          -1.6865748866203958,
          0.020514198856238054,
          -0.7517564301024344,
          -1.2951536127600454,
          -0.4057677811649712,
          0.8576682856337292,
          0.5200917615335241,
          0.7074748453036533,
          0.37101701756698247,
          1.122310879990849,
          -0.20621295186512476,
          -0.0032601343602030575,
          -0.28191609112828564,
          1.061987234722,
          0.771930238713787,
          -0.6171378058323791,
          1.1980557365147715,
          0.1052329293274022,
          -1.3633960138657655,
          -0.5432013610977238,
          -1.9889775436270527,
          0.42542474746181264,
          -0.8320065491717672,
          0.8996981512557594,
          -1.5021317823863942,
          0.40547245361748224,
          -1.5782133997424979,
          0.8984051226554823,
          -0.7520821248460748,
          -1.3079232754754473,
          0.452391135361414,
          -0.2956535711118633,
          0.5846715230762238,
          0.6012583462279851,
          -0.8899097613382391,
          0.8191498213703619,
          -0.12296751355312766,
          -1.0427103259921204,
          1.338268460525913,
          0.33654220525631123,
          -0.2566228361570299,
          -1.5251249106633016,
          -1.0053342011706616,
          0.08501699307871964,
          0.1772548015436161,
          0.2557458543850634,
          -0.9170092808076356,
          -0.6052155408657207,
          -2.6181708217216704,
          -0.18673588130011717,
          -1.427834436918814,
          1.7907124362613833,
          0.5860478682466103,
          -1.3248615079584147,
          0.208759238154158,
          -0.03531632616806003,
          0.5030091327279851,
          0.4406160308665978,
          1.1054110401762522,
          -1.8400531831956344,
          0.9727555527477301,
          0.385439344524998,
          -0.07678211344083324,
          -0.4612593574547356,
          0.6492120228845738,
          -1.0099929243964376,
          -1.1179346033929058,
          0.09522689064106103,
          0.9915616739080637,
          -1.4283030562543593,
          -0.127848327004066,
          0.37500248948169823,
          -0.3277764123810168,
          -0.5944250653013659,
          1.5146316840474294,
          -0.5477754107305259,
          1.0283329695299208,
          0.7780544383198856,
          0.23906649488896575,
          -0.8799787544871376,
          -0.30343995703734733,
          -0.27131721022203986
         ],
         "yaxis": "y13"
        },
        {
         "line": {
          "color": "rgba(128, 128, 128, 1.0)",
          "dash": "solid",
          "shape": "linear",
          "width": 1.3
         },
         "marker": {
          "size": 2,
          "symbol": "circle"
         },
         "mode": "markers",
         "name": "D",
         "text": "",
         "type": "scatter",
         "x": [
          -0.15034330799727522,
          -0.6775470321842226,
          0.6292302615166938,
          0.5146514364050291,
          0.12812953407454677,
          1.4826523396260014,
          1.09461465459242,
          -1.4309059964459574,
          0.9924000728264003,
          -0.16462330131150943,
          -0.9680204294618735,
          -0.05819894733102732,
          -0.4193492884002126,
          -0.9512509775295541,
          -1.5592432068927438,
          -0.37724667575089077,
          -0.8163454087741805,
          -1.1634426284274009,
          -0.7727169645991858,
          -1.5660952387404672,
          1.63108501567007,
          0.22506325763177487,
          -0.25763665286886805,
          0.214860159679175,
          1.251753056344124,
          1.6690314114825355,
          0.3022929317996026,
          0.7392394248453502,
          -0.32489558407014246,
          0.01816151334724389,
          -1.111172085958229,
          0.798352804883693,
          0.6689865089232654,
          1.0112287761521896,
          -1.0089163375181691,
          0.010197645661448367,
          -1.3606762482533754,
          1.3145565857906587,
          -1.4714209197893855,
          -0.020970917635074096,
          -0.734765310087592,
          -0.2577290087930091,
          -0.16650988995760022,
          -0.0077112515004609345,
          0.5156972692644582,
          -1.5358085131991082,
          2.2327494567305863,
          0.26956941953525115,
          -1.3301215335316772,
          -1.1899279787713606,
          0.12113748908960048,
          0.6013672613407213,
          -0.8773803605119841,
          0.4587511532092964,
          0.6156664665083802,
          -0.12173311874599524,
          -1.209952008476506,
          0.9255410385804945,
          0.8919998451645604,
          0.35032603007400487,
          -1.062444387771096,
          0.06669724592427571,
          -1.203321627677848,
          -0.4905731440856716,
          -0.8608338683949729,
          0.05490535505286273,
          0.9957292249459686,
          -0.547794495412987,
          0.8518552352628243,
          0.5881964642812763,
          -1.784922865556606,
          -1.0250579370559378,
          1.1404566416637723,
          0.6585384645569528,
          0.6879293639606842,
          1.09000165692416,
          -1.2315473031585094,
          0.7718231219070881,
          0.834867657747323,
          0.5206816714698226,
          -0.12189711099490538,
          -2.794522227360413,
          1.7058546209147678,
          0.3103434913930824,
          0.29940444575234265,
          2.346868837056278,
          -0.13980954316876368,
          0.32151168696495624,
          0.8555709588576978,
          -0.32964332918219585,
          -0.05134402117910471,
          -0.8213825402502497,
          -1.3226533802406837,
          2.239462592111017,
          -1.067529006567402,
          -0.1749593741413527,
          1.2879721958908095,
          0.7740484010414118,
          -0.5052050279423617,
          1.458345819319322
         ],
         "xaxis": "x14",
         "y": [
          1.4201394248344659,
          -0.9144939264623855,
          -1.4801918392582694,
          0.5708536906807992,
          -0.35859094240702466,
          -0.08412051532512825,
          -0.7706628384126709,
          -1.2042641652910422,
          0.9441072299952517,
          -1.5617260704594789,
          -0.9081702558424615,
          -2.3479977972102892,
          0.9460532090273667,
          0.7676546960402487,
          1.3394785640222264,
          0.15984825588287432,
          -0.7559048621852565,
          1.683075675429387,
          -1.6865748866203958,
          0.020514198856238054,
          -0.7517564301024344,
          -1.2951536127600454,
          -0.4057677811649712,
          0.8576682856337292,
          0.5200917615335241,
          0.7074748453036533,
          0.37101701756698247,
          1.122310879990849,
          -0.20621295186512476,
          -0.0032601343602030575,
          -0.28191609112828564,
          1.061987234722,
          0.771930238713787,
          -0.6171378058323791,
          1.1980557365147715,
          0.1052329293274022,
          -1.3633960138657655,
          -0.5432013610977238,
          -1.9889775436270527,
          0.42542474746181264,
          -0.8320065491717672,
          0.8996981512557594,
          -1.5021317823863942,
          0.40547245361748224,
          -1.5782133997424979,
          0.8984051226554823,
          -0.7520821248460748,
          -1.3079232754754473,
          0.452391135361414,
          -0.2956535711118633,
          0.5846715230762238,
          0.6012583462279851,
          -0.8899097613382391,
          0.8191498213703619,
          -0.12296751355312766,
          -1.0427103259921204,
          1.338268460525913,
          0.33654220525631123,
          -0.2566228361570299,
          -1.5251249106633016,
          -1.0053342011706616,
          0.08501699307871964,
          0.1772548015436161,
          0.2557458543850634,
          -0.9170092808076356,
          -0.6052155408657207,
          -2.6181708217216704,
          -0.18673588130011717,
          -1.427834436918814,
          1.7907124362613833,
          0.5860478682466103,
          -1.3248615079584147,
          0.208759238154158,
          -0.03531632616806003,
          0.5030091327279851,
          0.4406160308665978,
          1.1054110401762522,
          -1.8400531831956344,
          0.9727555527477301,
          0.385439344524998,
          -0.07678211344083324,
          -0.4612593574547356,
          0.6492120228845738,
          -1.0099929243964376,
          -1.1179346033929058,
          0.09522689064106103,
          0.9915616739080637,
          -1.4283030562543593,
          -0.127848327004066,
          0.37500248948169823,
          -0.3277764123810168,
          -0.5944250653013659,
          1.5146316840474294,
          -0.5477754107305259,
          1.0283329695299208,
          0.7780544383198856,
          0.23906649488896575,
          -0.8799787544871376,
          -0.30343995703734733,
          -0.27131721022203986
         ],
         "yaxis": "y14"
        },
        {
         "line": {
          "color": "rgba(128, 128, 128, 1.0)",
          "dash": "solid",
          "shape": "linear",
          "width": 1.3
         },
         "marker": {
          "size": 2,
          "symbol": "circle"
         },
         "mode": "markers",
         "name": "D",
         "text": "",
         "type": "scatter",
         "x": [
          0.3111254410605801,
          0.96658838617808,
          0.8553671248012684,
          -0.9028255174338453,
          -0.056339845917314,
          -1.2404521879728398,
          0.3939577008389254,
          -0.584309895164755,
          -0.1629706548040831,
          -0.1428612063326886,
          -0.2368666580884357,
          -0.7527648325887135,
          0.2772101269889636,
          1.0992266438041836,
          -1.2158171852229853,
          -0.03715493100422582,
          -1.5380281036666041,
          1.4756861413497433,
          1.1659434064334433,
          1.0642859262233144,
          -0.5339723566836979,
          -0.7368047833296468,
          0.7522974463580477,
          -1.2572153767194691,
          1.7738812184668709,
          0.5407453426631672,
          0.3371558672468022,
          -0.8198735196027412,
          -0.704256054131467,
          -0.9100459219697472,
          -1.4044269815348922,
          -0.571556951109997,
          1.312310205656458,
          -0.5087608002724731,
          -2.9893458226495726,
          -0.05521083419178454,
          0.0219794406892053,
          -1.1392982421587154,
          -0.585140474599415,
          0.04574398933940278,
          -1.2620196420653527,
          2.700449494361798,
          -1.0262589121646788,
          -2.0010890729862987,
          2.67672072390806,
          0.6632218086685767,
          0.7808151236780235,
          -1.4050518731223913,
          1.1072396981633452,
          -0.7662205085015786,
          -0.44581383111811995,
          0.28744566871358107,
          0.7793410458376682,
          -0.776046357221468,
          1.8013177068888124,
          0.14712931279548955,
          1.2544540913290385,
          -1.2338879462248078,
          -1.4834376873093869,
          -0.11069458462192475,
          -1.2135841483884229,
          -2.462624833994512,
          0.7297195021541508,
          -0.888023254409534,
          1.0370721495332529,
          0.5405662853487623,
          -0.3002664679052229,
          -0.27813614118761354,
          3.1871584994076727,
          -0.2825599905600144,
          1.471850039377236,
          -1.915324276813688,
          -0.6909013313081779,
          -0.1430489513114513,
          -0.4873770009907383,
          0.42824917877439167,
          0.8124056700108464,
          -0.3791085560901211,
          0.3522506471537461,
          -0.7935271883838341,
          -1.7882741893249297,
          -1.6273975036052946,
          0.41619845626210145,
          -0.1483835183685805,
          -0.19785043322526447,
          0.3794468224998039,
          2.152369319892974,
          -0.9912778633801927,
          0.4379671635038795,
          -1.0958714857576495,
          0.3533230510959733,
          0.8837952453922172,
          0.28420491440320556,
          -1.7550383687832753,
          -0.21079123913418088,
          -1.1019255019771754,
          -1.0114807982496816,
          -0.8732112512284295,
          -1.0027674554962795,
          -0.3921981820939004
         ],
         "xaxis": "x15",
         "y": [
          1.4201394248344659,
          -0.9144939264623855,
          -1.4801918392582694,
          0.5708536906807992,
          -0.35859094240702466,
          -0.08412051532512825,
          -0.7706628384126709,
          -1.2042641652910422,
          0.9441072299952517,
          -1.5617260704594789,
          -0.9081702558424615,
          -2.3479977972102892,
          0.9460532090273667,
          0.7676546960402487,
          1.3394785640222264,
          0.15984825588287432,
          -0.7559048621852565,
          1.683075675429387,
          -1.6865748866203958,
          0.020514198856238054,
          -0.7517564301024344,
          -1.2951536127600454,
          -0.4057677811649712,
          0.8576682856337292,
          0.5200917615335241,
          0.7074748453036533,
          0.37101701756698247,
          1.122310879990849,
          -0.20621295186512476,
          -0.0032601343602030575,
          -0.28191609112828564,
          1.061987234722,
          0.771930238713787,
          -0.6171378058323791,
          1.1980557365147715,
          0.1052329293274022,
          -1.3633960138657655,
          -0.5432013610977238,
          -1.9889775436270527,
          0.42542474746181264,
          -0.8320065491717672,
          0.8996981512557594,
          -1.5021317823863942,
          0.40547245361748224,
          -1.5782133997424979,
          0.8984051226554823,
          -0.7520821248460748,
          -1.3079232754754473,
          0.452391135361414,
          -0.2956535711118633,
          0.5846715230762238,
          0.6012583462279851,
          -0.8899097613382391,
          0.8191498213703619,
          -0.12296751355312766,
          -1.0427103259921204,
          1.338268460525913,
          0.33654220525631123,
          -0.2566228361570299,
          -1.5251249106633016,
          -1.0053342011706616,
          0.08501699307871964,
          0.1772548015436161,
          0.2557458543850634,
          -0.9170092808076356,
          -0.6052155408657207,
          -2.6181708217216704,
          -0.18673588130011717,
          -1.427834436918814,
          1.7907124362613833,
          0.5860478682466103,
          -1.3248615079584147,
          0.208759238154158,
          -0.03531632616806003,
          0.5030091327279851,
          0.4406160308665978,
          1.1054110401762522,
          -1.8400531831956344,
          0.9727555527477301,
          0.385439344524998,
          -0.07678211344083324,
          -0.4612593574547356,
          0.6492120228845738,
          -1.0099929243964376,
          -1.1179346033929058,
          0.09522689064106103,
          0.9915616739080637,
          -1.4283030562543593,
          -0.127848327004066,
          0.37500248948169823,
          -0.3277764123810168,
          -0.5944250653013659,
          1.5146316840474294,
          -0.5477754107305259,
          1.0283329695299208,
          0.7780544383198856,
          0.23906649488896575,
          -0.8799787544871376,
          -0.30343995703734733,
          -0.27131721022203986
         ],
         "yaxis": "y15"
        },
        {
         "histfunc": "count",
         "histnorm": "",
         "marker": {
          "color": "rgba(128, 0, 128, 1.0)",
          "line": {
           "color": "#4D5663",
           "width": 1.3
          }
         },
         "name": "D",
         "nbinsx": 10,
         "opacity": 0.8,
         "orientation": "v",
         "type": "histogram",
         "x": [
          1.4201394248344659,
          -0.9144939264623855,
          -1.4801918392582694,
          0.5708536906807992,
          -0.35859094240702466,
          -0.08412051532512825,
          -0.7706628384126709,
          -1.2042641652910422,
          0.9441072299952517,
          -1.5617260704594789,
          -0.9081702558424615,
          -2.3479977972102892,
          0.9460532090273667,
          0.7676546960402487,
          1.3394785640222264,
          0.15984825588287432,
          -0.7559048621852565,
          1.683075675429387,
          -1.6865748866203958,
          0.020514198856238054,
          -0.7517564301024344,
          -1.2951536127600454,
          -0.4057677811649712,
          0.8576682856337292,
          0.5200917615335241,
          0.7074748453036533,
          0.37101701756698247,
          1.122310879990849,
          -0.20621295186512476,
          -0.0032601343602030575,
          -0.28191609112828564,
          1.061987234722,
          0.771930238713787,
          -0.6171378058323791,
          1.1980557365147715,
          0.1052329293274022,
          -1.3633960138657655,
          -0.5432013610977238,
          -1.9889775436270527,
          0.42542474746181264,
          -0.8320065491717672,
          0.8996981512557594,
          -1.5021317823863942,
          0.40547245361748224,
          -1.5782133997424979,
          0.8984051226554823,
          -0.7520821248460748,
          -1.3079232754754473,
          0.452391135361414,
          -0.2956535711118633,
          0.5846715230762238,
          0.6012583462279851,
          -0.8899097613382391,
          0.8191498213703619,
          -0.12296751355312766,
          -1.0427103259921204,
          1.338268460525913,
          0.33654220525631123,
          -0.2566228361570299,
          -1.5251249106633016,
          -1.0053342011706616,
          0.08501699307871964,
          0.1772548015436161,
          0.2557458543850634,
          -0.9170092808076356,
          -0.6052155408657207,
          -2.6181708217216704,
          -0.18673588130011717,
          -1.427834436918814,
          1.7907124362613833,
          0.5860478682466103,
          -1.3248615079584147,
          0.208759238154158,
          -0.03531632616806003,
          0.5030091327279851,
          0.4406160308665978,
          1.1054110401762522,
          -1.8400531831956344,
          0.9727555527477301,
          0.385439344524998,
          -0.07678211344083324,
          -0.4612593574547356,
          0.6492120228845738,
          -1.0099929243964376,
          -1.1179346033929058,
          0.09522689064106103,
          0.9915616739080637,
          -1.4283030562543593,
          -0.127848327004066,
          0.37500248948169823,
          -0.3277764123810168,
          -0.5944250653013659,
          1.5146316840474294,
          -0.5477754107305259,
          1.0283329695299208,
          0.7780544383198856,
          0.23906649488896575,
          -0.8799787544871376,
          -0.30343995703734733,
          -0.27131721022203986
         ],
         "xaxis": "x16",
         "yaxis": "y16"
        }
       ],
       "layout": {
        "bargap": 0.02,
        "legend": {
         "bgcolor": "#F5F6F9",
         "font": {
          "color": "#4D5663"
         }
        },
        "paper_bgcolor": "#F5F6F9",
        "plot_bgcolor": "#F5F6F9",
        "showlegend": false,
        "template": {
         "data": {
          "bar": [
           {
            "error_x": {
             "color": "#2a3f5f"
            },
            "error_y": {
             "color": "#2a3f5f"
            },
            "marker": {
             "line": {
              "color": "#E5ECF6",
              "width": 0.5
             }
            },
            "type": "bar"
           }
          ],
          "barpolar": [
           {
            "marker": {
             "line": {
              "color": "#E5ECF6",
              "width": 0.5
             }
            },
            "type": "barpolar"
           }
          ],
          "carpet": [
           {
            "aaxis": {
             "endlinecolor": "#2a3f5f",
             "gridcolor": "white",
             "linecolor": "white",
             "minorgridcolor": "white",
             "startlinecolor": "#2a3f5f"
            },
            "baxis": {
             "endlinecolor": "#2a3f5f",
             "gridcolor": "white",
             "linecolor": "white",
             "minorgridcolor": "white",
             "startlinecolor": "#2a3f5f"
            },
            "type": "carpet"
           }
          ],
          "choropleth": [
           {
            "colorbar": {
             "outlinewidth": 0,
             "ticks": ""
            },
            "type": "choropleth"
           }
          ],
          "contour": [
           {
            "colorbar": {
             "outlinewidth": 0,
             "ticks": ""
            },
            "colorscale": [
             [
              0,
              "#0d0887"
             ],
             [
              0.1111111111111111,
              "#46039f"
             ],
             [
              0.2222222222222222,
              "#7201a8"
             ],
             [
              0.3333333333333333,
              "#9c179e"
             ],
             [
              0.4444444444444444,
              "#bd3786"
             ],
             [
              0.5555555555555556,
              "#d8576b"
             ],
             [
              0.6666666666666666,
              "#ed7953"
             ],
             [
              0.7777777777777778,
              "#fb9f3a"
             ],
             [
              0.8888888888888888,
              "#fdca26"
             ],
             [
              1,
              "#f0f921"
             ]
            ],
            "type": "contour"
           }
          ],
          "contourcarpet": [
           {
            "colorbar": {
             "outlinewidth": 0,
             "ticks": ""
            },
            "type": "contourcarpet"
           }
          ],
          "heatmap": [
           {
            "colorbar": {
             "outlinewidth": 0,
             "ticks": ""
            },
            "colorscale": [
             [
              0,
              "#0d0887"
             ],
             [
              0.1111111111111111,
              "#46039f"
             ],
             [
              0.2222222222222222,
              "#7201a8"
             ],
             [
              0.3333333333333333,
              "#9c179e"
             ],
             [
              0.4444444444444444,
              "#bd3786"
             ],
             [
              0.5555555555555556,
              "#d8576b"
             ],
             [
              0.6666666666666666,
              "#ed7953"
             ],
             [
              0.7777777777777778,
              "#fb9f3a"
             ],
             [
              0.8888888888888888,
              "#fdca26"
             ],
             [
              1,
              "#f0f921"
             ]
            ],
            "type": "heatmap"
           }
          ],
          "heatmapgl": [
           {
            "colorbar": {
             "outlinewidth": 0,
             "ticks": ""
            },
            "colorscale": [
             [
              0,
              "#0d0887"
             ],
             [
              0.1111111111111111,
              "#46039f"
             ],
             [
              0.2222222222222222,
              "#7201a8"
             ],
             [
              0.3333333333333333,
              "#9c179e"
             ],
             [
              0.4444444444444444,
              "#bd3786"
             ],
             [
              0.5555555555555556,
              "#d8576b"
             ],
             [
              0.6666666666666666,
              "#ed7953"
             ],
             [
              0.7777777777777778,
              "#fb9f3a"
             ],
             [
              0.8888888888888888,
              "#fdca26"
             ],
             [
              1,
              "#f0f921"
             ]
            ],
            "type": "heatmapgl"
           }
          ],
          "histogram": [
           {
            "marker": {
             "colorbar": {
              "outlinewidth": 0,
              "ticks": ""
             }
            },
            "type": "histogram"
           }
          ],
          "histogram2d": [
           {
            "colorbar": {
             "outlinewidth": 0,
             "ticks": ""
            },
            "colorscale": [
             [
              0,
              "#0d0887"
             ],
             [
              0.1111111111111111,
              "#46039f"
             ],
             [
              0.2222222222222222,
              "#7201a8"
             ],
             [
              0.3333333333333333,
              "#9c179e"
             ],
             [
              0.4444444444444444,
              "#bd3786"
             ],
             [
              0.5555555555555556,
              "#d8576b"
             ],
             [
              0.6666666666666666,
              "#ed7953"
             ],
             [
              0.7777777777777778,
              "#fb9f3a"
             ],
             [
              0.8888888888888888,
              "#fdca26"
             ],
             [
              1,
              "#f0f921"
             ]
            ],
            "type": "histogram2d"
           }
          ],
          "histogram2dcontour": [
           {
            "colorbar": {
             "outlinewidth": 0,
             "ticks": ""
            },
            "colorscale": [
             [
              0,
              "#0d0887"
             ],
             [
              0.1111111111111111,
              "#46039f"
             ],
             [
              0.2222222222222222,
              "#7201a8"
             ],
             [
              0.3333333333333333,
              "#9c179e"
             ],
             [
              0.4444444444444444,
              "#bd3786"
             ],
             [
              0.5555555555555556,
              "#d8576b"
             ],
             [
              0.6666666666666666,
              "#ed7953"
             ],
             [
              0.7777777777777778,
              "#fb9f3a"
             ],
             [
              0.8888888888888888,
              "#fdca26"
             ],
             [
              1,
              "#f0f921"
             ]
            ],
            "type": "histogram2dcontour"
           }
          ],
          "mesh3d": [
           {
            "colorbar": {
             "outlinewidth": 0,
             "ticks": ""
            },
            "type": "mesh3d"
           }
          ],
          "parcoords": [
           {
            "line": {
             "colorbar": {
              "outlinewidth": 0,
              "ticks": ""
             }
            },
            "type": "parcoords"
           }
          ],
          "pie": [
           {
            "automargin": true,
            "type": "pie"
           }
          ],
          "scatter": [
           {
            "marker": {
             "colorbar": {
              "outlinewidth": 0,
              "ticks": ""
             }
            },
            "type": "scatter"
           }
          ],
          "scatter3d": [
           {
            "line": {
             "colorbar": {
              "outlinewidth": 0,
              "ticks": ""
             }
            },
            "marker": {
             "colorbar": {
              "outlinewidth": 0,
              "ticks": ""
             }
            },
            "type": "scatter3d"
           }
          ],
          "scattercarpet": [
           {
            "marker": {
             "colorbar": {
              "outlinewidth": 0,
              "ticks": ""
             }
            },
            "type": "scattercarpet"
           }
          ],
          "scattergeo": [
           {
            "marker": {
             "colorbar": {
              "outlinewidth": 0,
              "ticks": ""
             }
            },
            "type": "scattergeo"
           }
          ],
          "scattergl": [
           {
            "marker": {
             "colorbar": {
              "outlinewidth": 0,
              "ticks": ""
             }
            },
            "type": "scattergl"
           }
          ],
          "scattermapbox": [
           {
            "marker": {
             "colorbar": {
              "outlinewidth": 0,
              "ticks": ""
             }
            },
            "type": "scattermapbox"
           }
          ],
          "scatterpolar": [
           {
            "marker": {
             "colorbar": {
              "outlinewidth": 0,
              "ticks": ""
             }
            },
            "type": "scatterpolar"
           }
          ],
          "scatterpolargl": [
           {
            "marker": {
             "colorbar": {
              "outlinewidth": 0,
              "ticks": ""
             }
            },
            "type": "scatterpolargl"
           }
          ],
          "scatterternary": [
           {
            "marker": {
             "colorbar": {
              "outlinewidth": 0,
              "ticks": ""
             }
            },
            "type": "scatterternary"
           }
          ],
          "surface": [
           {
            "colorbar": {
             "outlinewidth": 0,
             "ticks": ""
            },
            "colorscale": [
             [
              0,
              "#0d0887"
             ],
             [
              0.1111111111111111,
              "#46039f"
             ],
             [
              0.2222222222222222,
              "#7201a8"
             ],
             [
              0.3333333333333333,
              "#9c179e"
             ],
             [
              0.4444444444444444,
              "#bd3786"
             ],
             [
              0.5555555555555556,
              "#d8576b"
             ],
             [
              0.6666666666666666,
              "#ed7953"
             ],
             [
              0.7777777777777778,
              "#fb9f3a"
             ],
             [
              0.8888888888888888,
              "#fdca26"
             ],
             [
              1,
              "#f0f921"
             ]
            ],
            "type": "surface"
           }
          ],
          "table": [
           {
            "cells": {
             "fill": {
              "color": "#EBF0F8"
             },
             "line": {
              "color": "white"
             }
            },
            "header": {
             "fill": {
              "color": "#C8D4E3"
             },
             "line": {
              "color": "white"
             }
            },
            "type": "table"
           }
          ]
         },
         "layout": {
          "annotationdefaults": {
           "arrowcolor": "#2a3f5f",
           "arrowhead": 0,
           "arrowwidth": 1
          },
          "autotypenumbers": "strict",
          "coloraxis": {
           "colorbar": {
            "outlinewidth": 0,
            "ticks": ""
           }
          },
          "colorscale": {
           "diverging": [
            [
             0,
             "#8e0152"
            ],
            [
             0.1,
             "#c51b7d"
            ],
            [
             0.2,
             "#de77ae"
            ],
            [
             0.3,
             "#f1b6da"
            ],
            [
             0.4,
             "#fde0ef"
            ],
            [
             0.5,
             "#f7f7f7"
            ],
            [
             0.6,
             "#e6f5d0"
            ],
            [
             0.7,
             "#b8e186"
            ],
            [
             0.8,
             "#7fbc41"
            ],
            [
             0.9,
             "#4d9221"
            ],
            [
             1,
             "#276419"
            ]
           ],
           "sequential": [
            [
             0,
             "#0d0887"
            ],
            [
             0.1111111111111111,
             "#46039f"
            ],
            [
             0.2222222222222222,
             "#7201a8"
            ],
            [
             0.3333333333333333,
             "#9c179e"
            ],
            [
             0.4444444444444444,
             "#bd3786"
            ],
            [
             0.5555555555555556,
             "#d8576b"
            ],
            [
             0.6666666666666666,
             "#ed7953"
            ],
            [
             0.7777777777777778,
             "#fb9f3a"
            ],
            [
             0.8888888888888888,
             "#fdca26"
            ],
            [
             1,
             "#f0f921"
            ]
           ],
           "sequentialminus": [
            [
             0,
             "#0d0887"
            ],
            [
             0.1111111111111111,
             "#46039f"
            ],
            [
             0.2222222222222222,
             "#7201a8"
            ],
            [
             0.3333333333333333,
             "#9c179e"
            ],
            [
             0.4444444444444444,
             "#bd3786"
            ],
            [
             0.5555555555555556,
             "#d8576b"
            ],
            [
             0.6666666666666666,
             "#ed7953"
            ],
            [
             0.7777777777777778,
             "#fb9f3a"
            ],
            [
             0.8888888888888888,
             "#fdca26"
            ],
            [
             1,
             "#f0f921"
            ]
           ]
          },
          "colorway": [
           "#636efa",
           "#EF553B",
           "#00cc96",
           "#ab63fa",
           "#FFA15A",
           "#19d3f3",
           "#FF6692",
           "#B6E880",
           "#FF97FF",
           "#FECB52"
          ],
          "font": {
           "color": "#2a3f5f"
          },
          "geo": {
           "bgcolor": "white",
           "lakecolor": "white",
           "landcolor": "#E5ECF6",
           "showlakes": true,
           "showland": true,
           "subunitcolor": "white"
          },
          "hoverlabel": {
           "align": "left"
          },
          "hovermode": "closest",
          "mapbox": {
           "style": "light"
          },
          "paper_bgcolor": "white",
          "plot_bgcolor": "#E5ECF6",
          "polar": {
           "angularaxis": {
            "gridcolor": "white",
            "linecolor": "white",
            "ticks": ""
           },
           "bgcolor": "#E5ECF6",
           "radialaxis": {
            "gridcolor": "white",
            "linecolor": "white",
            "ticks": ""
           }
          },
          "scene": {
           "xaxis": {
            "backgroundcolor": "#E5ECF6",
            "gridcolor": "white",
            "gridwidth": 2,
            "linecolor": "white",
            "showbackground": true,
            "ticks": "",
            "zerolinecolor": "white"
           },
           "yaxis": {
            "backgroundcolor": "#E5ECF6",
            "gridcolor": "white",
            "gridwidth": 2,
            "linecolor": "white",
            "showbackground": true,
            "ticks": "",
            "zerolinecolor": "white"
           },
           "zaxis": {
            "backgroundcolor": "#E5ECF6",
            "gridcolor": "white",
            "gridwidth": 2,
            "linecolor": "white",
            "showbackground": true,
            "ticks": "",
            "zerolinecolor": "white"
           }
          },
          "shapedefaults": {
           "line": {
            "color": "#2a3f5f"
           }
          },
          "ternary": {
           "aaxis": {
            "gridcolor": "white",
            "linecolor": "white",
            "ticks": ""
           },
           "baxis": {
            "gridcolor": "white",
            "linecolor": "white",
            "ticks": ""
           },
           "bgcolor": "#E5ECF6",
           "caxis": {
            "gridcolor": "white",
            "linecolor": "white",
            "ticks": ""
           }
          },
          "title": {
           "x": 0.05
          },
          "xaxis": {
           "automargin": true,
           "gridcolor": "white",
           "linecolor": "white",
           "ticks": "",
           "title": {
            "standoff": 15
           },
           "zerolinecolor": "white",
           "zerolinewidth": 2
          },
          "yaxis": {
           "automargin": true,
           "gridcolor": "white",
           "linecolor": "white",
           "ticks": "",
           "title": {
            "standoff": 15
           },
           "zerolinecolor": "white",
           "zerolinewidth": 2
          }
         }
        },
        "title": {
         "font": {
          "color": "#4D5663"
         }
        },
        "xaxis": {
         "anchor": "y",
         "domain": [
          0,
          0.2125
         ],
         "gridcolor": "#E1E5ED",
         "showgrid": false,
         "tickfont": {
          "color": "#4D5663"
         },
         "title": {
          "font": {
           "color": "#4D5663"
          },
          "text": ""
         },
         "zerolinecolor": "#E1E5ED"
        },
        "xaxis10": {
         "anchor": "y10",
         "domain": [
          0.2625,
          0.475
         ],
         "gridcolor": "#E1E5ED",
         "showgrid": false,
         "tickfont": {
          "color": "#4D5663"
         },
         "title": {
          "font": {
           "color": "#4D5663"
          },
          "text": ""
         },
         "zerolinecolor": "#E1E5ED"
        },
        "xaxis11": {
         "anchor": "y11",
         "domain": [
          0.525,
          0.7375
         ],
         "gridcolor": "#E1E5ED",
         "showgrid": false,
         "tickfont": {
          "color": "#4D5663"
         },
         "title": {
          "font": {
           "color": "#4D5663"
          },
          "text": ""
         },
         "zerolinecolor": "#E1E5ED"
        },
        "xaxis12": {
         "anchor": "y12",
         "domain": [
          0.7875,
          1
         ],
         "gridcolor": "#E1E5ED",
         "showgrid": false,
         "tickfont": {
          "color": "#4D5663"
         },
         "title": {
          "font": {
           "color": "#4D5663"
          },
          "text": ""
         },
         "zerolinecolor": "#E1E5ED"
        },
        "xaxis13": {
         "anchor": "y13",
         "domain": [
          0,
          0.2125
         ],
         "gridcolor": "#E1E5ED",
         "showgrid": false,
         "tickfont": {
          "color": "#4D5663"
         },
         "title": {
          "font": {
           "color": "#4D5663"
          },
          "text": ""
         },
         "zerolinecolor": "#E1E5ED"
        },
        "xaxis14": {
         "anchor": "y14",
         "domain": [
          0.2625,
          0.475
         ],
         "gridcolor": "#E1E5ED",
         "showgrid": false,
         "tickfont": {
          "color": "#4D5663"
         },
         "title": {
          "font": {
           "color": "#4D5663"
          },
          "text": ""
         },
         "zerolinecolor": "#E1E5ED"
        },
        "xaxis15": {
         "anchor": "y15",
         "domain": [
          0.525,
          0.7375
         ],
         "gridcolor": "#E1E5ED",
         "showgrid": false,
         "tickfont": {
          "color": "#4D5663"
         },
         "title": {
          "font": {
           "color": "#4D5663"
          },
          "text": ""
         },
         "zerolinecolor": "#E1E5ED"
        },
        "xaxis16": {
         "anchor": "y16",
         "domain": [
          0.7875,
          1
         ],
         "gridcolor": "#E1E5ED",
         "showgrid": false,
         "tickfont": {
          "color": "#4D5663"
         },
         "title": {
          "font": {
           "color": "#4D5663"
          },
          "text": ""
         },
         "zerolinecolor": "#E1E5ED"
        },
        "xaxis2": {
         "anchor": "y2",
         "domain": [
          0.2625,
          0.475
         ],
         "gridcolor": "#E1E5ED",
         "showgrid": false,
         "tickfont": {
          "color": "#4D5663"
         },
         "title": {
          "font": {
           "color": "#4D5663"
          },
          "text": ""
         },
         "zerolinecolor": "#E1E5ED"
        },
        "xaxis3": {
         "anchor": "y3",
         "domain": [
          0.525,
          0.7375
         ],
         "gridcolor": "#E1E5ED",
         "showgrid": false,
         "tickfont": {
          "color": "#4D5663"
         },
         "title": {
          "font": {
           "color": "#4D5663"
          },
          "text": ""
         },
         "zerolinecolor": "#E1E5ED"
        },
        "xaxis4": {
         "anchor": "y4",
         "domain": [
          0.7875,
          1
         ],
         "gridcolor": "#E1E5ED",
         "showgrid": false,
         "tickfont": {
          "color": "#4D5663"
         },
         "title": {
          "font": {
           "color": "#4D5663"
          },
          "text": ""
         },
         "zerolinecolor": "#E1E5ED"
        },
        "xaxis5": {
         "anchor": "y5",
         "domain": [
          0,
          0.2125
         ],
         "gridcolor": "#E1E5ED",
         "showgrid": false,
         "tickfont": {
          "color": "#4D5663"
         },
         "title": {
          "font": {
           "color": "#4D5663"
          },
          "text": ""
         },
         "zerolinecolor": "#E1E5ED"
        },
        "xaxis6": {
         "anchor": "y6",
         "domain": [
          0.2625,
          0.475
         ],
         "gridcolor": "#E1E5ED",
         "showgrid": false,
         "tickfont": {
          "color": "#4D5663"
         },
         "title": {
          "font": {
           "color": "#4D5663"
          },
          "text": ""
         },
         "zerolinecolor": "#E1E5ED"
        },
        "xaxis7": {
         "anchor": "y7",
         "domain": [
          0.525,
          0.7375
         ],
         "gridcolor": "#E1E5ED",
         "showgrid": false,
         "tickfont": {
          "color": "#4D5663"
         },
         "title": {
          "font": {
           "color": "#4D5663"
          },
          "text": ""
         },
         "zerolinecolor": "#E1E5ED"
        },
        "xaxis8": {
         "anchor": "y8",
         "domain": [
          0.7875,
          1
         ],
         "gridcolor": "#E1E5ED",
         "showgrid": false,
         "tickfont": {
          "color": "#4D5663"
         },
         "title": {
          "font": {
           "color": "#4D5663"
          },
          "text": ""
         },
         "zerolinecolor": "#E1E5ED"
        },
        "xaxis9": {
         "anchor": "y9",
         "domain": [
          0,
          0.2125
         ],
         "gridcolor": "#E1E5ED",
         "showgrid": false,
         "tickfont": {
          "color": "#4D5663"
         },
         "title": {
          "font": {
           "color": "#4D5663"
          },
          "text": ""
         },
         "zerolinecolor": "#E1E5ED"
        },
        "yaxis": {
         "anchor": "x",
         "domain": [
          0.8025,
          1
         ],
         "gridcolor": "#E1E5ED",
         "showgrid": false,
         "tickfont": {
          "color": "#4D5663"
         },
         "title": {
          "font": {
           "color": "#4D5663"
          },
          "text": ""
         },
         "zerolinecolor": "#E1E5ED"
        },
        "yaxis10": {
         "anchor": "x10",
         "domain": [
          0.2675,
          0.465
         ],
         "gridcolor": "#E1E5ED",
         "showgrid": false,
         "tickfont": {
          "color": "#4D5663"
         },
         "title": {
          "font": {
           "color": "#4D5663"
          },
          "text": ""
         },
         "zerolinecolor": "#E1E5ED"
        },
        "yaxis11": {
         "anchor": "x11",
         "domain": [
          0.2675,
          0.465
         ],
         "gridcolor": "#E1E5ED",
         "showgrid": false,
         "tickfont": {
          "color": "#4D5663"
         },
         "title": {
          "font": {
           "color": "#4D5663"
          },
          "text": ""
         },
         "zerolinecolor": "#E1E5ED"
        },
        "yaxis12": {
         "anchor": "x12",
         "domain": [
          0.2675,
          0.465
         ],
         "gridcolor": "#E1E5ED",
         "showgrid": false,
         "tickfont": {
          "color": "#4D5663"
         },
         "title": {
          "font": {
           "color": "#4D5663"
          },
          "text": ""
         },
         "zerolinecolor": "#E1E5ED"
        },
        "yaxis13": {
         "anchor": "x13",
         "domain": [
          0,
          0.1975
         ],
         "gridcolor": "#E1E5ED",
         "showgrid": false,
         "tickfont": {
          "color": "#4D5663"
         },
         "title": {
          "font": {
           "color": "#4D5663"
          },
          "text": ""
         },
         "zerolinecolor": "#E1E5ED"
        },
        "yaxis14": {
         "anchor": "x14",
         "domain": [
          0,
          0.1975
         ],
         "gridcolor": "#E1E5ED",
         "showgrid": false,
         "tickfont": {
          "color": "#4D5663"
         },
         "title": {
          "font": {
           "color": "#4D5663"
          },
          "text": ""
         },
         "zerolinecolor": "#E1E5ED"
        },
        "yaxis15": {
         "anchor": "x15",
         "domain": [
          0,
          0.1975
         ],
         "gridcolor": "#E1E5ED",
         "showgrid": false,
         "tickfont": {
          "color": "#4D5663"
         },
         "title": {
          "font": {
           "color": "#4D5663"
          },
          "text": ""
         },
         "zerolinecolor": "#E1E5ED"
        },
        "yaxis16": {
         "anchor": "x16",
         "domain": [
          0,
          0.1975
         ],
         "gridcolor": "#E1E5ED",
         "showgrid": false,
         "tickfont": {
          "color": "#4D5663"
         },
         "title": {
          "font": {
           "color": "#4D5663"
          },
          "text": ""
         },
         "zerolinecolor": "#E1E5ED"
        },
        "yaxis2": {
         "anchor": "x2",
         "domain": [
          0.8025,
          1
         ],
         "gridcolor": "#E1E5ED",
         "showgrid": false,
         "tickfont": {
          "color": "#4D5663"
         },
         "title": {
          "font": {
           "color": "#4D5663"
          },
          "text": ""
         },
         "zerolinecolor": "#E1E5ED"
        },
        "yaxis3": {
         "anchor": "x3",
         "domain": [
          0.8025,
          1
         ],
         "gridcolor": "#E1E5ED",
         "showgrid": false,
         "tickfont": {
          "color": "#4D5663"
         },
         "title": {
          "font": {
           "color": "#4D5663"
          },
          "text": ""
         },
         "zerolinecolor": "#E1E5ED"
        },
        "yaxis4": {
         "anchor": "x4",
         "domain": [
          0.8025,
          1
         ],
         "gridcolor": "#E1E5ED",
         "showgrid": false,
         "tickfont": {
          "color": "#4D5663"
         },
         "title": {
          "font": {
           "color": "#4D5663"
          },
          "text": ""
         },
         "zerolinecolor": "#E1E5ED"
        },
        "yaxis5": {
         "anchor": "x5",
         "domain": [
          0.535,
          0.7325
         ],
         "gridcolor": "#E1E5ED",
         "showgrid": false,
         "tickfont": {
          "color": "#4D5663"
         },
         "title": {
          "font": {
           "color": "#4D5663"
          },
          "text": ""
         },
         "zerolinecolor": "#E1E5ED"
        },
        "yaxis6": {
         "anchor": "x6",
         "domain": [
          0.535,
          0.7325
         ],
         "gridcolor": "#E1E5ED",
         "showgrid": false,
         "tickfont": {
          "color": "#4D5663"
         },
         "title": {
          "font": {
           "color": "#4D5663"
          },
          "text": ""
         },
         "zerolinecolor": "#E1E5ED"
        },
        "yaxis7": {
         "anchor": "x7",
         "domain": [
          0.535,
          0.7325
         ],
         "gridcolor": "#E1E5ED",
         "showgrid": false,
         "tickfont": {
          "color": "#4D5663"
         },
         "title": {
          "font": {
           "color": "#4D5663"
          },
          "text": ""
         },
         "zerolinecolor": "#E1E5ED"
        },
        "yaxis8": {
         "anchor": "x8",
         "domain": [
          0.535,
          0.7325
         ],
         "gridcolor": "#E1E5ED",
         "showgrid": false,
         "tickfont": {
          "color": "#4D5663"
         },
         "title": {
          "font": {
           "color": "#4D5663"
          },
          "text": ""
         },
         "zerolinecolor": "#E1E5ED"
        },
        "yaxis9": {
         "anchor": "x9",
         "domain": [
          0.2675,
          0.465
         ],
         "gridcolor": "#E1E5ED",
         "showgrid": false,
         "tickfont": {
          "color": "#4D5663"
         },
         "title": {
          "font": {
           "color": "#4D5663"
          },
          "text": ""
         },
         "zerolinecolor": "#E1E5ED"
        }
       }
      },
      "text/html": [
       "<div>                            <div id=\"8e4f9879-ff61-48fd-81ec-15fff40198ea\" class=\"plotly-graph-div\" style=\"height:525px; width:100%;\"></div>            <script type=\"text/javascript\">                require([\"plotly\"], function(Plotly) {                    window.PLOTLYENV=window.PLOTLYENV || {};\n",
       "                    window.PLOTLYENV.BASE_URL='https://plot.ly';                                    if (document.getElementById(\"8e4f9879-ff61-48fd-81ec-15fff40198ea\")) {                    Plotly.newPlot(                        \"8e4f9879-ff61-48fd-81ec-15fff40198ea\",                        [{\"histfunc\": \"count\", \"histnorm\": \"\", \"marker\": {\"color\": \"rgba(255, 153, 51, 1.0)\", \"line\": {\"color\": \"#4D5663\", \"width\": 1.3}}, \"name\": \"A\", \"nbinsx\": 10, \"opacity\": 0.8, \"orientation\": \"v\", \"type\": \"histogram\", \"x\": [-1.7538858937551702, -1.7226856703555207, -0.4140247115632524, 0.8211538745067284, 1.1389978845908453, 0.2937800164063252, 0.38523754634530905, 0.2495826223220929, 0.4639041966379346, 0.7966092223449669, 1.767194154936893, -1.0236061425711371, -0.35302571009675604, 1.2179000914228575, -0.44883972685594975, -1.1619490891090674, 0.265305113798835, 0.9905367335152827, -0.33441518723358027, -0.5480061657291567, -1.5001806885986948, -1.6590235035842018, -1.3715138381506373, 0.825866973830695, 0.9420282609542272, 0.2606962286828969, -0.8849246227370032, -0.1078503532732208, -0.2974603475612812, 0.9503169590893906, 0.41812936220293445, -0.5348523266504603, 0.3760730387943392, 1.0318066442606086, -1.2427394197115595, 0.5043938659863496, 1.376755938082115, 0.6005663618734192, -1.0519314917957416, 0.8808568140393724, -2.5261638208699035, 0.7136595538703409, 0.3677890721824107, -0.018947152325261948, -0.553662200013513, -0.7925670548920108, -0.6685321613037117, -1.0229969463524564, -0.9238619405833758, 3.080723651001204, 1.147456931259636, -1.8086378449607519, -0.24632702376956678, 0.5684542426237913, 0.32936644752117283, -0.2615535328896379, -0.4105392123307298, 1.6966320973188525, -0.7331190860107024, 0.3478166244604999, -1.876629782501499, 0.7441579168092955, -0.45529571105198646, 0.5307556936191674, 0.7043984803253995, -0.518335332573801, 0.2801872548345399, 0.6279250320877873, -0.699545807581524, -1.4828830868202263, -0.008939436335171736, -0.585396146704361, -0.09089604926936432, 2.158360064948021, 0.040842014274870456, 0.8994208482062952, -0.18837857102847666, 0.39477911885784556, -0.49919456228234604, -0.24278778188330472, -0.27801459712440885, -0.02005599493814914, 0.5111805799165396, -0.7177136725412908, -0.16231118047802034, -0.630899750574069, -0.28833971879513925, -1.3391993460263756, 0.43487028069968203, 2.4936536813480936, 0.9268871399951262, 0.2290428161700579, 0.5817920127165599, -1.103928935045968, 0.06652031913783847, 0.8547749603573822, 0.22744064562977065, -0.21988446126173516, 0.7915929868565157, 1.2123195799722162], \"xaxis\": \"x\", \"yaxis\": \"y\"}, {\"line\": {\"color\": \"rgba(128, 128, 128, 1.0)\", \"dash\": \"solid\", \"shape\": \"linear\", \"width\": 1.3}, \"marker\": {\"size\": 2, \"symbol\": \"circle\"}, \"mode\": \"markers\", \"name\": \"A\", \"text\": \"\", \"type\": \"scatter\", \"x\": [-0.15034330799727522, -0.6775470321842226, 0.6292302615166938, 0.5146514364050291, 0.12812953407454677, 1.4826523396260014, 1.09461465459242, -1.4309059964459574, 0.9924000728264003, -0.16462330131150943, -0.9680204294618735, -0.05819894733102732, -0.4193492884002126, -0.9512509775295541, -1.5592432068927438, -0.37724667575089077, -0.8163454087741805, -1.1634426284274009, -0.7727169645991858, -1.5660952387404672, 1.63108501567007, 0.22506325763177487, -0.25763665286886805, 0.214860159679175, 1.251753056344124, 1.6690314114825355, 0.3022929317996026, 0.7392394248453502, -0.32489558407014246, 0.01816151334724389, -1.111172085958229, 0.798352804883693, 0.6689865089232654, 1.0112287761521896, -1.0089163375181691, 0.010197645661448367, -1.3606762482533754, 1.3145565857906587, -1.4714209197893855, -0.020970917635074096, -0.734765310087592, -0.2577290087930091, -0.16650988995760022, -0.0077112515004609345, 0.5156972692644582, -1.5358085131991082, 2.2327494567305863, 0.26956941953525115, -1.3301215335316772, -1.1899279787713606, 0.12113748908960048, 0.6013672613407213, -0.8773803605119841, 0.4587511532092964, 0.6156664665083802, -0.12173311874599524, -1.209952008476506, 0.9255410385804945, 0.8919998451645604, 0.35032603007400487, -1.062444387771096, 0.06669724592427571, -1.203321627677848, -0.4905731440856716, -0.8608338683949729, 0.05490535505286273, 0.9957292249459686, -0.547794495412987, 0.8518552352628243, 0.5881964642812763, -1.784922865556606, -1.0250579370559378, 1.1404566416637723, 0.6585384645569528, 0.6879293639606842, 1.09000165692416, -1.2315473031585094, 0.7718231219070881, 0.834867657747323, 0.5206816714698226, -0.12189711099490538, -2.794522227360413, 1.7058546209147678, 0.3103434913930824, 0.29940444575234265, 2.346868837056278, -0.13980954316876368, 0.32151168696495624, 0.8555709588576978, -0.32964332918219585, -0.05134402117910471, -0.8213825402502497, -1.3226533802406837, 2.239462592111017, -1.067529006567402, -0.1749593741413527, 1.2879721958908095, 0.7740484010414118, -0.5052050279423617, 1.458345819319322], \"xaxis\": \"x2\", \"y\": [-1.7538858937551702, -1.7226856703555207, -0.4140247115632524, 0.8211538745067284, 1.1389978845908453, 0.2937800164063252, 0.38523754634530905, 0.2495826223220929, 0.4639041966379346, 0.7966092223449669, 1.767194154936893, -1.0236061425711371, -0.35302571009675604, 1.2179000914228575, -0.44883972685594975, -1.1619490891090674, 0.265305113798835, 0.9905367335152827, -0.33441518723358027, -0.5480061657291567, -1.5001806885986948, -1.6590235035842018, -1.3715138381506373, 0.825866973830695, 0.9420282609542272, 0.2606962286828969, -0.8849246227370032, -0.1078503532732208, -0.2974603475612812, 0.9503169590893906, 0.41812936220293445, -0.5348523266504603, 0.3760730387943392, 1.0318066442606086, -1.2427394197115595, 0.5043938659863496, 1.376755938082115, 0.6005663618734192, -1.0519314917957416, 0.8808568140393724, -2.5261638208699035, 0.7136595538703409, 0.3677890721824107, -0.018947152325261948, -0.553662200013513, -0.7925670548920108, -0.6685321613037117, -1.0229969463524564, -0.9238619405833758, 3.080723651001204, 1.147456931259636, -1.8086378449607519, -0.24632702376956678, 0.5684542426237913, 0.32936644752117283, -0.2615535328896379, -0.4105392123307298, 1.6966320973188525, -0.7331190860107024, 0.3478166244604999, -1.876629782501499, 0.7441579168092955, -0.45529571105198646, 0.5307556936191674, 0.7043984803253995, -0.518335332573801, 0.2801872548345399, 0.6279250320877873, -0.699545807581524, -1.4828830868202263, -0.008939436335171736, -0.585396146704361, -0.09089604926936432, 2.158360064948021, 0.040842014274870456, 0.8994208482062952, -0.18837857102847666, 0.39477911885784556, -0.49919456228234604, -0.24278778188330472, -0.27801459712440885, -0.02005599493814914, 0.5111805799165396, -0.7177136725412908, -0.16231118047802034, -0.630899750574069, -0.28833971879513925, -1.3391993460263756, 0.43487028069968203, 2.4936536813480936, 0.9268871399951262, 0.2290428161700579, 0.5817920127165599, -1.103928935045968, 0.06652031913783847, 0.8547749603573822, 0.22744064562977065, -0.21988446126173516, 0.7915929868565157, 1.2123195799722162], \"yaxis\": \"y2\"}, {\"line\": {\"color\": \"rgba(128, 128, 128, 1.0)\", \"dash\": \"solid\", \"shape\": \"linear\", \"width\": 1.3}, \"marker\": {\"size\": 2, \"symbol\": \"circle\"}, \"mode\": \"markers\", \"name\": \"A\", \"text\": \"\", \"type\": \"scatter\", \"x\": [0.3111254410605801, 0.96658838617808, 0.8553671248012684, -0.9028255174338453, -0.056339845917314, -1.2404521879728398, 0.3939577008389254, -0.584309895164755, -0.1629706548040831, -0.1428612063326886, -0.2368666580884357, -0.7527648325887135, 0.2772101269889636, 1.0992266438041836, -1.2158171852229853, -0.03715493100422582, -1.5380281036666041, 1.4756861413497433, 1.1659434064334433, 1.0642859262233144, -0.5339723566836979, -0.7368047833296468, 0.7522974463580477, -1.2572153767194691, 1.7738812184668709, 0.5407453426631672, 0.3371558672468022, -0.8198735196027412, -0.704256054131467, -0.9100459219697472, -1.4044269815348922, -0.571556951109997, 1.312310205656458, -0.5087608002724731, -2.9893458226495726, -0.05521083419178454, 0.0219794406892053, -1.1392982421587154, -0.585140474599415, 0.04574398933940278, -1.2620196420653527, 2.700449494361798, -1.0262589121646788, -2.0010890729862987, 2.67672072390806, 0.6632218086685767, 0.7808151236780235, -1.4050518731223913, 1.1072396981633452, -0.7662205085015786, -0.44581383111811995, 0.28744566871358107, 0.7793410458376682, -0.776046357221468, 1.8013177068888124, 0.14712931279548955, 1.2544540913290385, -1.2338879462248078, -1.4834376873093869, -0.11069458462192475, -1.2135841483884229, -2.462624833994512, 0.7297195021541508, -0.888023254409534, 1.0370721495332529, 0.5405662853487623, -0.3002664679052229, -0.27813614118761354, 3.1871584994076727, -0.2825599905600144, 1.471850039377236, -1.915324276813688, -0.6909013313081779, -0.1430489513114513, -0.4873770009907383, 0.42824917877439167, 0.8124056700108464, -0.3791085560901211, 0.3522506471537461, -0.7935271883838341, -1.7882741893249297, -1.6273975036052946, 0.41619845626210145, -0.1483835183685805, -0.19785043322526447, 0.3794468224998039, 2.152369319892974, -0.9912778633801927, 0.4379671635038795, -1.0958714857576495, 0.3533230510959733, 0.8837952453922172, 0.28420491440320556, -1.7550383687832753, -0.21079123913418088, -1.1019255019771754, -1.0114807982496816, -0.8732112512284295, -1.0027674554962795, -0.3921981820939004], \"xaxis\": \"x3\", \"y\": [-1.7538858937551702, -1.7226856703555207, -0.4140247115632524, 0.8211538745067284, 1.1389978845908453, 0.2937800164063252, 0.38523754634530905, 0.2495826223220929, 0.4639041966379346, 0.7966092223449669, 1.767194154936893, -1.0236061425711371, -0.35302571009675604, 1.2179000914228575, -0.44883972685594975, -1.1619490891090674, 0.265305113798835, 0.9905367335152827, -0.33441518723358027, -0.5480061657291567, -1.5001806885986948, -1.6590235035842018, -1.3715138381506373, 0.825866973830695, 0.9420282609542272, 0.2606962286828969, -0.8849246227370032, -0.1078503532732208, -0.2974603475612812, 0.9503169590893906, 0.41812936220293445, -0.5348523266504603, 0.3760730387943392, 1.0318066442606086, -1.2427394197115595, 0.5043938659863496, 1.376755938082115, 0.6005663618734192, -1.0519314917957416, 0.8808568140393724, -2.5261638208699035, 0.7136595538703409, 0.3677890721824107, -0.018947152325261948, -0.553662200013513, -0.7925670548920108, -0.6685321613037117, -1.0229969463524564, -0.9238619405833758, 3.080723651001204, 1.147456931259636, -1.8086378449607519, -0.24632702376956678, 0.5684542426237913, 0.32936644752117283, -0.2615535328896379, -0.4105392123307298, 1.6966320973188525, -0.7331190860107024, 0.3478166244604999, -1.876629782501499, 0.7441579168092955, -0.45529571105198646, 0.5307556936191674, 0.7043984803253995, -0.518335332573801, 0.2801872548345399, 0.6279250320877873, -0.699545807581524, -1.4828830868202263, -0.008939436335171736, -0.585396146704361, -0.09089604926936432, 2.158360064948021, 0.040842014274870456, 0.8994208482062952, -0.18837857102847666, 0.39477911885784556, -0.49919456228234604, -0.24278778188330472, -0.27801459712440885, -0.02005599493814914, 0.5111805799165396, -0.7177136725412908, -0.16231118047802034, -0.630899750574069, -0.28833971879513925, -1.3391993460263756, 0.43487028069968203, 2.4936536813480936, 0.9268871399951262, 0.2290428161700579, 0.5817920127165599, -1.103928935045968, 0.06652031913783847, 0.8547749603573822, 0.22744064562977065, -0.21988446126173516, 0.7915929868565157, 1.2123195799722162], \"yaxis\": \"y3\"}, {\"line\": {\"color\": \"rgba(128, 128, 128, 1.0)\", \"dash\": \"solid\", \"shape\": \"linear\", \"width\": 1.3}, \"marker\": {\"size\": 2, \"symbol\": \"circle\"}, \"mode\": \"markers\", \"name\": \"A\", \"text\": \"\", \"type\": \"scatter\", \"x\": [1.4201394248344659, -0.9144939264623855, -1.4801918392582694, 0.5708536906807992, -0.35859094240702466, -0.08412051532512825, -0.7706628384126709, -1.2042641652910422, 0.9441072299952517, -1.5617260704594789, -0.9081702558424615, -2.3479977972102892, 0.9460532090273667, 0.7676546960402487, 1.3394785640222264, 0.15984825588287432, -0.7559048621852565, 1.683075675429387, -1.6865748866203958, 0.020514198856238054, -0.7517564301024344, -1.2951536127600454, -0.4057677811649712, 0.8576682856337292, 0.5200917615335241, 0.7074748453036533, 0.37101701756698247, 1.122310879990849, -0.20621295186512476, -0.0032601343602030575, -0.28191609112828564, 1.061987234722, 0.771930238713787, -0.6171378058323791, 1.1980557365147715, 0.1052329293274022, -1.3633960138657655, -0.5432013610977238, -1.9889775436270527, 0.42542474746181264, -0.8320065491717672, 0.8996981512557594, -1.5021317823863942, 0.40547245361748224, -1.5782133997424979, 0.8984051226554823, -0.7520821248460748, -1.3079232754754473, 0.452391135361414, -0.2956535711118633, 0.5846715230762238, 0.6012583462279851, -0.8899097613382391, 0.8191498213703619, -0.12296751355312766, -1.0427103259921204, 1.338268460525913, 0.33654220525631123, -0.2566228361570299, -1.5251249106633016, -1.0053342011706616, 0.08501699307871964, 0.1772548015436161, 0.2557458543850634, -0.9170092808076356, -0.6052155408657207, -2.6181708217216704, -0.18673588130011717, -1.427834436918814, 1.7907124362613833, 0.5860478682466103, -1.3248615079584147, 0.208759238154158, -0.03531632616806003, 0.5030091327279851, 0.4406160308665978, 1.1054110401762522, -1.8400531831956344, 0.9727555527477301, 0.385439344524998, -0.07678211344083324, -0.4612593574547356, 0.6492120228845738, -1.0099929243964376, -1.1179346033929058, 0.09522689064106103, 0.9915616739080637, -1.4283030562543593, -0.127848327004066, 0.37500248948169823, -0.3277764123810168, -0.5944250653013659, 1.5146316840474294, -0.5477754107305259, 1.0283329695299208, 0.7780544383198856, 0.23906649488896575, -0.8799787544871376, -0.30343995703734733, -0.27131721022203986], \"xaxis\": \"x4\", \"y\": [-1.7538858937551702, -1.7226856703555207, -0.4140247115632524, 0.8211538745067284, 1.1389978845908453, 0.2937800164063252, 0.38523754634530905, 0.2495826223220929, 0.4639041966379346, 0.7966092223449669, 1.767194154936893, -1.0236061425711371, -0.35302571009675604, 1.2179000914228575, -0.44883972685594975, -1.1619490891090674, 0.265305113798835, 0.9905367335152827, -0.33441518723358027, -0.5480061657291567, -1.5001806885986948, -1.6590235035842018, -1.3715138381506373, 0.825866973830695, 0.9420282609542272, 0.2606962286828969, -0.8849246227370032, -0.1078503532732208, -0.2974603475612812, 0.9503169590893906, 0.41812936220293445, -0.5348523266504603, 0.3760730387943392, 1.0318066442606086, -1.2427394197115595, 0.5043938659863496, 1.376755938082115, 0.6005663618734192, -1.0519314917957416, 0.8808568140393724, -2.5261638208699035, 0.7136595538703409, 0.3677890721824107, -0.018947152325261948, -0.553662200013513, -0.7925670548920108, -0.6685321613037117, -1.0229969463524564, -0.9238619405833758, 3.080723651001204, 1.147456931259636, -1.8086378449607519, -0.24632702376956678, 0.5684542426237913, 0.32936644752117283, -0.2615535328896379, -0.4105392123307298, 1.6966320973188525, -0.7331190860107024, 0.3478166244604999, -1.876629782501499, 0.7441579168092955, -0.45529571105198646, 0.5307556936191674, 0.7043984803253995, -0.518335332573801, 0.2801872548345399, 0.6279250320877873, -0.699545807581524, -1.4828830868202263, -0.008939436335171736, -0.585396146704361, -0.09089604926936432, 2.158360064948021, 0.040842014274870456, 0.8994208482062952, -0.18837857102847666, 0.39477911885784556, -0.49919456228234604, -0.24278778188330472, -0.27801459712440885, -0.02005599493814914, 0.5111805799165396, -0.7177136725412908, -0.16231118047802034, -0.630899750574069, -0.28833971879513925, -1.3391993460263756, 0.43487028069968203, 2.4936536813480936, 0.9268871399951262, 0.2290428161700579, 0.5817920127165599, -1.103928935045968, 0.06652031913783847, 0.8547749603573822, 0.22744064562977065, -0.21988446126173516, 0.7915929868565157, 1.2123195799722162], \"yaxis\": \"y4\"}, {\"line\": {\"color\": \"rgba(128, 128, 128, 1.0)\", \"dash\": \"solid\", \"shape\": \"linear\", \"width\": 1.3}, \"marker\": {\"size\": 2, \"symbol\": \"circle\"}, \"mode\": \"markers\", \"name\": \"B\", \"text\": \"\", \"type\": \"scatter\", \"x\": [-1.7538858937551702, -1.7226856703555207, -0.4140247115632524, 0.8211538745067284, 1.1389978845908453, 0.2937800164063252, 0.38523754634530905, 0.2495826223220929, 0.4639041966379346, 0.7966092223449669, 1.767194154936893, -1.0236061425711371, -0.35302571009675604, 1.2179000914228575, -0.44883972685594975, -1.1619490891090674, 0.265305113798835, 0.9905367335152827, -0.33441518723358027, -0.5480061657291567, -1.5001806885986948, -1.6590235035842018, -1.3715138381506373, 0.825866973830695, 0.9420282609542272, 0.2606962286828969, -0.8849246227370032, -0.1078503532732208, -0.2974603475612812, 0.9503169590893906, 0.41812936220293445, -0.5348523266504603, 0.3760730387943392, 1.0318066442606086, -1.2427394197115595, 0.5043938659863496, 1.376755938082115, 0.6005663618734192, -1.0519314917957416, 0.8808568140393724, -2.5261638208699035, 0.7136595538703409, 0.3677890721824107, -0.018947152325261948, -0.553662200013513, -0.7925670548920108, -0.6685321613037117, -1.0229969463524564, -0.9238619405833758, 3.080723651001204, 1.147456931259636, -1.8086378449607519, -0.24632702376956678, 0.5684542426237913, 0.32936644752117283, -0.2615535328896379, -0.4105392123307298, 1.6966320973188525, -0.7331190860107024, 0.3478166244604999, -1.876629782501499, 0.7441579168092955, -0.45529571105198646, 0.5307556936191674, 0.7043984803253995, -0.518335332573801, 0.2801872548345399, 0.6279250320877873, -0.699545807581524, -1.4828830868202263, -0.008939436335171736, -0.585396146704361, -0.09089604926936432, 2.158360064948021, 0.040842014274870456, 0.8994208482062952, -0.18837857102847666, 0.39477911885784556, -0.49919456228234604, -0.24278778188330472, -0.27801459712440885, -0.02005599493814914, 0.5111805799165396, -0.7177136725412908, -0.16231118047802034, -0.630899750574069, -0.28833971879513925, -1.3391993460263756, 0.43487028069968203, 2.4936536813480936, 0.9268871399951262, 0.2290428161700579, 0.5817920127165599, -1.103928935045968, 0.06652031913783847, 0.8547749603573822, 0.22744064562977065, -0.21988446126173516, 0.7915929868565157, 1.2123195799722162], \"xaxis\": \"x5\", \"y\": [-0.15034330799727522, -0.6775470321842226, 0.6292302615166938, 0.5146514364050291, 0.12812953407454677, 1.4826523396260014, 1.09461465459242, -1.4309059964459574, 0.9924000728264003, -0.16462330131150943, -0.9680204294618735, -0.05819894733102732, -0.4193492884002126, -0.9512509775295541, -1.5592432068927438, -0.37724667575089077, -0.8163454087741805, -1.1634426284274009, -0.7727169645991858, -1.5660952387404672, 1.63108501567007, 0.22506325763177487, -0.25763665286886805, 0.214860159679175, 1.251753056344124, 1.6690314114825355, 0.3022929317996026, 0.7392394248453502, -0.32489558407014246, 0.01816151334724389, -1.111172085958229, 0.798352804883693, 0.6689865089232654, 1.0112287761521896, -1.0089163375181691, 0.010197645661448367, -1.3606762482533754, 1.3145565857906587, -1.4714209197893855, -0.020970917635074096, -0.734765310087592, -0.2577290087930091, -0.16650988995760022, -0.0077112515004609345, 0.5156972692644582, -1.5358085131991082, 2.2327494567305863, 0.26956941953525115, -1.3301215335316772, -1.1899279787713606, 0.12113748908960048, 0.6013672613407213, -0.8773803605119841, 0.4587511532092964, 0.6156664665083802, -0.12173311874599524, -1.209952008476506, 0.9255410385804945, 0.8919998451645604, 0.35032603007400487, -1.062444387771096, 0.06669724592427571, -1.203321627677848, -0.4905731440856716, -0.8608338683949729, 0.05490535505286273, 0.9957292249459686, -0.547794495412987, 0.8518552352628243, 0.5881964642812763, -1.784922865556606, -1.0250579370559378, 1.1404566416637723, 0.6585384645569528, 0.6879293639606842, 1.09000165692416, -1.2315473031585094, 0.7718231219070881, 0.834867657747323, 0.5206816714698226, -0.12189711099490538, -2.794522227360413, 1.7058546209147678, 0.3103434913930824, 0.29940444575234265, 2.346868837056278, -0.13980954316876368, 0.32151168696495624, 0.8555709588576978, -0.32964332918219585, -0.05134402117910471, -0.8213825402502497, -1.3226533802406837, 2.239462592111017, -1.067529006567402, -0.1749593741413527, 1.2879721958908095, 0.7740484010414118, -0.5052050279423617, 1.458345819319322], \"yaxis\": \"y5\"}, {\"histfunc\": \"count\", \"histnorm\": \"\", \"marker\": {\"color\": \"rgba(55, 128, 191, 1.0)\", \"line\": {\"color\": \"#4D5663\", \"width\": 1.3}}, \"name\": \"B\", \"nbinsx\": 10, \"opacity\": 0.8, \"orientation\": \"v\", \"type\": \"histogram\", \"x\": [-0.15034330799727522, -0.6775470321842226, 0.6292302615166938, 0.5146514364050291, 0.12812953407454677, 1.4826523396260014, 1.09461465459242, -1.4309059964459574, 0.9924000728264003, -0.16462330131150943, -0.9680204294618735, -0.05819894733102732, -0.4193492884002126, -0.9512509775295541, -1.5592432068927438, -0.37724667575089077, -0.8163454087741805, -1.1634426284274009, -0.7727169645991858, -1.5660952387404672, 1.63108501567007, 0.22506325763177487, -0.25763665286886805, 0.214860159679175, 1.251753056344124, 1.6690314114825355, 0.3022929317996026, 0.7392394248453502, -0.32489558407014246, 0.01816151334724389, -1.111172085958229, 0.798352804883693, 0.6689865089232654, 1.0112287761521896, -1.0089163375181691, 0.010197645661448367, -1.3606762482533754, 1.3145565857906587, -1.4714209197893855, -0.020970917635074096, -0.734765310087592, -0.2577290087930091, -0.16650988995760022, -0.0077112515004609345, 0.5156972692644582, -1.5358085131991082, 2.2327494567305863, 0.26956941953525115, -1.3301215335316772, -1.1899279787713606, 0.12113748908960048, 0.6013672613407213, -0.8773803605119841, 0.4587511532092964, 0.6156664665083802, -0.12173311874599524, -1.209952008476506, 0.9255410385804945, 0.8919998451645604, 0.35032603007400487, -1.062444387771096, 0.06669724592427571, -1.203321627677848, -0.4905731440856716, -0.8608338683949729, 0.05490535505286273, 0.9957292249459686, -0.547794495412987, 0.8518552352628243, 0.5881964642812763, -1.784922865556606, -1.0250579370559378, 1.1404566416637723, 0.6585384645569528, 0.6879293639606842, 1.09000165692416, -1.2315473031585094, 0.7718231219070881, 0.834867657747323, 0.5206816714698226, -0.12189711099490538, -2.794522227360413, 1.7058546209147678, 0.3103434913930824, 0.29940444575234265, 2.346868837056278, -0.13980954316876368, 0.32151168696495624, 0.8555709588576978, -0.32964332918219585, -0.05134402117910471, -0.8213825402502497, -1.3226533802406837, 2.239462592111017, -1.067529006567402, -0.1749593741413527, 1.2879721958908095, 0.7740484010414118, -0.5052050279423617, 1.458345819319322], \"xaxis\": \"x6\", \"yaxis\": \"y6\"}, {\"line\": {\"color\": \"rgba(128, 128, 128, 1.0)\", \"dash\": \"solid\", \"shape\": \"linear\", \"width\": 1.3}, \"marker\": {\"size\": 2, \"symbol\": \"circle\"}, \"mode\": \"markers\", \"name\": \"B\", \"text\": \"\", \"type\": \"scatter\", \"x\": [0.3111254410605801, 0.96658838617808, 0.8553671248012684, -0.9028255174338453, -0.056339845917314, -1.2404521879728398, 0.3939577008389254, -0.584309895164755, -0.1629706548040831, -0.1428612063326886, -0.2368666580884357, -0.7527648325887135, 0.2772101269889636, 1.0992266438041836, -1.2158171852229853, -0.03715493100422582, -1.5380281036666041, 1.4756861413497433, 1.1659434064334433, 1.0642859262233144, -0.5339723566836979, -0.7368047833296468, 0.7522974463580477, -1.2572153767194691, 1.7738812184668709, 0.5407453426631672, 0.3371558672468022, -0.8198735196027412, -0.704256054131467, -0.9100459219697472, -1.4044269815348922, -0.571556951109997, 1.312310205656458, -0.5087608002724731, -2.9893458226495726, -0.05521083419178454, 0.0219794406892053, -1.1392982421587154, -0.585140474599415, 0.04574398933940278, -1.2620196420653527, 2.700449494361798, -1.0262589121646788, -2.0010890729862987, 2.67672072390806, 0.6632218086685767, 0.7808151236780235, -1.4050518731223913, 1.1072396981633452, -0.7662205085015786, -0.44581383111811995, 0.28744566871358107, 0.7793410458376682, -0.776046357221468, 1.8013177068888124, 0.14712931279548955, 1.2544540913290385, -1.2338879462248078, -1.4834376873093869, -0.11069458462192475, -1.2135841483884229, -2.462624833994512, 0.7297195021541508, -0.888023254409534, 1.0370721495332529, 0.5405662853487623, -0.3002664679052229, -0.27813614118761354, 3.1871584994076727, -0.2825599905600144, 1.471850039377236, -1.915324276813688, -0.6909013313081779, -0.1430489513114513, -0.4873770009907383, 0.42824917877439167, 0.8124056700108464, -0.3791085560901211, 0.3522506471537461, -0.7935271883838341, -1.7882741893249297, -1.6273975036052946, 0.41619845626210145, -0.1483835183685805, -0.19785043322526447, 0.3794468224998039, 2.152369319892974, -0.9912778633801927, 0.4379671635038795, -1.0958714857576495, 0.3533230510959733, 0.8837952453922172, 0.28420491440320556, -1.7550383687832753, -0.21079123913418088, -1.1019255019771754, -1.0114807982496816, -0.8732112512284295, -1.0027674554962795, -0.3921981820939004], \"xaxis\": \"x7\", \"y\": [-0.15034330799727522, -0.6775470321842226, 0.6292302615166938, 0.5146514364050291, 0.12812953407454677, 1.4826523396260014, 1.09461465459242, -1.4309059964459574, 0.9924000728264003, -0.16462330131150943, -0.9680204294618735, -0.05819894733102732, -0.4193492884002126, -0.9512509775295541, -1.5592432068927438, -0.37724667575089077, -0.8163454087741805, -1.1634426284274009, -0.7727169645991858, -1.5660952387404672, 1.63108501567007, 0.22506325763177487, -0.25763665286886805, 0.214860159679175, 1.251753056344124, 1.6690314114825355, 0.3022929317996026, 0.7392394248453502, -0.32489558407014246, 0.01816151334724389, -1.111172085958229, 0.798352804883693, 0.6689865089232654, 1.0112287761521896, -1.0089163375181691, 0.010197645661448367, -1.3606762482533754, 1.3145565857906587, -1.4714209197893855, -0.020970917635074096, -0.734765310087592, -0.2577290087930091, -0.16650988995760022, -0.0077112515004609345, 0.5156972692644582, -1.5358085131991082, 2.2327494567305863, 0.26956941953525115, -1.3301215335316772, -1.1899279787713606, 0.12113748908960048, 0.6013672613407213, -0.8773803605119841, 0.4587511532092964, 0.6156664665083802, -0.12173311874599524, -1.209952008476506, 0.9255410385804945, 0.8919998451645604, 0.35032603007400487, -1.062444387771096, 0.06669724592427571, -1.203321627677848, -0.4905731440856716, -0.8608338683949729, 0.05490535505286273, 0.9957292249459686, -0.547794495412987, 0.8518552352628243, 0.5881964642812763, -1.784922865556606, -1.0250579370559378, 1.1404566416637723, 0.6585384645569528, 0.6879293639606842, 1.09000165692416, -1.2315473031585094, 0.7718231219070881, 0.834867657747323, 0.5206816714698226, -0.12189711099490538, -2.794522227360413, 1.7058546209147678, 0.3103434913930824, 0.29940444575234265, 2.346868837056278, -0.13980954316876368, 0.32151168696495624, 0.8555709588576978, -0.32964332918219585, -0.05134402117910471, -0.8213825402502497, -1.3226533802406837, 2.239462592111017, -1.067529006567402, -0.1749593741413527, 1.2879721958908095, 0.7740484010414118, -0.5052050279423617, 1.458345819319322], \"yaxis\": \"y7\"}, {\"line\": {\"color\": \"rgba(128, 128, 128, 1.0)\", \"dash\": \"solid\", \"shape\": \"linear\", \"width\": 1.3}, \"marker\": {\"size\": 2, \"symbol\": \"circle\"}, \"mode\": \"markers\", \"name\": \"B\", \"text\": \"\", \"type\": \"scatter\", \"x\": [1.4201394248344659, -0.9144939264623855, -1.4801918392582694, 0.5708536906807992, -0.35859094240702466, -0.08412051532512825, -0.7706628384126709, -1.2042641652910422, 0.9441072299952517, -1.5617260704594789, -0.9081702558424615, -2.3479977972102892, 0.9460532090273667, 0.7676546960402487, 1.3394785640222264, 0.15984825588287432, -0.7559048621852565, 1.683075675429387, -1.6865748866203958, 0.020514198856238054, -0.7517564301024344, -1.2951536127600454, -0.4057677811649712, 0.8576682856337292, 0.5200917615335241, 0.7074748453036533, 0.37101701756698247, 1.122310879990849, -0.20621295186512476, -0.0032601343602030575, -0.28191609112828564, 1.061987234722, 0.771930238713787, -0.6171378058323791, 1.1980557365147715, 0.1052329293274022, -1.3633960138657655, -0.5432013610977238, -1.9889775436270527, 0.42542474746181264, -0.8320065491717672, 0.8996981512557594, -1.5021317823863942, 0.40547245361748224, -1.5782133997424979, 0.8984051226554823, -0.7520821248460748, -1.3079232754754473, 0.452391135361414, -0.2956535711118633, 0.5846715230762238, 0.6012583462279851, -0.8899097613382391, 0.8191498213703619, -0.12296751355312766, -1.0427103259921204, 1.338268460525913, 0.33654220525631123, -0.2566228361570299, -1.5251249106633016, -1.0053342011706616, 0.08501699307871964, 0.1772548015436161, 0.2557458543850634, -0.9170092808076356, -0.6052155408657207, -2.6181708217216704, -0.18673588130011717, -1.427834436918814, 1.7907124362613833, 0.5860478682466103, -1.3248615079584147, 0.208759238154158, -0.03531632616806003, 0.5030091327279851, 0.4406160308665978, 1.1054110401762522, -1.8400531831956344, 0.9727555527477301, 0.385439344524998, -0.07678211344083324, -0.4612593574547356, 0.6492120228845738, -1.0099929243964376, -1.1179346033929058, 0.09522689064106103, 0.9915616739080637, -1.4283030562543593, -0.127848327004066, 0.37500248948169823, -0.3277764123810168, -0.5944250653013659, 1.5146316840474294, -0.5477754107305259, 1.0283329695299208, 0.7780544383198856, 0.23906649488896575, -0.8799787544871376, -0.30343995703734733, -0.27131721022203986], \"xaxis\": \"x8\", \"y\": [-0.15034330799727522, -0.6775470321842226, 0.6292302615166938, 0.5146514364050291, 0.12812953407454677, 1.4826523396260014, 1.09461465459242, -1.4309059964459574, 0.9924000728264003, -0.16462330131150943, -0.9680204294618735, -0.05819894733102732, -0.4193492884002126, -0.9512509775295541, -1.5592432068927438, -0.37724667575089077, -0.8163454087741805, -1.1634426284274009, -0.7727169645991858, -1.5660952387404672, 1.63108501567007, 0.22506325763177487, -0.25763665286886805, 0.214860159679175, 1.251753056344124, 1.6690314114825355, 0.3022929317996026, 0.7392394248453502, -0.32489558407014246, 0.01816151334724389, -1.111172085958229, 0.798352804883693, 0.6689865089232654, 1.0112287761521896, -1.0089163375181691, 0.010197645661448367, -1.3606762482533754, 1.3145565857906587, -1.4714209197893855, -0.020970917635074096, -0.734765310087592, -0.2577290087930091, -0.16650988995760022, -0.0077112515004609345, 0.5156972692644582, -1.5358085131991082, 2.2327494567305863, 0.26956941953525115, -1.3301215335316772, -1.1899279787713606, 0.12113748908960048, 0.6013672613407213, -0.8773803605119841, 0.4587511532092964, 0.6156664665083802, -0.12173311874599524, -1.209952008476506, 0.9255410385804945, 0.8919998451645604, 0.35032603007400487, -1.062444387771096, 0.06669724592427571, -1.203321627677848, -0.4905731440856716, -0.8608338683949729, 0.05490535505286273, 0.9957292249459686, -0.547794495412987, 0.8518552352628243, 0.5881964642812763, -1.784922865556606, -1.0250579370559378, 1.1404566416637723, 0.6585384645569528, 0.6879293639606842, 1.09000165692416, -1.2315473031585094, 0.7718231219070881, 0.834867657747323, 0.5206816714698226, -0.12189711099490538, -2.794522227360413, 1.7058546209147678, 0.3103434913930824, 0.29940444575234265, 2.346868837056278, -0.13980954316876368, 0.32151168696495624, 0.8555709588576978, -0.32964332918219585, -0.05134402117910471, -0.8213825402502497, -1.3226533802406837, 2.239462592111017, -1.067529006567402, -0.1749593741413527, 1.2879721958908095, 0.7740484010414118, -0.5052050279423617, 1.458345819319322], \"yaxis\": \"y8\"}, {\"line\": {\"color\": \"rgba(128, 128, 128, 1.0)\", \"dash\": \"solid\", \"shape\": \"linear\", \"width\": 1.3}, \"marker\": {\"size\": 2, \"symbol\": \"circle\"}, \"mode\": \"markers\", \"name\": \"C\", \"text\": \"\", \"type\": \"scatter\", \"x\": [-1.7538858937551702, -1.7226856703555207, -0.4140247115632524, 0.8211538745067284, 1.1389978845908453, 0.2937800164063252, 0.38523754634530905, 0.2495826223220929, 0.4639041966379346, 0.7966092223449669, 1.767194154936893, -1.0236061425711371, -0.35302571009675604, 1.2179000914228575, -0.44883972685594975, -1.1619490891090674, 0.265305113798835, 0.9905367335152827, -0.33441518723358027, -0.5480061657291567, -1.5001806885986948, -1.6590235035842018, -1.3715138381506373, 0.825866973830695, 0.9420282609542272, 0.2606962286828969, -0.8849246227370032, -0.1078503532732208, -0.2974603475612812, 0.9503169590893906, 0.41812936220293445, -0.5348523266504603, 0.3760730387943392, 1.0318066442606086, -1.2427394197115595, 0.5043938659863496, 1.376755938082115, 0.6005663618734192, -1.0519314917957416, 0.8808568140393724, -2.5261638208699035, 0.7136595538703409, 0.3677890721824107, -0.018947152325261948, -0.553662200013513, -0.7925670548920108, -0.6685321613037117, -1.0229969463524564, -0.9238619405833758, 3.080723651001204, 1.147456931259636, -1.8086378449607519, -0.24632702376956678, 0.5684542426237913, 0.32936644752117283, -0.2615535328896379, -0.4105392123307298, 1.6966320973188525, -0.7331190860107024, 0.3478166244604999, -1.876629782501499, 0.7441579168092955, -0.45529571105198646, 0.5307556936191674, 0.7043984803253995, -0.518335332573801, 0.2801872548345399, 0.6279250320877873, -0.699545807581524, -1.4828830868202263, -0.008939436335171736, -0.585396146704361, -0.09089604926936432, 2.158360064948021, 0.040842014274870456, 0.8994208482062952, -0.18837857102847666, 0.39477911885784556, -0.49919456228234604, -0.24278778188330472, -0.27801459712440885, -0.02005599493814914, 0.5111805799165396, -0.7177136725412908, -0.16231118047802034, -0.630899750574069, -0.28833971879513925, -1.3391993460263756, 0.43487028069968203, 2.4936536813480936, 0.9268871399951262, 0.2290428161700579, 0.5817920127165599, -1.103928935045968, 0.06652031913783847, 0.8547749603573822, 0.22744064562977065, -0.21988446126173516, 0.7915929868565157, 1.2123195799722162], \"xaxis\": \"x9\", \"y\": [0.3111254410605801, 0.96658838617808, 0.8553671248012684, -0.9028255174338453, -0.056339845917314, -1.2404521879728398, 0.3939577008389254, -0.584309895164755, -0.1629706548040831, -0.1428612063326886, -0.2368666580884357, -0.7527648325887135, 0.2772101269889636, 1.0992266438041836, -1.2158171852229853, -0.03715493100422582, -1.5380281036666041, 1.4756861413497433, 1.1659434064334433, 1.0642859262233144, -0.5339723566836979, -0.7368047833296468, 0.7522974463580477, -1.2572153767194691, 1.7738812184668709, 0.5407453426631672, 0.3371558672468022, -0.8198735196027412, -0.704256054131467, -0.9100459219697472, -1.4044269815348922, -0.571556951109997, 1.312310205656458, -0.5087608002724731, -2.9893458226495726, -0.05521083419178454, 0.0219794406892053, -1.1392982421587154, -0.585140474599415, 0.04574398933940278, -1.2620196420653527, 2.700449494361798, -1.0262589121646788, -2.0010890729862987, 2.67672072390806, 0.6632218086685767, 0.7808151236780235, -1.4050518731223913, 1.1072396981633452, -0.7662205085015786, -0.44581383111811995, 0.28744566871358107, 0.7793410458376682, -0.776046357221468, 1.8013177068888124, 0.14712931279548955, 1.2544540913290385, -1.2338879462248078, -1.4834376873093869, -0.11069458462192475, -1.2135841483884229, -2.462624833994512, 0.7297195021541508, -0.888023254409534, 1.0370721495332529, 0.5405662853487623, -0.3002664679052229, -0.27813614118761354, 3.1871584994076727, -0.2825599905600144, 1.471850039377236, -1.915324276813688, -0.6909013313081779, -0.1430489513114513, -0.4873770009907383, 0.42824917877439167, 0.8124056700108464, -0.3791085560901211, 0.3522506471537461, -0.7935271883838341, -1.7882741893249297, -1.6273975036052946, 0.41619845626210145, -0.1483835183685805, -0.19785043322526447, 0.3794468224998039, 2.152369319892974, -0.9912778633801927, 0.4379671635038795, -1.0958714857576495, 0.3533230510959733, 0.8837952453922172, 0.28420491440320556, -1.7550383687832753, -0.21079123913418088, -1.1019255019771754, -1.0114807982496816, -0.8732112512284295, -1.0027674554962795, -0.3921981820939004], \"yaxis\": \"y9\"}, {\"line\": {\"color\": \"rgba(128, 128, 128, 1.0)\", \"dash\": \"solid\", \"shape\": \"linear\", \"width\": 1.3}, \"marker\": {\"size\": 2, \"symbol\": \"circle\"}, \"mode\": \"markers\", \"name\": \"C\", \"text\": \"\", \"type\": \"scatter\", \"x\": [-0.15034330799727522, -0.6775470321842226, 0.6292302615166938, 0.5146514364050291, 0.12812953407454677, 1.4826523396260014, 1.09461465459242, -1.4309059964459574, 0.9924000728264003, -0.16462330131150943, -0.9680204294618735, -0.05819894733102732, -0.4193492884002126, -0.9512509775295541, -1.5592432068927438, -0.37724667575089077, -0.8163454087741805, -1.1634426284274009, -0.7727169645991858, -1.5660952387404672, 1.63108501567007, 0.22506325763177487, -0.25763665286886805, 0.214860159679175, 1.251753056344124, 1.6690314114825355, 0.3022929317996026, 0.7392394248453502, -0.32489558407014246, 0.01816151334724389, -1.111172085958229, 0.798352804883693, 0.6689865089232654, 1.0112287761521896, -1.0089163375181691, 0.010197645661448367, -1.3606762482533754, 1.3145565857906587, -1.4714209197893855, -0.020970917635074096, -0.734765310087592, -0.2577290087930091, -0.16650988995760022, -0.0077112515004609345, 0.5156972692644582, -1.5358085131991082, 2.2327494567305863, 0.26956941953525115, -1.3301215335316772, -1.1899279787713606, 0.12113748908960048, 0.6013672613407213, -0.8773803605119841, 0.4587511532092964, 0.6156664665083802, -0.12173311874599524, -1.209952008476506, 0.9255410385804945, 0.8919998451645604, 0.35032603007400487, -1.062444387771096, 0.06669724592427571, -1.203321627677848, -0.4905731440856716, -0.8608338683949729, 0.05490535505286273, 0.9957292249459686, -0.547794495412987, 0.8518552352628243, 0.5881964642812763, -1.784922865556606, -1.0250579370559378, 1.1404566416637723, 0.6585384645569528, 0.6879293639606842, 1.09000165692416, -1.2315473031585094, 0.7718231219070881, 0.834867657747323, 0.5206816714698226, -0.12189711099490538, -2.794522227360413, 1.7058546209147678, 0.3103434913930824, 0.29940444575234265, 2.346868837056278, -0.13980954316876368, 0.32151168696495624, 0.8555709588576978, -0.32964332918219585, -0.05134402117910471, -0.8213825402502497, -1.3226533802406837, 2.239462592111017, -1.067529006567402, -0.1749593741413527, 1.2879721958908095, 0.7740484010414118, -0.5052050279423617, 1.458345819319322], \"xaxis\": \"x10\", \"y\": [0.3111254410605801, 0.96658838617808, 0.8553671248012684, -0.9028255174338453, -0.056339845917314, -1.2404521879728398, 0.3939577008389254, -0.584309895164755, -0.1629706548040831, -0.1428612063326886, -0.2368666580884357, -0.7527648325887135, 0.2772101269889636, 1.0992266438041836, -1.2158171852229853, -0.03715493100422582, -1.5380281036666041, 1.4756861413497433, 1.1659434064334433, 1.0642859262233144, -0.5339723566836979, -0.7368047833296468, 0.7522974463580477, -1.2572153767194691, 1.7738812184668709, 0.5407453426631672, 0.3371558672468022, -0.8198735196027412, -0.704256054131467, -0.9100459219697472, -1.4044269815348922, -0.571556951109997, 1.312310205656458, -0.5087608002724731, -2.9893458226495726, -0.05521083419178454, 0.0219794406892053, -1.1392982421587154, -0.585140474599415, 0.04574398933940278, -1.2620196420653527, 2.700449494361798, -1.0262589121646788, -2.0010890729862987, 2.67672072390806, 0.6632218086685767, 0.7808151236780235, -1.4050518731223913, 1.1072396981633452, -0.7662205085015786, -0.44581383111811995, 0.28744566871358107, 0.7793410458376682, -0.776046357221468, 1.8013177068888124, 0.14712931279548955, 1.2544540913290385, -1.2338879462248078, -1.4834376873093869, -0.11069458462192475, -1.2135841483884229, -2.462624833994512, 0.7297195021541508, -0.888023254409534, 1.0370721495332529, 0.5405662853487623, -0.3002664679052229, -0.27813614118761354, 3.1871584994076727, -0.2825599905600144, 1.471850039377236, -1.915324276813688, -0.6909013313081779, -0.1430489513114513, -0.4873770009907383, 0.42824917877439167, 0.8124056700108464, -0.3791085560901211, 0.3522506471537461, -0.7935271883838341, -1.7882741893249297, -1.6273975036052946, 0.41619845626210145, -0.1483835183685805, -0.19785043322526447, 0.3794468224998039, 2.152369319892974, -0.9912778633801927, 0.4379671635038795, -1.0958714857576495, 0.3533230510959733, 0.8837952453922172, 0.28420491440320556, -1.7550383687832753, -0.21079123913418088, -1.1019255019771754, -1.0114807982496816, -0.8732112512284295, -1.0027674554962795, -0.3921981820939004], \"yaxis\": \"y10\"}, {\"histfunc\": \"count\", \"histnorm\": \"\", \"marker\": {\"color\": \"rgba(50, 171, 96, 1.0)\", \"line\": {\"color\": \"#4D5663\", \"width\": 1.3}}, \"name\": \"C\", \"nbinsx\": 10, \"opacity\": 0.8, \"orientation\": \"v\", \"type\": \"histogram\", \"x\": [0.3111254410605801, 0.96658838617808, 0.8553671248012684, -0.9028255174338453, -0.056339845917314, -1.2404521879728398, 0.3939577008389254, -0.584309895164755, -0.1629706548040831, -0.1428612063326886, -0.2368666580884357, -0.7527648325887135, 0.2772101269889636, 1.0992266438041836, -1.2158171852229853, -0.03715493100422582, -1.5380281036666041, 1.4756861413497433, 1.1659434064334433, 1.0642859262233144, -0.5339723566836979, -0.7368047833296468, 0.7522974463580477, -1.2572153767194691, 1.7738812184668709, 0.5407453426631672, 0.3371558672468022, -0.8198735196027412, -0.704256054131467, -0.9100459219697472, -1.4044269815348922, -0.571556951109997, 1.312310205656458, -0.5087608002724731, -2.9893458226495726, -0.05521083419178454, 0.0219794406892053, -1.1392982421587154, -0.585140474599415, 0.04574398933940278, -1.2620196420653527, 2.700449494361798, -1.0262589121646788, -2.0010890729862987, 2.67672072390806, 0.6632218086685767, 0.7808151236780235, -1.4050518731223913, 1.1072396981633452, -0.7662205085015786, -0.44581383111811995, 0.28744566871358107, 0.7793410458376682, -0.776046357221468, 1.8013177068888124, 0.14712931279548955, 1.2544540913290385, -1.2338879462248078, -1.4834376873093869, -0.11069458462192475, -1.2135841483884229, -2.462624833994512, 0.7297195021541508, -0.888023254409534, 1.0370721495332529, 0.5405662853487623, -0.3002664679052229, -0.27813614118761354, 3.1871584994076727, -0.2825599905600144, 1.471850039377236, -1.915324276813688, -0.6909013313081779, -0.1430489513114513, -0.4873770009907383, 0.42824917877439167, 0.8124056700108464, -0.3791085560901211, 0.3522506471537461, -0.7935271883838341, -1.7882741893249297, -1.6273975036052946, 0.41619845626210145, -0.1483835183685805, -0.19785043322526447, 0.3794468224998039, 2.152369319892974, -0.9912778633801927, 0.4379671635038795, -1.0958714857576495, 0.3533230510959733, 0.8837952453922172, 0.28420491440320556, -1.7550383687832753, -0.21079123913418088, -1.1019255019771754, -1.0114807982496816, -0.8732112512284295, -1.0027674554962795, -0.3921981820939004], \"xaxis\": \"x11\", \"yaxis\": \"y11\"}, {\"line\": {\"color\": \"rgba(128, 128, 128, 1.0)\", \"dash\": \"solid\", \"shape\": \"linear\", \"width\": 1.3}, \"marker\": {\"size\": 2, \"symbol\": \"circle\"}, \"mode\": \"markers\", \"name\": \"C\", \"text\": \"\", \"type\": \"scatter\", \"x\": [1.4201394248344659, -0.9144939264623855, -1.4801918392582694, 0.5708536906807992, -0.35859094240702466, -0.08412051532512825, -0.7706628384126709, -1.2042641652910422, 0.9441072299952517, -1.5617260704594789, -0.9081702558424615, -2.3479977972102892, 0.9460532090273667, 0.7676546960402487, 1.3394785640222264, 0.15984825588287432, -0.7559048621852565, 1.683075675429387, -1.6865748866203958, 0.020514198856238054, -0.7517564301024344, -1.2951536127600454, -0.4057677811649712, 0.8576682856337292, 0.5200917615335241, 0.7074748453036533, 0.37101701756698247, 1.122310879990849, -0.20621295186512476, -0.0032601343602030575, -0.28191609112828564, 1.061987234722, 0.771930238713787, -0.6171378058323791, 1.1980557365147715, 0.1052329293274022, -1.3633960138657655, -0.5432013610977238, -1.9889775436270527, 0.42542474746181264, -0.8320065491717672, 0.8996981512557594, -1.5021317823863942, 0.40547245361748224, -1.5782133997424979, 0.8984051226554823, -0.7520821248460748, -1.3079232754754473, 0.452391135361414, -0.2956535711118633, 0.5846715230762238, 0.6012583462279851, -0.8899097613382391, 0.8191498213703619, -0.12296751355312766, -1.0427103259921204, 1.338268460525913, 0.33654220525631123, -0.2566228361570299, -1.5251249106633016, -1.0053342011706616, 0.08501699307871964, 0.1772548015436161, 0.2557458543850634, -0.9170092808076356, -0.6052155408657207, -2.6181708217216704, -0.18673588130011717, -1.427834436918814, 1.7907124362613833, 0.5860478682466103, -1.3248615079584147, 0.208759238154158, -0.03531632616806003, 0.5030091327279851, 0.4406160308665978, 1.1054110401762522, -1.8400531831956344, 0.9727555527477301, 0.385439344524998, -0.07678211344083324, -0.4612593574547356, 0.6492120228845738, -1.0099929243964376, -1.1179346033929058, 0.09522689064106103, 0.9915616739080637, -1.4283030562543593, -0.127848327004066, 0.37500248948169823, -0.3277764123810168, -0.5944250653013659, 1.5146316840474294, -0.5477754107305259, 1.0283329695299208, 0.7780544383198856, 0.23906649488896575, -0.8799787544871376, -0.30343995703734733, -0.27131721022203986], \"xaxis\": \"x12\", \"y\": [0.3111254410605801, 0.96658838617808, 0.8553671248012684, -0.9028255174338453, -0.056339845917314, -1.2404521879728398, 0.3939577008389254, -0.584309895164755, -0.1629706548040831, -0.1428612063326886, -0.2368666580884357, -0.7527648325887135, 0.2772101269889636, 1.0992266438041836, -1.2158171852229853, -0.03715493100422582, -1.5380281036666041, 1.4756861413497433, 1.1659434064334433, 1.0642859262233144, -0.5339723566836979, -0.7368047833296468, 0.7522974463580477, -1.2572153767194691, 1.7738812184668709, 0.5407453426631672, 0.3371558672468022, -0.8198735196027412, -0.704256054131467, -0.9100459219697472, -1.4044269815348922, -0.571556951109997, 1.312310205656458, -0.5087608002724731, -2.9893458226495726, -0.05521083419178454, 0.0219794406892053, -1.1392982421587154, -0.585140474599415, 0.04574398933940278, -1.2620196420653527, 2.700449494361798, -1.0262589121646788, -2.0010890729862987, 2.67672072390806, 0.6632218086685767, 0.7808151236780235, -1.4050518731223913, 1.1072396981633452, -0.7662205085015786, -0.44581383111811995, 0.28744566871358107, 0.7793410458376682, -0.776046357221468, 1.8013177068888124, 0.14712931279548955, 1.2544540913290385, -1.2338879462248078, -1.4834376873093869, -0.11069458462192475, -1.2135841483884229, -2.462624833994512, 0.7297195021541508, -0.888023254409534, 1.0370721495332529, 0.5405662853487623, -0.3002664679052229, -0.27813614118761354, 3.1871584994076727, -0.2825599905600144, 1.471850039377236, -1.915324276813688, -0.6909013313081779, -0.1430489513114513, -0.4873770009907383, 0.42824917877439167, 0.8124056700108464, -0.3791085560901211, 0.3522506471537461, -0.7935271883838341, -1.7882741893249297, -1.6273975036052946, 0.41619845626210145, -0.1483835183685805, -0.19785043322526447, 0.3794468224998039, 2.152369319892974, -0.9912778633801927, 0.4379671635038795, -1.0958714857576495, 0.3533230510959733, 0.8837952453922172, 0.28420491440320556, -1.7550383687832753, -0.21079123913418088, -1.1019255019771754, -1.0114807982496816, -0.8732112512284295, -1.0027674554962795, -0.3921981820939004], \"yaxis\": \"y12\"}, {\"line\": {\"color\": \"rgba(128, 128, 128, 1.0)\", \"dash\": \"solid\", \"shape\": \"linear\", \"width\": 1.3}, \"marker\": {\"size\": 2, \"symbol\": \"circle\"}, \"mode\": \"markers\", \"name\": \"D\", \"text\": \"\", \"type\": \"scatter\", \"x\": [-1.7538858937551702, -1.7226856703555207, -0.4140247115632524, 0.8211538745067284, 1.1389978845908453, 0.2937800164063252, 0.38523754634530905, 0.2495826223220929, 0.4639041966379346, 0.7966092223449669, 1.767194154936893, -1.0236061425711371, -0.35302571009675604, 1.2179000914228575, -0.44883972685594975, -1.1619490891090674, 0.265305113798835, 0.9905367335152827, -0.33441518723358027, -0.5480061657291567, -1.5001806885986948, -1.6590235035842018, -1.3715138381506373, 0.825866973830695, 0.9420282609542272, 0.2606962286828969, -0.8849246227370032, -0.1078503532732208, -0.2974603475612812, 0.9503169590893906, 0.41812936220293445, -0.5348523266504603, 0.3760730387943392, 1.0318066442606086, -1.2427394197115595, 0.5043938659863496, 1.376755938082115, 0.6005663618734192, -1.0519314917957416, 0.8808568140393724, -2.5261638208699035, 0.7136595538703409, 0.3677890721824107, -0.018947152325261948, -0.553662200013513, -0.7925670548920108, -0.6685321613037117, -1.0229969463524564, -0.9238619405833758, 3.080723651001204, 1.147456931259636, -1.8086378449607519, -0.24632702376956678, 0.5684542426237913, 0.32936644752117283, -0.2615535328896379, -0.4105392123307298, 1.6966320973188525, -0.7331190860107024, 0.3478166244604999, -1.876629782501499, 0.7441579168092955, -0.45529571105198646, 0.5307556936191674, 0.7043984803253995, -0.518335332573801, 0.2801872548345399, 0.6279250320877873, -0.699545807581524, -1.4828830868202263, -0.008939436335171736, -0.585396146704361, -0.09089604926936432, 2.158360064948021, 0.040842014274870456, 0.8994208482062952, -0.18837857102847666, 0.39477911885784556, -0.49919456228234604, -0.24278778188330472, -0.27801459712440885, -0.02005599493814914, 0.5111805799165396, -0.7177136725412908, -0.16231118047802034, -0.630899750574069, -0.28833971879513925, -1.3391993460263756, 0.43487028069968203, 2.4936536813480936, 0.9268871399951262, 0.2290428161700579, 0.5817920127165599, -1.103928935045968, 0.06652031913783847, 0.8547749603573822, 0.22744064562977065, -0.21988446126173516, 0.7915929868565157, 1.2123195799722162], \"xaxis\": \"x13\", \"y\": [1.4201394248344659, -0.9144939264623855, -1.4801918392582694, 0.5708536906807992, -0.35859094240702466, -0.08412051532512825, -0.7706628384126709, -1.2042641652910422, 0.9441072299952517, -1.5617260704594789, -0.9081702558424615, -2.3479977972102892, 0.9460532090273667, 0.7676546960402487, 1.3394785640222264, 0.15984825588287432, -0.7559048621852565, 1.683075675429387, -1.6865748866203958, 0.020514198856238054, -0.7517564301024344, -1.2951536127600454, -0.4057677811649712, 0.8576682856337292, 0.5200917615335241, 0.7074748453036533, 0.37101701756698247, 1.122310879990849, -0.20621295186512476, -0.0032601343602030575, -0.28191609112828564, 1.061987234722, 0.771930238713787, -0.6171378058323791, 1.1980557365147715, 0.1052329293274022, -1.3633960138657655, -0.5432013610977238, -1.9889775436270527, 0.42542474746181264, -0.8320065491717672, 0.8996981512557594, -1.5021317823863942, 0.40547245361748224, -1.5782133997424979, 0.8984051226554823, -0.7520821248460748, -1.3079232754754473, 0.452391135361414, -0.2956535711118633, 0.5846715230762238, 0.6012583462279851, -0.8899097613382391, 0.8191498213703619, -0.12296751355312766, -1.0427103259921204, 1.338268460525913, 0.33654220525631123, -0.2566228361570299, -1.5251249106633016, -1.0053342011706616, 0.08501699307871964, 0.1772548015436161, 0.2557458543850634, -0.9170092808076356, -0.6052155408657207, -2.6181708217216704, -0.18673588130011717, -1.427834436918814, 1.7907124362613833, 0.5860478682466103, -1.3248615079584147, 0.208759238154158, -0.03531632616806003, 0.5030091327279851, 0.4406160308665978, 1.1054110401762522, -1.8400531831956344, 0.9727555527477301, 0.385439344524998, -0.07678211344083324, -0.4612593574547356, 0.6492120228845738, -1.0099929243964376, -1.1179346033929058, 0.09522689064106103, 0.9915616739080637, -1.4283030562543593, -0.127848327004066, 0.37500248948169823, -0.3277764123810168, -0.5944250653013659, 1.5146316840474294, -0.5477754107305259, 1.0283329695299208, 0.7780544383198856, 0.23906649488896575, -0.8799787544871376, -0.30343995703734733, -0.27131721022203986], \"yaxis\": \"y13\"}, {\"line\": {\"color\": \"rgba(128, 128, 128, 1.0)\", \"dash\": \"solid\", \"shape\": \"linear\", \"width\": 1.3}, \"marker\": {\"size\": 2, \"symbol\": \"circle\"}, \"mode\": \"markers\", \"name\": \"D\", \"text\": \"\", \"type\": \"scatter\", \"x\": [-0.15034330799727522, -0.6775470321842226, 0.6292302615166938, 0.5146514364050291, 0.12812953407454677, 1.4826523396260014, 1.09461465459242, -1.4309059964459574, 0.9924000728264003, -0.16462330131150943, -0.9680204294618735, -0.05819894733102732, -0.4193492884002126, -0.9512509775295541, -1.5592432068927438, -0.37724667575089077, -0.8163454087741805, -1.1634426284274009, -0.7727169645991858, -1.5660952387404672, 1.63108501567007, 0.22506325763177487, -0.25763665286886805, 0.214860159679175, 1.251753056344124, 1.6690314114825355, 0.3022929317996026, 0.7392394248453502, -0.32489558407014246, 0.01816151334724389, -1.111172085958229, 0.798352804883693, 0.6689865089232654, 1.0112287761521896, -1.0089163375181691, 0.010197645661448367, -1.3606762482533754, 1.3145565857906587, -1.4714209197893855, -0.020970917635074096, -0.734765310087592, -0.2577290087930091, -0.16650988995760022, -0.0077112515004609345, 0.5156972692644582, -1.5358085131991082, 2.2327494567305863, 0.26956941953525115, -1.3301215335316772, -1.1899279787713606, 0.12113748908960048, 0.6013672613407213, -0.8773803605119841, 0.4587511532092964, 0.6156664665083802, -0.12173311874599524, -1.209952008476506, 0.9255410385804945, 0.8919998451645604, 0.35032603007400487, -1.062444387771096, 0.06669724592427571, -1.203321627677848, -0.4905731440856716, -0.8608338683949729, 0.05490535505286273, 0.9957292249459686, -0.547794495412987, 0.8518552352628243, 0.5881964642812763, -1.784922865556606, -1.0250579370559378, 1.1404566416637723, 0.6585384645569528, 0.6879293639606842, 1.09000165692416, -1.2315473031585094, 0.7718231219070881, 0.834867657747323, 0.5206816714698226, -0.12189711099490538, -2.794522227360413, 1.7058546209147678, 0.3103434913930824, 0.29940444575234265, 2.346868837056278, -0.13980954316876368, 0.32151168696495624, 0.8555709588576978, -0.32964332918219585, -0.05134402117910471, -0.8213825402502497, -1.3226533802406837, 2.239462592111017, -1.067529006567402, -0.1749593741413527, 1.2879721958908095, 0.7740484010414118, -0.5052050279423617, 1.458345819319322], \"xaxis\": \"x14\", \"y\": [1.4201394248344659, -0.9144939264623855, -1.4801918392582694, 0.5708536906807992, -0.35859094240702466, -0.08412051532512825, -0.7706628384126709, -1.2042641652910422, 0.9441072299952517, -1.5617260704594789, -0.9081702558424615, -2.3479977972102892, 0.9460532090273667, 0.7676546960402487, 1.3394785640222264, 0.15984825588287432, -0.7559048621852565, 1.683075675429387, -1.6865748866203958, 0.020514198856238054, -0.7517564301024344, -1.2951536127600454, -0.4057677811649712, 0.8576682856337292, 0.5200917615335241, 0.7074748453036533, 0.37101701756698247, 1.122310879990849, -0.20621295186512476, -0.0032601343602030575, -0.28191609112828564, 1.061987234722, 0.771930238713787, -0.6171378058323791, 1.1980557365147715, 0.1052329293274022, -1.3633960138657655, -0.5432013610977238, -1.9889775436270527, 0.42542474746181264, -0.8320065491717672, 0.8996981512557594, -1.5021317823863942, 0.40547245361748224, -1.5782133997424979, 0.8984051226554823, -0.7520821248460748, -1.3079232754754473, 0.452391135361414, -0.2956535711118633, 0.5846715230762238, 0.6012583462279851, -0.8899097613382391, 0.8191498213703619, -0.12296751355312766, -1.0427103259921204, 1.338268460525913, 0.33654220525631123, -0.2566228361570299, -1.5251249106633016, -1.0053342011706616, 0.08501699307871964, 0.1772548015436161, 0.2557458543850634, -0.9170092808076356, -0.6052155408657207, -2.6181708217216704, -0.18673588130011717, -1.427834436918814, 1.7907124362613833, 0.5860478682466103, -1.3248615079584147, 0.208759238154158, -0.03531632616806003, 0.5030091327279851, 0.4406160308665978, 1.1054110401762522, -1.8400531831956344, 0.9727555527477301, 0.385439344524998, -0.07678211344083324, -0.4612593574547356, 0.6492120228845738, -1.0099929243964376, -1.1179346033929058, 0.09522689064106103, 0.9915616739080637, -1.4283030562543593, -0.127848327004066, 0.37500248948169823, -0.3277764123810168, -0.5944250653013659, 1.5146316840474294, -0.5477754107305259, 1.0283329695299208, 0.7780544383198856, 0.23906649488896575, -0.8799787544871376, -0.30343995703734733, -0.27131721022203986], \"yaxis\": \"y14\"}, {\"line\": {\"color\": \"rgba(128, 128, 128, 1.0)\", \"dash\": \"solid\", \"shape\": \"linear\", \"width\": 1.3}, \"marker\": {\"size\": 2, \"symbol\": \"circle\"}, \"mode\": \"markers\", \"name\": \"D\", \"text\": \"\", \"type\": \"scatter\", \"x\": [0.3111254410605801, 0.96658838617808, 0.8553671248012684, -0.9028255174338453, -0.056339845917314, -1.2404521879728398, 0.3939577008389254, -0.584309895164755, -0.1629706548040831, -0.1428612063326886, -0.2368666580884357, -0.7527648325887135, 0.2772101269889636, 1.0992266438041836, -1.2158171852229853, -0.03715493100422582, -1.5380281036666041, 1.4756861413497433, 1.1659434064334433, 1.0642859262233144, -0.5339723566836979, -0.7368047833296468, 0.7522974463580477, -1.2572153767194691, 1.7738812184668709, 0.5407453426631672, 0.3371558672468022, -0.8198735196027412, -0.704256054131467, -0.9100459219697472, -1.4044269815348922, -0.571556951109997, 1.312310205656458, -0.5087608002724731, -2.9893458226495726, -0.05521083419178454, 0.0219794406892053, -1.1392982421587154, -0.585140474599415, 0.04574398933940278, -1.2620196420653527, 2.700449494361798, -1.0262589121646788, -2.0010890729862987, 2.67672072390806, 0.6632218086685767, 0.7808151236780235, -1.4050518731223913, 1.1072396981633452, -0.7662205085015786, -0.44581383111811995, 0.28744566871358107, 0.7793410458376682, -0.776046357221468, 1.8013177068888124, 0.14712931279548955, 1.2544540913290385, -1.2338879462248078, -1.4834376873093869, -0.11069458462192475, -1.2135841483884229, -2.462624833994512, 0.7297195021541508, -0.888023254409534, 1.0370721495332529, 0.5405662853487623, -0.3002664679052229, -0.27813614118761354, 3.1871584994076727, -0.2825599905600144, 1.471850039377236, -1.915324276813688, -0.6909013313081779, -0.1430489513114513, -0.4873770009907383, 0.42824917877439167, 0.8124056700108464, -0.3791085560901211, 0.3522506471537461, -0.7935271883838341, -1.7882741893249297, -1.6273975036052946, 0.41619845626210145, -0.1483835183685805, -0.19785043322526447, 0.3794468224998039, 2.152369319892974, -0.9912778633801927, 0.4379671635038795, -1.0958714857576495, 0.3533230510959733, 0.8837952453922172, 0.28420491440320556, -1.7550383687832753, -0.21079123913418088, -1.1019255019771754, -1.0114807982496816, -0.8732112512284295, -1.0027674554962795, -0.3921981820939004], \"xaxis\": \"x15\", \"y\": [1.4201394248344659, -0.9144939264623855, -1.4801918392582694, 0.5708536906807992, -0.35859094240702466, -0.08412051532512825, -0.7706628384126709, -1.2042641652910422, 0.9441072299952517, -1.5617260704594789, -0.9081702558424615, -2.3479977972102892, 0.9460532090273667, 0.7676546960402487, 1.3394785640222264, 0.15984825588287432, -0.7559048621852565, 1.683075675429387, -1.6865748866203958, 0.020514198856238054, -0.7517564301024344, -1.2951536127600454, -0.4057677811649712, 0.8576682856337292, 0.5200917615335241, 0.7074748453036533, 0.37101701756698247, 1.122310879990849, -0.20621295186512476, -0.0032601343602030575, -0.28191609112828564, 1.061987234722, 0.771930238713787, -0.6171378058323791, 1.1980557365147715, 0.1052329293274022, -1.3633960138657655, -0.5432013610977238, -1.9889775436270527, 0.42542474746181264, -0.8320065491717672, 0.8996981512557594, -1.5021317823863942, 0.40547245361748224, -1.5782133997424979, 0.8984051226554823, -0.7520821248460748, -1.3079232754754473, 0.452391135361414, -0.2956535711118633, 0.5846715230762238, 0.6012583462279851, -0.8899097613382391, 0.8191498213703619, -0.12296751355312766, -1.0427103259921204, 1.338268460525913, 0.33654220525631123, -0.2566228361570299, -1.5251249106633016, -1.0053342011706616, 0.08501699307871964, 0.1772548015436161, 0.2557458543850634, -0.9170092808076356, -0.6052155408657207, -2.6181708217216704, -0.18673588130011717, -1.427834436918814, 1.7907124362613833, 0.5860478682466103, -1.3248615079584147, 0.208759238154158, -0.03531632616806003, 0.5030091327279851, 0.4406160308665978, 1.1054110401762522, -1.8400531831956344, 0.9727555527477301, 0.385439344524998, -0.07678211344083324, -0.4612593574547356, 0.6492120228845738, -1.0099929243964376, -1.1179346033929058, 0.09522689064106103, 0.9915616739080637, -1.4283030562543593, -0.127848327004066, 0.37500248948169823, -0.3277764123810168, -0.5944250653013659, 1.5146316840474294, -0.5477754107305259, 1.0283329695299208, 0.7780544383198856, 0.23906649488896575, -0.8799787544871376, -0.30343995703734733, -0.27131721022203986], \"yaxis\": \"y15\"}, {\"histfunc\": \"count\", \"histnorm\": \"\", \"marker\": {\"color\": \"rgba(128, 0, 128, 1.0)\", \"line\": {\"color\": \"#4D5663\", \"width\": 1.3}}, \"name\": \"D\", \"nbinsx\": 10, \"opacity\": 0.8, \"orientation\": \"v\", \"type\": \"histogram\", \"x\": [1.4201394248344659, -0.9144939264623855, -1.4801918392582694, 0.5708536906807992, -0.35859094240702466, -0.08412051532512825, -0.7706628384126709, -1.2042641652910422, 0.9441072299952517, -1.5617260704594789, -0.9081702558424615, -2.3479977972102892, 0.9460532090273667, 0.7676546960402487, 1.3394785640222264, 0.15984825588287432, -0.7559048621852565, 1.683075675429387, -1.6865748866203958, 0.020514198856238054, -0.7517564301024344, -1.2951536127600454, -0.4057677811649712, 0.8576682856337292, 0.5200917615335241, 0.7074748453036533, 0.37101701756698247, 1.122310879990849, -0.20621295186512476, -0.0032601343602030575, -0.28191609112828564, 1.061987234722, 0.771930238713787, -0.6171378058323791, 1.1980557365147715, 0.1052329293274022, -1.3633960138657655, -0.5432013610977238, -1.9889775436270527, 0.42542474746181264, -0.8320065491717672, 0.8996981512557594, -1.5021317823863942, 0.40547245361748224, -1.5782133997424979, 0.8984051226554823, -0.7520821248460748, -1.3079232754754473, 0.452391135361414, -0.2956535711118633, 0.5846715230762238, 0.6012583462279851, -0.8899097613382391, 0.8191498213703619, -0.12296751355312766, -1.0427103259921204, 1.338268460525913, 0.33654220525631123, -0.2566228361570299, -1.5251249106633016, -1.0053342011706616, 0.08501699307871964, 0.1772548015436161, 0.2557458543850634, -0.9170092808076356, -0.6052155408657207, -2.6181708217216704, -0.18673588130011717, -1.427834436918814, 1.7907124362613833, 0.5860478682466103, -1.3248615079584147, 0.208759238154158, -0.03531632616806003, 0.5030091327279851, 0.4406160308665978, 1.1054110401762522, -1.8400531831956344, 0.9727555527477301, 0.385439344524998, -0.07678211344083324, -0.4612593574547356, 0.6492120228845738, -1.0099929243964376, -1.1179346033929058, 0.09522689064106103, 0.9915616739080637, -1.4283030562543593, -0.127848327004066, 0.37500248948169823, -0.3277764123810168, -0.5944250653013659, 1.5146316840474294, -0.5477754107305259, 1.0283329695299208, 0.7780544383198856, 0.23906649488896575, -0.8799787544871376, -0.30343995703734733, -0.27131721022203986], \"xaxis\": \"x16\", \"yaxis\": \"y16\"}],                        {\"bargap\": 0.02, \"legend\": {\"bgcolor\": \"#F5F6F9\", \"font\": {\"color\": \"#4D5663\"}}, \"paper_bgcolor\": \"#F5F6F9\", \"plot_bgcolor\": \"#F5F6F9\", \"showlegend\": false, \"template\": {\"data\": {\"bar\": [{\"error_x\": {\"color\": \"#2a3f5f\"}, \"error_y\": {\"color\": \"#2a3f5f\"}, \"marker\": {\"line\": {\"color\": \"#E5ECF6\", \"width\": 0.5}}, \"type\": \"bar\"}], \"barpolar\": [{\"marker\": {\"line\": {\"color\": \"#E5ECF6\", \"width\": 0.5}}, \"type\": \"barpolar\"}], \"carpet\": [{\"aaxis\": {\"endlinecolor\": \"#2a3f5f\", \"gridcolor\": \"white\", \"linecolor\": \"white\", \"minorgridcolor\": \"white\", \"startlinecolor\": \"#2a3f5f\"}, \"baxis\": {\"endlinecolor\": \"#2a3f5f\", \"gridcolor\": \"white\", \"linecolor\": \"white\", \"minorgridcolor\": \"white\", \"startlinecolor\": \"#2a3f5f\"}, \"type\": \"carpet\"}], \"choropleth\": [{\"colorbar\": {\"outlinewidth\": 0, \"ticks\": \"\"}, \"type\": \"choropleth\"}], \"contour\": [{\"colorbar\": {\"outlinewidth\": 0, \"ticks\": \"\"}, \"colorscale\": [[0.0, \"#0d0887\"], [0.1111111111111111, \"#46039f\"], [0.2222222222222222, \"#7201a8\"], [0.3333333333333333, \"#9c179e\"], [0.4444444444444444, \"#bd3786\"], [0.5555555555555556, \"#d8576b\"], [0.6666666666666666, \"#ed7953\"], [0.7777777777777778, \"#fb9f3a\"], [0.8888888888888888, \"#fdca26\"], [1.0, \"#f0f921\"]], \"type\": \"contour\"}], \"contourcarpet\": [{\"colorbar\": {\"outlinewidth\": 0, \"ticks\": \"\"}, \"type\": \"contourcarpet\"}], \"heatmap\": [{\"colorbar\": {\"outlinewidth\": 0, \"ticks\": \"\"}, \"colorscale\": [[0.0, \"#0d0887\"], [0.1111111111111111, \"#46039f\"], [0.2222222222222222, \"#7201a8\"], [0.3333333333333333, \"#9c179e\"], [0.4444444444444444, \"#bd3786\"], [0.5555555555555556, \"#d8576b\"], [0.6666666666666666, \"#ed7953\"], [0.7777777777777778, \"#fb9f3a\"], [0.8888888888888888, \"#fdca26\"], [1.0, \"#f0f921\"]], \"type\": \"heatmap\"}], \"heatmapgl\": [{\"colorbar\": {\"outlinewidth\": 0, \"ticks\": \"\"}, \"colorscale\": [[0.0, \"#0d0887\"], [0.1111111111111111, \"#46039f\"], [0.2222222222222222, \"#7201a8\"], [0.3333333333333333, \"#9c179e\"], [0.4444444444444444, \"#bd3786\"], [0.5555555555555556, \"#d8576b\"], [0.6666666666666666, \"#ed7953\"], [0.7777777777777778, \"#fb9f3a\"], [0.8888888888888888, \"#fdca26\"], [1.0, \"#f0f921\"]], \"type\": \"heatmapgl\"}], \"histogram\": [{\"marker\": {\"colorbar\": {\"outlinewidth\": 0, \"ticks\": \"\"}}, \"type\": \"histogram\"}], \"histogram2d\": [{\"colorbar\": {\"outlinewidth\": 0, \"ticks\": \"\"}, \"colorscale\": [[0.0, \"#0d0887\"], [0.1111111111111111, \"#46039f\"], [0.2222222222222222, \"#7201a8\"], [0.3333333333333333, \"#9c179e\"], [0.4444444444444444, \"#bd3786\"], [0.5555555555555556, \"#d8576b\"], [0.6666666666666666, \"#ed7953\"], [0.7777777777777778, \"#fb9f3a\"], [0.8888888888888888, \"#fdca26\"], [1.0, \"#f0f921\"]], \"type\": \"histogram2d\"}], \"histogram2dcontour\": [{\"colorbar\": {\"outlinewidth\": 0, \"ticks\": \"\"}, \"colorscale\": [[0.0, \"#0d0887\"], [0.1111111111111111, \"#46039f\"], [0.2222222222222222, \"#7201a8\"], [0.3333333333333333, \"#9c179e\"], [0.4444444444444444, \"#bd3786\"], [0.5555555555555556, \"#d8576b\"], [0.6666666666666666, \"#ed7953\"], [0.7777777777777778, \"#fb9f3a\"], [0.8888888888888888, \"#fdca26\"], [1.0, \"#f0f921\"]], \"type\": \"histogram2dcontour\"}], \"mesh3d\": [{\"colorbar\": {\"outlinewidth\": 0, \"ticks\": \"\"}, \"type\": \"mesh3d\"}], \"parcoords\": [{\"line\": {\"colorbar\": {\"outlinewidth\": 0, \"ticks\": \"\"}}, \"type\": \"parcoords\"}], \"pie\": [{\"automargin\": true, \"type\": \"pie\"}], \"scatter\": [{\"marker\": {\"colorbar\": {\"outlinewidth\": 0, \"ticks\": \"\"}}, \"type\": \"scatter\"}], \"scatter3d\": [{\"line\": {\"colorbar\": {\"outlinewidth\": 0, \"ticks\": \"\"}}, \"marker\": {\"colorbar\": {\"outlinewidth\": 0, \"ticks\": \"\"}}, \"type\": \"scatter3d\"}], \"scattercarpet\": [{\"marker\": {\"colorbar\": {\"outlinewidth\": 0, \"ticks\": \"\"}}, \"type\": \"scattercarpet\"}], \"scattergeo\": [{\"marker\": {\"colorbar\": {\"outlinewidth\": 0, \"ticks\": \"\"}}, \"type\": \"scattergeo\"}], \"scattergl\": [{\"marker\": {\"colorbar\": {\"outlinewidth\": 0, \"ticks\": \"\"}}, \"type\": \"scattergl\"}], \"scattermapbox\": [{\"marker\": {\"colorbar\": {\"outlinewidth\": 0, \"ticks\": \"\"}}, \"type\": \"scattermapbox\"}], \"scatterpolar\": [{\"marker\": {\"colorbar\": {\"outlinewidth\": 0, \"ticks\": \"\"}}, \"type\": \"scatterpolar\"}], \"scatterpolargl\": [{\"marker\": {\"colorbar\": {\"outlinewidth\": 0, \"ticks\": \"\"}}, \"type\": \"scatterpolargl\"}], \"scatterternary\": [{\"marker\": {\"colorbar\": {\"outlinewidth\": 0, \"ticks\": \"\"}}, \"type\": \"scatterternary\"}], \"surface\": [{\"colorbar\": {\"outlinewidth\": 0, \"ticks\": \"\"}, \"colorscale\": [[0.0, \"#0d0887\"], [0.1111111111111111, \"#46039f\"], [0.2222222222222222, \"#7201a8\"], [0.3333333333333333, \"#9c179e\"], [0.4444444444444444, \"#bd3786\"], [0.5555555555555556, \"#d8576b\"], [0.6666666666666666, \"#ed7953\"], [0.7777777777777778, \"#fb9f3a\"], [0.8888888888888888, \"#fdca26\"], [1.0, \"#f0f921\"]], \"type\": \"surface\"}], \"table\": [{\"cells\": {\"fill\": {\"color\": \"#EBF0F8\"}, \"line\": {\"color\": \"white\"}}, \"header\": {\"fill\": {\"color\": \"#C8D4E3\"}, \"line\": {\"color\": \"white\"}}, \"type\": \"table\"}]}, \"layout\": {\"annotationdefaults\": {\"arrowcolor\": \"#2a3f5f\", \"arrowhead\": 0, \"arrowwidth\": 1}, \"autotypenumbers\": \"strict\", \"coloraxis\": {\"colorbar\": {\"outlinewidth\": 0, \"ticks\": \"\"}}, \"colorscale\": {\"diverging\": [[0, \"#8e0152\"], [0.1, \"#c51b7d\"], [0.2, \"#de77ae\"], [0.3, \"#f1b6da\"], [0.4, \"#fde0ef\"], [0.5, \"#f7f7f7\"], [0.6, \"#e6f5d0\"], [0.7, \"#b8e186\"], [0.8, \"#7fbc41\"], [0.9, \"#4d9221\"], [1, \"#276419\"]], \"sequential\": [[0.0, \"#0d0887\"], [0.1111111111111111, \"#46039f\"], [0.2222222222222222, \"#7201a8\"], [0.3333333333333333, \"#9c179e\"], [0.4444444444444444, \"#bd3786\"], [0.5555555555555556, \"#d8576b\"], [0.6666666666666666, \"#ed7953\"], [0.7777777777777778, \"#fb9f3a\"], [0.8888888888888888, \"#fdca26\"], [1.0, \"#f0f921\"]], \"sequentialminus\": [[0.0, \"#0d0887\"], [0.1111111111111111, \"#46039f\"], [0.2222222222222222, \"#7201a8\"], [0.3333333333333333, \"#9c179e\"], [0.4444444444444444, \"#bd3786\"], [0.5555555555555556, \"#d8576b\"], [0.6666666666666666, \"#ed7953\"], [0.7777777777777778, \"#fb9f3a\"], [0.8888888888888888, \"#fdca26\"], [1.0, \"#f0f921\"]]}, \"colorway\": [\"#636efa\", \"#EF553B\", \"#00cc96\", \"#ab63fa\", \"#FFA15A\", \"#19d3f3\", \"#FF6692\", \"#B6E880\", \"#FF97FF\", \"#FECB52\"], \"font\": {\"color\": \"#2a3f5f\"}, \"geo\": {\"bgcolor\": \"white\", \"lakecolor\": \"white\", \"landcolor\": \"#E5ECF6\", \"showlakes\": true, \"showland\": true, \"subunitcolor\": \"white\"}, \"hoverlabel\": {\"align\": \"left\"}, \"hovermode\": \"closest\", \"mapbox\": {\"style\": \"light\"}, \"paper_bgcolor\": \"white\", \"plot_bgcolor\": \"#E5ECF6\", \"polar\": {\"angularaxis\": {\"gridcolor\": \"white\", \"linecolor\": \"white\", \"ticks\": \"\"}, \"bgcolor\": \"#E5ECF6\", \"radialaxis\": {\"gridcolor\": \"white\", \"linecolor\": \"white\", \"ticks\": \"\"}}, \"scene\": {\"xaxis\": {\"backgroundcolor\": \"#E5ECF6\", \"gridcolor\": \"white\", \"gridwidth\": 2, \"linecolor\": \"white\", \"showbackground\": true, \"ticks\": \"\", \"zerolinecolor\": \"white\"}, \"yaxis\": {\"backgroundcolor\": \"#E5ECF6\", \"gridcolor\": \"white\", \"gridwidth\": 2, \"linecolor\": \"white\", \"showbackground\": true, \"ticks\": \"\", \"zerolinecolor\": \"white\"}, \"zaxis\": {\"backgroundcolor\": \"#E5ECF6\", \"gridcolor\": \"white\", \"gridwidth\": 2, \"linecolor\": \"white\", \"showbackground\": true, \"ticks\": \"\", \"zerolinecolor\": \"white\"}}, \"shapedefaults\": {\"line\": {\"color\": \"#2a3f5f\"}}, \"ternary\": {\"aaxis\": {\"gridcolor\": \"white\", \"linecolor\": \"white\", \"ticks\": \"\"}, \"baxis\": {\"gridcolor\": \"white\", \"linecolor\": \"white\", \"ticks\": \"\"}, \"bgcolor\": \"#E5ECF6\", \"caxis\": {\"gridcolor\": \"white\", \"linecolor\": \"white\", \"ticks\": \"\"}}, \"title\": {\"x\": 0.05}, \"xaxis\": {\"automargin\": true, \"gridcolor\": \"white\", \"linecolor\": \"white\", \"ticks\": \"\", \"title\": {\"standoff\": 15}, \"zerolinecolor\": \"white\", \"zerolinewidth\": 2}, \"yaxis\": {\"automargin\": true, \"gridcolor\": \"white\", \"linecolor\": \"white\", \"ticks\": \"\", \"title\": {\"standoff\": 15}, \"zerolinecolor\": \"white\", \"zerolinewidth\": 2}}}, \"title\": {\"font\": {\"color\": \"#4D5663\"}}, \"xaxis\": {\"anchor\": \"y\", \"domain\": [0.0, 0.2125], \"gridcolor\": \"#E1E5ED\", \"showgrid\": false, \"tickfont\": {\"color\": \"#4D5663\"}, \"title\": {\"font\": {\"color\": \"#4D5663\"}, \"text\": \"\"}, \"zerolinecolor\": \"#E1E5ED\"}, \"xaxis10\": {\"anchor\": \"y10\", \"domain\": [0.2625, 0.475], \"gridcolor\": \"#E1E5ED\", \"showgrid\": false, \"tickfont\": {\"color\": \"#4D5663\"}, \"title\": {\"font\": {\"color\": \"#4D5663\"}, \"text\": \"\"}, \"zerolinecolor\": \"#E1E5ED\"}, \"xaxis11\": {\"anchor\": \"y11\", \"domain\": [0.525, 0.7375], \"gridcolor\": \"#E1E5ED\", \"showgrid\": false, \"tickfont\": {\"color\": \"#4D5663\"}, \"title\": {\"font\": {\"color\": \"#4D5663\"}, \"text\": \"\"}, \"zerolinecolor\": \"#E1E5ED\"}, \"xaxis12\": {\"anchor\": \"y12\", \"domain\": [0.7875, 1.0], \"gridcolor\": \"#E1E5ED\", \"showgrid\": false, \"tickfont\": {\"color\": \"#4D5663\"}, \"title\": {\"font\": {\"color\": \"#4D5663\"}, \"text\": \"\"}, \"zerolinecolor\": \"#E1E5ED\"}, \"xaxis13\": {\"anchor\": \"y13\", \"domain\": [0.0, 0.2125], \"gridcolor\": \"#E1E5ED\", \"showgrid\": false, \"tickfont\": {\"color\": \"#4D5663\"}, \"title\": {\"font\": {\"color\": \"#4D5663\"}, \"text\": \"\"}, \"zerolinecolor\": \"#E1E5ED\"}, \"xaxis14\": {\"anchor\": \"y14\", \"domain\": [0.2625, 0.475], \"gridcolor\": \"#E1E5ED\", \"showgrid\": false, \"tickfont\": {\"color\": \"#4D5663\"}, \"title\": {\"font\": {\"color\": \"#4D5663\"}, \"text\": \"\"}, \"zerolinecolor\": \"#E1E5ED\"}, \"xaxis15\": {\"anchor\": \"y15\", \"domain\": [0.525, 0.7375], \"gridcolor\": \"#E1E5ED\", \"showgrid\": false, \"tickfont\": {\"color\": \"#4D5663\"}, \"title\": {\"font\": {\"color\": \"#4D5663\"}, \"text\": \"\"}, \"zerolinecolor\": \"#E1E5ED\"}, \"xaxis16\": {\"anchor\": \"y16\", \"domain\": [0.7875, 1.0], \"gridcolor\": \"#E1E5ED\", \"showgrid\": false, \"tickfont\": {\"color\": \"#4D5663\"}, \"title\": {\"font\": {\"color\": \"#4D5663\"}, \"text\": \"\"}, \"zerolinecolor\": \"#E1E5ED\"}, \"xaxis2\": {\"anchor\": \"y2\", \"domain\": [0.2625, 0.475], \"gridcolor\": \"#E1E5ED\", \"showgrid\": false, \"tickfont\": {\"color\": \"#4D5663\"}, \"title\": {\"font\": {\"color\": \"#4D5663\"}, \"text\": \"\"}, \"zerolinecolor\": \"#E1E5ED\"}, \"xaxis3\": {\"anchor\": \"y3\", \"domain\": [0.525, 0.7375], \"gridcolor\": \"#E1E5ED\", \"showgrid\": false, \"tickfont\": {\"color\": \"#4D5663\"}, \"title\": {\"font\": {\"color\": \"#4D5663\"}, \"text\": \"\"}, \"zerolinecolor\": \"#E1E5ED\"}, \"xaxis4\": {\"anchor\": \"y4\", \"domain\": [0.7875, 1.0], \"gridcolor\": \"#E1E5ED\", \"showgrid\": false, \"tickfont\": {\"color\": \"#4D5663\"}, \"title\": {\"font\": {\"color\": \"#4D5663\"}, \"text\": \"\"}, \"zerolinecolor\": \"#E1E5ED\"}, \"xaxis5\": {\"anchor\": \"y5\", \"domain\": [0.0, 0.2125], \"gridcolor\": \"#E1E5ED\", \"showgrid\": false, \"tickfont\": {\"color\": \"#4D5663\"}, \"title\": {\"font\": {\"color\": \"#4D5663\"}, \"text\": \"\"}, \"zerolinecolor\": \"#E1E5ED\"}, \"xaxis6\": {\"anchor\": \"y6\", \"domain\": [0.2625, 0.475], \"gridcolor\": \"#E1E5ED\", \"showgrid\": false, \"tickfont\": {\"color\": \"#4D5663\"}, \"title\": {\"font\": {\"color\": \"#4D5663\"}, \"text\": \"\"}, \"zerolinecolor\": \"#E1E5ED\"}, \"xaxis7\": {\"anchor\": \"y7\", \"domain\": [0.525, 0.7375], \"gridcolor\": \"#E1E5ED\", \"showgrid\": false, \"tickfont\": {\"color\": \"#4D5663\"}, \"title\": {\"font\": {\"color\": \"#4D5663\"}, \"text\": \"\"}, \"zerolinecolor\": \"#E1E5ED\"}, \"xaxis8\": {\"anchor\": \"y8\", \"domain\": [0.7875, 1.0], \"gridcolor\": \"#E1E5ED\", \"showgrid\": false, \"tickfont\": {\"color\": \"#4D5663\"}, \"title\": {\"font\": {\"color\": \"#4D5663\"}, \"text\": \"\"}, \"zerolinecolor\": \"#E1E5ED\"}, \"xaxis9\": {\"anchor\": \"y9\", \"domain\": [0.0, 0.2125], \"gridcolor\": \"#E1E5ED\", \"showgrid\": false, \"tickfont\": {\"color\": \"#4D5663\"}, \"title\": {\"font\": {\"color\": \"#4D5663\"}, \"text\": \"\"}, \"zerolinecolor\": \"#E1E5ED\"}, \"yaxis\": {\"anchor\": \"x\", \"domain\": [0.8025, 1.0], \"gridcolor\": \"#E1E5ED\", \"showgrid\": false, \"tickfont\": {\"color\": \"#4D5663\"}, \"title\": {\"font\": {\"color\": \"#4D5663\"}, \"text\": \"\"}, \"zerolinecolor\": \"#E1E5ED\"}, \"yaxis10\": {\"anchor\": \"x10\", \"domain\": [0.2675, 0.465], \"gridcolor\": \"#E1E5ED\", \"showgrid\": false, \"tickfont\": {\"color\": \"#4D5663\"}, \"title\": {\"font\": {\"color\": \"#4D5663\"}, \"text\": \"\"}, \"zerolinecolor\": \"#E1E5ED\"}, \"yaxis11\": {\"anchor\": \"x11\", \"domain\": [0.2675, 0.465], \"gridcolor\": \"#E1E5ED\", \"showgrid\": false, \"tickfont\": {\"color\": \"#4D5663\"}, \"title\": {\"font\": {\"color\": \"#4D5663\"}, \"text\": \"\"}, \"zerolinecolor\": \"#E1E5ED\"}, \"yaxis12\": {\"anchor\": \"x12\", \"domain\": [0.2675, 0.465], \"gridcolor\": \"#E1E5ED\", \"showgrid\": false, \"tickfont\": {\"color\": \"#4D5663\"}, \"title\": {\"font\": {\"color\": \"#4D5663\"}, \"text\": \"\"}, \"zerolinecolor\": \"#E1E5ED\"}, \"yaxis13\": {\"anchor\": \"x13\", \"domain\": [0.0, 0.1975], \"gridcolor\": \"#E1E5ED\", \"showgrid\": false, \"tickfont\": {\"color\": \"#4D5663\"}, \"title\": {\"font\": {\"color\": \"#4D5663\"}, \"text\": \"\"}, \"zerolinecolor\": \"#E1E5ED\"}, \"yaxis14\": {\"anchor\": \"x14\", \"domain\": [0.0, 0.1975], \"gridcolor\": \"#E1E5ED\", \"showgrid\": false, \"tickfont\": {\"color\": \"#4D5663\"}, \"title\": {\"font\": {\"color\": \"#4D5663\"}, \"text\": \"\"}, \"zerolinecolor\": \"#E1E5ED\"}, \"yaxis15\": {\"anchor\": \"x15\", \"domain\": [0.0, 0.1975], \"gridcolor\": \"#E1E5ED\", \"showgrid\": false, \"tickfont\": {\"color\": \"#4D5663\"}, \"title\": {\"font\": {\"color\": \"#4D5663\"}, \"text\": \"\"}, \"zerolinecolor\": \"#E1E5ED\"}, \"yaxis16\": {\"anchor\": \"x16\", \"domain\": [0.0, 0.1975], \"gridcolor\": \"#E1E5ED\", \"showgrid\": false, \"tickfont\": {\"color\": \"#4D5663\"}, \"title\": {\"font\": {\"color\": \"#4D5663\"}, \"text\": \"\"}, \"zerolinecolor\": \"#E1E5ED\"}, \"yaxis2\": {\"anchor\": \"x2\", \"domain\": [0.8025, 1.0], \"gridcolor\": \"#E1E5ED\", \"showgrid\": false, \"tickfont\": {\"color\": \"#4D5663\"}, \"title\": {\"font\": {\"color\": \"#4D5663\"}, \"text\": \"\"}, \"zerolinecolor\": \"#E1E5ED\"}, \"yaxis3\": {\"anchor\": \"x3\", \"domain\": [0.8025, 1.0], \"gridcolor\": \"#E1E5ED\", \"showgrid\": false, \"tickfont\": {\"color\": \"#4D5663\"}, \"title\": {\"font\": {\"color\": \"#4D5663\"}, \"text\": \"\"}, \"zerolinecolor\": \"#E1E5ED\"}, \"yaxis4\": {\"anchor\": \"x4\", \"domain\": [0.8025, 1.0], \"gridcolor\": \"#E1E5ED\", \"showgrid\": false, \"tickfont\": {\"color\": \"#4D5663\"}, \"title\": {\"font\": {\"color\": \"#4D5663\"}, \"text\": \"\"}, \"zerolinecolor\": \"#E1E5ED\"}, \"yaxis5\": {\"anchor\": \"x5\", \"domain\": [0.535, 0.7325], \"gridcolor\": \"#E1E5ED\", \"showgrid\": false, \"tickfont\": {\"color\": \"#4D5663\"}, \"title\": {\"font\": {\"color\": \"#4D5663\"}, \"text\": \"\"}, \"zerolinecolor\": \"#E1E5ED\"}, \"yaxis6\": {\"anchor\": \"x6\", \"domain\": [0.535, 0.7325], \"gridcolor\": \"#E1E5ED\", \"showgrid\": false, \"tickfont\": {\"color\": \"#4D5663\"}, \"title\": {\"font\": {\"color\": \"#4D5663\"}, \"text\": \"\"}, \"zerolinecolor\": \"#E1E5ED\"}, \"yaxis7\": {\"anchor\": \"x7\", \"domain\": [0.535, 0.7325], \"gridcolor\": \"#E1E5ED\", \"showgrid\": false, \"tickfont\": {\"color\": \"#4D5663\"}, \"title\": {\"font\": {\"color\": \"#4D5663\"}, \"text\": \"\"}, \"zerolinecolor\": \"#E1E5ED\"}, \"yaxis8\": {\"anchor\": \"x8\", \"domain\": [0.535, 0.7325], \"gridcolor\": \"#E1E5ED\", \"showgrid\": false, \"tickfont\": {\"color\": \"#4D5663\"}, \"title\": {\"font\": {\"color\": \"#4D5663\"}, \"text\": \"\"}, \"zerolinecolor\": \"#E1E5ED\"}, \"yaxis9\": {\"anchor\": \"x9\", \"domain\": [0.2675, 0.465], \"gridcolor\": \"#E1E5ED\", \"showgrid\": false, \"tickfont\": {\"color\": \"#4D5663\"}, \"title\": {\"font\": {\"color\": \"#4D5663\"}, \"text\": \"\"}, \"zerolinecolor\": \"#E1E5ED\"}},                        {\"showLink\": true, \"linkText\": \"Export to plot.ly\", \"plotlyServerURL\": \"https://plot.ly\", \"responsive\": true}                    ).then(function(){\n",
       "                            \n",
       "var gd = document.getElementById('8e4f9879-ff61-48fd-81ec-15fff40198ea');\n",
       "var x = new MutationObserver(function (mutations, observer) {{\n",
       "        var display = window.getComputedStyle(gd).display;\n",
       "        if (!display || display === 'none') {{\n",
       "            console.log([gd, 'removed!']);\n",
       "            Plotly.purge(gd);\n",
       "            observer.disconnect();\n",
       "        }}\n",
       "}});\n",
       "\n",
       "// Listen for the removal of the full notebook cells\n",
       "var notebookContainer = gd.closest('#notebook-container');\n",
       "if (notebookContainer) {{\n",
       "    x.observe(notebookContainer, {childList: true});\n",
       "}}\n",
       "\n",
       "// Listen for the clearing of the current output cell\n",
       "var outputEl = gd.closest('.output');\n",
       "if (outputEl) {{\n",
       "    x.observe(outputEl, {childList: true});\n",
       "}}\n",
       "\n",
       "                        })                };                });            </script>        </div>"
      ]
     },
     "metadata": {},
     "output_type": "display_data"
    }
   ],
   "source": [
    "df1.scatter_matrix()"
   ]
  },
  {
   "cell_type": "markdown",
   "metadata": {
    "collapsed": true
   },
   "source": [
    "## Great Job!\n",
    "Plotly's cheat sheet is very helpful as a reference. [You can find it here!](https://images.plot.ly/plotly-documentation/images/python_cheat_sheet.pdf)"
   ]
  },
  {
   "cell_type": "markdown",
   "metadata": {},
   "source": [
    "# Let's learn geographical plotting \n",
    "Geographical plotting is usually challenging because of various formates in the datesets. **`Plotly`** provides a way to plot geographical data interactively using its `choropleth` type. Note that, matplotlib also provide its extension `basemap` for static geographical plotting. "
   ]
  },
  {
   "cell_type": "code",
   "execution_count": 20,
   "metadata": {},
   "outputs": [],
   "source": [
    "#import plotly.plotly as py\n",
    "import plotly.graph_objs as go\n",
    "#from plotly.offline import download_plotlyjs, init_notebook_mode, plot, iplot"
   ]
  },
  {
   "cell_type": "markdown",
   "metadata": {},
   "source": [
    "The code below is copied (with some changes) from the [cheat-sheet](https://images.plot.ly/plotly-documentation/images/python_cheat_sheet.pdf) Choropleth Map. A copy of cheat-sheet is also included in the folder. <br>\n",
    "Let's learn what the code is doing. This is little complicated and you don't need to memorize this. You can always reference to the documentation. This is how plotly work for geographical maps. "
   ]
  },
  {
   "cell_type": "code",
   "execution_count": 21,
   "metadata": {},
   "outputs": [
    {
     "data": {
      "application/vnd.plotly.v1+json": {
       "config": {
        "linkText": "Export to plot.ly",
        "plotlyServerURL": "https://plot.ly",
        "showLink": false
       },
       "data": [
        {
         "colorbar": {
          "title": {
           "text": "Colorbar Title"
          }
         },
         "colorscale": [
          [
           0,
           "#440154"
          ],
          [
           0.1111111111111111,
           "#482878"
          ],
          [
           0.2222222222222222,
           "#3e4989"
          ],
          [
           0.3333333333333333,
           "#31688e"
          ],
          [
           0.4444444444444444,
           "#26828e"
          ],
          [
           0.5555555555555556,
           "#1f9e89"
          ],
          [
           0.6666666666666666,
           "#35b779"
          ],
          [
           0.7777777777777778,
           "#6ece58"
          ],
          [
           0.8888888888888888,
           "#b5de2b"
          ],
          [
           1,
           "#fde725"
          ]
         ],
         "locationmode": "USA-states",
         "locations": [
          "AZ",
          "CA",
          "VT"
         ],
         "text": [
          "Arizona",
          "California",
          "Vermont"
         ],
         "type": "choropleth",
         "z": [
          10,
          20,
          30
         ]
        }
       ],
       "layout": {
        "geo": {
         "scope": "usa"
        },
        "template": {
         "data": {
          "bar": [
           {
            "error_x": {
             "color": "#2a3f5f"
            },
            "error_y": {
             "color": "#2a3f5f"
            },
            "marker": {
             "line": {
              "color": "#E5ECF6",
              "width": 0.5
             }
            },
            "type": "bar"
           }
          ],
          "barpolar": [
           {
            "marker": {
             "line": {
              "color": "#E5ECF6",
              "width": 0.5
             }
            },
            "type": "barpolar"
           }
          ],
          "carpet": [
           {
            "aaxis": {
             "endlinecolor": "#2a3f5f",
             "gridcolor": "white",
             "linecolor": "white",
             "minorgridcolor": "white",
             "startlinecolor": "#2a3f5f"
            },
            "baxis": {
             "endlinecolor": "#2a3f5f",
             "gridcolor": "white",
             "linecolor": "white",
             "minorgridcolor": "white",
             "startlinecolor": "#2a3f5f"
            },
            "type": "carpet"
           }
          ],
          "choropleth": [
           {
            "colorbar": {
             "outlinewidth": 0,
             "ticks": ""
            },
            "type": "choropleth"
           }
          ],
          "contour": [
           {
            "colorbar": {
             "outlinewidth": 0,
             "ticks": ""
            },
            "colorscale": [
             [
              0,
              "#0d0887"
             ],
             [
              0.1111111111111111,
              "#46039f"
             ],
             [
              0.2222222222222222,
              "#7201a8"
             ],
             [
              0.3333333333333333,
              "#9c179e"
             ],
             [
              0.4444444444444444,
              "#bd3786"
             ],
             [
              0.5555555555555556,
              "#d8576b"
             ],
             [
              0.6666666666666666,
              "#ed7953"
             ],
             [
              0.7777777777777778,
              "#fb9f3a"
             ],
             [
              0.8888888888888888,
              "#fdca26"
             ],
             [
              1,
              "#f0f921"
             ]
            ],
            "type": "contour"
           }
          ],
          "contourcarpet": [
           {
            "colorbar": {
             "outlinewidth": 0,
             "ticks": ""
            },
            "type": "contourcarpet"
           }
          ],
          "heatmap": [
           {
            "colorbar": {
             "outlinewidth": 0,
             "ticks": ""
            },
            "colorscale": [
             [
              0,
              "#0d0887"
             ],
             [
              0.1111111111111111,
              "#46039f"
             ],
             [
              0.2222222222222222,
              "#7201a8"
             ],
             [
              0.3333333333333333,
              "#9c179e"
             ],
             [
              0.4444444444444444,
              "#bd3786"
             ],
             [
              0.5555555555555556,
              "#d8576b"
             ],
             [
              0.6666666666666666,
              "#ed7953"
             ],
             [
              0.7777777777777778,
              "#fb9f3a"
             ],
             [
              0.8888888888888888,
              "#fdca26"
             ],
             [
              1,
              "#f0f921"
             ]
            ],
            "type": "heatmap"
           }
          ],
          "heatmapgl": [
           {
            "colorbar": {
             "outlinewidth": 0,
             "ticks": ""
            },
            "colorscale": [
             [
              0,
              "#0d0887"
             ],
             [
              0.1111111111111111,
              "#46039f"
             ],
             [
              0.2222222222222222,
              "#7201a8"
             ],
             [
              0.3333333333333333,
              "#9c179e"
             ],
             [
              0.4444444444444444,
              "#bd3786"
             ],
             [
              0.5555555555555556,
              "#d8576b"
             ],
             [
              0.6666666666666666,
              "#ed7953"
             ],
             [
              0.7777777777777778,
              "#fb9f3a"
             ],
             [
              0.8888888888888888,
              "#fdca26"
             ],
             [
              1,
              "#f0f921"
             ]
            ],
            "type": "heatmapgl"
           }
          ],
          "histogram": [
           {
            "marker": {
             "colorbar": {
              "outlinewidth": 0,
              "ticks": ""
             }
            },
            "type": "histogram"
           }
          ],
          "histogram2d": [
           {
            "colorbar": {
             "outlinewidth": 0,
             "ticks": ""
            },
            "colorscale": [
             [
              0,
              "#0d0887"
             ],
             [
              0.1111111111111111,
              "#46039f"
             ],
             [
              0.2222222222222222,
              "#7201a8"
             ],
             [
              0.3333333333333333,
              "#9c179e"
             ],
             [
              0.4444444444444444,
              "#bd3786"
             ],
             [
              0.5555555555555556,
              "#d8576b"
             ],
             [
              0.6666666666666666,
              "#ed7953"
             ],
             [
              0.7777777777777778,
              "#fb9f3a"
             ],
             [
              0.8888888888888888,
              "#fdca26"
             ],
             [
              1,
              "#f0f921"
             ]
            ],
            "type": "histogram2d"
           }
          ],
          "histogram2dcontour": [
           {
            "colorbar": {
             "outlinewidth": 0,
             "ticks": ""
            },
            "colorscale": [
             [
              0,
              "#0d0887"
             ],
             [
              0.1111111111111111,
              "#46039f"
             ],
             [
              0.2222222222222222,
              "#7201a8"
             ],
             [
              0.3333333333333333,
              "#9c179e"
             ],
             [
              0.4444444444444444,
              "#bd3786"
             ],
             [
              0.5555555555555556,
              "#d8576b"
             ],
             [
              0.6666666666666666,
              "#ed7953"
             ],
             [
              0.7777777777777778,
              "#fb9f3a"
             ],
             [
              0.8888888888888888,
              "#fdca26"
             ],
             [
              1,
              "#f0f921"
             ]
            ],
            "type": "histogram2dcontour"
           }
          ],
          "mesh3d": [
           {
            "colorbar": {
             "outlinewidth": 0,
             "ticks": ""
            },
            "type": "mesh3d"
           }
          ],
          "parcoords": [
           {
            "line": {
             "colorbar": {
              "outlinewidth": 0,
              "ticks": ""
             }
            },
            "type": "parcoords"
           }
          ],
          "pie": [
           {
            "automargin": true,
            "type": "pie"
           }
          ],
          "scatter": [
           {
            "marker": {
             "colorbar": {
              "outlinewidth": 0,
              "ticks": ""
             }
            },
            "type": "scatter"
           }
          ],
          "scatter3d": [
           {
            "line": {
             "colorbar": {
              "outlinewidth": 0,
              "ticks": ""
             }
            },
            "marker": {
             "colorbar": {
              "outlinewidth": 0,
              "ticks": ""
             }
            },
            "type": "scatter3d"
           }
          ],
          "scattercarpet": [
           {
            "marker": {
             "colorbar": {
              "outlinewidth": 0,
              "ticks": ""
             }
            },
            "type": "scattercarpet"
           }
          ],
          "scattergeo": [
           {
            "marker": {
             "colorbar": {
              "outlinewidth": 0,
              "ticks": ""
             }
            },
            "type": "scattergeo"
           }
          ],
          "scattergl": [
           {
            "marker": {
             "colorbar": {
              "outlinewidth": 0,
              "ticks": ""
             }
            },
            "type": "scattergl"
           }
          ],
          "scattermapbox": [
           {
            "marker": {
             "colorbar": {
              "outlinewidth": 0,
              "ticks": ""
             }
            },
            "type": "scattermapbox"
           }
          ],
          "scatterpolar": [
           {
            "marker": {
             "colorbar": {
              "outlinewidth": 0,
              "ticks": ""
             }
            },
            "type": "scatterpolar"
           }
          ],
          "scatterpolargl": [
           {
            "marker": {
             "colorbar": {
              "outlinewidth": 0,
              "ticks": ""
             }
            },
            "type": "scatterpolargl"
           }
          ],
          "scatterternary": [
           {
            "marker": {
             "colorbar": {
              "outlinewidth": 0,
              "ticks": ""
             }
            },
            "type": "scatterternary"
           }
          ],
          "surface": [
           {
            "colorbar": {
             "outlinewidth": 0,
             "ticks": ""
            },
            "colorscale": [
             [
              0,
              "#0d0887"
             ],
             [
              0.1111111111111111,
              "#46039f"
             ],
             [
              0.2222222222222222,
              "#7201a8"
             ],
             [
              0.3333333333333333,
              "#9c179e"
             ],
             [
              0.4444444444444444,
              "#bd3786"
             ],
             [
              0.5555555555555556,
              "#d8576b"
             ],
             [
              0.6666666666666666,
              "#ed7953"
             ],
             [
              0.7777777777777778,
              "#fb9f3a"
             ],
             [
              0.8888888888888888,
              "#fdca26"
             ],
             [
              1,
              "#f0f921"
             ]
            ],
            "type": "surface"
           }
          ],
          "table": [
           {
            "cells": {
             "fill": {
              "color": "#EBF0F8"
             },
             "line": {
              "color": "white"
             }
            },
            "header": {
             "fill": {
              "color": "#C8D4E3"
             },
             "line": {
              "color": "white"
             }
            },
            "type": "table"
           }
          ]
         },
         "layout": {
          "annotationdefaults": {
           "arrowcolor": "#2a3f5f",
           "arrowhead": 0,
           "arrowwidth": 1
          },
          "autotypenumbers": "strict",
          "coloraxis": {
           "colorbar": {
            "outlinewidth": 0,
            "ticks": ""
           }
          },
          "colorscale": {
           "diverging": [
            [
             0,
             "#8e0152"
            ],
            [
             0.1,
             "#c51b7d"
            ],
            [
             0.2,
             "#de77ae"
            ],
            [
             0.3,
             "#f1b6da"
            ],
            [
             0.4,
             "#fde0ef"
            ],
            [
             0.5,
             "#f7f7f7"
            ],
            [
             0.6,
             "#e6f5d0"
            ],
            [
             0.7,
             "#b8e186"
            ],
            [
             0.8,
             "#7fbc41"
            ],
            [
             0.9,
             "#4d9221"
            ],
            [
             1,
             "#276419"
            ]
           ],
           "sequential": [
            [
             0,
             "#0d0887"
            ],
            [
             0.1111111111111111,
             "#46039f"
            ],
            [
             0.2222222222222222,
             "#7201a8"
            ],
            [
             0.3333333333333333,
             "#9c179e"
            ],
            [
             0.4444444444444444,
             "#bd3786"
            ],
            [
             0.5555555555555556,
             "#d8576b"
            ],
            [
             0.6666666666666666,
             "#ed7953"
            ],
            [
             0.7777777777777778,
             "#fb9f3a"
            ],
            [
             0.8888888888888888,
             "#fdca26"
            ],
            [
             1,
             "#f0f921"
            ]
           ],
           "sequentialminus": [
            [
             0,
             "#0d0887"
            ],
            [
             0.1111111111111111,
             "#46039f"
            ],
            [
             0.2222222222222222,
             "#7201a8"
            ],
            [
             0.3333333333333333,
             "#9c179e"
            ],
            [
             0.4444444444444444,
             "#bd3786"
            ],
            [
             0.5555555555555556,
             "#d8576b"
            ],
            [
             0.6666666666666666,
             "#ed7953"
            ],
            [
             0.7777777777777778,
             "#fb9f3a"
            ],
            [
             0.8888888888888888,
             "#fdca26"
            ],
            [
             1,
             "#f0f921"
            ]
           ]
          },
          "colorway": [
           "#636efa",
           "#EF553B",
           "#00cc96",
           "#ab63fa",
           "#FFA15A",
           "#19d3f3",
           "#FF6692",
           "#B6E880",
           "#FF97FF",
           "#FECB52"
          ],
          "font": {
           "color": "#2a3f5f"
          },
          "geo": {
           "bgcolor": "white",
           "lakecolor": "white",
           "landcolor": "#E5ECF6",
           "showlakes": true,
           "showland": true,
           "subunitcolor": "white"
          },
          "hoverlabel": {
           "align": "left"
          },
          "hovermode": "closest",
          "mapbox": {
           "style": "light"
          },
          "paper_bgcolor": "white",
          "plot_bgcolor": "#E5ECF6",
          "polar": {
           "angularaxis": {
            "gridcolor": "white",
            "linecolor": "white",
            "ticks": ""
           },
           "bgcolor": "#E5ECF6",
           "radialaxis": {
            "gridcolor": "white",
            "linecolor": "white",
            "ticks": ""
           }
          },
          "scene": {
           "xaxis": {
            "backgroundcolor": "#E5ECF6",
            "gridcolor": "white",
            "gridwidth": 2,
            "linecolor": "white",
            "showbackground": true,
            "ticks": "",
            "zerolinecolor": "white"
           },
           "yaxis": {
            "backgroundcolor": "#E5ECF6",
            "gridcolor": "white",
            "gridwidth": 2,
            "linecolor": "white",
            "showbackground": true,
            "ticks": "",
            "zerolinecolor": "white"
           },
           "zaxis": {
            "backgroundcolor": "#E5ECF6",
            "gridcolor": "white",
            "gridwidth": 2,
            "linecolor": "white",
            "showbackground": true,
            "ticks": "",
            "zerolinecolor": "white"
           }
          },
          "shapedefaults": {
           "line": {
            "color": "#2a3f5f"
           }
          },
          "ternary": {
           "aaxis": {
            "gridcolor": "white",
            "linecolor": "white",
            "ticks": ""
           },
           "baxis": {
            "gridcolor": "white",
            "linecolor": "white",
            "ticks": ""
           },
           "bgcolor": "#E5ECF6",
           "caxis": {
            "gridcolor": "white",
            "linecolor": "white",
            "ticks": ""
           }
          },
          "title": {
           "x": 0.05
          },
          "xaxis": {
           "automargin": true,
           "gridcolor": "white",
           "linecolor": "white",
           "ticks": "",
           "title": {
            "standoff": 15
           },
           "zerolinecolor": "white",
           "zerolinewidth": 2
          },
          "yaxis": {
           "automargin": true,
           "gridcolor": "white",
           "linecolor": "white",
           "ticks": "",
           "title": {
            "standoff": 15
           },
           "zerolinecolor": "white",
           "zerolinewidth": 2
          }
         }
        }
       }
      },
      "text/html": [
       "<div>                            <div id=\"b611adc8-2d10-4d59-b55f-d8afd8c54d86\" class=\"plotly-graph-div\" style=\"height:525px; width:100%;\"></div>            <script type=\"text/javascript\">                require([\"plotly\"], function(Plotly) {                    window.PLOTLYENV=window.PLOTLYENV || {};                                    if (document.getElementById(\"b611adc8-2d10-4d59-b55f-d8afd8c54d86\")) {                    Plotly.newPlot(                        \"b611adc8-2d10-4d59-b55f-d8afd8c54d86\",                        [{\"colorbar\": {\"title\": {\"text\": \"Colorbar Title\"}}, \"colorscale\": [[0.0, \"#440154\"], [0.1111111111111111, \"#482878\"], [0.2222222222222222, \"#3e4989\"], [0.3333333333333333, \"#31688e\"], [0.4444444444444444, \"#26828e\"], [0.5555555555555556, \"#1f9e89\"], [0.6666666666666666, \"#35b779\"], [0.7777777777777778, \"#6ece58\"], [0.8888888888888888, \"#b5de2b\"], [1.0, \"#fde725\"]], \"locationmode\": \"USA-states\", \"locations\": [\"AZ\", \"CA\", \"VT\"], \"text\": [\"Arizona\", \"California\", \"Vermont\"], \"type\": \"choropleth\", \"z\": [10, 20, 30]}],                        {\"geo\": {\"scope\": \"usa\"}, \"template\": {\"data\": {\"bar\": [{\"error_x\": {\"color\": \"#2a3f5f\"}, \"error_y\": {\"color\": \"#2a3f5f\"}, \"marker\": {\"line\": {\"color\": \"#E5ECF6\", \"width\": 0.5}}, \"type\": \"bar\"}], \"barpolar\": [{\"marker\": {\"line\": {\"color\": \"#E5ECF6\", \"width\": 0.5}}, \"type\": \"barpolar\"}], \"carpet\": [{\"aaxis\": {\"endlinecolor\": \"#2a3f5f\", \"gridcolor\": \"white\", \"linecolor\": \"white\", \"minorgridcolor\": \"white\", \"startlinecolor\": \"#2a3f5f\"}, \"baxis\": {\"endlinecolor\": \"#2a3f5f\", \"gridcolor\": \"white\", \"linecolor\": \"white\", \"minorgridcolor\": \"white\", \"startlinecolor\": \"#2a3f5f\"}, \"type\": \"carpet\"}], \"choropleth\": [{\"colorbar\": {\"outlinewidth\": 0, \"ticks\": \"\"}, \"type\": \"choropleth\"}], \"contour\": [{\"colorbar\": {\"outlinewidth\": 0, \"ticks\": \"\"}, \"colorscale\": [[0.0, \"#0d0887\"], [0.1111111111111111, \"#46039f\"], [0.2222222222222222, \"#7201a8\"], [0.3333333333333333, \"#9c179e\"], [0.4444444444444444, \"#bd3786\"], [0.5555555555555556, \"#d8576b\"], [0.6666666666666666, \"#ed7953\"], [0.7777777777777778, \"#fb9f3a\"], [0.8888888888888888, \"#fdca26\"], [1.0, \"#f0f921\"]], \"type\": \"contour\"}], \"contourcarpet\": [{\"colorbar\": {\"outlinewidth\": 0, \"ticks\": \"\"}, \"type\": \"contourcarpet\"}], \"heatmap\": [{\"colorbar\": {\"outlinewidth\": 0, \"ticks\": \"\"}, \"colorscale\": [[0.0, \"#0d0887\"], [0.1111111111111111, \"#46039f\"], [0.2222222222222222, \"#7201a8\"], [0.3333333333333333, \"#9c179e\"], [0.4444444444444444, \"#bd3786\"], [0.5555555555555556, \"#d8576b\"], [0.6666666666666666, \"#ed7953\"], [0.7777777777777778, \"#fb9f3a\"], [0.8888888888888888, \"#fdca26\"], [1.0, \"#f0f921\"]], \"type\": \"heatmap\"}], \"heatmapgl\": [{\"colorbar\": {\"outlinewidth\": 0, \"ticks\": \"\"}, \"colorscale\": [[0.0, \"#0d0887\"], [0.1111111111111111, \"#46039f\"], [0.2222222222222222, \"#7201a8\"], [0.3333333333333333, \"#9c179e\"], [0.4444444444444444, \"#bd3786\"], [0.5555555555555556, \"#d8576b\"], [0.6666666666666666, \"#ed7953\"], [0.7777777777777778, \"#fb9f3a\"], [0.8888888888888888, \"#fdca26\"], [1.0, \"#f0f921\"]], \"type\": \"heatmapgl\"}], \"histogram\": [{\"marker\": {\"colorbar\": {\"outlinewidth\": 0, \"ticks\": \"\"}}, \"type\": \"histogram\"}], \"histogram2d\": [{\"colorbar\": {\"outlinewidth\": 0, \"ticks\": \"\"}, \"colorscale\": [[0.0, \"#0d0887\"], [0.1111111111111111, \"#46039f\"], [0.2222222222222222, \"#7201a8\"], [0.3333333333333333, \"#9c179e\"], [0.4444444444444444, \"#bd3786\"], [0.5555555555555556, \"#d8576b\"], [0.6666666666666666, \"#ed7953\"], [0.7777777777777778, \"#fb9f3a\"], [0.8888888888888888, \"#fdca26\"], [1.0, \"#f0f921\"]], \"type\": \"histogram2d\"}], \"histogram2dcontour\": [{\"colorbar\": {\"outlinewidth\": 0, \"ticks\": \"\"}, \"colorscale\": [[0.0, \"#0d0887\"], [0.1111111111111111, \"#46039f\"], [0.2222222222222222, \"#7201a8\"], [0.3333333333333333, \"#9c179e\"], [0.4444444444444444, \"#bd3786\"], [0.5555555555555556, \"#d8576b\"], [0.6666666666666666, \"#ed7953\"], [0.7777777777777778, \"#fb9f3a\"], [0.8888888888888888, \"#fdca26\"], [1.0, \"#f0f921\"]], \"type\": \"histogram2dcontour\"}], \"mesh3d\": [{\"colorbar\": {\"outlinewidth\": 0, \"ticks\": \"\"}, \"type\": \"mesh3d\"}], \"parcoords\": [{\"line\": {\"colorbar\": {\"outlinewidth\": 0, \"ticks\": \"\"}}, \"type\": \"parcoords\"}], \"pie\": [{\"automargin\": true, \"type\": \"pie\"}], \"scatter\": [{\"marker\": {\"colorbar\": {\"outlinewidth\": 0, \"ticks\": \"\"}}, \"type\": \"scatter\"}], \"scatter3d\": [{\"line\": {\"colorbar\": {\"outlinewidth\": 0, \"ticks\": \"\"}}, \"marker\": {\"colorbar\": {\"outlinewidth\": 0, \"ticks\": \"\"}}, \"type\": \"scatter3d\"}], \"scattercarpet\": [{\"marker\": {\"colorbar\": {\"outlinewidth\": 0, \"ticks\": \"\"}}, \"type\": \"scattercarpet\"}], \"scattergeo\": [{\"marker\": {\"colorbar\": {\"outlinewidth\": 0, \"ticks\": \"\"}}, \"type\": \"scattergeo\"}], \"scattergl\": [{\"marker\": {\"colorbar\": {\"outlinewidth\": 0, \"ticks\": \"\"}}, \"type\": \"scattergl\"}], \"scattermapbox\": [{\"marker\": {\"colorbar\": {\"outlinewidth\": 0, \"ticks\": \"\"}}, \"type\": \"scattermapbox\"}], \"scatterpolar\": [{\"marker\": {\"colorbar\": {\"outlinewidth\": 0, \"ticks\": \"\"}}, \"type\": \"scatterpolar\"}], \"scatterpolargl\": [{\"marker\": {\"colorbar\": {\"outlinewidth\": 0, \"ticks\": \"\"}}, \"type\": \"scatterpolargl\"}], \"scatterternary\": [{\"marker\": {\"colorbar\": {\"outlinewidth\": 0, \"ticks\": \"\"}}, \"type\": \"scatterternary\"}], \"surface\": [{\"colorbar\": {\"outlinewidth\": 0, \"ticks\": \"\"}, \"colorscale\": [[0.0, \"#0d0887\"], [0.1111111111111111, \"#46039f\"], [0.2222222222222222, \"#7201a8\"], [0.3333333333333333, \"#9c179e\"], [0.4444444444444444, \"#bd3786\"], [0.5555555555555556, \"#d8576b\"], [0.6666666666666666, \"#ed7953\"], [0.7777777777777778, \"#fb9f3a\"], [0.8888888888888888, \"#fdca26\"], [1.0, \"#f0f921\"]], \"type\": \"surface\"}], \"table\": [{\"cells\": {\"fill\": {\"color\": \"#EBF0F8\"}, \"line\": {\"color\": \"white\"}}, \"header\": {\"fill\": {\"color\": \"#C8D4E3\"}, \"line\": {\"color\": \"white\"}}, \"type\": \"table\"}]}, \"layout\": {\"annotationdefaults\": {\"arrowcolor\": \"#2a3f5f\", \"arrowhead\": 0, \"arrowwidth\": 1}, \"autotypenumbers\": \"strict\", \"coloraxis\": {\"colorbar\": {\"outlinewidth\": 0, \"ticks\": \"\"}}, \"colorscale\": {\"diverging\": [[0, \"#8e0152\"], [0.1, \"#c51b7d\"], [0.2, \"#de77ae\"], [0.3, \"#f1b6da\"], [0.4, \"#fde0ef\"], [0.5, \"#f7f7f7\"], [0.6, \"#e6f5d0\"], [0.7, \"#b8e186\"], [0.8, \"#7fbc41\"], [0.9, \"#4d9221\"], [1, \"#276419\"]], \"sequential\": [[0.0, \"#0d0887\"], [0.1111111111111111, \"#46039f\"], [0.2222222222222222, \"#7201a8\"], [0.3333333333333333, \"#9c179e\"], [0.4444444444444444, \"#bd3786\"], [0.5555555555555556, \"#d8576b\"], [0.6666666666666666, \"#ed7953\"], [0.7777777777777778, \"#fb9f3a\"], [0.8888888888888888, \"#fdca26\"], [1.0, \"#f0f921\"]], \"sequentialminus\": [[0.0, \"#0d0887\"], [0.1111111111111111, \"#46039f\"], [0.2222222222222222, \"#7201a8\"], [0.3333333333333333, \"#9c179e\"], [0.4444444444444444, \"#bd3786\"], [0.5555555555555556, \"#d8576b\"], [0.6666666666666666, \"#ed7953\"], [0.7777777777777778, \"#fb9f3a\"], [0.8888888888888888, \"#fdca26\"], [1.0, \"#f0f921\"]]}, \"colorway\": [\"#636efa\", \"#EF553B\", \"#00cc96\", \"#ab63fa\", \"#FFA15A\", \"#19d3f3\", \"#FF6692\", \"#B6E880\", \"#FF97FF\", \"#FECB52\"], \"font\": {\"color\": \"#2a3f5f\"}, \"geo\": {\"bgcolor\": \"white\", \"lakecolor\": \"white\", \"landcolor\": \"#E5ECF6\", \"showlakes\": true, \"showland\": true, \"subunitcolor\": \"white\"}, \"hoverlabel\": {\"align\": \"left\"}, \"hovermode\": \"closest\", \"mapbox\": {\"style\": \"light\"}, \"paper_bgcolor\": \"white\", \"plot_bgcolor\": \"#E5ECF6\", \"polar\": {\"angularaxis\": {\"gridcolor\": \"white\", \"linecolor\": \"white\", \"ticks\": \"\"}, \"bgcolor\": \"#E5ECF6\", \"radialaxis\": {\"gridcolor\": \"white\", \"linecolor\": \"white\", \"ticks\": \"\"}}, \"scene\": {\"xaxis\": {\"backgroundcolor\": \"#E5ECF6\", \"gridcolor\": \"white\", \"gridwidth\": 2, \"linecolor\": \"white\", \"showbackground\": true, \"ticks\": \"\", \"zerolinecolor\": \"white\"}, \"yaxis\": {\"backgroundcolor\": \"#E5ECF6\", \"gridcolor\": \"white\", \"gridwidth\": 2, \"linecolor\": \"white\", \"showbackground\": true, \"ticks\": \"\", \"zerolinecolor\": \"white\"}, \"zaxis\": {\"backgroundcolor\": \"#E5ECF6\", \"gridcolor\": \"white\", \"gridwidth\": 2, \"linecolor\": \"white\", \"showbackground\": true, \"ticks\": \"\", \"zerolinecolor\": \"white\"}}, \"shapedefaults\": {\"line\": {\"color\": \"#2a3f5f\"}}, \"ternary\": {\"aaxis\": {\"gridcolor\": \"white\", \"linecolor\": \"white\", \"ticks\": \"\"}, \"baxis\": {\"gridcolor\": \"white\", \"linecolor\": \"white\", \"ticks\": \"\"}, \"bgcolor\": \"#E5ECF6\", \"caxis\": {\"gridcolor\": \"white\", \"linecolor\": \"white\", \"ticks\": \"\"}}, \"title\": {\"x\": 0.05}, \"xaxis\": {\"automargin\": true, \"gridcolor\": \"white\", \"linecolor\": \"white\", \"ticks\": \"\", \"title\": {\"standoff\": 15}, \"zerolinecolor\": \"white\", \"zerolinewidth\": 2}, \"yaxis\": {\"automargin\": true, \"gridcolor\": \"white\", \"linecolor\": \"white\", \"ticks\": \"\", \"title\": {\"standoff\": 15}, \"zerolinecolor\": \"white\", \"zerolinewidth\": 2}}}},                        {\"responsive\": true}                    ).then(function(){\n",
       "                            \n",
       "var gd = document.getElementById('b611adc8-2d10-4d59-b55f-d8afd8c54d86');\n",
       "var x = new MutationObserver(function (mutations, observer) {{\n",
       "        var display = window.getComputedStyle(gd).display;\n",
       "        if (!display || display === 'none') {{\n",
       "            console.log([gd, 'removed!']);\n",
       "            Plotly.purge(gd);\n",
       "            observer.disconnect();\n",
       "        }}\n",
       "}});\n",
       "\n",
       "// Listen for the removal of the full notebook cells\n",
       "var notebookContainer = gd.closest('#notebook-container');\n",
       "if (notebookContainer) {{\n",
       "    x.observe(notebookContainer, {childList: true});\n",
       "}}\n",
       "\n",
       "// Listen for the clearing of the current output cell\n",
       "var outputEl = gd.closest('.output');\n",
       "if (outputEl) {{\n",
       "    x.observe(outputEl, {childList: true});\n",
       "}}\n",
       "\n",
       "                        })                };                });            </script>        </div>"
      ]
     },
     "metadata": {},
     "output_type": "display_data"
    }
   ],
   "source": [
    "# First building the data dictonery \"trc\" using dict method.\n",
    "trc = dict(\n",
    "    type = 'choropleth', # type of the plot\n",
    "    locations = ['AZ','CA','VT'], # list of state abbreviations\n",
    "    locationmode = 'USA-states', # This let's ploty know we are doing at USA national level\n",
    "    colorscale= 'Viridis', # setting a color scale\n",
    "    text= ['Arizona','California','Vermont'], # another key, text that hover over each location \n",
    "    z=[10,20,30], # the actual value that will be shown on the color scale\n",
    "    colorbar = {'title':'Colorbar Title'} # Passing what the color bar title willbe \n",
    "    )\n",
    "\n",
    "#Let's create a layout variable, a nested dict object\n",
    "lyt = dict(geo = dict(scope ='usa'))\n",
    "# Passing data and layout to the go.Figure \n",
    "map = go.Figure(data = [trc], layout = lyt)\n",
    "# Passing map to iplot for plotting \n",
    "iplot(map)"
   ]
  },
  {
   "cell_type": "markdown",
   "metadata": {},
   "source": [
    "## US Map Choropleth\n",
    "Now let's show an example with some **real data** on exports. The datasets are available on [plotly github page](https://github.com/plotly/datasets). We can pass a link to the dataset to directly read into a data frame. A copy of dataset (with little modifications) is also included in the folder, in case you don't have access to the internet. You can read the data from these downloaded csv files. Using these included .csv files, you don't need to do the steps to add a new columns. "
   ]
  },
  {
   "cell_type": "code",
   "execution_count": 22,
   "metadata": {},
   "outputs": [],
   "source": [
    "df = pd.read_csv('https://raw.githubusercontent.com/plotly/datasets/master/2011_us_ag_exports.csv')"
   ]
  },
  {
   "cell_type": "code",
   "execution_count": 23,
   "metadata": {},
   "outputs": [
    {
     "data": {
      "text/html": [
       "<div>\n",
       "<style scoped>\n",
       "    .dataframe tbody tr th:only-of-type {\n",
       "        vertical-align: middle;\n",
       "    }\n",
       "\n",
       "    .dataframe tbody tr th {\n",
       "        vertical-align: top;\n",
       "    }\n",
       "\n",
       "    .dataframe thead th {\n",
       "        text-align: right;\n",
       "    }\n",
       "</style>\n",
       "<table border=\"1\" class=\"dataframe\">\n",
       "  <thead>\n",
       "    <tr style=\"text-align: right;\">\n",
       "      <th></th>\n",
       "      <th>code</th>\n",
       "      <th>state</th>\n",
       "      <th>category</th>\n",
       "      <th>total exports</th>\n",
       "      <th>beef</th>\n",
       "      <th>pork</th>\n",
       "      <th>poultry</th>\n",
       "      <th>dairy</th>\n",
       "      <th>fruits fresh</th>\n",
       "      <th>fruits proc</th>\n",
       "      <th>total fruits</th>\n",
       "      <th>veggies fresh</th>\n",
       "      <th>veggies proc</th>\n",
       "      <th>total veggies</th>\n",
       "      <th>corn</th>\n",
       "      <th>wheat</th>\n",
       "      <th>cotton</th>\n",
       "    </tr>\n",
       "  </thead>\n",
       "  <tbody>\n",
       "    <tr>\n",
       "      <th>0</th>\n",
       "      <td>AL</td>\n",
       "      <td>Alabama</td>\n",
       "      <td>state</td>\n",
       "      <td>1390.63</td>\n",
       "      <td>34.4</td>\n",
       "      <td>10.6</td>\n",
       "      <td>481.0</td>\n",
       "      <td>4.06</td>\n",
       "      <td>8.0</td>\n",
       "      <td>17.1</td>\n",
       "      <td>25.11</td>\n",
       "      <td>5.5</td>\n",
       "      <td>8.9</td>\n",
       "      <td>14.33</td>\n",
       "      <td>34.9</td>\n",
       "      <td>70.0</td>\n",
       "      <td>317.61</td>\n",
       "    </tr>\n",
       "    <tr>\n",
       "      <th>1</th>\n",
       "      <td>AK</td>\n",
       "      <td>Alaska</td>\n",
       "      <td>state</td>\n",
       "      <td>13.31</td>\n",
       "      <td>0.2</td>\n",
       "      <td>0.1</td>\n",
       "      <td>0.0</td>\n",
       "      <td>0.19</td>\n",
       "      <td>0.0</td>\n",
       "      <td>0.0</td>\n",
       "      <td>0.00</td>\n",
       "      <td>0.6</td>\n",
       "      <td>1.0</td>\n",
       "      <td>1.56</td>\n",
       "      <td>0.0</td>\n",
       "      <td>0.0</td>\n",
       "      <td>0.00</td>\n",
       "    </tr>\n",
       "    <tr>\n",
       "      <th>2</th>\n",
       "      <td>AZ</td>\n",
       "      <td>Arizona</td>\n",
       "      <td>state</td>\n",
       "      <td>1463.17</td>\n",
       "      <td>71.3</td>\n",
       "      <td>17.9</td>\n",
       "      <td>0.0</td>\n",
       "      <td>105.48</td>\n",
       "      <td>19.3</td>\n",
       "      <td>41.0</td>\n",
       "      <td>60.27</td>\n",
       "      <td>147.5</td>\n",
       "      <td>239.4</td>\n",
       "      <td>386.91</td>\n",
       "      <td>7.3</td>\n",
       "      <td>48.7</td>\n",
       "      <td>423.95</td>\n",
       "    </tr>\n",
       "    <tr>\n",
       "      <th>3</th>\n",
       "      <td>AR</td>\n",
       "      <td>Arkansas</td>\n",
       "      <td>state</td>\n",
       "      <td>3586.02</td>\n",
       "      <td>53.2</td>\n",
       "      <td>29.4</td>\n",
       "      <td>562.9</td>\n",
       "      <td>3.53</td>\n",
       "      <td>2.2</td>\n",
       "      <td>4.7</td>\n",
       "      <td>6.88</td>\n",
       "      <td>4.4</td>\n",
       "      <td>7.1</td>\n",
       "      <td>11.45</td>\n",
       "      <td>69.5</td>\n",
       "      <td>114.5</td>\n",
       "      <td>665.44</td>\n",
       "    </tr>\n",
       "    <tr>\n",
       "      <th>4</th>\n",
       "      <td>CA</td>\n",
       "      <td>California</td>\n",
       "      <td>state</td>\n",
       "      <td>16472.88</td>\n",
       "      <td>228.7</td>\n",
       "      <td>11.1</td>\n",
       "      <td>225.4</td>\n",
       "      <td>929.95</td>\n",
       "      <td>2791.8</td>\n",
       "      <td>5944.6</td>\n",
       "      <td>8736.40</td>\n",
       "      <td>803.2</td>\n",
       "      <td>1303.5</td>\n",
       "      <td>2106.79</td>\n",
       "      <td>34.6</td>\n",
       "      <td>249.3</td>\n",
       "      <td>1064.95</td>\n",
       "    </tr>\n",
       "  </tbody>\n",
       "</table>\n",
       "</div>"
      ],
      "text/plain": [
       "  code       state category  total exports   beef  pork  poultry   dairy  \\\n",
       "0   AL     Alabama    state        1390.63   34.4  10.6    481.0    4.06   \n",
       "1   AK      Alaska    state          13.31    0.2   0.1      0.0    0.19   \n",
       "2   AZ     Arizona    state        1463.17   71.3  17.9      0.0  105.48   \n",
       "3   AR    Arkansas    state        3586.02   53.2  29.4    562.9    3.53   \n",
       "4   CA  California    state       16472.88  228.7  11.1    225.4  929.95   \n",
       "\n",
       "   fruits fresh  fruits proc  total fruits  veggies fresh  veggies proc  \\\n",
       "0           8.0         17.1         25.11            5.5           8.9   \n",
       "1           0.0          0.0          0.00            0.6           1.0   \n",
       "2          19.3         41.0         60.27          147.5         239.4   \n",
       "3           2.2          4.7          6.88            4.4           7.1   \n",
       "4        2791.8       5944.6       8736.40          803.2        1303.5   \n",
       "\n",
       "   total veggies  corn  wheat   cotton  \n",
       "0          14.33  34.9   70.0   317.61  \n",
       "1           1.56   0.0    0.0     0.00  \n",
       "2         386.91   7.3   48.7   423.95  \n",
       "3          11.45  69.5  114.5   665.44  \n",
       "4        2106.79  34.6  249.3  1064.95  "
      ]
     },
     "execution_count": 23,
     "metadata": {},
     "output_type": "execute_result"
    }
   ],
   "source": [
    "df.head()"
   ]
  },
  {
   "cell_type": "code",
   "execution_count": 24,
   "metadata": {},
   "outputs": [
    {
     "name": "stdout",
     "output_type": "stream",
     "text": [
      "<class 'pandas.core.frame.DataFrame'>\n",
      "RangeIndex: 50 entries, 0 to 49\n",
      "Data columns (total 17 columns):\n",
      " #   Column         Non-Null Count  Dtype  \n",
      "---  ------         --------------  -----  \n",
      " 0   code           50 non-null     object \n",
      " 1   state          50 non-null     object \n",
      " 2   category       50 non-null     object \n",
      " 3   total exports  50 non-null     float64\n",
      " 4   beef           50 non-null     float64\n",
      " 5   pork           50 non-null     float64\n",
      " 6   poultry        50 non-null     float64\n",
      " 7   dairy          50 non-null     float64\n",
      " 8   fruits fresh   50 non-null     float64\n",
      " 9   fruits proc    50 non-null     float64\n",
      " 10  total fruits   50 non-null     float64\n",
      " 11  veggies fresh  50 non-null     float64\n",
      " 12  veggies proc   50 non-null     float64\n",
      " 13  total veggies  50 non-null     float64\n",
      " 14  corn           50 non-null     float64\n",
      " 15  wheat          50 non-null     float64\n",
      " 16  cotton         50 non-null     float64\n",
      "dtypes: float64(14), object(3)\n",
      "memory usage: 6.8+ KB\n"
     ]
    }
   ],
   "source": [
    "df.info()"
   ]
  },
  {
   "cell_type": "markdown",
   "metadata": {},
   "source": [
    "If we look at the dataframe, we have individual columns for each state for exports of each entity such as beef, dairy, veggies etc. <br>\n",
    "Most of the time, we have to built our own text column, so, let's create a new column that combine this information so that we can pass that column to text key that will hover on the plot (will explain next).<br>"
   ]
  },
  {
   "cell_type": "code",
   "execution_count": 25,
   "metadata": {},
   "outputs": [],
   "source": [
    "#We need to convert the column datatype from float to string first. \n",
    "for col in df.columns:\n",
    "    df[col] = df[col].astype(str)"
   ]
  },
  {
   "cell_type": "code",
   "execution_count": 26,
   "metadata": {},
   "outputs": [
    {
     "name": "stdout",
     "output_type": "stream",
     "text": [
      "<class 'pandas.core.frame.DataFrame'>\n",
      "RangeIndex: 50 entries, 0 to 49\n",
      "Data columns (total 17 columns):\n",
      " #   Column         Non-Null Count  Dtype \n",
      "---  ------         --------------  ----- \n",
      " 0   code           50 non-null     object\n",
      " 1   state          50 non-null     object\n",
      " 2   category       50 non-null     object\n",
      " 3   total exports  50 non-null     object\n",
      " 4   beef           50 non-null     object\n",
      " 5   pork           50 non-null     object\n",
      " 6   poultry        50 non-null     object\n",
      " 7   dairy          50 non-null     object\n",
      " 8   fruits fresh   50 non-null     object\n",
      " 9   fruits proc    50 non-null     object\n",
      " 10  total fruits   50 non-null     object\n",
      " 11  veggies fresh  50 non-null     object\n",
      " 12  veggies proc   50 non-null     object\n",
      " 13  total veggies  50 non-null     object\n",
      " 14  corn           50 non-null     object\n",
      " 15  wheat          50 non-null     object\n",
      " 16  cotton         50 non-null     object\n",
      "dtypes: object(17)\n",
      "memory usage: 6.8+ KB\n"
     ]
    }
   ],
   "source": [
    "# Let's check the data again, compare with the previous df.info and note the difference!\n",
    "df.info()"
   ]
  },
  {
   "cell_type": "code",
   "execution_count": 27,
   "metadata": {},
   "outputs": [],
   "source": [
    "# creating new col 'text'\n",
    "#<br> single line break\n",
    "#\\ line continuation\n",
    "df['text'] = df['state'] + '<br>' +\\\n",
    "    'Beef '+df['beef']+' Dairy '+df['dairy']+'<br>'+\\\n",
    "    'Fruits '+df['total fruits']+' Veggies ' + df['total veggies']+'<br>'+\\\n",
    "    'Wheat '+df['wheat']+' Corn '+df['corn']"
   ]
  },
  {
   "cell_type": "code",
   "execution_count": 28,
   "metadata": {},
   "outputs": [
    {
     "data": {
      "text/html": [
       "<div>\n",
       "<style scoped>\n",
       "    .dataframe tbody tr th:only-of-type {\n",
       "        vertical-align: middle;\n",
       "    }\n",
       "\n",
       "    .dataframe tbody tr th {\n",
       "        vertical-align: top;\n",
       "    }\n",
       "\n",
       "    .dataframe thead th {\n",
       "        text-align: right;\n",
       "    }\n",
       "</style>\n",
       "<table border=\"1\" class=\"dataframe\">\n",
       "  <thead>\n",
       "    <tr style=\"text-align: right;\">\n",
       "      <th></th>\n",
       "      <th>code</th>\n",
       "      <th>state</th>\n",
       "      <th>category</th>\n",
       "      <th>total exports</th>\n",
       "      <th>beef</th>\n",
       "      <th>pork</th>\n",
       "      <th>poultry</th>\n",
       "      <th>dairy</th>\n",
       "      <th>fruits fresh</th>\n",
       "      <th>fruits proc</th>\n",
       "      <th>total fruits</th>\n",
       "      <th>veggies fresh</th>\n",
       "      <th>veggies proc</th>\n",
       "      <th>total veggies</th>\n",
       "      <th>corn</th>\n",
       "      <th>wheat</th>\n",
       "      <th>cotton</th>\n",
       "      <th>text</th>\n",
       "    </tr>\n",
       "  </thead>\n",
       "  <tbody>\n",
       "    <tr>\n",
       "      <th>0</th>\n",
       "      <td>AL</td>\n",
       "      <td>Alabama</td>\n",
       "      <td>state</td>\n",
       "      <td>1390.63</td>\n",
       "      <td>34.4</td>\n",
       "      <td>10.6</td>\n",
       "      <td>481.0</td>\n",
       "      <td>4.06</td>\n",
       "      <td>8.0</td>\n",
       "      <td>17.1</td>\n",
       "      <td>25.11</td>\n",
       "      <td>5.5</td>\n",
       "      <td>8.9</td>\n",
       "      <td>14.33</td>\n",
       "      <td>34.9</td>\n",
       "      <td>70.0</td>\n",
       "      <td>317.61</td>\n",
       "      <td>Alabama&lt;br&gt;Beef 34.4 Dairy 4.06&lt;br&gt;Fruits 25.1...</td>\n",
       "    </tr>\n",
       "    <tr>\n",
       "      <th>1</th>\n",
       "      <td>AK</td>\n",
       "      <td>Alaska</td>\n",
       "      <td>state</td>\n",
       "      <td>13.31</td>\n",
       "      <td>0.2</td>\n",
       "      <td>0.1</td>\n",
       "      <td>0.0</td>\n",
       "      <td>0.19</td>\n",
       "      <td>0.0</td>\n",
       "      <td>0.0</td>\n",
       "      <td>0.0</td>\n",
       "      <td>0.6</td>\n",
       "      <td>1.0</td>\n",
       "      <td>1.56</td>\n",
       "      <td>0.0</td>\n",
       "      <td>0.0</td>\n",
       "      <td>0.0</td>\n",
       "      <td>Alaska&lt;br&gt;Beef 0.2 Dairy 0.19&lt;br&gt;Fruits 0.0 Ve...</td>\n",
       "    </tr>\n",
       "    <tr>\n",
       "      <th>2</th>\n",
       "      <td>AZ</td>\n",
       "      <td>Arizona</td>\n",
       "      <td>state</td>\n",
       "      <td>1463.17</td>\n",
       "      <td>71.3</td>\n",
       "      <td>17.9</td>\n",
       "      <td>0.0</td>\n",
       "      <td>105.48</td>\n",
       "      <td>19.3</td>\n",
       "      <td>41.0</td>\n",
       "      <td>60.27</td>\n",
       "      <td>147.5</td>\n",
       "      <td>239.4</td>\n",
       "      <td>386.91</td>\n",
       "      <td>7.3</td>\n",
       "      <td>48.7</td>\n",
       "      <td>423.95</td>\n",
       "      <td>Arizona&lt;br&gt;Beef 71.3 Dairy 105.48&lt;br&gt;Fruits 60...</td>\n",
       "    </tr>\n",
       "    <tr>\n",
       "      <th>3</th>\n",
       "      <td>AR</td>\n",
       "      <td>Arkansas</td>\n",
       "      <td>state</td>\n",
       "      <td>3586.02</td>\n",
       "      <td>53.2</td>\n",
       "      <td>29.4</td>\n",
       "      <td>562.9</td>\n",
       "      <td>3.53</td>\n",
       "      <td>2.2</td>\n",
       "      <td>4.7</td>\n",
       "      <td>6.88</td>\n",
       "      <td>4.4</td>\n",
       "      <td>7.1</td>\n",
       "      <td>11.45</td>\n",
       "      <td>69.5</td>\n",
       "      <td>114.5</td>\n",
       "      <td>665.44</td>\n",
       "      <td>Arkansas&lt;br&gt;Beef 53.2 Dairy 3.53&lt;br&gt;Fruits 6.8...</td>\n",
       "    </tr>\n",
       "    <tr>\n",
       "      <th>4</th>\n",
       "      <td>CA</td>\n",
       "      <td>California</td>\n",
       "      <td>state</td>\n",
       "      <td>16472.88</td>\n",
       "      <td>228.7</td>\n",
       "      <td>11.1</td>\n",
       "      <td>225.4</td>\n",
       "      <td>929.95</td>\n",
       "      <td>2791.8</td>\n",
       "      <td>5944.6</td>\n",
       "      <td>8736.4</td>\n",
       "      <td>803.2</td>\n",
       "      <td>1303.5</td>\n",
       "      <td>2106.79</td>\n",
       "      <td>34.6</td>\n",
       "      <td>249.3</td>\n",
       "      <td>1064.95</td>\n",
       "      <td>California&lt;br&gt;Beef 228.7 Dairy 929.95&lt;br&gt;Fruit...</td>\n",
       "    </tr>\n",
       "  </tbody>\n",
       "</table>\n",
       "</div>"
      ],
      "text/plain": [
       "  code       state category total exports   beef  pork poultry   dairy  \\\n",
       "0   AL     Alabama    state       1390.63   34.4  10.6   481.0    4.06   \n",
       "1   AK      Alaska    state         13.31    0.2   0.1     0.0    0.19   \n",
       "2   AZ     Arizona    state       1463.17   71.3  17.9     0.0  105.48   \n",
       "3   AR    Arkansas    state       3586.02   53.2  29.4   562.9    3.53   \n",
       "4   CA  California    state      16472.88  228.7  11.1   225.4  929.95   \n",
       "\n",
       "  fruits fresh fruits proc total fruits veggies fresh veggies proc  \\\n",
       "0          8.0        17.1        25.11           5.5          8.9   \n",
       "1          0.0         0.0          0.0           0.6          1.0   \n",
       "2         19.3        41.0        60.27         147.5        239.4   \n",
       "3          2.2         4.7         6.88           4.4          7.1   \n",
       "4       2791.8      5944.6       8736.4         803.2       1303.5   \n",
       "\n",
       "  total veggies  corn  wheat   cotton  \\\n",
       "0         14.33  34.9   70.0   317.61   \n",
       "1          1.56   0.0    0.0      0.0   \n",
       "2        386.91   7.3   48.7   423.95   \n",
       "3         11.45  69.5  114.5   665.44   \n",
       "4       2106.79  34.6  249.3  1064.95   \n",
       "\n",
       "                                                text  \n",
       "0  Alabama<br>Beef 34.4 Dairy 4.06<br>Fruits 25.1...  \n",
       "1  Alaska<br>Beef 0.2 Dairy 0.19<br>Fruits 0.0 Ve...  \n",
       "2  Arizona<br>Beef 71.3 Dairy 105.48<br>Fruits 60...  \n",
       "3  Arkansas<br>Beef 53.2 Dairy 3.53<br>Fruits 6.8...  \n",
       "4  California<br>Beef 228.7 Dairy 929.95<br>Fruit...  "
      ]
     },
     "execution_count": 28,
     "metadata": {},
     "output_type": "execute_result"
    }
   ],
   "source": [
    "df.head()"
   ]
  },
  {
   "cell_type": "code",
   "execution_count": 29,
   "metadata": {},
   "outputs": [],
   "source": [
    "#saving modified dataset for future use.\n",
    "#df.to_csv('2011_us_ag_exports_mod.csv')"
   ]
  },
  {
   "cell_type": "markdown",
   "metadata": {},
   "source": [
    "**Let's create the data dictionary with some extra marker and colorbar arguments**"
   ]
  },
  {
   "cell_type": "code",
   "execution_count": 33,
   "metadata": {},
   "outputs": [
    {
     "ename": "ValueError",
     "evalue": "\n    Invalid value of type 'builtins.str' received for the 'colorscale' property of choropleth\n        Received value: 'YIOrRd'\n\n    The 'colorscale' property is a colorscale and may be\n    specified as:\n      - A list of colors that will be spaced evenly to create the colorscale.\n        Many predefined colorscale lists are included in the sequential, diverging,\n        and cyclical modules in the plotly.colors package.\n      - A list of 2-element lists where the first element is the\n        normalized color level value (starting at 0 and ending at 1),\n        and the second item is a valid color string.\n        (e.g. [[0, 'green'], [0.5, 'red'], [1.0, 'rgb(0, 0, 255)']])\n      - One of the following named colorscales:\n            ['aggrnyl', 'agsunset', 'algae', 'amp', 'armyrose', 'balance',\n             'blackbody', 'bluered', 'blues', 'blugrn', 'bluyl', 'brbg',\n             'brwnyl', 'bugn', 'bupu', 'burg', 'burgyl', 'cividis', 'curl',\n             'darkmint', 'deep', 'delta', 'dense', 'earth', 'edge', 'electric',\n             'emrld', 'fall', 'geyser', 'gnbu', 'gray', 'greens', 'greys',\n             'haline', 'hot', 'hsv', 'ice', 'icefire', 'inferno', 'jet',\n             'magenta', 'magma', 'matter', 'mint', 'mrybm', 'mygbm', 'oranges',\n             'orrd', 'oryel', 'oxy', 'peach', 'phase', 'picnic', 'pinkyl',\n             'piyg', 'plasma', 'plotly3', 'portland', 'prgn', 'pubu', 'pubugn',\n             'puor', 'purd', 'purp', 'purples', 'purpor', 'rainbow', 'rdbu',\n             'rdgy', 'rdpu', 'rdylbu', 'rdylgn', 'redor', 'reds', 'solar',\n             'spectral', 'speed', 'sunset', 'sunsetdark', 'teal', 'tealgrn',\n             'tealrose', 'tempo', 'temps', 'thermal', 'tropic', 'turbid',\n             'turbo', 'twilight', 'viridis', 'ylgn', 'ylgnbu', 'ylorbr',\n             'ylorrd'].\n        Appending '_r' to a named colorscale reverses it.\n",
     "output_type": "error",
     "traceback": [
      "\u001b[1;31m---------------------------------------------------------------------------\u001b[0m",
      "\u001b[1;31mValueError\u001b[0m                                Traceback (most recent call last)",
      "\u001b[1;32m<ipython-input-33-45a996e76e8d>\u001b[0m in \u001b[0;36m<module>\u001b[1;34m\u001b[0m\n\u001b[0;32m     18\u001b[0m \u001b[1;33m\u001b[0m\u001b[0m\n\u001b[0;32m     19\u001b[0m \u001b[1;31m# Passing data and layout to the go.Figure\u001b[0m\u001b[1;33m\u001b[0m\u001b[1;33m\u001b[0m\u001b[1;33m\u001b[0m\u001b[0m\n\u001b[1;32m---> 20\u001b[1;33m \u001b[0mchoromap\u001b[0m \u001b[1;33m=\u001b[0m \u001b[0mgo\u001b[0m\u001b[1;33m.\u001b[0m\u001b[0mFigure\u001b[0m\u001b[1;33m(\u001b[0m\u001b[0mdata\u001b[0m \u001b[1;33m=\u001b[0m \u001b[1;33m[\u001b[0m\u001b[0mdata\u001b[0m\u001b[1;33m]\u001b[0m\u001b[1;33m,\u001b[0m\u001b[0mlayout\u001b[0m \u001b[1;33m=\u001b[0m \u001b[0mlayout\u001b[0m\u001b[1;33m)\u001b[0m\u001b[1;33m\u001b[0m\u001b[1;33m\u001b[0m\u001b[0m\n\u001b[0m\u001b[0;32m     21\u001b[0m \u001b[1;31m# Passing map to iplot for plotting\u001b[0m\u001b[1;33m\u001b[0m\u001b[1;33m\u001b[0m\u001b[1;33m\u001b[0m\u001b[0m\n\u001b[0;32m     22\u001b[0m \u001b[0miplot\u001b[0m\u001b[1;33m(\u001b[0m\u001b[0mchoromap\u001b[0m\u001b[1;33m)\u001b[0m\u001b[1;33m\u001b[0m\u001b[1;33m\u001b[0m\u001b[0m\n",
      "\u001b[1;32m~\\anaconda3\\lib\\site-packages\\plotly\\graph_objs\\_figure.py\u001b[0m in \u001b[0;36m__init__\u001b[1;34m(self, data, layout, frames, skip_invalid, **kwargs)\u001b[0m\n\u001b[0;32m    594\u001b[0m             \u001b[1;32mis\u001b[0m \u001b[0minvalid\u001b[0m \u001b[0mAND\u001b[0m \u001b[0mskip_invalid\u001b[0m \u001b[1;32mis\u001b[0m \u001b[1;32mFalse\u001b[0m\u001b[1;33m\u001b[0m\u001b[1;33m\u001b[0m\u001b[0m\n\u001b[0;32m    595\u001b[0m         \"\"\"\n\u001b[1;32m--> 596\u001b[1;33m         \u001b[0msuper\u001b[0m\u001b[1;33m(\u001b[0m\u001b[0mFigure\u001b[0m\u001b[1;33m,\u001b[0m \u001b[0mself\u001b[0m\u001b[1;33m)\u001b[0m\u001b[1;33m.\u001b[0m\u001b[0m__init__\u001b[0m\u001b[1;33m(\u001b[0m\u001b[0mdata\u001b[0m\u001b[1;33m,\u001b[0m \u001b[0mlayout\u001b[0m\u001b[1;33m,\u001b[0m \u001b[0mframes\u001b[0m\u001b[1;33m,\u001b[0m \u001b[0mskip_invalid\u001b[0m\u001b[1;33m,\u001b[0m \u001b[1;33m**\u001b[0m\u001b[0mkwargs\u001b[0m\u001b[1;33m)\u001b[0m\u001b[1;33m\u001b[0m\u001b[1;33m\u001b[0m\u001b[0m\n\u001b[0m\u001b[0;32m    597\u001b[0m \u001b[1;33m\u001b[0m\u001b[0m\n\u001b[0;32m    598\u001b[0m     def add_area(\n",
      "\u001b[1;32m~\\anaconda3\\lib\\site-packages\\plotly\\basedatatypes.py\u001b[0m in \u001b[0;36m__init__\u001b[1;34m(self, data, layout_plotly, frames, skip_invalid, **kwargs)\u001b[0m\n\u001b[0;32m    514\u001b[0m \u001b[1;33m\u001b[0m\u001b[0m\n\u001b[0;32m    515\u001b[0m         \u001b[1;31m# ### Import traces ###\u001b[0m\u001b[1;33m\u001b[0m\u001b[1;33m\u001b[0m\u001b[1;33m\u001b[0m\u001b[0m\n\u001b[1;32m--> 516\u001b[1;33m         data = self._data_validator.validate_coerce(\n\u001b[0m\u001b[0;32m    517\u001b[0m             \u001b[0mdata\u001b[0m\u001b[1;33m,\u001b[0m \u001b[0mskip_invalid\u001b[0m\u001b[1;33m=\u001b[0m\u001b[0mskip_invalid\u001b[0m\u001b[1;33m,\u001b[0m \u001b[0m_validate\u001b[0m\u001b[1;33m=\u001b[0m\u001b[0mself\u001b[0m\u001b[1;33m.\u001b[0m\u001b[0m_validate\u001b[0m\u001b[1;33m\u001b[0m\u001b[1;33m\u001b[0m\u001b[0m\n\u001b[0;32m    518\u001b[0m         )\n",
      "\u001b[1;32m~\\anaconda3\\lib\\site-packages\\_plotly_utils\\basevalidators.py\u001b[0m in \u001b[0;36mvalidate_coerce\u001b[1;34m(self, v, skip_invalid, _validate)\u001b[0m\n\u001b[0;32m   2661\u001b[0m                             \u001b[0minvalid_els\u001b[0m\u001b[1;33m.\u001b[0m\u001b[0mappend\u001b[0m\u001b[1;33m(\u001b[0m\u001b[0mv_el\u001b[0m\u001b[1;33m)\u001b[0m\u001b[1;33m\u001b[0m\u001b[1;33m\u001b[0m\u001b[0m\n\u001b[0;32m   2662\u001b[0m                     \u001b[1;32melse\u001b[0m\u001b[1;33m:\u001b[0m\u001b[1;33m\u001b[0m\u001b[1;33m\u001b[0m\u001b[0m\n\u001b[1;32m-> 2663\u001b[1;33m                         trace = self.get_trace_class(trace_type)(\n\u001b[0m\u001b[0;32m   2664\u001b[0m                             \u001b[0mskip_invalid\u001b[0m\u001b[1;33m=\u001b[0m\u001b[0mskip_invalid\u001b[0m\u001b[1;33m,\u001b[0m \u001b[0m_validate\u001b[0m\u001b[1;33m=\u001b[0m\u001b[0m_validate\u001b[0m\u001b[1;33m,\u001b[0m \u001b[1;33m**\u001b[0m\u001b[0mv_copy\u001b[0m\u001b[1;33m\u001b[0m\u001b[1;33m\u001b[0m\u001b[0m\n\u001b[0;32m   2665\u001b[0m                         )\n",
      "\u001b[1;32m~\\anaconda3\\lib\\site-packages\\plotly\\graph_objs\\_choropleth.py\u001b[0m in \u001b[0;36m__init__\u001b[1;34m(self, arg, autocolorscale, coloraxis, colorbar, colorscale, customdata, customdatasrc, featureidkey, geo, geojson, hoverinfo, hoverinfosrc, hoverlabel, hovertemplate, hovertemplatesrc, hovertext, hovertextsrc, ids, idssrc, legendgroup, locationmode, locations, locationssrc, marker, meta, metasrc, name, reversescale, selected, selectedpoints, showlegend, showscale, stream, text, textsrc, uid, uirevision, unselected, visible, z, zauto, zmax, zmid, zmin, zsrc, **kwargs)\u001b[0m\n\u001b[0;32m   1956\u001b[0m         \u001b[0m_v\u001b[0m \u001b[1;33m=\u001b[0m \u001b[0mcolorscale\u001b[0m \u001b[1;32mif\u001b[0m \u001b[0mcolorscale\u001b[0m \u001b[1;32mis\u001b[0m \u001b[1;32mnot\u001b[0m \u001b[1;32mNone\u001b[0m \u001b[1;32melse\u001b[0m \u001b[0m_v\u001b[0m\u001b[1;33m\u001b[0m\u001b[1;33m\u001b[0m\u001b[0m\n\u001b[0;32m   1957\u001b[0m         \u001b[1;32mif\u001b[0m \u001b[0m_v\u001b[0m \u001b[1;32mis\u001b[0m \u001b[1;32mnot\u001b[0m \u001b[1;32mNone\u001b[0m\u001b[1;33m:\u001b[0m\u001b[1;33m\u001b[0m\u001b[1;33m\u001b[0m\u001b[0m\n\u001b[1;32m-> 1958\u001b[1;33m             \u001b[0mself\u001b[0m\u001b[1;33m[\u001b[0m\u001b[1;34m\"colorscale\"\u001b[0m\u001b[1;33m]\u001b[0m \u001b[1;33m=\u001b[0m \u001b[0m_v\u001b[0m\u001b[1;33m\u001b[0m\u001b[1;33m\u001b[0m\u001b[0m\n\u001b[0m\u001b[0;32m   1959\u001b[0m         \u001b[0m_v\u001b[0m \u001b[1;33m=\u001b[0m \u001b[0marg\u001b[0m\u001b[1;33m.\u001b[0m\u001b[0mpop\u001b[0m\u001b[1;33m(\u001b[0m\u001b[1;34m\"customdata\"\u001b[0m\u001b[1;33m,\u001b[0m \u001b[1;32mNone\u001b[0m\u001b[1;33m)\u001b[0m\u001b[1;33m\u001b[0m\u001b[1;33m\u001b[0m\u001b[0m\n\u001b[0;32m   1960\u001b[0m         \u001b[0m_v\u001b[0m \u001b[1;33m=\u001b[0m \u001b[0mcustomdata\u001b[0m \u001b[1;32mif\u001b[0m \u001b[0mcustomdata\u001b[0m \u001b[1;32mis\u001b[0m \u001b[1;32mnot\u001b[0m \u001b[1;32mNone\u001b[0m \u001b[1;32melse\u001b[0m \u001b[0m_v\u001b[0m\u001b[1;33m\u001b[0m\u001b[1;33m\u001b[0m\u001b[0m\n",
      "\u001b[1;32m~\\anaconda3\\lib\\site-packages\\plotly\\basedatatypes.py\u001b[0m in \u001b[0;36m__setitem__\u001b[1;34m(self, prop, value)\u001b[0m\n\u001b[0;32m   4802\u001b[0m                 \u001b[1;31m# ### Handle simple property ###\u001b[0m\u001b[1;33m\u001b[0m\u001b[1;33m\u001b[0m\u001b[1;33m\u001b[0m\u001b[0m\n\u001b[0;32m   4803\u001b[0m                 \u001b[1;32melse\u001b[0m\u001b[1;33m:\u001b[0m\u001b[1;33m\u001b[0m\u001b[1;33m\u001b[0m\u001b[0m\n\u001b[1;32m-> 4804\u001b[1;33m                     \u001b[0mself\u001b[0m\u001b[1;33m.\u001b[0m\u001b[0m_set_prop\u001b[0m\u001b[1;33m(\u001b[0m\u001b[0mprop\u001b[0m\u001b[1;33m,\u001b[0m \u001b[0mvalue\u001b[0m\u001b[1;33m)\u001b[0m\u001b[1;33m\u001b[0m\u001b[1;33m\u001b[0m\u001b[0m\n\u001b[0m\u001b[0;32m   4805\u001b[0m             \u001b[1;32melse\u001b[0m\u001b[1;33m:\u001b[0m\u001b[1;33m\u001b[0m\u001b[1;33m\u001b[0m\u001b[0m\n\u001b[0;32m   4806\u001b[0m                 \u001b[1;31m# Make sure properties dict is initialized\u001b[0m\u001b[1;33m\u001b[0m\u001b[1;33m\u001b[0m\u001b[1;33m\u001b[0m\u001b[0m\n",
      "\u001b[1;32m~\\anaconda3\\lib\\site-packages\\plotly\\basedatatypes.py\u001b[0m in \u001b[0;36m_set_prop\u001b[1;34m(self, prop, val)\u001b[0m\n\u001b[0;32m   5146\u001b[0m                 \u001b[1;32mreturn\u001b[0m\u001b[1;33m\u001b[0m\u001b[1;33m\u001b[0m\u001b[0m\n\u001b[0;32m   5147\u001b[0m             \u001b[1;32melse\u001b[0m\u001b[1;33m:\u001b[0m\u001b[1;33m\u001b[0m\u001b[1;33m\u001b[0m\u001b[0m\n\u001b[1;32m-> 5148\u001b[1;33m                 \u001b[1;32mraise\u001b[0m \u001b[0merr\u001b[0m\u001b[1;33m\u001b[0m\u001b[1;33m\u001b[0m\u001b[0m\n\u001b[0m\u001b[0;32m   5149\u001b[0m \u001b[1;33m\u001b[0m\u001b[0m\n\u001b[0;32m   5150\u001b[0m         \u001b[1;31m# val is None\u001b[0m\u001b[1;33m\u001b[0m\u001b[1;33m\u001b[0m\u001b[1;33m\u001b[0m\u001b[0m\n",
      "\u001b[1;32m~\\anaconda3\\lib\\site-packages\\plotly\\basedatatypes.py\u001b[0m in \u001b[0;36m_set_prop\u001b[1;34m(self, prop, val)\u001b[0m\n\u001b[0;32m   5141\u001b[0m \u001b[1;33m\u001b[0m\u001b[0m\n\u001b[0;32m   5142\u001b[0m         \u001b[1;32mtry\u001b[0m\u001b[1;33m:\u001b[0m\u001b[1;33m\u001b[0m\u001b[1;33m\u001b[0m\u001b[0m\n\u001b[1;32m-> 5143\u001b[1;33m             \u001b[0mval\u001b[0m \u001b[1;33m=\u001b[0m \u001b[0mvalidator\u001b[0m\u001b[1;33m.\u001b[0m\u001b[0mvalidate_coerce\u001b[0m\u001b[1;33m(\u001b[0m\u001b[0mval\u001b[0m\u001b[1;33m)\u001b[0m\u001b[1;33m\u001b[0m\u001b[1;33m\u001b[0m\u001b[0m\n\u001b[0m\u001b[0;32m   5144\u001b[0m         \u001b[1;32mexcept\u001b[0m \u001b[0mValueError\u001b[0m \u001b[1;32mas\u001b[0m \u001b[0merr\u001b[0m\u001b[1;33m:\u001b[0m\u001b[1;33m\u001b[0m\u001b[1;33m\u001b[0m\u001b[0m\n\u001b[0;32m   5145\u001b[0m             \u001b[1;32mif\u001b[0m \u001b[0mself\u001b[0m\u001b[1;33m.\u001b[0m\u001b[0m_skip_invalid\u001b[0m\u001b[1;33m:\u001b[0m\u001b[1;33m\u001b[0m\u001b[1;33m\u001b[0m\u001b[0m\n",
      "\u001b[1;32m~\\anaconda3\\lib\\site-packages\\_plotly_utils\\basevalidators.py\u001b[0m in \u001b[0;36mvalidate_coerce\u001b[1;34m(self, v)\u001b[0m\n\u001b[0;32m   1631\u001b[0m \u001b[1;33m\u001b[0m\u001b[0m\n\u001b[0;32m   1632\u001b[0m         \u001b[1;32mif\u001b[0m \u001b[1;32mnot\u001b[0m \u001b[0mv_valid\u001b[0m\u001b[1;33m:\u001b[0m\u001b[1;33m\u001b[0m\u001b[1;33m\u001b[0m\u001b[0m\n\u001b[1;32m-> 1633\u001b[1;33m             \u001b[0mself\u001b[0m\u001b[1;33m.\u001b[0m\u001b[0mraise_invalid_val\u001b[0m\u001b[1;33m(\u001b[0m\u001b[0mv\u001b[0m\u001b[1;33m)\u001b[0m\u001b[1;33m\u001b[0m\u001b[1;33m\u001b[0m\u001b[0m\n\u001b[0m\u001b[0;32m   1634\u001b[0m \u001b[1;33m\u001b[0m\u001b[0m\n\u001b[0;32m   1635\u001b[0m         \u001b[1;32mreturn\u001b[0m \u001b[0mv\u001b[0m\u001b[1;33m\u001b[0m\u001b[1;33m\u001b[0m\u001b[0m\n",
      "\u001b[1;32m~\\anaconda3\\lib\\site-packages\\_plotly_utils\\basevalidators.py\u001b[0m in \u001b[0;36mraise_invalid_val\u001b[1;34m(self, v, inds)\u001b[0m\n\u001b[0;32m    275\u001b[0m                 \u001b[0mname\u001b[0m \u001b[1;33m+=\u001b[0m \u001b[1;34m\"[\"\u001b[0m \u001b[1;33m+\u001b[0m \u001b[0mstr\u001b[0m\u001b[1;33m(\u001b[0m\u001b[0mi\u001b[0m\u001b[1;33m)\u001b[0m \u001b[1;33m+\u001b[0m \u001b[1;34m\"]\"\u001b[0m\u001b[1;33m\u001b[0m\u001b[1;33m\u001b[0m\u001b[0m\n\u001b[0;32m    276\u001b[0m \u001b[1;33m\u001b[0m\u001b[0m\n\u001b[1;32m--> 277\u001b[1;33m         raise ValueError(\n\u001b[0m\u001b[0;32m    278\u001b[0m             \"\"\"\n\u001b[0;32m    279\u001b[0m     \u001b[0mInvalid\u001b[0m \u001b[0mvalue\u001b[0m \u001b[0mof\u001b[0m \u001b[0mtype\u001b[0m \u001b[1;33m{\u001b[0m\u001b[0mtyp\u001b[0m\u001b[1;33m}\u001b[0m \u001b[0mreceived\u001b[0m \u001b[1;32mfor\u001b[0m \u001b[0mthe\u001b[0m \u001b[1;34m'{name}'\u001b[0m \u001b[0mproperty\u001b[0m \u001b[0mof\u001b[0m \u001b[1;33m{\u001b[0m\u001b[0mpname\u001b[0m\u001b[1;33m}\u001b[0m\u001b[1;33m\u001b[0m\u001b[1;33m\u001b[0m\u001b[0m\n",
      "\u001b[1;31mValueError\u001b[0m: \n    Invalid value of type 'builtins.str' received for the 'colorscale' property of choropleth\n        Received value: 'YIOrRd'\n\n    The 'colorscale' property is a colorscale and may be\n    specified as:\n      - A list of colors that will be spaced evenly to create the colorscale.\n        Many predefined colorscale lists are included in the sequential, diverging,\n        and cyclical modules in the plotly.colors package.\n      - A list of 2-element lists where the first element is the\n        normalized color level value (starting at 0 and ending at 1),\n        and the second item is a valid color string.\n        (e.g. [[0, 'green'], [0.5, 'red'], [1.0, 'rgb(0, 0, 255)']])\n      - One of the following named colorscales:\n            ['aggrnyl', 'agsunset', 'algae', 'amp', 'armyrose', 'balance',\n             'blackbody', 'bluered', 'blues', 'blugrn', 'bluyl', 'brbg',\n             'brwnyl', 'bugn', 'bupu', 'burg', 'burgyl', 'cividis', 'curl',\n             'darkmint', 'deep', 'delta', 'dense', 'earth', 'edge', 'electric',\n             'emrld', 'fall', 'geyser', 'gnbu', 'gray', 'greens', 'greys',\n             'haline', 'hot', 'hsv', 'ice', 'icefire', 'inferno', 'jet',\n             'magenta', 'magma', 'matter', 'mint', 'mrybm', 'mygbm', 'oranges',\n             'orrd', 'oryel', 'oxy', 'peach', 'phase', 'picnic', 'pinkyl',\n             'piyg', 'plasma', 'plotly3', 'portland', 'prgn', 'pubu', 'pubugn',\n             'puor', 'purd', 'purp', 'purples', 'purpor', 'rainbow', 'rdbu',\n             'rdgy', 'rdpu', 'rdylbu', 'rdylgn', 'redor', 'reds', 'solar',\n             'spectral', 'speed', 'sunset', 'sunsetdark', 'teal', 'tealgrn',\n             'tealrose', 'tempo', 'temps', 'thermal', 'tropic', 'turbid',\n             'turbo', 'twilight', 'viridis', 'ylgn', 'ylgnbu', 'ylorbr',\n             'ylorrd'].\n        Appending '_r' to a named colorscale reverses it.\n"
     ]
    }
   ],
   "source": [
    "# The data dict\n",
    "data = dict(type='choropleth',\n",
    "            colorscale = 'YIOrRd', # random selection - Yellow-Orange-Red\n",
    "            locations = df['code'], # passing column with state codes\n",
    "            locationmode = 'USA-states',\n",
    "            z = df['total exports'], # What the color nar will represent\n",
    "            text = df['text'], # Newly generated column to hover \n",
    "            marker = dict(line = dict(color = 'rgb(255,255,255)',width = 2)),\n",
    "            colorbar = {'title':\"Millions USD\"}\n",
    "            ) \n",
    "\n",
    "# And our layout dictionary with some more arguments:\n",
    "layout = dict(title = '2011 US Agriculture Exports by State',\n",
    "              geo = dict(scope='usa',\n",
    "                         showlakes = True, # we want actual lake on the map\n",
    "                         lakecolor = 'rgb(85,173,240)') # blue for lakes\n",
    "             )\n",
    "\n",
    "# Passing data and layout to the go.Figure \n",
    "choromap = go.Figure(data = [data],layout = layout)\n",
    "# Passing map to iplot for plotting \n",
    "iplot(choromap)"
   ]
  },
  {
   "cell_type": "markdown",
   "metadata": {},
   "source": [
    "## World Choropleth Map\n",
    "\n",
    "Now let's see an example with a World Map:"
   ]
  },
  {
   "cell_type": "code",
   "execution_count": 34,
   "metadata": {},
   "outputs": [],
   "source": [
    "# Let's read world GDP data from plotly datasts\n",
    "gdp = pd.read_csv('https://raw.githubusercontent.com/plotly/datasets/master/2014_world_gdp_with_codes.csv')\n",
    "#gdp.to_csv('2014_world_gdp.csv') # used to save the file for offline use, you can load and work with it!"
   ]
  },
  {
   "cell_type": "code",
   "execution_count": 35,
   "metadata": {},
   "outputs": [
    {
     "data": {
      "text/html": [
       "<div>\n",
       "<style scoped>\n",
       "    .dataframe tbody tr th:only-of-type {\n",
       "        vertical-align: middle;\n",
       "    }\n",
       "\n",
       "    .dataframe tbody tr th {\n",
       "        vertical-align: top;\n",
       "    }\n",
       "\n",
       "    .dataframe thead th {\n",
       "        text-align: right;\n",
       "    }\n",
       "</style>\n",
       "<table border=\"1\" class=\"dataframe\">\n",
       "  <thead>\n",
       "    <tr style=\"text-align: right;\">\n",
       "      <th></th>\n",
       "      <th>COUNTRY</th>\n",
       "      <th>GDP (BILLIONS)</th>\n",
       "      <th>CODE</th>\n",
       "    </tr>\n",
       "  </thead>\n",
       "  <tbody>\n",
       "    <tr>\n",
       "      <th>0</th>\n",
       "      <td>Afghanistan</td>\n",
       "      <td>21.71</td>\n",
       "      <td>AFG</td>\n",
       "    </tr>\n",
       "    <tr>\n",
       "      <th>1</th>\n",
       "      <td>Albania</td>\n",
       "      <td>13.40</td>\n",
       "      <td>ALB</td>\n",
       "    </tr>\n",
       "    <tr>\n",
       "      <th>2</th>\n",
       "      <td>Algeria</td>\n",
       "      <td>227.80</td>\n",
       "      <td>DZA</td>\n",
       "    </tr>\n",
       "    <tr>\n",
       "      <th>3</th>\n",
       "      <td>American Samoa</td>\n",
       "      <td>0.75</td>\n",
       "      <td>ASM</td>\n",
       "    </tr>\n",
       "    <tr>\n",
       "      <th>4</th>\n",
       "      <td>Andorra</td>\n",
       "      <td>4.80</td>\n",
       "      <td>AND</td>\n",
       "    </tr>\n",
       "  </tbody>\n",
       "</table>\n",
       "</div>"
      ],
      "text/plain": [
       "          COUNTRY  GDP (BILLIONS) CODE\n",
       "0     Afghanistan           21.71  AFG\n",
       "1         Albania           13.40  ALB\n",
       "2         Algeria          227.80  DZA\n",
       "3  American Samoa            0.75  ASM\n",
       "4         Andorra            4.80  AND"
      ]
     },
     "execution_count": 35,
     "metadata": {},
     "output_type": "execute_result"
    }
   ],
   "source": [
    "gdp.head()"
   ]
  },
  {
   "cell_type": "code",
   "execution_count": 36,
   "metadata": {},
   "outputs": [
    {
     "ename": "ValueError",
     "evalue": "\n    Invalid value of type 'builtins.str' received for the 'type' property of layout.geo.projection\n        Received value: 'Mercator'\n\n    The 'type' property is an enumeration that may be specified as:\n      - One of the following enumeration values:\n            ['equirectangular', 'mercator', 'orthographic', 'natural\n            earth', 'kavrayskiy7', 'miller', 'robinson', 'eckert4',\n            'azimuthal equal area', 'azimuthal equidistant', 'conic\n            equal area', 'conic conformal', 'conic equidistant',\n            'gnomonic', 'stereographic', 'mollweide', 'hammer',\n            'transverse mercator', 'albers usa', 'winkel tripel',\n            'aitoff', 'sinusoidal']",
     "output_type": "error",
     "traceback": [
      "\u001b[1;31m---------------------------------------------------------------------------\u001b[0m",
      "\u001b[1;31mValueError\u001b[0m                                Traceback (most recent call last)",
      "\u001b[1;32m<ipython-input-36-ff727159fb37>\u001b[0m in \u001b[0;36m<module>\u001b[1;34m\u001b[0m\n\u001b[0;32m     18\u001b[0m \u001b[1;33m\u001b[0m\u001b[0m\n\u001b[0;32m     19\u001b[0m \u001b[1;31m#Finally plotting\u001b[0m\u001b[1;33m\u001b[0m\u001b[1;33m\u001b[0m\u001b[1;33m\u001b[0m\u001b[0m\n\u001b[1;32m---> 20\u001b[1;33m \u001b[0mchoromap\u001b[0m \u001b[1;33m=\u001b[0m \u001b[0mgo\u001b[0m\u001b[1;33m.\u001b[0m\u001b[0mFigure\u001b[0m\u001b[1;33m(\u001b[0m\u001b[0mdata\u001b[0m \u001b[1;33m=\u001b[0m \u001b[1;33m[\u001b[0m\u001b[0mdata\u001b[0m\u001b[1;33m]\u001b[0m\u001b[1;33m,\u001b[0m\u001b[0mlayout\u001b[0m \u001b[1;33m=\u001b[0m \u001b[0mlayout\u001b[0m\u001b[1;33m)\u001b[0m\u001b[1;33m\u001b[0m\u001b[1;33m\u001b[0m\u001b[0m\n\u001b[0m\u001b[0;32m     21\u001b[0m \u001b[0miplot\u001b[0m\u001b[1;33m(\u001b[0m\u001b[0mchoromap\u001b[0m\u001b[1;33m)\u001b[0m\u001b[1;33m\u001b[0m\u001b[1;33m\u001b[0m\u001b[0m\n",
      "\u001b[1;32m~\\anaconda3\\lib\\site-packages\\plotly\\graph_objs\\_figure.py\u001b[0m in \u001b[0;36m__init__\u001b[1;34m(self, data, layout, frames, skip_invalid, **kwargs)\u001b[0m\n\u001b[0;32m    594\u001b[0m             \u001b[1;32mis\u001b[0m \u001b[0minvalid\u001b[0m \u001b[0mAND\u001b[0m \u001b[0mskip_invalid\u001b[0m \u001b[1;32mis\u001b[0m \u001b[1;32mFalse\u001b[0m\u001b[1;33m\u001b[0m\u001b[1;33m\u001b[0m\u001b[0m\n\u001b[0;32m    595\u001b[0m         \"\"\"\n\u001b[1;32m--> 596\u001b[1;33m         \u001b[0msuper\u001b[0m\u001b[1;33m(\u001b[0m\u001b[0mFigure\u001b[0m\u001b[1;33m,\u001b[0m \u001b[0mself\u001b[0m\u001b[1;33m)\u001b[0m\u001b[1;33m.\u001b[0m\u001b[0m__init__\u001b[0m\u001b[1;33m(\u001b[0m\u001b[0mdata\u001b[0m\u001b[1;33m,\u001b[0m \u001b[0mlayout\u001b[0m\u001b[1;33m,\u001b[0m \u001b[0mframes\u001b[0m\u001b[1;33m,\u001b[0m \u001b[0mskip_invalid\u001b[0m\u001b[1;33m,\u001b[0m \u001b[1;33m**\u001b[0m\u001b[0mkwargs\u001b[0m\u001b[1;33m)\u001b[0m\u001b[1;33m\u001b[0m\u001b[1;33m\u001b[0m\u001b[0m\n\u001b[0m\u001b[0;32m    597\u001b[0m \u001b[1;33m\u001b[0m\u001b[0m\n\u001b[0;32m    598\u001b[0m     def add_area(\n",
      "\u001b[1;32m~\\anaconda3\\lib\\site-packages\\plotly\\basedatatypes.py\u001b[0m in \u001b[0;36m__init__\u001b[1;34m(self, data, layout_plotly, frames, skip_invalid, **kwargs)\u001b[0m\n\u001b[0;32m    557\u001b[0m \u001b[1;33m\u001b[0m\u001b[0m\n\u001b[0;32m    558\u001b[0m         \u001b[1;31m# ### Import Layout ###\u001b[0m\u001b[1;33m\u001b[0m\u001b[1;33m\u001b[0m\u001b[1;33m\u001b[0m\u001b[0m\n\u001b[1;32m--> 559\u001b[1;33m         self._layout_obj = self._layout_validator.validate_coerce(\n\u001b[0m\u001b[0;32m    560\u001b[0m             \u001b[0mlayout\u001b[0m\u001b[1;33m,\u001b[0m \u001b[0mskip_invalid\u001b[0m\u001b[1;33m=\u001b[0m\u001b[0mskip_invalid\u001b[0m\u001b[1;33m,\u001b[0m \u001b[0m_validate\u001b[0m\u001b[1;33m=\u001b[0m\u001b[0mself\u001b[0m\u001b[1;33m.\u001b[0m\u001b[0m_validate\u001b[0m\u001b[1;33m\u001b[0m\u001b[1;33m\u001b[0m\u001b[0m\n\u001b[0;32m    561\u001b[0m         )\n",
      "\u001b[1;32m~\\anaconda3\\lib\\site-packages\\_plotly_utils\\basevalidators.py\u001b[0m in \u001b[0;36mvalidate_coerce\u001b[1;34m(self, v, skip_invalid, _validate)\u001b[0m\n\u001b[0;32m   2448\u001b[0m \u001b[1;33m\u001b[0m\u001b[0m\n\u001b[0;32m   2449\u001b[0m         \u001b[1;32melif\u001b[0m \u001b[0misinstance\u001b[0m\u001b[1;33m(\u001b[0m\u001b[0mv\u001b[0m\u001b[1;33m,\u001b[0m \u001b[0mdict\u001b[0m\u001b[1;33m)\u001b[0m\u001b[1;33m:\u001b[0m\u001b[1;33m\u001b[0m\u001b[1;33m\u001b[0m\u001b[0m\n\u001b[1;32m-> 2450\u001b[1;33m             \u001b[0mv\u001b[0m \u001b[1;33m=\u001b[0m \u001b[0mself\u001b[0m\u001b[1;33m.\u001b[0m\u001b[0mdata_class\u001b[0m\u001b[1;33m(\u001b[0m\u001b[0mv\u001b[0m\u001b[1;33m,\u001b[0m \u001b[0mskip_invalid\u001b[0m\u001b[1;33m=\u001b[0m\u001b[0mskip_invalid\u001b[0m\u001b[1;33m,\u001b[0m \u001b[0m_validate\u001b[0m\u001b[1;33m=\u001b[0m\u001b[0m_validate\u001b[0m\u001b[1;33m)\u001b[0m\u001b[1;33m\u001b[0m\u001b[1;33m\u001b[0m\u001b[0m\n\u001b[0m\u001b[0;32m   2451\u001b[0m \u001b[1;33m\u001b[0m\u001b[0m\n\u001b[0;32m   2452\u001b[0m         \u001b[1;32melif\u001b[0m \u001b[0misinstance\u001b[0m\u001b[1;33m(\u001b[0m\u001b[0mv\u001b[0m\u001b[1;33m,\u001b[0m \u001b[0mself\u001b[0m\u001b[1;33m.\u001b[0m\u001b[0mdata_class\u001b[0m\u001b[1;33m)\u001b[0m\u001b[1;33m:\u001b[0m\u001b[1;33m\u001b[0m\u001b[1;33m\u001b[0m\u001b[0m\n",
      "\u001b[1;32m~\\anaconda3\\lib\\site-packages\\plotly\\graph_objs\\_layout.py\u001b[0m in \u001b[0;36m__init__\u001b[1;34m(self, arg, activeshape, angularaxis, annotations, annotationdefaults, autosize, autotypenumbers, bargap, bargroupgap, barmode, barnorm, boxgap, boxgroupgap, boxmode, calendar, clickmode, coloraxis, colorscale, colorway, computed, datarevision, direction, dragmode, editrevision, extendfunnelareacolors, extendpiecolors, extendsunburstcolors, extendtreemapcolors, font, funnelareacolorway, funnelgap, funnelgroupgap, funnelmode, geo, grid, height, hiddenlabels, hiddenlabelssrc, hidesources, hoverdistance, hoverlabel, hovermode, images, imagedefaults, legend, mapbox, margin, meta, metasrc, modebar, newshape, orientation, paper_bgcolor, piecolorway, plot_bgcolor, polar, radialaxis, scene, selectdirection, selectionrevision, separators, shapes, shapedefaults, showlegend, sliders, sliderdefaults, spikedistance, sunburstcolorway, template, ternary, title, titlefont, transition, treemapcolorway, uirevision, uniformtext, updatemenus, updatemenudefaults, violingap, violingroupgap, violinmode, waterfallgap, waterfallgroupgap, waterfallmode, width, xaxis, yaxis, **kwargs)\u001b[0m\n\u001b[0;32m   6100\u001b[0m         \u001b[0m_v\u001b[0m \u001b[1;33m=\u001b[0m \u001b[0mgeo\u001b[0m \u001b[1;32mif\u001b[0m \u001b[0mgeo\u001b[0m \u001b[1;32mis\u001b[0m \u001b[1;32mnot\u001b[0m \u001b[1;32mNone\u001b[0m \u001b[1;32melse\u001b[0m \u001b[0m_v\u001b[0m\u001b[1;33m\u001b[0m\u001b[1;33m\u001b[0m\u001b[0m\n\u001b[0;32m   6101\u001b[0m         \u001b[1;32mif\u001b[0m \u001b[0m_v\u001b[0m \u001b[1;32mis\u001b[0m \u001b[1;32mnot\u001b[0m \u001b[1;32mNone\u001b[0m\u001b[1;33m:\u001b[0m\u001b[1;33m\u001b[0m\u001b[1;33m\u001b[0m\u001b[0m\n\u001b[1;32m-> 6102\u001b[1;33m             \u001b[0mself\u001b[0m\u001b[1;33m[\u001b[0m\u001b[1;34m\"geo\"\u001b[0m\u001b[1;33m]\u001b[0m \u001b[1;33m=\u001b[0m \u001b[0m_v\u001b[0m\u001b[1;33m\u001b[0m\u001b[1;33m\u001b[0m\u001b[0m\n\u001b[0m\u001b[0;32m   6103\u001b[0m         \u001b[0m_v\u001b[0m \u001b[1;33m=\u001b[0m \u001b[0marg\u001b[0m\u001b[1;33m.\u001b[0m\u001b[0mpop\u001b[0m\u001b[1;33m(\u001b[0m\u001b[1;34m\"grid\"\u001b[0m\u001b[1;33m,\u001b[0m \u001b[1;32mNone\u001b[0m\u001b[1;33m)\u001b[0m\u001b[1;33m\u001b[0m\u001b[1;33m\u001b[0m\u001b[0m\n\u001b[0;32m   6104\u001b[0m         \u001b[0m_v\u001b[0m \u001b[1;33m=\u001b[0m \u001b[0mgrid\u001b[0m \u001b[1;32mif\u001b[0m \u001b[0mgrid\u001b[0m \u001b[1;32mis\u001b[0m \u001b[1;32mnot\u001b[0m \u001b[1;32mNone\u001b[0m \u001b[1;32melse\u001b[0m \u001b[0m_v\u001b[0m\u001b[1;33m\u001b[0m\u001b[1;33m\u001b[0m\u001b[0m\n",
      "\u001b[1;32m~\\anaconda3\\lib\\site-packages\\plotly\\basedatatypes.py\u001b[0m in \u001b[0;36m__setitem__\u001b[1;34m(self, prop, value)\u001b[0m\n\u001b[0;32m   5804\u001b[0m         \u001b[1;32mif\u001b[0m \u001b[0mmatch\u001b[0m \u001b[1;32mis\u001b[0m \u001b[1;32mNone\u001b[0m\u001b[1;33m:\u001b[0m\u001b[1;33m\u001b[0m\u001b[1;33m\u001b[0m\u001b[0m\n\u001b[0;32m   5805\u001b[0m             \u001b[1;31m# Set as ordinary property\u001b[0m\u001b[1;33m\u001b[0m\u001b[1;33m\u001b[0m\u001b[1;33m\u001b[0m\u001b[0m\n\u001b[1;32m-> 5806\u001b[1;33m             \u001b[0msuper\u001b[0m\u001b[1;33m(\u001b[0m\u001b[0mBaseLayoutHierarchyType\u001b[0m\u001b[1;33m,\u001b[0m \u001b[0mself\u001b[0m\u001b[1;33m)\u001b[0m\u001b[1;33m.\u001b[0m\u001b[0m__setitem__\u001b[0m\u001b[1;33m(\u001b[0m\u001b[0mprop\u001b[0m\u001b[1;33m,\u001b[0m \u001b[0mvalue\u001b[0m\u001b[1;33m)\u001b[0m\u001b[1;33m\u001b[0m\u001b[1;33m\u001b[0m\u001b[0m\n\u001b[0m\u001b[0;32m   5807\u001b[0m         \u001b[1;32melse\u001b[0m\u001b[1;33m:\u001b[0m\u001b[1;33m\u001b[0m\u001b[1;33m\u001b[0m\u001b[0m\n\u001b[0;32m   5808\u001b[0m             \u001b[1;31m# Set as subplotid property\u001b[0m\u001b[1;33m\u001b[0m\u001b[1;33m\u001b[0m\u001b[1;33m\u001b[0m\u001b[0m\n",
      "\u001b[1;32m~\\anaconda3\\lib\\site-packages\\plotly\\basedatatypes.py\u001b[0m in \u001b[0;36m__setitem__\u001b[1;34m(self, prop, value)\u001b[0m\n\u001b[0;32m   4794\u001b[0m                 \u001b[1;31m# ### Handle compound property ###\u001b[0m\u001b[1;33m\u001b[0m\u001b[1;33m\u001b[0m\u001b[1;33m\u001b[0m\u001b[0m\n\u001b[0;32m   4795\u001b[0m                 \u001b[1;32mif\u001b[0m \u001b[0misinstance\u001b[0m\u001b[1;33m(\u001b[0m\u001b[0mvalidator\u001b[0m\u001b[1;33m,\u001b[0m \u001b[0mCompoundValidator\u001b[0m\u001b[1;33m)\u001b[0m\u001b[1;33m:\u001b[0m\u001b[1;33m\u001b[0m\u001b[1;33m\u001b[0m\u001b[0m\n\u001b[1;32m-> 4796\u001b[1;33m                     \u001b[0mself\u001b[0m\u001b[1;33m.\u001b[0m\u001b[0m_set_compound_prop\u001b[0m\u001b[1;33m(\u001b[0m\u001b[0mprop\u001b[0m\u001b[1;33m,\u001b[0m \u001b[0mvalue\u001b[0m\u001b[1;33m)\u001b[0m\u001b[1;33m\u001b[0m\u001b[1;33m\u001b[0m\u001b[0m\n\u001b[0m\u001b[0;32m   4797\u001b[0m \u001b[1;33m\u001b[0m\u001b[0m\n\u001b[0;32m   4798\u001b[0m                 \u001b[1;31m# ### Handle compound array property ###\u001b[0m\u001b[1;33m\u001b[0m\u001b[1;33m\u001b[0m\u001b[1;33m\u001b[0m\u001b[0m\n",
      "\u001b[1;32m~\\anaconda3\\lib\\site-packages\\plotly\\basedatatypes.py\u001b[0m in \u001b[0;36m_set_compound_prop\u001b[1;34m(self, prop, val)\u001b[0m\n\u001b[0;32m   5205\u001b[0m         \u001b[1;31m# ------------\u001b[0m\u001b[1;33m\u001b[0m\u001b[1;33m\u001b[0m\u001b[1;33m\u001b[0m\u001b[0m\n\u001b[0;32m   5206\u001b[0m         \u001b[0mvalidator\u001b[0m \u001b[1;33m=\u001b[0m \u001b[0mself\u001b[0m\u001b[1;33m.\u001b[0m\u001b[0m_get_validator\u001b[0m\u001b[1;33m(\u001b[0m\u001b[0mprop\u001b[0m\u001b[1;33m)\u001b[0m\u001b[1;33m\u001b[0m\u001b[1;33m\u001b[0m\u001b[0m\n\u001b[1;32m-> 5207\u001b[1;33m         \u001b[0mval\u001b[0m \u001b[1;33m=\u001b[0m \u001b[0mvalidator\u001b[0m\u001b[1;33m.\u001b[0m\u001b[0mvalidate_coerce\u001b[0m\u001b[1;33m(\u001b[0m\u001b[0mval\u001b[0m\u001b[1;33m,\u001b[0m \u001b[0mskip_invalid\u001b[0m\u001b[1;33m=\u001b[0m\u001b[0mself\u001b[0m\u001b[1;33m.\u001b[0m\u001b[0m_skip_invalid\u001b[0m\u001b[1;33m)\u001b[0m\u001b[1;33m\u001b[0m\u001b[1;33m\u001b[0m\u001b[0m\n\u001b[0m\u001b[0;32m   5208\u001b[0m \u001b[1;33m\u001b[0m\u001b[0m\n\u001b[0;32m   5209\u001b[0m         \u001b[1;31m# Save deep copies of current and new states\u001b[0m\u001b[1;33m\u001b[0m\u001b[1;33m\u001b[0m\u001b[1;33m\u001b[0m\u001b[0m\n",
      "\u001b[1;32m~\\anaconda3\\lib\\site-packages\\_plotly_utils\\basevalidators.py\u001b[0m in \u001b[0;36mvalidate_coerce\u001b[1;34m(self, v, skip_invalid, _validate)\u001b[0m\n\u001b[0;32m   2448\u001b[0m \u001b[1;33m\u001b[0m\u001b[0m\n\u001b[0;32m   2449\u001b[0m         \u001b[1;32melif\u001b[0m \u001b[0misinstance\u001b[0m\u001b[1;33m(\u001b[0m\u001b[0mv\u001b[0m\u001b[1;33m,\u001b[0m \u001b[0mdict\u001b[0m\u001b[1;33m)\u001b[0m\u001b[1;33m:\u001b[0m\u001b[1;33m\u001b[0m\u001b[1;33m\u001b[0m\u001b[0m\n\u001b[1;32m-> 2450\u001b[1;33m             \u001b[0mv\u001b[0m \u001b[1;33m=\u001b[0m \u001b[0mself\u001b[0m\u001b[1;33m.\u001b[0m\u001b[0mdata_class\u001b[0m\u001b[1;33m(\u001b[0m\u001b[0mv\u001b[0m\u001b[1;33m,\u001b[0m \u001b[0mskip_invalid\u001b[0m\u001b[1;33m=\u001b[0m\u001b[0mskip_invalid\u001b[0m\u001b[1;33m,\u001b[0m \u001b[0m_validate\u001b[0m\u001b[1;33m=\u001b[0m\u001b[0m_validate\u001b[0m\u001b[1;33m)\u001b[0m\u001b[1;33m\u001b[0m\u001b[1;33m\u001b[0m\u001b[0m\n\u001b[0m\u001b[0;32m   2451\u001b[0m \u001b[1;33m\u001b[0m\u001b[0m\n\u001b[0;32m   2452\u001b[0m         \u001b[1;32melif\u001b[0m \u001b[0misinstance\u001b[0m\u001b[1;33m(\u001b[0m\u001b[0mv\u001b[0m\u001b[1;33m,\u001b[0m \u001b[0mself\u001b[0m\u001b[1;33m.\u001b[0m\u001b[0mdata_class\u001b[0m\u001b[1;33m)\u001b[0m\u001b[1;33m:\u001b[0m\u001b[1;33m\u001b[0m\u001b[1;33m\u001b[0m\u001b[0m\n",
      "\u001b[1;32m~\\anaconda3\\lib\\site-packages\\plotly\\graph_objs\\layout\\_geo.py\u001b[0m in \u001b[0;36m__init__\u001b[1;34m(self, arg, bgcolor, center, coastlinecolor, coastlinewidth, countrycolor, countrywidth, domain, fitbounds, framecolor, framewidth, lakecolor, landcolor, lataxis, lonaxis, oceancolor, projection, resolution, rivercolor, riverwidth, scope, showcoastlines, showcountries, showframe, showlakes, showland, showocean, showrivers, showsubunits, subunitcolor, subunitwidth, uirevision, visible, **kwargs)\u001b[0m\n\u001b[0;32m   1484\u001b[0m         \u001b[0m_v\u001b[0m \u001b[1;33m=\u001b[0m \u001b[0mprojection\u001b[0m \u001b[1;32mif\u001b[0m \u001b[0mprojection\u001b[0m \u001b[1;32mis\u001b[0m \u001b[1;32mnot\u001b[0m \u001b[1;32mNone\u001b[0m \u001b[1;32melse\u001b[0m \u001b[0m_v\u001b[0m\u001b[1;33m\u001b[0m\u001b[1;33m\u001b[0m\u001b[0m\n\u001b[0;32m   1485\u001b[0m         \u001b[1;32mif\u001b[0m \u001b[0m_v\u001b[0m \u001b[1;32mis\u001b[0m \u001b[1;32mnot\u001b[0m \u001b[1;32mNone\u001b[0m\u001b[1;33m:\u001b[0m\u001b[1;33m\u001b[0m\u001b[1;33m\u001b[0m\u001b[0m\n\u001b[1;32m-> 1486\u001b[1;33m             \u001b[0mself\u001b[0m\u001b[1;33m[\u001b[0m\u001b[1;34m\"projection\"\u001b[0m\u001b[1;33m]\u001b[0m \u001b[1;33m=\u001b[0m \u001b[0m_v\u001b[0m\u001b[1;33m\u001b[0m\u001b[1;33m\u001b[0m\u001b[0m\n\u001b[0m\u001b[0;32m   1487\u001b[0m         \u001b[0m_v\u001b[0m \u001b[1;33m=\u001b[0m \u001b[0marg\u001b[0m\u001b[1;33m.\u001b[0m\u001b[0mpop\u001b[0m\u001b[1;33m(\u001b[0m\u001b[1;34m\"resolution\"\u001b[0m\u001b[1;33m,\u001b[0m \u001b[1;32mNone\u001b[0m\u001b[1;33m)\u001b[0m\u001b[1;33m\u001b[0m\u001b[1;33m\u001b[0m\u001b[0m\n\u001b[0;32m   1488\u001b[0m         \u001b[0m_v\u001b[0m \u001b[1;33m=\u001b[0m \u001b[0mresolution\u001b[0m \u001b[1;32mif\u001b[0m \u001b[0mresolution\u001b[0m \u001b[1;32mis\u001b[0m \u001b[1;32mnot\u001b[0m \u001b[1;32mNone\u001b[0m \u001b[1;32melse\u001b[0m \u001b[0m_v\u001b[0m\u001b[1;33m\u001b[0m\u001b[1;33m\u001b[0m\u001b[0m\n",
      "\u001b[1;32m~\\anaconda3\\lib\\site-packages\\plotly\\basedatatypes.py\u001b[0m in \u001b[0;36m__setitem__\u001b[1;34m(self, prop, value)\u001b[0m\n\u001b[0;32m   4794\u001b[0m                 \u001b[1;31m# ### Handle compound property ###\u001b[0m\u001b[1;33m\u001b[0m\u001b[1;33m\u001b[0m\u001b[1;33m\u001b[0m\u001b[0m\n\u001b[0;32m   4795\u001b[0m                 \u001b[1;32mif\u001b[0m \u001b[0misinstance\u001b[0m\u001b[1;33m(\u001b[0m\u001b[0mvalidator\u001b[0m\u001b[1;33m,\u001b[0m \u001b[0mCompoundValidator\u001b[0m\u001b[1;33m)\u001b[0m\u001b[1;33m:\u001b[0m\u001b[1;33m\u001b[0m\u001b[1;33m\u001b[0m\u001b[0m\n\u001b[1;32m-> 4796\u001b[1;33m                     \u001b[0mself\u001b[0m\u001b[1;33m.\u001b[0m\u001b[0m_set_compound_prop\u001b[0m\u001b[1;33m(\u001b[0m\u001b[0mprop\u001b[0m\u001b[1;33m,\u001b[0m \u001b[0mvalue\u001b[0m\u001b[1;33m)\u001b[0m\u001b[1;33m\u001b[0m\u001b[1;33m\u001b[0m\u001b[0m\n\u001b[0m\u001b[0;32m   4797\u001b[0m \u001b[1;33m\u001b[0m\u001b[0m\n\u001b[0;32m   4798\u001b[0m                 \u001b[1;31m# ### Handle compound array property ###\u001b[0m\u001b[1;33m\u001b[0m\u001b[1;33m\u001b[0m\u001b[1;33m\u001b[0m\u001b[0m\n",
      "\u001b[1;32m~\\anaconda3\\lib\\site-packages\\plotly\\basedatatypes.py\u001b[0m in \u001b[0;36m_set_compound_prop\u001b[1;34m(self, prop, val)\u001b[0m\n\u001b[0;32m   5205\u001b[0m         \u001b[1;31m# ------------\u001b[0m\u001b[1;33m\u001b[0m\u001b[1;33m\u001b[0m\u001b[1;33m\u001b[0m\u001b[0m\n\u001b[0;32m   5206\u001b[0m         \u001b[0mvalidator\u001b[0m \u001b[1;33m=\u001b[0m \u001b[0mself\u001b[0m\u001b[1;33m.\u001b[0m\u001b[0m_get_validator\u001b[0m\u001b[1;33m(\u001b[0m\u001b[0mprop\u001b[0m\u001b[1;33m)\u001b[0m\u001b[1;33m\u001b[0m\u001b[1;33m\u001b[0m\u001b[0m\n\u001b[1;32m-> 5207\u001b[1;33m         \u001b[0mval\u001b[0m \u001b[1;33m=\u001b[0m \u001b[0mvalidator\u001b[0m\u001b[1;33m.\u001b[0m\u001b[0mvalidate_coerce\u001b[0m\u001b[1;33m(\u001b[0m\u001b[0mval\u001b[0m\u001b[1;33m,\u001b[0m \u001b[0mskip_invalid\u001b[0m\u001b[1;33m=\u001b[0m\u001b[0mself\u001b[0m\u001b[1;33m.\u001b[0m\u001b[0m_skip_invalid\u001b[0m\u001b[1;33m)\u001b[0m\u001b[1;33m\u001b[0m\u001b[1;33m\u001b[0m\u001b[0m\n\u001b[0m\u001b[0;32m   5208\u001b[0m \u001b[1;33m\u001b[0m\u001b[0m\n\u001b[0;32m   5209\u001b[0m         \u001b[1;31m# Save deep copies of current and new states\u001b[0m\u001b[1;33m\u001b[0m\u001b[1;33m\u001b[0m\u001b[1;33m\u001b[0m\u001b[0m\n",
      "\u001b[1;32m~\\anaconda3\\lib\\site-packages\\_plotly_utils\\basevalidators.py\u001b[0m in \u001b[0;36mvalidate_coerce\u001b[1;34m(self, v, skip_invalid, _validate)\u001b[0m\n\u001b[0;32m   2448\u001b[0m \u001b[1;33m\u001b[0m\u001b[0m\n\u001b[0;32m   2449\u001b[0m         \u001b[1;32melif\u001b[0m \u001b[0misinstance\u001b[0m\u001b[1;33m(\u001b[0m\u001b[0mv\u001b[0m\u001b[1;33m,\u001b[0m \u001b[0mdict\u001b[0m\u001b[1;33m)\u001b[0m\u001b[1;33m:\u001b[0m\u001b[1;33m\u001b[0m\u001b[1;33m\u001b[0m\u001b[0m\n\u001b[1;32m-> 2450\u001b[1;33m             \u001b[0mv\u001b[0m \u001b[1;33m=\u001b[0m \u001b[0mself\u001b[0m\u001b[1;33m.\u001b[0m\u001b[0mdata_class\u001b[0m\u001b[1;33m(\u001b[0m\u001b[0mv\u001b[0m\u001b[1;33m,\u001b[0m \u001b[0mskip_invalid\u001b[0m\u001b[1;33m=\u001b[0m\u001b[0mskip_invalid\u001b[0m\u001b[1;33m,\u001b[0m \u001b[0m_validate\u001b[0m\u001b[1;33m=\u001b[0m\u001b[0m_validate\u001b[0m\u001b[1;33m)\u001b[0m\u001b[1;33m\u001b[0m\u001b[1;33m\u001b[0m\u001b[0m\n\u001b[0m\u001b[0;32m   2451\u001b[0m \u001b[1;33m\u001b[0m\u001b[0m\n\u001b[0;32m   2452\u001b[0m         \u001b[1;32melif\u001b[0m \u001b[0misinstance\u001b[0m\u001b[1;33m(\u001b[0m\u001b[0mv\u001b[0m\u001b[1;33m,\u001b[0m \u001b[0mself\u001b[0m\u001b[1;33m.\u001b[0m\u001b[0mdata_class\u001b[0m\u001b[1;33m)\u001b[0m\u001b[1;33m:\u001b[0m\u001b[1;33m\u001b[0m\u001b[1;33m\u001b[0m\u001b[0m\n",
      "\u001b[1;32m~\\anaconda3\\lib\\site-packages\\plotly\\graph_objs\\layout\\geo\\_projection.py\u001b[0m in \u001b[0;36m__init__\u001b[1;34m(self, arg, parallels, rotation, scale, type, **kwargs)\u001b[0m\n\u001b[0;32m    211\u001b[0m         \u001b[0m_v\u001b[0m \u001b[1;33m=\u001b[0m \u001b[0mtype\u001b[0m \u001b[1;32mif\u001b[0m \u001b[0mtype\u001b[0m \u001b[1;32mis\u001b[0m \u001b[1;32mnot\u001b[0m \u001b[1;32mNone\u001b[0m \u001b[1;32melse\u001b[0m \u001b[0m_v\u001b[0m\u001b[1;33m\u001b[0m\u001b[1;33m\u001b[0m\u001b[0m\n\u001b[0;32m    212\u001b[0m         \u001b[1;32mif\u001b[0m \u001b[0m_v\u001b[0m \u001b[1;32mis\u001b[0m \u001b[1;32mnot\u001b[0m \u001b[1;32mNone\u001b[0m\u001b[1;33m:\u001b[0m\u001b[1;33m\u001b[0m\u001b[1;33m\u001b[0m\u001b[0m\n\u001b[1;32m--> 213\u001b[1;33m             \u001b[0mself\u001b[0m\u001b[1;33m[\u001b[0m\u001b[1;34m\"type\"\u001b[0m\u001b[1;33m]\u001b[0m \u001b[1;33m=\u001b[0m \u001b[0m_v\u001b[0m\u001b[1;33m\u001b[0m\u001b[1;33m\u001b[0m\u001b[0m\n\u001b[0m\u001b[0;32m    214\u001b[0m \u001b[1;33m\u001b[0m\u001b[0m\n\u001b[0;32m    215\u001b[0m         \u001b[1;31m# Process unknown kwargs\u001b[0m\u001b[1;33m\u001b[0m\u001b[1;33m\u001b[0m\u001b[1;33m\u001b[0m\u001b[0m\n",
      "\u001b[1;32m~\\anaconda3\\lib\\site-packages\\plotly\\basedatatypes.py\u001b[0m in \u001b[0;36m__setitem__\u001b[1;34m(self, prop, value)\u001b[0m\n\u001b[0;32m   4802\u001b[0m                 \u001b[1;31m# ### Handle simple property ###\u001b[0m\u001b[1;33m\u001b[0m\u001b[1;33m\u001b[0m\u001b[1;33m\u001b[0m\u001b[0m\n\u001b[0;32m   4803\u001b[0m                 \u001b[1;32melse\u001b[0m\u001b[1;33m:\u001b[0m\u001b[1;33m\u001b[0m\u001b[1;33m\u001b[0m\u001b[0m\n\u001b[1;32m-> 4804\u001b[1;33m                     \u001b[0mself\u001b[0m\u001b[1;33m.\u001b[0m\u001b[0m_set_prop\u001b[0m\u001b[1;33m(\u001b[0m\u001b[0mprop\u001b[0m\u001b[1;33m,\u001b[0m \u001b[0mvalue\u001b[0m\u001b[1;33m)\u001b[0m\u001b[1;33m\u001b[0m\u001b[1;33m\u001b[0m\u001b[0m\n\u001b[0m\u001b[0;32m   4805\u001b[0m             \u001b[1;32melse\u001b[0m\u001b[1;33m:\u001b[0m\u001b[1;33m\u001b[0m\u001b[1;33m\u001b[0m\u001b[0m\n\u001b[0;32m   4806\u001b[0m                 \u001b[1;31m# Make sure properties dict is initialized\u001b[0m\u001b[1;33m\u001b[0m\u001b[1;33m\u001b[0m\u001b[1;33m\u001b[0m\u001b[0m\n",
      "\u001b[1;32m~\\anaconda3\\lib\\site-packages\\plotly\\basedatatypes.py\u001b[0m in \u001b[0;36m_set_prop\u001b[1;34m(self, prop, val)\u001b[0m\n\u001b[0;32m   5146\u001b[0m                 \u001b[1;32mreturn\u001b[0m\u001b[1;33m\u001b[0m\u001b[1;33m\u001b[0m\u001b[0m\n\u001b[0;32m   5147\u001b[0m             \u001b[1;32melse\u001b[0m\u001b[1;33m:\u001b[0m\u001b[1;33m\u001b[0m\u001b[1;33m\u001b[0m\u001b[0m\n\u001b[1;32m-> 5148\u001b[1;33m                 \u001b[1;32mraise\u001b[0m \u001b[0merr\u001b[0m\u001b[1;33m\u001b[0m\u001b[1;33m\u001b[0m\u001b[0m\n\u001b[0m\u001b[0;32m   5149\u001b[0m \u001b[1;33m\u001b[0m\u001b[0m\n\u001b[0;32m   5150\u001b[0m         \u001b[1;31m# val is None\u001b[0m\u001b[1;33m\u001b[0m\u001b[1;33m\u001b[0m\u001b[1;33m\u001b[0m\u001b[0m\n",
      "\u001b[1;32m~\\anaconda3\\lib\\site-packages\\plotly\\basedatatypes.py\u001b[0m in \u001b[0;36m_set_prop\u001b[1;34m(self, prop, val)\u001b[0m\n\u001b[0;32m   5141\u001b[0m \u001b[1;33m\u001b[0m\u001b[0m\n\u001b[0;32m   5142\u001b[0m         \u001b[1;32mtry\u001b[0m\u001b[1;33m:\u001b[0m\u001b[1;33m\u001b[0m\u001b[1;33m\u001b[0m\u001b[0m\n\u001b[1;32m-> 5143\u001b[1;33m             \u001b[0mval\u001b[0m \u001b[1;33m=\u001b[0m \u001b[0mvalidator\u001b[0m\u001b[1;33m.\u001b[0m\u001b[0mvalidate_coerce\u001b[0m\u001b[1;33m(\u001b[0m\u001b[0mval\u001b[0m\u001b[1;33m)\u001b[0m\u001b[1;33m\u001b[0m\u001b[1;33m\u001b[0m\u001b[0m\n\u001b[0m\u001b[0;32m   5144\u001b[0m         \u001b[1;32mexcept\u001b[0m \u001b[0mValueError\u001b[0m \u001b[1;32mas\u001b[0m \u001b[0merr\u001b[0m\u001b[1;33m:\u001b[0m\u001b[1;33m\u001b[0m\u001b[1;33m\u001b[0m\u001b[0m\n\u001b[0;32m   5145\u001b[0m             \u001b[1;32mif\u001b[0m \u001b[0mself\u001b[0m\u001b[1;33m.\u001b[0m\u001b[0m_skip_invalid\u001b[0m\u001b[1;33m:\u001b[0m\u001b[1;33m\u001b[0m\u001b[1;33m\u001b[0m\u001b[0m\n",
      "\u001b[1;32m~\\anaconda3\\lib\\site-packages\\_plotly_utils\\basevalidators.py\u001b[0m in \u001b[0;36mvalidate_coerce\u001b[1;34m(self, v)\u001b[0m\n\u001b[0;32m    598\u001b[0m             \u001b[0mv\u001b[0m \u001b[1;33m=\u001b[0m \u001b[0mself\u001b[0m\u001b[1;33m.\u001b[0m\u001b[0mperform_replacemenet\u001b[0m\u001b[1;33m(\u001b[0m\u001b[0mv\u001b[0m\u001b[1;33m)\u001b[0m\u001b[1;33m\u001b[0m\u001b[1;33m\u001b[0m\u001b[0m\n\u001b[0;32m    599\u001b[0m             \u001b[1;32mif\u001b[0m \u001b[1;32mnot\u001b[0m \u001b[0mself\u001b[0m\u001b[1;33m.\u001b[0m\u001b[0min_values\u001b[0m\u001b[1;33m(\u001b[0m\u001b[0mv\u001b[0m\u001b[1;33m)\u001b[0m\u001b[1;33m:\u001b[0m\u001b[1;33m\u001b[0m\u001b[1;33m\u001b[0m\u001b[0m\n\u001b[1;32m--> 600\u001b[1;33m                 \u001b[0mself\u001b[0m\u001b[1;33m.\u001b[0m\u001b[0mraise_invalid_val\u001b[0m\u001b[1;33m(\u001b[0m\u001b[0mv\u001b[0m\u001b[1;33m)\u001b[0m\u001b[1;33m\u001b[0m\u001b[1;33m\u001b[0m\u001b[0m\n\u001b[0m\u001b[0;32m    601\u001b[0m         \u001b[1;32mreturn\u001b[0m \u001b[0mv\u001b[0m\u001b[1;33m\u001b[0m\u001b[1;33m\u001b[0m\u001b[0m\n\u001b[0;32m    602\u001b[0m \u001b[1;33m\u001b[0m\u001b[0m\n",
      "\u001b[1;32m~\\anaconda3\\lib\\site-packages\\_plotly_utils\\basevalidators.py\u001b[0m in \u001b[0;36mraise_invalid_val\u001b[1;34m(self, v, inds)\u001b[0m\n\u001b[0;32m    275\u001b[0m                 \u001b[0mname\u001b[0m \u001b[1;33m+=\u001b[0m \u001b[1;34m\"[\"\u001b[0m \u001b[1;33m+\u001b[0m \u001b[0mstr\u001b[0m\u001b[1;33m(\u001b[0m\u001b[0mi\u001b[0m\u001b[1;33m)\u001b[0m \u001b[1;33m+\u001b[0m \u001b[1;34m\"]\"\u001b[0m\u001b[1;33m\u001b[0m\u001b[1;33m\u001b[0m\u001b[0m\n\u001b[0;32m    276\u001b[0m \u001b[1;33m\u001b[0m\u001b[0m\n\u001b[1;32m--> 277\u001b[1;33m         raise ValueError(\n\u001b[0m\u001b[0;32m    278\u001b[0m             \"\"\"\n\u001b[0;32m    279\u001b[0m     \u001b[0mInvalid\u001b[0m \u001b[0mvalue\u001b[0m \u001b[0mof\u001b[0m \u001b[0mtype\u001b[0m \u001b[1;33m{\u001b[0m\u001b[0mtyp\u001b[0m\u001b[1;33m}\u001b[0m \u001b[0mreceived\u001b[0m \u001b[1;32mfor\u001b[0m \u001b[0mthe\u001b[0m \u001b[1;34m'{name}'\u001b[0m \u001b[0mproperty\u001b[0m \u001b[0mof\u001b[0m \u001b[1;33m{\u001b[0m\u001b[0mpname\u001b[0m\u001b[1;33m}\u001b[0m\u001b[1;33m\u001b[0m\u001b[1;33m\u001b[0m\u001b[0m\n",
      "\u001b[1;31mValueError\u001b[0m: \n    Invalid value of type 'builtins.str' received for the 'type' property of layout.geo.projection\n        Received value: 'Mercator'\n\n    The 'type' property is an enumeration that may be specified as:\n      - One of the following enumeration values:\n            ['equirectangular', 'mercator', 'orthographic', 'natural\n            earth', 'kavrayskiy7', 'miller', 'robinson', 'eckert4',\n            'azimuthal equal area', 'azimuthal equidistant', 'conic\n            equal area', 'conic conformal', 'conic equidistant',\n            'gnomonic', 'stereographic', 'mollweide', 'hammer',\n            'transverse mercator', 'albers usa', 'winkel tripel',\n            'aitoff', 'sinusoidal']"
     ]
    }
   ],
   "source": [
    "# Data dict\n",
    "data = dict(\n",
    "        type = 'choropleth',\n",
    "        locations = gdp['CODE'], # This is country code now\n",
    "        z = gdp['GDP (BILLIONS)'],\n",
    "        text = gdp['COUNTRY'], # Country name \n",
    "        colorbar = {'title' : 'GDP Billions US'},\n",
    "      )\n",
    "\n",
    "# Layout\n",
    "layout = dict(\n",
    "    title = '2014 Global GDP',\n",
    "    geo = dict(\n",
    "        showframe = False, # \n",
    "        projection = {'type':'Mercator'}#'mollweide'}#\"natural earth\"}\n",
    "    )\n",
    ")\n",
    "\n",
    "#Finally plotting\n",
    "choromap = go.Figure(data = [data],layout = layout)\n",
    "iplot(choromap)"
   ]
  },
  {
   "cell_type": "markdown",
   "metadata": {},
   "source": [
    "You can explore more about range of parameters that we can pass in the choropleth. https://plot.ly/python/reference/#choropleth"
   ]
  },
  {
   "cell_type": "markdown",
   "metadata": {
    "collapsed": true
   },
   "source": [
    "## Excellent work!"
   ]
  },
  {
   "cell_type": "code",
   "execution_count": null,
   "metadata": {},
   "outputs": [],
   "source": []
  }
 ],
 "metadata": {
  "kernelspec": {
   "display_name": "Python 3",
   "language": "python",
   "name": "python3"
  },
  "language_info": {
   "codemirror_mode": {
    "name": "ipython",
    "version": 3
   },
   "file_extension": ".py",
   "mimetype": "text/x-python",
   "name": "python",
   "nbconvert_exporter": "python",
   "pygments_lexer": "ipython3",
   "version": "3.8.3"
  }
 },
 "nbformat": 4,
 "nbformat_minor": 1
}
